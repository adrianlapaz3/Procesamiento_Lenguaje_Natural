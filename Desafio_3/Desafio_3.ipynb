{
  "cells": [
    {
      "cell_type": "markdown",
      "metadata": {
        "id": "g3yeJGnCYxuF"
      },
      "source": [
        "<img src=\"https://github.com/hernancontigiani/ceia_memorias_especializacion/raw/master/Figures/logoFIUBA.jpg\" width=\"500\" align=\"center\">\n",
        "\n",
        "\n",
        "# Procesamiento de lenguaje natural\n",
        "## Modelo de lenguaje con tokenización por caracteres"
      ]
    },
    {
      "cell_type": "markdown",
      "metadata": {
        "id": "Iv5PEwGzZA9-"
      },
      "source": [
        "### Consigna\n",
        "- Seleccionar un corpus de texto sobre el cual entrenar el modelo de lenguaje.\n",
        "- Realizar el pre-procesamiento adecuado para tokenizar el corpus, estructurar el dataset y separar entre datos de entrenamiento y validación.\n",
        "- Proponer arquitecturas de redes neuronales basadas en unidades recurrentes para implementar un modelo de lenguaje.\n",
        "- Con el o los modelos que consideren adecuados, generar nuevas secuencias a partir de secuencias de contexto con las estrategias de greedy search y beam search determístico y estocástico. En este último caso observar el efecto de la temperatura en la generación de secuencias.\n",
        "\n",
        "\n",
        "### Sugerencias\n",
        "- Durante el entrenamiento, guiarse por el descenso de la perplejidad en los datos de validación para finalizar el entrenamiento. Para ello se provee un callback.\n",
        "- Explorar utilizar SimpleRNN (celda de Elman), LSTM y GRU.\n",
        "- rmsprop es el optimizador recomendado para la buena convergencia. No obstante se pueden explorar otros.\n"
      ]
    },
    {
      "cell_type": "markdown",
      "metadata": {},
      "source": [
        "# Metodología propuesta\n",
        "#### 1. Selección del corpus:\n",
        "Se seleccionó un corpus textual que sirviera como base para el entrenamiento del modelo de lenguaje. Este corpus debía ser representativo del dominio de interés y contener suficiente variabilidad léxica y sintáctica para permitir una generalización adecuada del modelo.\n",
        "\n",
        "#### 2. Preprocesamiento del texto:\n",
        "El corpus fue sometido a un proceso de preprocesamiento que incluyó:\n",
        "* Conversión a minúsculas.\n",
        "* Tokenización carácter a carácter.\n",
        "* Codificación de los caracteres mediante índices enteros.\n",
        "* Estructuración del conjunto de datos en secuencias de longitud fija.\n",
        "* División en conjuntos de entrenamiento y validación.\n",
        "\n",
        "#### 3. Diseño del modelo:\n",
        "Se exploraron distintas arquitecturas de redes neuronales recurrentes para la tarea de modelado de lenguaje. En particular, se evaluaron modelos basados en *SimpleRNN*, *LSTM* y *GRU*, integrando capas de proyección y activación, y utilizando codificación *one-hot* como representación de entrada.\n",
        "\n",
        "#### 4. Entrenamiento:\n",
        "Los modelos fueron entrenados aplicando la perplejidad desde un *Callback ad-hoc*.\n",
        "\n",
        "#### 5. Generación de texto\n",
        "Los modelos entrenados fueron utilizados para generar nuevas secuencias a partir de contextos semilla. Se implementaron distintas estrategias de decodificación:\n",
        "* *Greedy search:* selección del carácter más probable en cada paso.\n",
        "* *Beam search determinista:* exploración de múltiples trayectorias con selección sistemática de los mejores candidatos.\n",
        "* *Beam search estocástico:* incorporación de muestreo probabilístico controlado mediante un parámetro de temperatura, permitiendo analizar su impacto en la diversidad y coherencia de las secuencias generadas.\n",
        "\n",
        "#### 6. Conclusiones: \n",
        "Se genearon las principales conclusiones basada en los resultados encontrados. \n"
      ]
    },
    {
      "cell_type": "markdown",
      "metadata": {
        "id": "xTvXlEKQZdqx"
      },
      "source": [
        "## 1. Selección del corpus\n",
        "Para generar un corpus con diferentes estilos personales de escritura, se utilizó un conjunto de datos publicado en Kaggle, titulado *ArXiv Scientific Research Papers Dataset*. Es importante mencionar que este dataset ha sido utilizado en tareas como clasificación de textos, sistemas de recomendación, análisis de tendencias, resumen automático, modelado de temas y análisis de impacto de autores. Por lo tanto, es una buena fuente de información para el corpus.\n",
        "\n",
        "Este dataset esta compuesto por artículos del repositorio arXiv en áreas como inteligencia artificial, aprendizaje automático, informática y matemáticas. Este dataset, incluye campos como título, resumen, categoría, autores y fechas de publicación y actualización. Para los fines de este trabajo, se seleccionaron los 25 resúmenes más extensos (según número de palabras) de cada una de las cuatro categorías dominantes en el conjunto de datos. Posteriormente, dichos resúmenes fueron compilados en un único texto para su análisis.\n",
        "\n",
        "\n",
        "Disponible en:\n",
        "https://www.kaggle.com/datasets/sumitm004/arxiv-scientific-research-papers-dataset\n",
        "\n"
      ]
    },
    {
      "cell_type": "code",
      "execution_count": 1,
      "metadata": {},
      "outputs": [
        {
          "data": {
            "text/html": [
              "<div>\n",
              "<style scoped>\n",
              "    .dataframe tbody tr th:only-of-type {\n",
              "        vertical-align: middle;\n",
              "    }\n",
              "\n",
              "    .dataframe tbody tr th {\n",
              "        vertical-align: top;\n",
              "    }\n",
              "\n",
              "    .dataframe thead th {\n",
              "        text-align: right;\n",
              "    }\n",
              "</style>\n",
              "<table border=\"1\" class=\"dataframe\">\n",
              "  <thead>\n",
              "    <tr style=\"text-align: right;\">\n",
              "      <th></th>\n",
              "      <th>id</th>\n",
              "      <th>title</th>\n",
              "      <th>category</th>\n",
              "      <th>category_code</th>\n",
              "      <th>published_date</th>\n",
              "      <th>updated_date</th>\n",
              "      <th>authors</th>\n",
              "      <th>first_author</th>\n",
              "      <th>summary</th>\n",
              "      <th>summary_word_count</th>\n",
              "    </tr>\n",
              "  </thead>\n",
              "  <tbody>\n",
              "    <tr>\n",
              "      <th>0</th>\n",
              "      <td>cs-9308101v1</td>\n",
              "      <td>Dynamic Backtracking</td>\n",
              "      <td>Artificial Intelligence</td>\n",
              "      <td>cs.AI</td>\n",
              "      <td>8/1/93</td>\n",
              "      <td>8/1/93</td>\n",
              "      <td>['M. L. Ginsberg']</td>\n",
              "      <td>'M. L. Ginsberg'</td>\n",
              "      <td>Because of their occasional need to return to ...</td>\n",
              "      <td>79</td>\n",
              "    </tr>\n",
              "    <tr>\n",
              "      <th>1</th>\n",
              "      <td>cs-9308102v1</td>\n",
              "      <td>A Market-Oriented Programming Environment and ...</td>\n",
              "      <td>Artificial Intelligence</td>\n",
              "      <td>cs.AI</td>\n",
              "      <td>8/1/93</td>\n",
              "      <td>8/1/93</td>\n",
              "      <td>['M. P. Wellman']</td>\n",
              "      <td>'M. P. Wellman'</td>\n",
              "      <td>Market price systems constitute a well-underst...</td>\n",
              "      <td>119</td>\n",
              "    </tr>\n",
              "    <tr>\n",
              "      <th>2</th>\n",
              "      <td>cs-9309101v1</td>\n",
              "      <td>An Empirical Analysis of Search in GSAT</td>\n",
              "      <td>Artificial Intelligence</td>\n",
              "      <td>cs.AI</td>\n",
              "      <td>9/1/93</td>\n",
              "      <td>9/1/93</td>\n",
              "      <td>['I. P. Gent', 'T. Walsh']</td>\n",
              "      <td>'I. P. Gent'</td>\n",
              "      <td>We describe an extensive study of search in GS...</td>\n",
              "      <td>167</td>\n",
              "    </tr>\n",
              "    <tr>\n",
              "      <th>3</th>\n",
              "      <td>cs-9311101v1</td>\n",
              "      <td>The Difficulties of Learning Logic Programs wi...</td>\n",
              "      <td>Artificial Intelligence</td>\n",
              "      <td>cs.AI</td>\n",
              "      <td>11/1/93</td>\n",
              "      <td>11/1/93</td>\n",
              "      <td>['F. Bergadano', 'D. Gunetti', 'U. Trinchero']</td>\n",
              "      <td>'F. Bergadano'</td>\n",
              "      <td>As real logic programmers normally use cut (!)...</td>\n",
              "      <td>174</td>\n",
              "    </tr>\n",
              "    <tr>\n",
              "      <th>4</th>\n",
              "      <td>cs-9311102v1</td>\n",
              "      <td>Software Agents: Completing Patterns and Const...</td>\n",
              "      <td>Artificial Intelligence</td>\n",
              "      <td>cs.AI</td>\n",
              "      <td>11/1/93</td>\n",
              "      <td>11/1/93</td>\n",
              "      <td>['J. C. Schlimmer', 'L. A. Hermens']</td>\n",
              "      <td>'J. C. Schlimmer'</td>\n",
              "      <td>To support the goal of allowing users to recor...</td>\n",
              "      <td>187</td>\n",
              "    </tr>\n",
              "  </tbody>\n",
              "</table>\n",
              "</div>"
            ],
            "text/plain": [
              "             id                                              title  \\\n",
              "0  cs-9308101v1                               Dynamic Backtracking   \n",
              "1  cs-9308102v1  A Market-Oriented Programming Environment and ...   \n",
              "2  cs-9309101v1            An Empirical Analysis of Search in GSAT   \n",
              "3  cs-9311101v1  The Difficulties of Learning Logic Programs wi...   \n",
              "4  cs-9311102v1  Software Agents: Completing Patterns and Const...   \n",
              "\n",
              "                  category category_code published_date updated_date  \\\n",
              "0  Artificial Intelligence         cs.AI         8/1/93       8/1/93   \n",
              "1  Artificial Intelligence         cs.AI         8/1/93       8/1/93   \n",
              "2  Artificial Intelligence         cs.AI         9/1/93       9/1/93   \n",
              "3  Artificial Intelligence         cs.AI        11/1/93      11/1/93   \n",
              "4  Artificial Intelligence         cs.AI        11/1/93      11/1/93   \n",
              "\n",
              "                                          authors       first_author  \\\n",
              "0                              ['M. L. Ginsberg']   'M. L. Ginsberg'   \n",
              "1                               ['M. P. Wellman']    'M. P. Wellman'   \n",
              "2                      ['I. P. Gent', 'T. Walsh']       'I. P. Gent'   \n",
              "3  ['F. Bergadano', 'D. Gunetti', 'U. Trinchero']     'F. Bergadano'   \n",
              "4            ['J. C. Schlimmer', 'L. A. Hermens']  'J. C. Schlimmer'   \n",
              "\n",
              "                                             summary  summary_word_count  \n",
              "0  Because of their occasional need to return to ...                  79  \n",
              "1  Market price systems constitute a well-underst...                 119  \n",
              "2  We describe an extensive study of search in GS...                 167  \n",
              "3  As real logic programmers normally use cut (!)...                 174  \n",
              "4  To support the goal of allowing users to recor...                 187  "
            ]
          },
          "execution_count": 1,
          "metadata": {},
          "output_type": "execute_result"
        }
      ],
      "source": [
        "import io\n",
        "import pandas as pd\n",
        "import re\n",
        "\n",
        "# Conjunto de datos como archivo CSV    \n",
        "dataset = pd.read_csv('./data/arXiv_scientific dataset.csv') \n",
        "\n",
        "# Rango Latin-1 con diacríticos\n",
        "accent_pat = re.compile(r\"[À-ÖØ-öø-ÿ]\") \n",
        "\n",
        "mask_no_accents = ~dataset[\"summary\"].str.contains(accent_pat, na=False)\n",
        "mask_no_accents = ~dataset[\"title\"].str.contains(accent_pat, na=False)\n",
        "dataset = dataset[mask_no_accents].copy()\n",
        "\n",
        "# Limpieza de los datos \n",
        "dataset = dataset.dropna(subset=['title','summary']).copy() \n",
        "dataset = dataset.drop_duplicates(subset=['title','summary'], keep='first').copy()\n",
        "\n",
        "dataset.head(5)"
      ]
    },
    {
      "cell_type": "code",
      "execution_count": 2,
      "metadata": {},
      "outputs": [
        {
          "name": "stderr",
          "output_type": "stream",
          "text": [
            "/tmp/ipykernel_7792/4175932262.py:9: FutureWarning: \n",
            "\n",
            "Passing `palette` without assigning `hue` is deprecated and will be removed in v0.14.0. Assign the `y` variable to `hue` and set `legend=False` for the same effect.\n",
            "\n",
            "  sns.barplot(x=top_categories.values, y=top_categories.index, palette=\"viridis\")\n"
          ]
        },
        {
          "data": {
            "image/png": "[encoded data removed]",
            "text/plain": [
              "<Figure size 1200x600 with 1 Axes>"
            ]
          },
          "metadata": {},
          "output_type": "display_data"
        }
      ],
      "source": [
        "import matplotlib.pyplot as plt\n",
        "import seaborn as sns\n",
        "\n",
        "# Top 15 categorías más frecuentes\n",
        "top_categories = dataset['category'].value_counts().head(15)\n",
        "total = dataset['category'].nunique()\n",
        "\n",
        "plt.figure(figsize=(12, 6))\n",
        "sns.barplot(x=top_categories.values, y=top_categories.index, palette=\"viridis\")\n",
        "plt.title(f'Top 15 categorías más frecuentes (total categorías: {total})')\n",
        "plt.xlabel('Cantidad de artículos publicados')\n",
        "plt.ylabel('Categoría')\n",
        "plt.tight_layout()\n",
        "plt.savefig('./figures/top15_categories_hist.png', dpi=150)\n",
        "plt.show()\n"
      ]
    },
    {
      "cell_type": "markdown",
      "metadata": {},
      "source": [
        "**Figura 1.** Top 15 categorías más frecuentes en el dataset."
      ]
    },
    {
      "cell_type": "markdown",
      "metadata": {},
      "source": [
        "Como se puede ver en la figura 1 la mayor cantidad de datos son sobre aprendizaje de máquina (*Machine Learning*) seguido de visión por computador (*Computer Vision*), procesamiento de lenguaje natural (*Natural Language Processing*) e inteligencia artificial (*Atrificial Inteligence*). Por lo tanto, desde el corpus el modelo entrenado esta sesgado hacía los algoritmos y procesamientos de estas disciplinas, por ejemplo, red neuronal recurrente (*Recurrent Neural Network*, RNN) y convolucional (*Convolutional Neural Network*, CNN). \n",
        "\n",
        "Por otro lado, hay que recategorizar a *Machine Learning (Statistics)* por *Machine Learning*."
      ]
    },
    {
      "cell_type": "code",
      "execution_count": 3,
      "metadata": {},
      "outputs": [],
      "source": [
        "import re\n",
        "\n",
        "# En primer insatancia hay que recategorizar a Machine Learning (Statistics) por Machine Learning\n",
        "dataset['category'] = dataset['category'].replace({\n",
        "    'Machine Learning (Statistics)': 'Machine Learning'\n",
        "})\n",
        "\n"
      ]
    },
    {
      "cell_type": "markdown",
      "metadata": {},
      "source": [
        "## 2. Preprocesamiento del texto\n",
        "Se construyó un modelo de lenguaje carácter a carácter mediante una serie de pasos de preprocesamiento aplicados sobre un corpus textual:\n",
        "\n",
        "* **Construcción del vocabulario:** se extrajo el conjunto único de caracteres presentes en el texto (chars_vocab) y se definieron diccionarios de mapeo (*char2idx* y *idx2char*) para convertir caracteres en índices enteros y viceversa. Esta codificación facilitó el tratamiento del texto como una secuencia numérica.\n",
        "\n",
        "* **Tokenización:** el corpus completo fue tokenizado, es decir, cada carácter fue reemplazado por su correspondiente índice numérico según el vocabulario previamente definido.\n",
        "\n",
        "* **División del dataset y creación de secuencias**\n",
        "Para preparar los datos para el entrenamiento y la validación, el corpus tokenizado fue segmentado y estructurado de la siguiente manera.\n",
        "    *  **División del corpus:** el corpus tokenizado fue dividido en un conjunto de entrenamiento (90%) y un conjunto de validación (10%). La porción de validación fue reservada del final del corpus para asegurar una evaluación objetiva.\n",
        "    *  **Generación de secuencias:** se utilizó una ventana deslizante de 100 caracteres con stride = 1 para generar secuencias superpuestas de entrada (*X*) y sus correspondientes salidas (*y*) en el conjunto de entrenamiento. En validación, en cambio, se construyeron bloques consecutivos sin superposición. Las secuencias se estructuraron bajo un esquema *many-to-many*, en el que cada salida es la entrada desplazada un carácter hacia adelante."
      ]
    },
    {
      "cell_type": "markdown",
      "metadata": {},
      "source": [
        "#### Contrucción del vocabulario\n",
        "\n",
        "Se construyó un corpus textual concatenando los títulos y resúmenes de los artículos en formato secuencial. Cada entrada fue estructurada colocando el título, seguido por un salto de línea (*\\n*), el resumen correspondiente, otro salto de línea, y luego el siguiente título, repitiendo este patrón.\n",
        "\n",
        "Para esta tarea, se seleccionaron aleatoriamente 500 artículos del conjunto de datos original, y se utilizó esta muestra para generar un *\"book\"* continuo de texto, que sirvió como base para los análisis posteriores."
      ]
    },
    {
      "cell_type": "code",
      "execution_count": 4,
      "metadata": {},
      "outputs": [
        {
          "name": "stdout",
          "output_type": "stream",
          "text": [
            "1. Machine Learning\n",
            "2. Computer Vision and Pattern Recognition\n",
            "3. Computation and Language (Natural Language Processing)\n",
            "4. Artificial Intelligence\n"
          ]
        },
        {
          "data": {
            "text/html": [
              "<div>\n",
              "<style scoped>\n",
              "    .dataframe tbody tr th:only-of-type {\n",
              "        vertical-align: middle;\n",
              "    }\n",
              "\n",
              "    .dataframe tbody tr th {\n",
              "        vertical-align: top;\n",
              "    }\n",
              "\n",
              "    .dataframe thead th {\n",
              "        text-align: right;\n",
              "    }\n",
              "</style>\n",
              "<table border=\"1\" class=\"dataframe\">\n",
              "  <thead>\n",
              "    <tr style=\"text-align: right;\">\n",
              "      <th></th>\n",
              "      <th>id</th>\n",
              "      <th>title</th>\n",
              "      <th>category</th>\n",
              "      <th>category_code</th>\n",
              "      <th>published_date</th>\n",
              "      <th>updated_date</th>\n",
              "      <th>authors</th>\n",
              "      <th>first_author</th>\n",
              "      <th>summary</th>\n",
              "      <th>summary_word_count</th>\n",
              "    </tr>\n",
              "  </thead>\n",
              "  <tbody>\n",
              "    <tr>\n",
              "      <th>37658</th>\n",
              "      <td>abs-2406.13329v1</td>\n",
              "      <td>On rough mereology and VC-dimension in treatme...</td>\n",
              "      <td>Machine Learning</td>\n",
              "      <td>cs.LG</td>\n",
              "      <td>6/19/24</td>\n",
              "      <td>6/19/24</td>\n",
              "      <td>['Lech T. Polkowski']</td>\n",
              "      <td>'Lech T. Polkowski'</td>\n",
              "      <td>Given a raw knowledge in the form of a data ta...</td>\n",
              "      <td>326</td>\n",
              "    </tr>\n",
              "    <tr>\n",
              "      <th>129155</th>\n",
              "      <td>abs-2405.06563v1</td>\n",
              "      <td>What Can Natural Language Processing Do for Pe...</td>\n",
              "      <td>Computation and Language (Natural Language Pro...</td>\n",
              "      <td>cs.CL</td>\n",
              "      <td>5/10/24</td>\n",
              "      <td>5/10/24</td>\n",
              "      <td>['Ilia Kuznetsov', 'Osama Mohammed Afzal', 'Ko...</td>\n",
              "      <td>'Ilia Kuznetsov'</td>\n",
              "      <td>The number of scientific articles produced eve...</td>\n",
              "      <td>298</td>\n",
              "    </tr>\n",
              "    <tr>\n",
              "      <th>128563</th>\n",
              "      <td>abs-2403.01921v1</td>\n",
              "      <td>Arabic Text Sentiment Analysis: Reinforcing Hu...</td>\n",
              "      <td>Computation and Language (Natural Language Pro...</td>\n",
              "      <td>cs.CL</td>\n",
              "      <td>3/4/24</td>\n",
              "      <td>3/4/24</td>\n",
              "      <td>['Latifah Almurqren', 'Ryan Hodgson', 'Alexand...</td>\n",
              "      <td>'Latifah Almurqren'</td>\n",
              "      <td>Sentiment analysis (SA) has been, and is still...</td>\n",
              "      <td>293</td>\n",
              "    </tr>\n",
              "  </tbody>\n",
              "</table>\n",
              "</div>"
            ],
            "text/plain": [
              "                      id                                              title  \\\n",
              "37658   abs-2406.13329v1  On rough mereology and VC-dimension in treatme...   \n",
              "129155  abs-2405.06563v1  What Can Natural Language Processing Do for Pe...   \n",
              "128563  abs-2403.01921v1  Arabic Text Sentiment Analysis: Reinforcing Hu...   \n",
              "\n",
              "                                                 category category_code  \\\n",
              "37658                                    Machine Learning         cs.LG   \n",
              "129155  Computation and Language (Natural Language Pro...         cs.CL   \n",
              "128563  Computation and Language (Natural Language Pro...         cs.CL   \n",
              "\n",
              "       published_date updated_date  \\\n",
              "37658         6/19/24      6/19/24   \n",
              "129155        5/10/24      5/10/24   \n",
              "128563         3/4/24       3/4/24   \n",
              "\n",
              "                                                  authors  \\\n",
              "37658                               ['Lech T. Polkowski']   \n",
              "129155  ['Ilia Kuznetsov', 'Osama Mohammed Afzal', 'Ko...   \n",
              "128563  ['Latifah Almurqren', 'Ryan Hodgson', 'Alexand...   \n",
              "\n",
              "               first_author  \\\n",
              "37658   'Lech T. Polkowski'   \n",
              "129155     'Ilia Kuznetsov'   \n",
              "128563  'Latifah Almurqren'   \n",
              "\n",
              "                                                  summary  summary_word_count  \n",
              "37658   Given a raw knowledge in the form of a data ta...                 326  \n",
              "129155  The number of scientific articles produced eve...                 298  \n",
              "128563  Sentiment analysis (SA) has been, and is still...                 293  "
            ]
          },
          "execution_count": 4,
          "metadata": {},
          "output_type": "execute_result"
        }
      ],
      "source": [
        "# Top 4 de categorías\n",
        "top_100_categories = []\n",
        "rank=0\n",
        "for i in dataset['category'].value_counts().index[:4]:\n",
        "\n",
        "    rank += 1\n",
        "    print(f'{rank}. {i}')\n",
        "\n",
        "    category_i = dataset[dataset['category'] == i]\n",
        "    \n",
        "    top_25_category_i = category_i.sort_values(by='summary_word_count', ascending=False).head(25)\n",
        "    \n",
        "    top_100_categories.append(top_25_category_i)\n",
        "\n",
        "# Concatenar todos los DataFrames en top_100_categories\n",
        "top_100_df = pd.concat(top_100_categories, ignore_index=True)\n",
        "\n",
        "# Extraer la lista de IDs\n",
        "top_ids = top_100_df['id']\n",
        "\n",
        "dataset = dataset[dataset['id'].isin(top_ids)].copy()\n",
        "\n",
        "dataset = dataset.sort_values(by ='id', ascending=False).copy()\n",
        "\n",
        "dataset.head(3)"
      ]
    },
    {
      "cell_type": "code",
      "execution_count": 5,
      "metadata": {},
      "outputs": [
        {
          "name": "stderr",
          "output_type": "stream",
          "text": [
            "/tmp/ipykernel_7792/3161068731.py:3: FutureWarning: \n",
            "\n",
            "Passing `palette` without assigning `hue` is deprecated and will be removed in v0.14.0. Assign the `y` variable to `hue` and set `legend=False` for the same effect.\n",
            "\n",
            "  sns.barplot(\n"
          ]
        },
        {
          "data": {
            "image/png": "[encoded data removed]",
            "text/plain": [
              "<Figure size 1200x600 with 1 Axes>"
            ]
          },
          "metadata": {},
          "output_type": "display_data"
        }
      ],
      "source": [
        "plt.figure(figsize=(12, 6))\n",
        "\n",
        "sns.barplot(\n",
        "    x='summary_word_count',\n",
        "    y='category',\n",
        "    data=dataset.groupby('category', as_index=False)['summary_word_count'].sum(),\n",
        "    palette='viridis'\n",
        ")\n",
        "\n",
        "plt.title('Palabras totales por categoría (top 100 seleccionados)')\n",
        "plt.xlabel('Total de palabras en resúmenes')\n",
        "plt.ylabel('Categoría')\n",
        "plt.tight_layout()\n",
        "plt.savefig('./figures/top_categories_words_sum.png', dpi=150)\n",
        "plt.show()\n"
      ]
    },
    {
      "cell_type": "markdown",
      "metadata": {},
      "source": [
        "**Figura 2.** Cantidad de palabras según las categorías seleccionadas."
      ]
    },
    {
      "cell_type": "markdown",
      "metadata": {},
      "source": [
        "Al observar el dataset seleccionado, se observa una distribución uniforme entre las cuatro categorías seleccionadas. Por lo tanto, dado que el corpus es representativo para estas cagorias, los modelos generados no deberían presentar un sesgo hacía una de estas categorias"
      ]
    },
    {
      "cell_type": "code",
      "execution_count": 6,
      "metadata": {},
      "outputs": [
        {
          "data": {
            "text/plain": [
              "'on rough mereology and vc-dimension in treatment of decision prediction\\n  for open world decision systems \\ngiven a raw knowledge in the form of a data table/a decision system, one is\\nfacing two possible venues. one, to treat the system as closed, i.e., its\\nuniverse does not admit new objects, or, to the contrary, its universe is open\\non admittance of new objects. in particular, one may obtain new objects whose\\nsets of values of features are new to the system. in this case the problem is\\nto assign a decision value to any such new object. this problem is somehow\\nresolved in the rough set theory, e.g., on the basis of similarity of the value\\nset of a new object to value sets of objects already assigned a decision value.\\nit is crucial for online learning when each new object must have a predicted\\ndecision value.\\\\ there is a vast literature on various methods for decision\\nprediction for new yet unseen object.\\n  the approach we propose is founded in the theory of rough mereology and it\\nrequi'"
            ]
          },
          "execution_count": 6,
          "metadata": {},
          "output_type": "execute_result"
        }
      ],
      "source": [
        "article_text = ''\n",
        "for index, row in dataset.iterrows():\n",
        "    article_text += row['title'] + ' \\n' + row['summary'] + ' \\n'    \n",
        "article_text = article_text.lower()\n",
        "article_text[:1000]"
      ]
    },
    {
      "cell_type": "markdown",
      "metadata": {},
      "source": [
        "En este caso se ve un texto sobre *ML* en el cual aparece un término especifico, *xgboost*, que es un algoritmo muy difundido en esta disciplina."
      ]
    },
    {
      "cell_type": "markdown",
      "metadata": {},
      "source": [
        "#### Preprocesamiento y codificación del Texto\n",
        "Se definió un tamaño de contexto de 100 caracteres, que se utilizó como ventana deslizante para la generación de secuencias de entrada. El preprocesamiento del texto se llevó a cabo utilizando herramientas de la biblioteca Keras, en particular, la función *pad_sequences* fue incorporada para aplicar relleno (*padding*) en las secuencias cuando fue necesario (ver *./src/callback.py*).\n",
        "\n",
        "El vocabulario se construyó a partir del conjunto único de caracteres presentes en el corpus completo (*article_text*). Luego, todos los caracteres fueron convertidos a minúsculas para reducir la dimensionalidad del vocabulario. Por último, a partir de este conjunto, se generaron dos diccionarios de mapeo:\n",
        "\n",
        "- *char2idx*: asignó un índice numérico único a cada carácter (tokenización).\n",
        "\n",
        "- *idx2char*: permitió la conversión inversa, de índices a caracteres.\n",
        "\n",
        "La longitud total del vocabulario de caracteres fue registrada para ser utilizada en etapas posteriores del modelo de lenguaje."
      ]
    },
    {
      "cell_type": "code",
      "execution_count": 7,
      "metadata": {},
      "outputs": [
        {
          "name": "stdout",
          "output_type": "stream",
          "text": [
            "\n",
            "      El vacabulary de caracteres es: {'p', '`', 'i', 'z', '6', 'c', '_', 'm', 'l', 'e', '/', '=', '.', 'j', '3', '[', '2', 'b', 'o', '*', 't', '%', ')', 'g', 'd', '8', '~', 'q', '$', \"'\", '?', '4', '-', '{', 'y', 'r', '\\\\', '&', ':', '7', '0', ' ', 'k', '1', 's', '9', '^', ']', '@', '|', 'u', 'a', 'h', 'n', '\\n', '(', '5', '}', ',', 'x', '>', '+', 'f', ';', '<', '\"', 'w', 'v'}\n",
            "      Número total de caracteres únicos en el conjunto de datos: 68\n",
            "\n"
          ]
        }
      ],
      "source": [
        "# Definición del tamaño de contexto para las secuencias de entrada (número de caracteres utilizados como ventana de entrada)\n",
        "# Se define un tamaño de contexto de 100 caracteres, por lo tanto, no es necesario utilizar padding (from tensorflow.keras.utils import pad_sequences) \n",
        "max_context_size = 100\n",
        "\n",
        "# Extracción del vocabulario de caracteres: conjunto único de caracteres presentes en todo el corpus de texto\n",
        "chars_vocab = set(article_text)\n",
        "\n",
        "# Tamaño del vocabulario de caracteres\n",
        "vocab_size = len(chars_vocab)\n",
        "\n",
        "print(f'''\n",
        "      El vacabulary de caracteres es: {chars_vocab}\n",
        "      Número total de caracteres únicos en el conjunto de datos: {vocab_size}\n",
        "''')\n"
      ]
    },
    {
      "cell_type": "code",
      "execution_count": 8,
      "metadata": {},
      "outputs": [
        {
          "name": "stdout",
          "output_type": "stream",
          "text": [
            "char2idx (primeros 10): [('p', 0), ('`', 1), ('i', 2), ('z', 3), ('6', 4), ('c', 5), ('_', 6), ('m', 7), ('l', 8), ('e', 9)]\n",
            "idx2char (primeros 10): [(0, 'p'), (1, '`'), (2, 'i'), (3, 'z'), (4, '6'), (5, 'c'), (6, '_'), (7, 'm'), (8, 'l'), (9, 'e')]\n"
          ]
        }
      ],
      "source": [
        "# Construcción de los diccionarios de mapeo entre caracteres e índices numéricos\n",
        "# `char2idx` actúa como tokenizador (carácter → índice)\n",
        "char2idx = {k: v for v, k in enumerate(chars_vocab)}\n",
        "print(f'char2idx (primeros 10): {list(char2idx.items())[:10]}')\n",
        "\n",
        "# `idx2char` permite la conversión inversa (índice → carácter)\n",
        "idx2char = {v: k for k, v in char2idx.items()}\n",
        "print(f'idx2char (primeros 10): {list(idx2char.items())[:10]}')\n"
      ]
    },
    {
      "cell_type": "markdown",
      "metadata": {},
      "source": [
        "Como se puede ver en la primera tupla de la salida, *(0, c)*, el índice *0* se asocia con el carácter *c*. Esto significa que cuando el modelo encuentra el índice *0*, lo interpretará como el carácter *c*. Por lo tanto, al buscar el índice *0* en *idx2char*, se utiliza *0* como clave para mapear en el diccionario, y se devuelve su valor asociado que es el carácter *c*."
      ]
    },
    {
      "cell_type": "markdown",
      "metadata": {},
      "source": [
        "###  Tokenización"
      ]
    },
    {
      "cell_type": "code",
      "execution_count": 9,
      "metadata": {},
      "outputs": [
        {
          "name": "stdout",
          "output_type": "stream",
          "text": [
            "[18, 53, 41, 35, 18, 50, 23, 52, 41, 7, 9, 35, 9, 18, 8, 18, 23, 34, 41, 51, 53, 24, 41, 67, 5, 32, 24, 2, 7, 9, 53, 44, 2, 18, 53, 41, 2, 53, 41, 20, 35, 9, 51, 20, 7, 9, 53, 20, 41, 18, 62, 41, 24, 9, 5, 2, 44, 2, 18, 53, 41, 0, 35, 9, 24, 2, 5, 20, 2, 18, 53, 54, 41, 41, 62, 18, 35, 41, 18, 0, 9, 53, 41, 66, 18, 35, 8, 24, 41, 24, 9, 5, 2, 44, 2, 18, 53, 41, 44, 34, 44, 20, 9, 7, 44, 41, 54, 23, 2, 67, 9, 53, 41, 51, 41, 35, 51, 66, 41, 42, 53, 18, 66, 8, 9, 24, 23, 9, 41, 2, 53, 41, 20, 52, 9, 41, 62, 18, 35, 7, 41, 18, 62, 41, 51, 41, 24, 51, 20, 51, 41, 20, 51, 17, 8, 9, 10, 51, 41, 24, 9, 5, 2, 44, 2, 18, 53, 41, 44, 34, 44, 20, 9, 7, 58, 41, 18, 53, 9, 41, 2, 44, 54, 62, 51, 5, 2, 53, 23, 41, 20, 66, 18, 41, 0, 18, 44, 44, 2, 17, 8, 9, 41, 67, 9, 53, 50, 9, 44, 12, 41, 18, 53, 9, 58, 41, 20, 18, 41, 20, 35, 9, 51, 20, 41, 20, 52, 9, 41, 44, 34, 44, 20, 9, 7, 41, 51, 44, 41, 5, 8, 18, 44, 9, 24, 58, 41, 2, 12, 9, 12, 58, 41, 2, 20, 44, 54, 50, 53, 2, 67, 9, 35, 44, 9, 41, 24, 18, 9, 44, 41, 53, 18, 20, 41, 51, 24, 7, 2, 20, 41, 53, 9, 66, 41, 18, 17, 13, 9, 5, 20, 44, 58, 41, 18, 35, 58, 41, 20, 18, 41, 20, 52, 9, 41, 5, 18, 53, 20, 35, 51, 35, 34, 58, 41, 2, 20, 44, 41, 50, 53, 2, 67, 9, 35, 44, 9, 41, 2, 44, 41, 18, 0, 9, 53, 54, 18, 53, 41, 51, 24, 7, 2, 20, 20, 51, 53, 5, 9, 41, 18, 62, 41, 53, 9, 66, 41, 18, 17, 13, 9, 5, 20, 44, 12, 41, 2, 53, 41, 0, 51, 35, 20, 2, 5, 50, 8, 51, 35, 58, 41, 18, 53, 9, 41, 7, 51, 34, 41, 18, 17, 20, 51, 2, 53, 41, 53, 9, 66, 41, 18, 17, 13, 9, 5, 20, 44, 41, 66, 52, 18, 44, 9, 54, 44, 9, 20, 44, 41, 18, 62, 41, 67, 51, 8, 50, 9, 44, 41, 18, 62, 41, 62, 9, 51, 20, 50, 35, 9, 44, 41, 51, 35, 9, 41, 53, 9, 66, 41, 20, 18, 41, 20, 52, 9, 41, 44, 34, 44, 20, 9, 7, 12, 41, 2, 53, 41, 20, 52, 2, 44, 41, 5, 51, 44, 9, 41, 20, 52, 9, 41, 0, 35, 18, 17, 8, 9, 7, 41, 2, 44, 54, 20, 18, 41, 51, 44, 44, 2, 23, 53, 41, 51, 41, 24, 9, 5, 2, 44, 2, 18, 53, 41, 67, 51, 8, 50, 9, 41, 20, 18, 41, 51, 53, 34, 41, 44, 50, 5, 52, 41, 53, 9, 66, 41, 18, 17, 13, 9, 5, 20, 12, 41, 20, 52, 2, 44, 41, 0, 35, 18, 17, 8, 9, 7, 41, 2, 44, 41, 44, 18, 7, 9, 52, 18, 66, 54, 35, 9, 44, 18, 8, 67, 9, 24, 41, 2, 53, 41, 20, 52, 9, 41, 35, 18, 50, 23, 52, 41, 44, 9, 20, 41, 20, 52, 9, 18, 35, 34, 58, 41, 9, 12, 23, 12, 58, 41, 18, 53, 41, 20, 52, 9, 41, 17, 51, 44, 2, 44, 41, 18, 62, 41, 44, 2, 7, 2, 8, 51, 35, 2, 20, 34, 41, 18, 62, 41, 20, 52, 9, 41, 67, 51, 8, 50, 9, 54, 44, 9, 20, 41, 18, 62, 41, 51, 41, 53, 9, 66, 41, 18, 17, 13, 9, 5, 20, 41, 20, 18, 41, 67, 51, 8, 50, 9, 41, 44, 9, 20, 44, 41, 18, 62, 41, 18, 17, 13, 9, 5, 20, 44, 41, 51, 8, 35, 9, 51, 24, 34, 41, 51, 44, 44, 2, 23, 53, 9, 24, 41, 51, 41, 24, 9, 5, 2, 44, 2, 18, 53, 41, 67, 51, 8, 50, 9, 12, 54, 2, 20, 41, 2, 44, 41, 5, 35, 50, 5, 2, 51, 8, 41, 62, 18, 35, 41, 18, 53, 8, 2, 53, 9, 41, 8, 9, 51, 35, 53, 2, 53, 23, 41, 66, 52, 9, 53, 41, 9, 51, 5, 52, 41, 53, 9, 66, 41, 18, 17, 13, 9, 5, 20, 41, 7, 50, 44, 20, 41, 52, 51, 67, 9, 41, 51, 41, 0, 35, 9, 24, 2, 5, 20, 9, 24, 54, 24, 9, 5, 2, 44, 2, 18, 53, 41, 67, 51, 8, 50, 9, 12, 36, 41, 20, 52, 9, 35, 9, 41, 2, 44, 41, 51, 41, 67, 51, 44, 20, 41, 8, 2, 20, 9, 35, 51, 20, 50, 35, 9, 41, 18, 53, 41, 67, 51, 35, 2, 18, 50, 44, 41, 7, 9, 20, 52, 18, 24, 44, 41, 62, 18, 35, 41, 24, 9, 5, 2, 44, 2, 18, 53, 54, 0, 35, 9, 24, 2, 5, 20, 2, 18, 53, 41, 62, 18, 35, 41, 53, 9, 66, 41, 34, 9, 20, 41, 50, 53, 44, 9, 9, 53, 41, 18, 17, 13, 9, 5, 20, 12, 54, 41, 41, 20, 52, 9, 41, 51, 0, 0, 35, 18, 51, 5, 52, 41, 66, 9, 41, 0, 35, 18, 0, 18, 44, 9, 41, 2, 44, 41, 62, 18, 50, 53, 24, 9, 24, 41, 2, 53, 41, 20, 52, 9, 41, 20, 52, 9, 18, 35, 34, 41, 18, 62, 41, 35, 18, 50, 23, 52, 41, 7, 9, 35, 9, 18, 8, 18, 23, 34, 41, 51, 53, 24, 41, 2, 20, 54, 35, 9, 27, 50, 2]\n"
          ]
        }
      ],
      "source": [
        "# Tokenización del texto completo: cada carácter del corpus se convierte en su índice correspondiente según el diccionario `char2idx`\n",
        "tokenized_text = [char2idx[ch] for ch in article_text]\n",
        "\n",
        "# Visualización de los primeros 1000 caracteres tokenizados\n",
        "print(tokenized_text[:1000])\n"
      ]
    },
    {
      "cell_type": "markdown",
      "metadata": {},
      "source": [
        "Se obervan los primeros 1000 caracteres tokenizados en valores de índice del diccionario."
      ]
    },
    {
      "cell_type": "markdown",
      "metadata": {},
      "source": [
        "### División del dataset y creación de secuencias\n",
        "Una vez completado el proceso de tokenización, el corpus numérico se dividió y estructuró para su uso en el entrenamiento y validación de cada modelo evaluado."
      ]
    },
    {
      "cell_type": "markdown",
      "metadata": {},
      "source": [
        "#### División del corpus\n",
        "Para preparar los datos para el entrenamiento y la validación, el texto tokenizado se segmentó en dos subconjuntos. El 10% final del corpus se reservó para el conjunto de validación, mientras que el 90% restante se destinó al conjunto de entrenamiento. Por lo tanto, esto asegura que el modelo sea evaluado con datos que no ha visto durante el entrenamiento, proporcionando una medida objetiva de su capacidad de generalización."
      ]
    },
    {
      "cell_type": "code",
      "execution_count": 10,
      "metadata": {},
      "outputs": [],
      "source": [
        "import numpy as np\n",
        "# Separación del dataset en entrenamiento y validación.\n",
        "# Definición de la proporción del corpus que será reservada para validación\n",
        "p_val = 0.1\n",
        "\n",
        "# Cálculo del número de secuencias de longitud `max_context_size` destinadas a validación\n",
        "num_val = int(np.ceil(len(tokenized_text) * p_val / max_context_size))\n",
        "\n",
        "# División del corpus tokenizado en conjunto de entrenamiento y validación\n",
        "# La parte final del corpus se reserva para validación; el resto se usa para entrenamiento\n",
        "train_text = tokenized_text[:-num_val * max_context_size]\n",
        "val_text = tokenized_text[-num_val * max_context_size:]\n"
      ]
    },
    {
      "cell_type": "markdown",
      "metadata": {},
      "source": [
        "#### Generación de las secuencias\n",
        "Las secuencias de entrada y salida fueron generadas para entrenar modelos de lenguaje de carácter a carácter. Según el propósito (entrenamiento o validación) fue la  estrategia aplicada en la creación de secuencias:\n",
        "\n",
        "* Secuencias de entrenamiento (con superposición):\n",
        "A partir del conjunto de entrenamiento, se utilizó una ventana deslizante con *stride = 1*, es decir, la ventana se muevió un carácter a la vez. Esto genera un gran número de secuencias altamente superpuestas, lo que permite al modelo ver múltiples contextos similares y mejorar su capacidad de generalización.\n",
        "\n",
        "* Secuencias de validación (sin superposición):\n",
        "Se generaron bloques consecutivos de longitud fija (*max_context_size*) a partir del conjunto de validación. Por lo tanto, cada bloque fue independiente, no hubo superposición entre ellos. Esta estructura es adecuada para evaluar el modelo de forma ordenada y sin redundancias durante el cálculo de métricas como la Perplejidad.\n",
        "\n",
        "* Construcción de *X* e *y*:\n",
        "Para cada secuencia de entrada *X[i]*, se asigna como salida esperada la siguiente secuencia *X[i+1]*. Esto permite que el modelo aprenda a predecir el siguiente carácter en una secuencia paso a paso, lo que se conoce como un enfoque many-to-many.\n",
        "\n",
        "* Ejemplo:\n",
        "Si *X[0] = [a, b, c]*, entonces *y[0] = [b, c, d]*."
      ]
    },
    {
      "cell_type": "code",
      "execution_count": 11,
      "metadata": {},
      "outputs": [
        {
          "name": "stdout",
          "output_type": "stream",
          "text": [
            "\n",
            "      Dimensión de X: (194674, 100) y sus primeras 5 secuencias y 5 tokens:\n",
            "      [[18 53 41 35 18]\n",
            " [53 41 35 18 50]\n",
            " [41 35 18 50 23]\n",
            " [35 18 50 23 52]\n",
            " [18 50 23 52 41]],\n",
            "\n",
            "      Dimension de y: (194674, 100) y sus primeras 5 secuencias y 5 tokens:\n",
            "      [[53 41 35 18 50]\n",
            " [41 35 18 50 23]\n",
            " [35 18 50 23 52]\n",
            " [18 50 23 52 41]\n",
            " [50 23 52 41  7]]\n",
            "\n",
            "      Tamaño del vocabulario: 68\n",
            "\n"
          ]
        }
      ],
      "source": [
        "# Generación de las secuencias de entrenamiento con una ventana deslizante (stride = 1)\n",
        "tokenized_sentences_train = [\n",
        "    train_text[init : init + max_context_size]\n",
        "    for init in range(len(train_text) - max_context_size + 1)\n",
        "]\n",
        "\n",
        "# Generación de las secuencias de validación (sin superposición): bloques consecutivos de `max_context_size` caracteres\n",
        "tokenized_sentences_val = [\n",
        "    val_text[init * max_context_size : init * (max_context_size + 1)]\n",
        "    for init in range(num_val)\n",
        "]\n",
        "\n",
        "# Construcción de los arrays de entrada (X) y salida (y) para entrenamiento supervisado\n",
        "# Cada entrada X[i] se asocia con la siguiente secuencia de entrada X[i+1], que actúa como salida esperada\n",
        "X = np.array(tokenized_sentences_train[:-1])\n",
        "y = np.array(tokenized_sentences_train[1:])\n",
        "\n",
        "print(f'''\n",
        "      Dimensión de X: {X.shape} y sus primeras 5 secuencias y 5 tokens:\n",
        "      {X[:5,:5]},\n",
        "      \n",
        "      Dimension de y: {y.shape} y sus primeras 5 secuencias y 5 tokens:\n",
        "      {y[:5,:5]}\n",
        "      \n",
        "      Tamaño del vocabulario: {vocab_size}\n",
        "''')\n"
      ]
    },
    {
      "cell_type": "markdown",
      "metadata": {},
      "source": [
        "Se estructuró el problema de aprendizaje siguiendo un esquema *many-to-many*.\n",
        "\n",
        "La entrada fue definida como una secuencia de tokens [$x_0$, $x_1$, ..., $x_N$], mientras que la salida objetivo correspondió a la misma secuencia desplazada una posición hacia adelante: [$x_1$, $x_2$, ..., $x_{N+1}$]. De este modo, se requería que la red aprendiera a predecir el carácter siguiente en cada paso temporal.\n",
        "\n",
        "Al estructurarse el aprendizaje de esta forma, se permitió que una señal de gradiente se propagara en cada paso de la secuencia a lo largo del grafo de cómputo recurrente, lo cual resultó más eficiente que un enfoque many-to-one, en el que solo una única señal de error se propaga.\n",
        "\n",
        "En esta etapa, las secuencias fueron tokenizadas y almacenadas en la variable *tokenized_sentences*. A partir de ellas, se extrajo un subconjunto que fue utilizado como conjunto de validación, con el fin de evaluar la calidad de las secuencias generadas mediante la métrica de Perplejidad."
      ]
    },
    {
      "cell_type": "markdown",
      "metadata": {},
      "source": [
        "## 3. Diseño del modelo:\n",
        "Se implementaron y evaluaron tres arquitecturas recurrentes clásicas para modelado de lenguaje carácter a carácter: *SimpleRNN*, *LSTM* y *GRU*. Estas variantes permiten comparar el desempeño de diferentes mecanismos de memoria y control secuencial sobre el mismo conjunto de datos y tareas.\n",
        "\n",
        "El modelo propuesto consume directamente índices enteros correspondientes a caracteres tokenizados, sin emplear una capa de embedding entrenable. En su lugar, la representación vectorial de cada carácter se realiza mediante codificación *one-hot* (OHE), aplicada a cada paso temporal de la secuencia.\n",
        "\n",
        "Esta transformación se implementó combinando las siguientes capas de *Keras*:\n",
        "\n",
        "- **CategoryEncoding:** transforma los índices enteros en vectores one-hot de dimensión igual al tamaño del vocabulario de caracteres.\n",
        "\n",
        "- **TimeDistributed:** permite aplicar la codificación *one-hot* a cada paso temporal de la secuencia, preservando así la estructura secuencial del *input*.\n",
        "\n",
        "Este diseño permite que la red procese la información carácter por carácter manteniendo la semántica temporal, sin incorporar una capa de embedding explícita."
      ]
    },
    {
      "cell_type": "code",
      "execution_count": 12,
      "metadata": {},
      "outputs": [],
      "source": [
        "# **Hiperparámetros de los modelos\n",
        "VOCAB_SIZE = vocab_size\n",
        "SEQUENCE_LENGTH = max_context_size\n",
        "EMBEDDING_DIM = 50\n",
        "RNN_UNITS = 64\n",
        "DROPOUT_RATE = 0.3\n",
        "PROJECTION_DIM = 32  # Es para GRU\n",
        "ACTIVATION = 'relu'\n",
        "OPTIMIZER_NAME = 'rmsprop'\n",
        "LEARNING_RATE = 0.001\n",
        "\n"
      ]
    },
    {
      "cell_type": "markdown",
      "metadata": {},
      "source": [
        "#### Arquitectura de la RNN simple"
      ]
    },
    {
      "cell_type": "code",
      "execution_count": 13,
      "metadata": {},
      "outputs": [
        {
          "name": "stderr",
          "output_type": "stream",
          "text": [
            "2025-08-11 08:55:08.733155: I tensorflow/core/util/port.cc:153] oneDNN custom operations are on. You may see slightly different numerical results due to floating-point round-off errors from different computation orders. To turn them off, set the environment variable `TF_ENABLE_ONEDNN_OPTS=0`.\n",
            "2025-08-11 08:55:08.743560: E external/local_xla/xla/stream_executor/cuda/cuda_fft.cc:467] Unable to register cuFFT factory: Attempting to register factory for plugin cuFFT when one has already been registered\n",
            "WARNING: All log messages before absl::InitializeLog() is called are written to STDERR\n",
            "E0000 00:00:1754913308.755403    7792 cuda_dnn.cc:8579] Unable to register cuDNN factory: Attempting to register factory for plugin cuDNN when one has already been registered\n",
            "E0000 00:00:1754913308.758921    7792 cuda_blas.cc:1407] Unable to register cuBLAS factory: Attempting to register factory for plugin cuBLAS when one has already been registered\n",
            "W0000 00:00:1754913308.768919    7792 computation_placer.cc:177] computation placer already registered. Please check linkage and avoid linking the same target more than once.\n",
            "W0000 00:00:1754913308.768940    7792 computation_placer.cc:177] computation placer already registered. Please check linkage and avoid linking the same target more than once.\n",
            "W0000 00:00:1754913308.768941    7792 computation_placer.cc:177] computation placer already registered. Please check linkage and avoid linking the same target more than once.\n",
            "W0000 00:00:1754913308.768942    7792 computation_placer.cc:177] computation placer already registered. Please check linkage and avoid linking the same target more than once.\n",
            "2025-08-11 08:55:08.772289: I tensorflow/core/platform/cpu_feature_guard.cc:210] This TensorFlow binary is optimized to use available CPU instructions in performance-critical operations.\n",
            "To enable the following instructions: AVX2 AVX_VNNI FMA, in other operations, rebuild TensorFlow with the appropriate compiler flags.\n",
            "/home/adrian/miniconda3/envs/tf_minimal_env/lib/python3.11/site-packages/requests/__init__.py:86: RequestsDependencyWarning: Unable to find acceptable character detection dependency (chardet or charset_normalizer).\n",
            "  warnings.warn(\n",
            "/home/adrian/miniconda3/envs/tf_minimal_env/lib/python3.11/site-packages/keras/src/layers/core/wrapper.py:27: UserWarning: Do not pass an `input_shape`/`input_dim` argument to a layer. When using Sequential models, prefer using an `Input(shape)` object as the first layer in the model instead.\n",
            "  super().__init__(**kwargs)\n",
            "I0000 00:00:1754913311.063608    7792 gpu_device.cc:2019] Created device /job:localhost/replica:0/task:0/device:GPU:0 with 13687 MB memory:  -> device: 0, name: NVIDIA GeForce RTX 3080 Ti Laptop GPU, pci bus id: 0000:01:00.0, compute capability: 8.6\n"
          ]
        },
        {
          "data": {
            "text/html": [
              "<pre style=\"white-space:pre;overflow-x:auto;line-height:normal;font-family:Menlo,'DejaVu Sans Mono',consolas,'Courier New',monospace\"><span style=\"font-weight: bold\">Model: \"sequential\"</span>\n",
              "</pre>\n"
            ],
            "text/plain": [
              "\u001b[1mModel: \"sequential\"\u001b[0m\n"
            ]
          },
          "metadata": {},
          "output_type": "display_data"
        },
        {
          "data": {
            "text/html": [
              "<pre style=\"white-space:pre;overflow-x:auto;line-height:normal;font-family:Menlo,'DejaVu Sans Mono',consolas,'Courier New',monospace\">┏━━━━━━━━━━━━━━━━━━━━━━━━━━━━━━━━━┳━━━━━━━━━━━━━━━━━━━━━━━━┳━━━━━━━━━━━━━━━┓\n",
              "┃<span style=\"font-weight: bold\"> Layer (type)                    </span>┃<span style=\"font-weight: bold\"> Output Shape           </span>┃<span style=\"font-weight: bold\">       Param # </span>┃\n",
              "┡━━━━━━━━━━━━━━━━━━━━━━━━━━━━━━━━━╇━━━━━━━━━━━━━━━━━━━━━━━━╇━━━━━━━━━━━━━━━┩\n",
              "│ time_distributed                │ (<span style=\"color: #00d7ff; text-decoration-color: #00d7ff\">None</span>, <span style=\"color: #00af00; text-decoration-color: #00af00\">100</span>, <span style=\"color: #00af00; text-decoration-color: #00af00\">68</span>)        │             <span style=\"color: #00af00; text-decoration-color: #00af00\">0</span> │\n",
              "│ (<span style=\"color: #0087ff; text-decoration-color: #0087ff\">TimeDistributed</span>)               │                        │               │\n",
              "├─────────────────────────────────┼────────────────────────┼───────────────┤\n",
              "│ simple_rnn (<span style=\"color: #0087ff; text-decoration-color: #0087ff\">SimpleRNN</span>)          │ (<span style=\"color: #00d7ff; text-decoration-color: #00d7ff\">None</span>, <span style=\"color: #00af00; text-decoration-color: #00af00\">100</span>, <span style=\"color: #00af00; text-decoration-color: #00af00\">64</span>)        │         <span style=\"color: #00af00; text-decoration-color: #00af00\">8,512</span> │\n",
              "├─────────────────────────────────┼────────────────────────┼───────────────┤\n",
              "│ dense (<span style=\"color: #0087ff; text-decoration-color: #0087ff\">Dense</span>)                   │ (<span style=\"color: #00d7ff; text-decoration-color: #00d7ff\">None</span>, <span style=\"color: #00af00; text-decoration-color: #00af00\">100</span>, <span style=\"color: #00af00; text-decoration-color: #00af00\">68</span>)        │         <span style=\"color: #00af00; text-decoration-color: #00af00\">4,420</span> │\n",
              "└─────────────────────────────────┴────────────────────────┴───────────────┘\n",
              "</pre>\n"
            ],
            "text/plain": [
              "┏━━━━━━━━━━━━━━━━━━━━━━━━━━━━━━━━━┳━━━━━━━━━━━━━━━━━━━━━━━━┳━━━━━━━━━━━━━━━┓\n",
              "┃\u001b[1m \u001b[0m\u001b[1mLayer (type)                   \u001b[0m\u001b[1m \u001b[0m┃\u001b[1m \u001b[0m\u001b[1mOutput Shape          \u001b[0m\u001b[1m \u001b[0m┃\u001b[1m \u001b[0m\u001b[1m      Param #\u001b[0m\u001b[1m \u001b[0m┃\n",
              "┡━━━━━━━━━━━━━━━━━━━━━━━━━━━━━━━━━╇━━━━━━━━━━━━━━━━━━━━━━━━╇━━━━━━━━━━━━━━━┩\n",
              "│ time_distributed                │ (\u001b[38;5;45mNone\u001b[0m, \u001b[38;5;34m100\u001b[0m, \u001b[38;5;34m68\u001b[0m)        │             \u001b[38;5;34m0\u001b[0m │\n",
              "│ (\u001b[38;5;33mTimeDistributed\u001b[0m)               │                        │               │\n",
              "├─────────────────────────────────┼────────────────────────┼───────────────┤\n",
              "│ simple_rnn (\u001b[38;5;33mSimpleRNN\u001b[0m)          │ (\u001b[38;5;45mNone\u001b[0m, \u001b[38;5;34m100\u001b[0m, \u001b[38;5;34m64\u001b[0m)        │         \u001b[38;5;34m8,512\u001b[0m │\n",
              "├─────────────────────────────────┼────────────────────────┼───────────────┤\n",
              "│ dense (\u001b[38;5;33mDense\u001b[0m)                   │ (\u001b[38;5;45mNone\u001b[0m, \u001b[38;5;34m100\u001b[0m, \u001b[38;5;34m68\u001b[0m)        │         \u001b[38;5;34m4,420\u001b[0m │\n",
              "└─────────────────────────────────┴────────────────────────┴───────────────┘\n"
            ]
          },
          "metadata": {},
          "output_type": "display_data"
        },
        {
          "data": {
            "text/html": [
              "<pre style=\"white-space:pre;overflow-x:auto;line-height:normal;font-family:Menlo,'DejaVu Sans Mono',consolas,'Courier New',monospace\"><span style=\"font-weight: bold\"> Total params: </span><span style=\"color: #00af00; text-decoration-color: #00af00\">12,932</span> (50.52 KB)\n",
              "</pre>\n"
            ],
            "text/plain": [
              "\u001b[1m Total params: \u001b[0m\u001b[38;5;34m12,932\u001b[0m (50.52 KB)\n"
            ]
          },
          "metadata": {},
          "output_type": "display_data"
        },
        {
          "data": {
            "text/html": [
              "<pre style=\"white-space:pre;overflow-x:auto;line-height:normal;font-family:Menlo,'DejaVu Sans Mono',consolas,'Courier New',monospace\"><span style=\"font-weight: bold\"> Trainable params: </span><span style=\"color: #00af00; text-decoration-color: #00af00\">12,932</span> (50.52 KB)\n",
              "</pre>\n"
            ],
            "text/plain": [
              "\u001b[1m Trainable params: \u001b[0m\u001b[38;5;34m12,932\u001b[0m (50.52 KB)\n"
            ]
          },
          "metadata": {},
          "output_type": "display_data"
        },
        {
          "data": {
            "text/html": [
              "<pre style=\"white-space:pre;overflow-x:auto;line-height:normal;font-family:Menlo,'DejaVu Sans Mono',consolas,'Courier New',monospace\"><span style=\"font-weight: bold\"> Non-trainable params: </span><span style=\"color: #00af00; text-decoration-color: #00af00\">0</span> (0.00 B)\n",
              "</pre>\n"
            ],
            "text/plain": [
              "\u001b[1m Non-trainable params: \u001b[0m\u001b[38;5;34m0\u001b[0m (0.00 B)\n"
            ]
          },
          "metadata": {},
          "output_type": "display_data"
        }
      ],
      "source": [
        "from src.architectures import SimpleRNNModel\n",
        "\n",
        "simple_rnn_model = SimpleRNNModel(\n",
        "    vocab_size=VOCAB_SIZE,\n",
        "    sequence_length=SEQUENCE_LENGTH,\n",
        "    rnn_units=RNN_UNITS,\n",
        "    dropout_rate=DROPOUT_RATE,\n",
        "    optimizer_name=OPTIMIZER_NAME,\n",
        "    learning_rate=LEARNING_RATE\n",
        ")\n",
        "simple_rnn_model.build()\n",
        "simple_rnn_model.summary()\n"
      ]
    },
    {
      "cell_type": "markdown",
      "metadata": {},
      "source": [
        "#### Arquitectura de la GRU"
      ]
    },
    {
      "cell_type": "code",
      "execution_count": 14,
      "metadata": {},
      "outputs": [
        {
          "name": "stderr",
          "output_type": "stream",
          "text": [
            "/home/adrian/miniconda3/envs/tf_minimal_env/lib/python3.11/site-packages/keras/src/layers/core/embedding.py:100: UserWarning: Do not pass an `input_shape`/`input_dim` argument to a layer. When using Sequential models, prefer using an `Input(shape)` object as the first layer in the model instead.\n",
            "  super().__init__(**kwargs)\n"
          ]
        },
        {
          "data": {
            "text/html": [
              "<pre style=\"white-space:pre;overflow-x:auto;line-height:normal;font-family:Menlo,'DejaVu Sans Mono',consolas,'Courier New',monospace\"><span style=\"font-weight: bold\">Model: \"sequential_1\"</span>\n",
              "</pre>\n"
            ],
            "text/plain": [
              "\u001b[1mModel: \"sequential_1\"\u001b[0m\n"
            ]
          },
          "metadata": {},
          "output_type": "display_data"
        },
        {
          "data": {
            "text/html": [
              "<pre style=\"white-space:pre;overflow-x:auto;line-height:normal;font-family:Menlo,'DejaVu Sans Mono',consolas,'Courier New',monospace\">┏━━━━━━━━━━━━━━━━━━━━━━━━━━━━━━━━━┳━━━━━━━━━━━━━━━━━━━━━━━━┳━━━━━━━━━━━━━━━┓\n",
              "┃<span style=\"font-weight: bold\"> Layer (type)                    </span>┃<span style=\"font-weight: bold\"> Output Shape           </span>┃<span style=\"font-weight: bold\">       Param # </span>┃\n",
              "┡━━━━━━━━━━━━━━━━━━━━━━━━━━━━━━━━━╇━━━━━━━━━━━━━━━━━━━━━━━━╇━━━━━━━━━━━━━━━┩\n",
              "│ embedding (<span style=\"color: #0087ff; text-decoration-color: #0087ff\">Embedding</span>)           │ (<span style=\"color: #00d7ff; text-decoration-color: #00d7ff\">None</span>, <span style=\"color: #00af00; text-decoration-color: #00af00\">100</span>, <span style=\"color: #00af00; text-decoration-color: #00af00\">50</span>)        │         <span style=\"color: #00af00; text-decoration-color: #00af00\">3,450</span> │\n",
              "├─────────────────────────────────┼────────────────────────┼───────────────┤\n",
              "│ gru (<span style=\"color: #0087ff; text-decoration-color: #0087ff\">GRU</span>)                       │ (<span style=\"color: #00d7ff; text-decoration-color: #00d7ff\">None</span>, <span style=\"color: #00af00; text-decoration-color: #00af00\">100</span>, <span style=\"color: #00af00; text-decoration-color: #00af00\">64</span>)        │        <span style=\"color: #00af00; text-decoration-color: #00af00\">22,272</span> │\n",
              "├─────────────────────────────────┼────────────────────────┼───────────────┤\n",
              "│ gru_1 (<span style=\"color: #0087ff; text-decoration-color: #0087ff\">GRU</span>)                     │ (<span style=\"color: #00d7ff; text-decoration-color: #00d7ff\">None</span>, <span style=\"color: #00af00; text-decoration-color: #00af00\">100</span>, <span style=\"color: #00af00; text-decoration-color: #00af00\">64</span>)        │        <span style=\"color: #00af00; text-decoration-color: #00af00\">24,960</span> │\n",
              "├─────────────────────────────────┼────────────────────────┼───────────────┤\n",
              "│ dense_1 (<span style=\"color: #0087ff; text-decoration-color: #0087ff\">Dense</span>)                 │ (<span style=\"color: #00d7ff; text-decoration-color: #00d7ff\">None</span>, <span style=\"color: #00af00; text-decoration-color: #00af00\">100</span>, <span style=\"color: #00af00; text-decoration-color: #00af00\">32</span>)        │         <span style=\"color: #00af00; text-decoration-color: #00af00\">2,080</span> │\n",
              "├─────────────────────────────────┼────────────────────────┼───────────────┤\n",
              "│ dense_2 (<span style=\"color: #0087ff; text-decoration-color: #0087ff\">Dense</span>)                 │ (<span style=\"color: #00d7ff; text-decoration-color: #00d7ff\">None</span>, <span style=\"color: #00af00; text-decoration-color: #00af00\">100</span>, <span style=\"color: #00af00; text-decoration-color: #00af00\">69</span>)        │         <span style=\"color: #00af00; text-decoration-color: #00af00\">2,277</span> │\n",
              "└─────────────────────────────────┴────────────────────────┴───────────────┘\n",
              "</pre>\n"
            ],
            "text/plain": [
              "┏━━━━━━━━━━━━━━━━━━━━━━━━━━━━━━━━━┳━━━━━━━━━━━━━━━━━━━━━━━━┳━━━━━━━━━━━━━━━┓\n",
              "┃\u001b[1m \u001b[0m\u001b[1mLayer (type)                   \u001b[0m\u001b[1m \u001b[0m┃\u001b[1m \u001b[0m\u001b[1mOutput Shape          \u001b[0m\u001b[1m \u001b[0m┃\u001b[1m \u001b[0m\u001b[1m      Param #\u001b[0m\u001b[1m \u001b[0m┃\n",
              "┡━━━━━━━━━━━━━━━━━━━━━━━━━━━━━━━━━╇━━━━━━━━━━━━━━━━━━━━━━━━╇━━━━━━━━━━━━━━━┩\n",
              "│ embedding (\u001b[38;5;33mEmbedding\u001b[0m)           │ (\u001b[38;5;45mNone\u001b[0m, \u001b[38;5;34m100\u001b[0m, \u001b[38;5;34m50\u001b[0m)        │         \u001b[38;5;34m3,450\u001b[0m │\n",
              "├─────────────────────────────────┼────────────────────────┼───────────────┤\n",
              "│ gru (\u001b[38;5;33mGRU\u001b[0m)                       │ (\u001b[38;5;45mNone\u001b[0m, \u001b[38;5;34m100\u001b[0m, \u001b[38;5;34m64\u001b[0m)        │        \u001b[38;5;34m22,272\u001b[0m │\n",
              "├─────────────────────────────────┼────────────────────────┼───────────────┤\n",
              "│ gru_1 (\u001b[38;5;33mGRU\u001b[0m)                     │ (\u001b[38;5;45mNone\u001b[0m, \u001b[38;5;34m100\u001b[0m, \u001b[38;5;34m64\u001b[0m)        │        \u001b[38;5;34m24,960\u001b[0m │\n",
              "├─────────────────────────────────┼────────────────────────┼───────────────┤\n",
              "│ dense_1 (\u001b[38;5;33mDense\u001b[0m)                 │ (\u001b[38;5;45mNone\u001b[0m, \u001b[38;5;34m100\u001b[0m, \u001b[38;5;34m32\u001b[0m)        │         \u001b[38;5;34m2,080\u001b[0m │\n",
              "├─────────────────────────────────┼────────────────────────┼───────────────┤\n",
              "│ dense_2 (\u001b[38;5;33mDense\u001b[0m)                 │ (\u001b[38;5;45mNone\u001b[0m, \u001b[38;5;34m100\u001b[0m, \u001b[38;5;34m69\u001b[0m)        │         \u001b[38;5;34m2,277\u001b[0m │\n",
              "└─────────────────────────────────┴────────────────────────┴───────────────┘\n"
            ]
          },
          "metadata": {},
          "output_type": "display_data"
        },
        {
          "data": {
            "text/html": [
              "<pre style=\"white-space:pre;overflow-x:auto;line-height:normal;font-family:Menlo,'DejaVu Sans Mono',consolas,'Courier New',monospace\"><span style=\"font-weight: bold\"> Total params: </span><span style=\"color: #00af00; text-decoration-color: #00af00\">55,039</span> (215.00 KB)\n",
              "</pre>\n"
            ],
            "text/plain": [
              "\u001b[1m Total params: \u001b[0m\u001b[38;5;34m55,039\u001b[0m (215.00 KB)\n"
            ]
          },
          "metadata": {},
          "output_type": "display_data"
        },
        {
          "data": {
            "text/html": [
              "<pre style=\"white-space:pre;overflow-x:auto;line-height:normal;font-family:Menlo,'DejaVu Sans Mono',consolas,'Courier New',monospace\"><span style=\"font-weight: bold\"> Trainable params: </span><span style=\"color: #00af00; text-decoration-color: #00af00\">55,039</span> (215.00 KB)\n",
              "</pre>\n"
            ],
            "text/plain": [
              "\u001b[1m Trainable params: \u001b[0m\u001b[38;5;34m55,039\u001b[0m (215.00 KB)\n"
            ]
          },
          "metadata": {},
          "output_type": "display_data"
        },
        {
          "data": {
            "text/html": [
              "<pre style=\"white-space:pre;overflow-x:auto;line-height:normal;font-family:Menlo,'DejaVu Sans Mono',consolas,'Courier New',monospace\"><span style=\"font-weight: bold\"> Non-trainable params: </span><span style=\"color: #00af00; text-decoration-color: #00af00\">0</span> (0.00 B)\n",
              "</pre>\n"
            ],
            "text/plain": [
              "\u001b[1m Non-trainable params: \u001b[0m\u001b[38;5;34m0\u001b[0m (0.00 B)\n"
            ]
          },
          "metadata": {},
          "output_type": "display_data"
        }
      ],
      "source": [
        "from src.architectures import GRUModel\n",
        "\n",
        "gru_model = GRUModel(\n",
        "    vocab_size=VOCAB_SIZE,\n",
        "    sequence_length=SEQUENCE_LENGTH,\n",
        "    embedding_dim=EMBEDDING_DIM,\n",
        "    rnn_units=RNN_UNITS,\n",
        "    dropout_rate=DROPOUT_RATE,\n",
        "    projection_dim=PROJECTION_DIM,\n",
        "    optimizer_name=OPTIMIZER_NAME,\n",
        "    learning_rate=LEARNING_RATE\n",
        ")\n",
        "gru_model.build()\n",
        "gru_model.summary()"
      ]
    },
    {
      "cell_type": "markdown",
      "metadata": {},
      "source": [
        "#### Arquitectura de la LSTM"
      ]
    },
    {
      "cell_type": "code",
      "execution_count": 15,
      "metadata": {},
      "outputs": [
        {
          "data": {
            "text/html": [
              "<pre style=\"white-space:pre;overflow-x:auto;line-height:normal;font-family:Menlo,'DejaVu Sans Mono',consolas,'Courier New',monospace\"><span style=\"font-weight: bold\">Model: \"sequential_2\"</span>\n",
              "</pre>\n"
            ],
            "text/plain": [
              "\u001b[1mModel: \"sequential_2\"\u001b[0m\n"
            ]
          },
          "metadata": {},
          "output_type": "display_data"
        },
        {
          "data": {
            "text/html": [
              "<pre style=\"white-space:pre;overflow-x:auto;line-height:normal;font-family:Menlo,'DejaVu Sans Mono',consolas,'Courier New',monospace\">┏━━━━━━━━━━━━━━━━━━━━━━━━━━━━━━━━━┳━━━━━━━━━━━━━━━━━━━━━━━━┳━━━━━━━━━━━━━━━┓\n",
              "┃<span style=\"font-weight: bold\"> Layer (type)                    </span>┃<span style=\"font-weight: bold\"> Output Shape           </span>┃<span style=\"font-weight: bold\">       Param # </span>┃\n",
              "┡━━━━━━━━━━━━━━━━━━━━━━━━━━━━━━━━━╇━━━━━━━━━━━━━━━━━━━━━━━━╇━━━━━━━━━━━━━━━┩\n",
              "│ embedding_1 (<span style=\"color: #0087ff; text-decoration-color: #0087ff\">Embedding</span>)         │ (<span style=\"color: #00d7ff; text-decoration-color: #00d7ff\">None</span>, <span style=\"color: #00af00; text-decoration-color: #00af00\">100</span>, <span style=\"color: #00af00; text-decoration-color: #00af00\">50</span>)        │         <span style=\"color: #00af00; text-decoration-color: #00af00\">3,450</span> │\n",
              "├─────────────────────────────────┼────────────────────────┼───────────────┤\n",
              "│ lstm (<span style=\"color: #0087ff; text-decoration-color: #0087ff\">LSTM</span>)                     │ (<span style=\"color: #00d7ff; text-decoration-color: #00d7ff\">None</span>, <span style=\"color: #00af00; text-decoration-color: #00af00\">100</span>, <span style=\"color: #00af00; text-decoration-color: #00af00\">64</span>)        │        <span style=\"color: #00af00; text-decoration-color: #00af00\">29,440</span> │\n",
              "├─────────────────────────────────┼────────────────────────┼───────────────┤\n",
              "│ dropout (<span style=\"color: #0087ff; text-decoration-color: #0087ff\">Dropout</span>)               │ (<span style=\"color: #00d7ff; text-decoration-color: #00d7ff\">None</span>, <span style=\"color: #00af00; text-decoration-color: #00af00\">100</span>, <span style=\"color: #00af00; text-decoration-color: #00af00\">64</span>)        │             <span style=\"color: #00af00; text-decoration-color: #00af00\">0</span> │\n",
              "├─────────────────────────────────┼────────────────────────┼───────────────┤\n",
              "│ lstm_1 (<span style=\"color: #0087ff; text-decoration-color: #0087ff\">LSTM</span>)                   │ (<span style=\"color: #00d7ff; text-decoration-color: #00d7ff\">None</span>, <span style=\"color: #00af00; text-decoration-color: #00af00\">100</span>, <span style=\"color: #00af00; text-decoration-color: #00af00\">64</span>)        │        <span style=\"color: #00af00; text-decoration-color: #00af00\">33,024</span> │\n",
              "├─────────────────────────────────┼────────────────────────┼───────────────┤\n",
              "│ dense_3 (<span style=\"color: #0087ff; text-decoration-color: #0087ff\">Dense</span>)                 │ (<span style=\"color: #00d7ff; text-decoration-color: #00d7ff\">None</span>, <span style=\"color: #00af00; text-decoration-color: #00af00\">100</span>, <span style=\"color: #00af00; text-decoration-color: #00af00\">32</span>)        │         <span style=\"color: #00af00; text-decoration-color: #00af00\">2,080</span> │\n",
              "├─────────────────────────────────┼────────────────────────┼───────────────┤\n",
              "│ dense_4 (<span style=\"color: #0087ff; text-decoration-color: #0087ff\">Dense</span>)                 │ (<span style=\"color: #00d7ff; text-decoration-color: #00d7ff\">None</span>, <span style=\"color: #00af00; text-decoration-color: #00af00\">100</span>, <span style=\"color: #00af00; text-decoration-color: #00af00\">69</span>)        │         <span style=\"color: #00af00; text-decoration-color: #00af00\">2,277</span> │\n",
              "└─────────────────────────────────┴────────────────────────┴───────────────┘\n",
              "</pre>\n"
            ],
            "text/plain": [
              "┏━━━━━━━━━━━━━━━━━━━━━━━━━━━━━━━━━┳━━━━━━━━━━━━━━━━━━━━━━━━┳━━━━━━━━━━━━━━━┓\n",
              "┃\u001b[1m \u001b[0m\u001b[1mLayer (type)                   \u001b[0m\u001b[1m \u001b[0m┃\u001b[1m \u001b[0m\u001b[1mOutput Shape          \u001b[0m\u001b[1m \u001b[0m┃\u001b[1m \u001b[0m\u001b[1m      Param #\u001b[0m\u001b[1m \u001b[0m┃\n",
              "┡━━━━━━━━━━━━━━━━━━━━━━━━━━━━━━━━━╇━━━━━━━━━━━━━━━━━━━━━━━━╇━━━━━━━━━━━━━━━┩\n",
              "│ embedding_1 (\u001b[38;5;33mEmbedding\u001b[0m)         │ (\u001b[38;5;45mNone\u001b[0m, \u001b[38;5;34m100\u001b[0m, \u001b[38;5;34m50\u001b[0m)        │         \u001b[38;5;34m3,450\u001b[0m │\n",
              "├─────────────────────────────────┼────────────────────────┼───────────────┤\n",
              "│ lstm (\u001b[38;5;33mLSTM\u001b[0m)                     │ (\u001b[38;5;45mNone\u001b[0m, \u001b[38;5;34m100\u001b[0m, \u001b[38;5;34m64\u001b[0m)        │        \u001b[38;5;34m29,440\u001b[0m │\n",
              "├─────────────────────────────────┼────────────────────────┼───────────────┤\n",
              "│ dropout (\u001b[38;5;33mDropout\u001b[0m)               │ (\u001b[38;5;45mNone\u001b[0m, \u001b[38;5;34m100\u001b[0m, \u001b[38;5;34m64\u001b[0m)        │             \u001b[38;5;34m0\u001b[0m │\n",
              "├─────────────────────────────────┼────────────────────────┼───────────────┤\n",
              "│ lstm_1 (\u001b[38;5;33mLSTM\u001b[0m)                   │ (\u001b[38;5;45mNone\u001b[0m, \u001b[38;5;34m100\u001b[0m, \u001b[38;5;34m64\u001b[0m)        │        \u001b[38;5;34m33,024\u001b[0m │\n",
              "├─────────────────────────────────┼────────────────────────┼───────────────┤\n",
              "│ dense_3 (\u001b[38;5;33mDense\u001b[0m)                 │ (\u001b[38;5;45mNone\u001b[0m, \u001b[38;5;34m100\u001b[0m, \u001b[38;5;34m32\u001b[0m)        │         \u001b[38;5;34m2,080\u001b[0m │\n",
              "├─────────────────────────────────┼────────────────────────┼───────────────┤\n",
              "│ dense_4 (\u001b[38;5;33mDense\u001b[0m)                 │ (\u001b[38;5;45mNone\u001b[0m, \u001b[38;5;34m100\u001b[0m, \u001b[38;5;34m69\u001b[0m)        │         \u001b[38;5;34m2,277\u001b[0m │\n",
              "└─────────────────────────────────┴────────────────────────┴───────────────┘\n"
            ]
          },
          "metadata": {},
          "output_type": "display_data"
        },
        {
          "data": {
            "text/html": [
              "<pre style=\"white-space:pre;overflow-x:auto;line-height:normal;font-family:Menlo,'DejaVu Sans Mono',consolas,'Courier New',monospace\"><span style=\"font-weight: bold\"> Total params: </span><span style=\"color: #00af00; text-decoration-color: #00af00\">70,271</span> (274.50 KB)\n",
              "</pre>\n"
            ],
            "text/plain": [
              "\u001b[1m Total params: \u001b[0m\u001b[38;5;34m70,271\u001b[0m (274.50 KB)\n"
            ]
          },
          "metadata": {},
          "output_type": "display_data"
        },
        {
          "data": {
            "text/html": [
              "<pre style=\"white-space:pre;overflow-x:auto;line-height:normal;font-family:Menlo,'DejaVu Sans Mono',consolas,'Courier New',monospace\"><span style=\"font-weight: bold\"> Trainable params: </span><span style=\"color: #00af00; text-decoration-color: #00af00\">70,271</span> (274.50 KB)\n",
              "</pre>\n"
            ],
            "text/plain": [
              "\u001b[1m Trainable params: \u001b[0m\u001b[38;5;34m70,271\u001b[0m (274.50 KB)\n"
            ]
          },
          "metadata": {},
          "output_type": "display_data"
        },
        {
          "data": {
            "text/html": [
              "<pre style=\"white-space:pre;overflow-x:auto;line-height:normal;font-family:Menlo,'DejaVu Sans Mono',consolas,'Courier New',monospace\"><span style=\"font-weight: bold\"> Non-trainable params: </span><span style=\"color: #00af00; text-decoration-color: #00af00\">0</span> (0.00 B)\n",
              "</pre>\n"
            ],
            "text/plain": [
              "\u001b[1m Non-trainable params: \u001b[0m\u001b[38;5;34m0\u001b[0m (0.00 B)\n"
            ]
          },
          "metadata": {},
          "output_type": "display_data"
        }
      ],
      "source": [
        "from src.architectures import LSTMModel\n",
        "\n",
        "lstm_model = LSTMModel(\n",
        "    vocab_size=VOCAB_SIZE,\n",
        "    sequence_length=SEQUENCE_LENGTH,\n",
        "    embedding_dim=EMBEDDING_DIM,\n",
        "    rnn_units=RNN_UNITS,\n",
        "    dropout_rate=DROPOUT_RATE,\n",
        "    projection_dim=PROJECTION_DIM,\n",
        "    optimizer_name=OPTIMIZER_NAME,\n",
        "    learning_rate=LEARNING_RATE\n",
        ")\n",
        "lstm_model.build()\n",
        "lstm_model.summary()"
      ]
    },
    {
      "cell_type": "markdown",
      "metadata": {},
      "source": [
        "### Callbacks\n",
        "En *src/PplCallback* fue desarrollado un *Callback ad-hoc* para el cálculo de la perplejidad, funcionando como una herramienta de monitorización y control del entrenamiento. Su diseño fue concebido para abordar las limitaciones de las métricas de pérdida estándar de *Keras* en el modelado de lenguaje. Este *Callback ad-hoc* fue integrado en el bucle de entrenamiento con el fin de proporcionar un seguimiento detallado y una gestión eficiente del proceso de aprendizaje.\n",
        "\n",
        "**Las principales ventajas de esta implementación fueron las siguientes:**\n",
        "\n",
        "Evaluación cuantitativa mediante perplejidad: a diferencia de la pérdida de entropía cruzada, la perplejidad fue utilizada como una medida más intuitiva del rendimiento de un modelo de lenguaje. El *Callback ad-hoc* fue encargado de calcular la perplejidad sobre un conjunto de validación al final de cada época, utilizando la fórmula:\n",
        "\n",
        "$$\n",
        "\\mathrm{PPL}(X) = \\exp\\left( -\\frac{1}{t} \\sum_{i=1}^{t} \\log p_{\\theta}\\left( w_i \\,\\middle|\\, w_{<i} \\right) \\right)\n",
        "$$\n",
        "\n",
        "\n",
        "donde $PPL$ es la perplejidad calculada con la probabilidad de *Cross-entropy* ($p_{\\theta}$) predicha por el modelo para el token objetivo. Esto fue así por cuestiones de estabilidad numérica, ya que conviene operar sobre los logaritmos de las probabilidades. Por lo tanto, este enfoque proporcionó un criterio robusto para evaluar la capacidad de generalización del modelo.\n",
        "\n",
        "**Detención temprana (*Early Stopping*):** una estrategia de *Early Stopping* basada en el monitoreo de la perplejidad fue implementada en el PplCallback. El valor mínimo de perplejidad (*min_score*) fue registrado, y el entrenamiento fue interrumpido de forma anticipada si dicha métrica no mejoraba durante un número predefinido de épocas (*patience*). Esta funcionalidad fue considerada crítica para evitar el sobreajuste (*overfitting*), situación en la cual el modelo comenzaba a memorizar los datos de entrenamiento en detrimento de su capacidad de generalización.\n",
        "\n",
        "**Persistencia del mejor modelo:** el modelo fue guardado automáticamente por el *Callback ad-hoc* cada vez que se observó una nueva perplejidad mínima en los datos de validación. Esta característica aseguró que la versión final del modelo conservada fuera aquella con el mejor desempeño de generalización, lo cual fue fundamental para el análisis de los resultados y la replicabilidad de los hallazgos. El nombre del archivo pudo ser configurado mediante el parámetro *model_name*.\n",
        "\n",
        "**Registro de historial:** el historial de perplejidad fue almacenado en una lista (*history_ppl*), lo que permitió un análisis post-mortem y una visualización clara del proceso de aprendizaje. Esto facilitó la identificación de la época óptima de entrenamiento y la comparación del desempeño entre diferentes arquitecturas de red.\n"
      ]
    },
    {
      "cell_type": "markdown",
      "metadata": {},
      "source": [
        "## 4. Entrenamiento de los modelos"
      ]
    },
    {
      "cell_type": "code",
      "execution_count": 16,
      "metadata": {},
      "outputs": [],
      "source": [
        "from src.callbacks import PplCallback\n",
        "\n",
        "BATCH_SIZE = 256\n",
        "EPOCHS = 50\n",
        "PATIENCE = 3"
      ]
    },
    {
      "cell_type": "code",
      "execution_count": 17,
      "metadata": {},
      "outputs": [
        {
          "name": "stdout",
          "output_type": "stream",
          "text": [
            "[INFO] Forma del conjunto validación: (23089, 100)\n",
            "[INFO] Total de subsecuencias procesadas: 23089\n",
            "[INFO] Longitud máxima de secuencia: 100\n"
          ]
        }
      ],
      "source": [
        "# Entrenamiento del modelo SimpleRNN\n",
        "history_ppl_rnn = []\n",
        "ppl_callback_rnn = PplCallback(\n",
        "    val_data=tokenized_sentences_val,\n",
        "    history_ppl=history_ppl_rnn,\n",
        "    maxlen=SEQUENCE_LENGTH,\n",
        "    model_name='models/simple_rnn_model',\n",
        "    patience=PATIENCE\n",
        ")"
      ]
    },
    {
      "cell_type": "code",
      "execution_count": 18,
      "metadata": {},
      "outputs": [
        {
          "name": "stdout",
          "output_type": "stream",
          "text": [
            "Epoch 1/50\n"
          ]
        },
        {
          "name": "stderr",
          "output_type": "stream",
          "text": [
            "WARNING: All log messages before absl::InitializeLog() is called are written to STDERR\n",
            "I0000 00:00:1754913314.546494    8038 service.cc:152] XLA service 0x5595aa40 initialized for platform CUDA (this does not guarantee that XLA will be used). Devices:\n",
            "I0000 00:00:1754913314.546547    8038 service.cc:160]   StreamExecutor device (0): NVIDIA GeForce RTX 3080 Ti Laptop GPU, Compute Capability 8.6\n",
            "2025-08-11 08:55:14.713257: I tensorflow/compiler/mlir/tensorflow/utils/dump_mlir_util.cc:269] disabling MLIR crash reproducer, set env var `MLIR_CRASH_REPRODUCER_DIRECTORY` to enable.\n",
            "2025-08-11 08:55:14.732226: W tensorflow/compiler/tf2xla/kernels/assert_op.cc:39] Ignoring Assert operator compile_loss/sparse_categorical_crossentropy/SparseSoftmaxCrossEntropyWithLogits/assert_equal_1/Assert/Assert\n",
            "I0000 00:00:1754913314.783237    8038 cuda_dnn.cc:529] Loaded cuDNN version 90300\n",
            "2025-08-11 08:55:15.946511: I external/local_xla/xla/stream_executor/cuda/subprocess_compilation.cc:346] ptxas warning : Registers are spilled to local memory in function 'gemm_fusion_dot_1', 152 bytes spill stores, 152 bytes spill loads\n",
            "\n",
            "2025-08-11 08:55:16.035149: I external/local_xla/xla/stream_executor/cuda/subprocess_compilation.cc:346] ptxas warning : Registers are spilled to local memory in function 'gemm_fusion_dot_33', 4 bytes spill stores, 4 bytes spill loads\n",
            "\n",
            "2025-08-11 08:55:16.380200: I external/local_xla/xla/stream_executor/cuda/subprocess_compilation.cc:346] ptxas warning : Registers are spilled to local memory in function 'gemm_fusion_dot_3492', 184 bytes spill stores, 184 bytes spill loads\n",
            "\n",
            "2025-08-11 08:55:16.405941: I external/local_xla/xla/stream_executor/cuda/subprocess_compilation.cc:346] ptxas warning : Registers are spilled to local memory in function 'gemm_fusion_dot_1', 152 bytes spill stores, 152 bytes spill loads\n",
            "\n",
            "2025-08-11 08:55:16.580422: I external/local_xla/xla/stream_executor/cuda/subprocess_compilation.cc:346] ptxas warning : Registers are spilled to local memory in function 'gemm_fusion_dot_3492', 864 bytes spill stores, 864 bytes spill loads\n",
            "\n",
            "2025-08-11 08:55:16.620058: I external/local_xla/xla/stream_executor/cuda/subprocess_compilation.cc:346] ptxas warning : Registers are spilled to local memory in function 'gemm_fusion_dot_3492', 128 bytes spill stores, 128 bytes spill loads\n",
            "\n",
            "2025-08-11 08:55:16.713971: I external/local_xla/xla/stream_executor/cuda/subprocess_compilation.cc:346] ptxas warning : Registers are spilled to local memory in function 'gemm_fusion_dot_1', 272 bytes spill stores, 276 bytes spill loads\n",
            "\n",
            "2025-08-11 08:55:16.775131: I external/local_xla/xla/stream_executor/cuda/subprocess_compilation.cc:346] ptxas warning : Registers are spilled to local memory in function 'gemm_fusion_dot_3492', 44 bytes spill stores, 44 bytes spill loads\n",
            "\n",
            "2025-08-11 08:55:16.876187: I external/local_xla/xla/stream_executor/cuda/subprocess_compilation.cc:346] ptxas warning : Registers are spilled to local memory in function 'gemm_fusion_dot_3492', 128 bytes spill stores, 128 bytes spill loads\n",
            "\n"
          ]
        },
        {
          "name": "stdout",
          "output_type": "stream",
          "text": [
            "\u001b[1m  5/761\u001b[0m \u001b[37m━━━━━━━━━━━━━━━━━━━━\u001b[0m \u001b[1m27s\u001b[0m 36ms/step - accuracy: 0.0166 - loss: 4.2827"
          ]
        },
        {
          "name": "stderr",
          "output_type": "stream",
          "text": [
            "I0000 00:00:1754913318.668214    8038 device_compiler.h:188] Compiled cluster using XLA!  This line is logged at most once for the lifetime of the process.\n"
          ]
        },
        {
          "name": "stdout",
          "output_type": "stream",
          "text": [
            "\u001b[1m758/761\u001b[0m \u001b[32m━━━━━━━━━━━━━━━━━━━\u001b[0m\u001b[37m━\u001b[0m \u001b[1m0s\u001b[0m 15ms/step - accuracy: 0.1837 - loss: 2.9475"
          ]
        },
        {
          "name": "stderr",
          "output_type": "stream",
          "text": [
            "2025-08-11 08:55:30.195549: W tensorflow/compiler/tf2xla/kernels/assert_op.cc:39] Ignoring Assert operator compile_loss/sparse_categorical_crossentropy/SparseSoftmaxCrossEntropyWithLogits/assert_equal_1/Assert/Assert\n",
            "2025-08-11 08:55:31.128694: I external/local_xla/xla/stream_executor/cuda/subprocess_compilation.cc:346] ptxas warning : Registers are spilled to local memory in function 'gemm_fusion_dot_1', 176 bytes spill stores, 176 bytes spill loads\n",
            "\n",
            "2025-08-11 08:55:33.109460: I external/local_xla/xla/stream_executor/cuda/subprocess_compilation.cc:346] ptxas warning : Registers are spilled to local memory in function 'gemm_fusion_dot_3492', 128 bytes spill stores, 128 bytes spill loads\n",
            "\n",
            "2025-08-11 08:55:33.246299: I external/local_xla/xla/stream_executor/cuda/subprocess_compilation.cc:346] ptxas warning : Registers are spilled to local memory in function 'gemm_fusion_dot_3492', 128 bytes spill stores, 128 bytes spill loads\n",
            "\n",
            "2025-08-11 08:55:33.447535: I external/local_xla/xla/stream_executor/cuda/subprocess_compilation.cc:346] ptxas warning : Registers are spilled to local memory in function 'gemm_fusion_dot_3492', 864 bytes spill stores, 864 bytes spill loads\n",
            "\n",
            "2025-08-11 08:55:33.533337: I external/local_xla/xla/stream_executor/cuda/subprocess_compilation.cc:346] ptxas warning : Registers are spilled to local memory in function 'gemm_fusion_dot_3492', 184 bytes spill stores, 184 bytes spill loads\n",
            "\n",
            "2025-08-11 08:55:33.825622: I external/local_xla/xla/stream_executor/cuda/subprocess_compilation.cc:346] ptxas warning : Registers are spilled to local memory in function 'gemm_fusion_dot_3492', 44 bytes spill stores, 44 bytes spill loads\n",
            "\n",
            "2025-08-11 08:55:33.839204: I external/local_xla/xla/stream_executor/cuda/subprocess_compilation.cc:346] ptxas warning : Registers are spilled to local memory in function 'gemm_fusion_dot_1', 300 bytes spill stores, 264 bytes spill loads\n",
            "\n"
          ]
        },
        {
          "name": "stdout",
          "output_type": "stream",
          "text": [
            "\u001b[1m761/761\u001b[0m \u001b[32m━━━━━━━━━━━━━━━━━━━━\u001b[0m\u001b[37m\u001b[0m \u001b[1m0s\u001b[0m 23ms/step - accuracy: 0.1838 - loss: 2.9466[EPOCH 1] Perplejidad media en validación: 9.9377\n",
            "[GUARDADO] Nuevo modelo con mejor perplejidad (9.9377) almacenado como 'models/simple_rnn_model.keras'\n",
            "\u001b[1m761/761\u001b[0m \u001b[32m━━━━━━━━━━━━━━━━━━━━\u001b[0m\u001b[37m\u001b[0m \u001b[1m31s\u001b[0m 32ms/step - accuracy: 0.1839 - loss: 2.9463\n",
            "Epoch 2/50\n",
            "\u001b[1m758/761\u001b[0m \u001b[32m━━━━━━━━━━━━━━━━━━━\u001b[0m\u001b[37m━\u001b[0m \u001b[1m0s\u001b[0m 15ms/step - accuracy: 0.2754 - loss: 2.4876[EPOCH 2] Perplejidad media en validación: 8.6131\n",
            "[GUARDADO] Nuevo modelo con mejor perplejidad (8.6131) almacenado como 'models/simple_rnn_model.keras'\n",
            "\u001b[1m761/761\u001b[0m \u001b[32m━━━━━━━━━━━━━━━━━━━━\u001b[0m\u001b[37m\u001b[0m \u001b[1m14s\u001b[0m 19ms/step - accuracy: 0.2755 - loss: 2.4874\n",
            "Epoch 3/50\n",
            "\u001b[1m759/761\u001b[0m \u001b[32m━━━━━━━━━━━━━━━━━━━\u001b[0m\u001b[37m━\u001b[0m \u001b[1m0s\u001b[0m 17ms/step - accuracy: 0.2926 - loss: 2.4169[EPOCH 3] Perplejidad media en validación: 8.1057\n",
            "[GUARDADO] Nuevo modelo con mejor perplejidad (8.1057) almacenado como 'models/simple_rnn_model.keras'\n",
            "\u001b[1m761/761\u001b[0m \u001b[32m━━━━━━━━━━━━━━━━━━━━\u001b[0m\u001b[37m\u001b[0m \u001b[1m15s\u001b[0m 20ms/step - accuracy: 0.2926 - loss: 2.4169\n",
            "Epoch 4/50\n",
            "\u001b[1m761/761\u001b[0m \u001b[32m━━━━━━━━━━━━━━━━━━━━\u001b[0m\u001b[37m\u001b[0m \u001b[1m0s\u001b[0m 14ms/step - accuracy: 0.3008 - loss: 2.3837[EPOCH 4] Perplejidad media en validación: 7.8368\n",
            "[GUARDADO] Nuevo modelo con mejor perplejidad (7.8368) almacenado como 'models/simple_rnn_model.keras'\n",
            "\u001b[1m761/761\u001b[0m \u001b[32m━━━━━━━━━━━━━━━━━━━━\u001b[0m\u001b[37m\u001b[0m \u001b[1m13s\u001b[0m 17ms/step - accuracy: 0.3008 - loss: 2.3837\n",
            "Epoch 5/50\n",
            "\u001b[1m761/761\u001b[0m \u001b[32m━━━━━━━━━━━━━━━━━━━━\u001b[0m\u001b[37m\u001b[0m \u001b[1m0s\u001b[0m 15ms/step - accuracy: 0.3059 - loss: 2.3639[EPOCH 5] Perplejidad media en validación: 7.6459\n",
            "[GUARDADO] Nuevo modelo con mejor perplejidad (7.6459) almacenado como 'models/simple_rnn_model.keras'\n",
            "\u001b[1m761/761\u001b[0m \u001b[32m━━━━━━━━━━━━━━━━━━━━\u001b[0m\u001b[37m\u001b[0m \u001b[1m13s\u001b[0m 18ms/step - accuracy: 0.3059 - loss: 2.3639\n",
            "Epoch 6/50\n",
            "\u001b[1m759/761\u001b[0m \u001b[32m━━━━━━━━━━━━━━━━━━━\u001b[0m\u001b[37m━\u001b[0m \u001b[1m0s\u001b[0m 16ms/step - accuracy: 0.3098 - loss: 2.3493[EPOCH 6] Perplejidad media en validación: 7.5282\n",
            "[GUARDADO] Nuevo modelo con mejor perplejidad (7.5282) almacenado como 'models/simple_rnn_model.keras'\n",
            "\u001b[1m761/761\u001b[0m \u001b[32m━━━━━━━━━━━━━━━━━━━━\u001b[0m\u001b[37m\u001b[0m \u001b[1m15s\u001b[0m 19ms/step - accuracy: 0.3098 - loss: 2.3493\n",
            "Epoch 7/50\n",
            "\u001b[1m759/761\u001b[0m \u001b[32m━━━━━━━━━━━━━━━━━━━\u001b[0m\u001b[37m━\u001b[0m \u001b[1m0s\u001b[0m 14ms/step - accuracy: 0.3122 - loss: 2.3392[EPOCH 7] Perplejidad media en validación: 7.4252\n",
            "[GUARDADO] Nuevo modelo con mejor perplejidad (7.4252) almacenado como 'models/simple_rnn_model.keras'\n",
            "\u001b[1m761/761\u001b[0m \u001b[32m━━━━━━━━━━━━━━━━━━━━\u001b[0m\u001b[37m\u001b[0m \u001b[1m13s\u001b[0m 17ms/step - accuracy: 0.3122 - loss: 2.3392\n",
            "Epoch 8/50\n",
            "\u001b[1m760/761\u001b[0m \u001b[32m━━━━━━━━━━━━━━━━━━━\u001b[0m\u001b[37m━\u001b[0m \u001b[1m0s\u001b[0m 17ms/step - accuracy: 0.3137 - loss: 2.3326[EPOCH 8] Perplejidad media en validación: 7.3608\n",
            "[GUARDADO] Nuevo modelo con mejor perplejidad (7.3608) almacenado como 'models/simple_rnn_model.keras'\n",
            "\u001b[1m761/761\u001b[0m \u001b[32m━━━━━━━━━━━━━━━━━━━━\u001b[0m\u001b[37m\u001b[0m \u001b[1m15s\u001b[0m 20ms/step - accuracy: 0.3137 - loss: 2.3326\n",
            "Epoch 9/50\n",
            "\u001b[1m760/761\u001b[0m \u001b[32m━━━━━━━━━━━━━━━━━━━\u001b[0m\u001b[37m━\u001b[0m \u001b[1m0s\u001b[0m 14ms/step - accuracy: 0.3146 - loss: 2.3289[EPOCH 9] Perplejidad media en validación: 7.3615\n",
            "[INFO] No se observó mejora. Paciencia: 1/3\n",
            "\u001b[1m761/761\u001b[0m \u001b[32m━━━━━━━━━━━━━━━━━━━━\u001b[0m\u001b[37m\u001b[0m \u001b[1m13s\u001b[0m 17ms/step - accuracy: 0.3146 - loss: 2.3289\n",
            "Epoch 10/50\n",
            "\u001b[1m758/761\u001b[0m \u001b[32m━━━━━━━━━━━━━━━━━━━\u001b[0m\u001b[37m━\u001b[0m \u001b[1m0s\u001b[0m 15ms/step - accuracy: 0.3160 - loss: 2.3237[EPOCH 10] Perplejidad media en validación: 7.3208\n",
            "[GUARDADO] Nuevo modelo con mejor perplejidad (7.3208) almacenado como 'models/simple_rnn_model.keras'\n",
            "\u001b[1m761/761\u001b[0m \u001b[32m━━━━━━━━━━━━━━━━━━━━\u001b[0m\u001b[37m\u001b[0m \u001b[1m15s\u001b[0m 20ms/step - accuracy: 0.3160 - loss: 2.3237\n",
            "Epoch 11/50\n",
            "\u001b[1m760/761\u001b[0m \u001b[32m━━━━━━━━━━━━━━━━━━━\u001b[0m\u001b[37m━\u001b[0m \u001b[1m0s\u001b[0m 14ms/step - accuracy: 0.3163 - loss: 2.3208[EPOCH 11] Perplejidad media en validación: 7.2776\n",
            "[GUARDADO] Nuevo modelo con mejor perplejidad (7.2776) almacenado como 'models/simple_rnn_model.keras'\n",
            "\u001b[1m761/761\u001b[0m \u001b[32m━━━━━━━━━━━━━━━━━━━━\u001b[0m\u001b[37m\u001b[0m \u001b[1m13s\u001b[0m 17ms/step - accuracy: 0.3163 - loss: 2.3208\n",
            "Epoch 12/50\n",
            "\u001b[1m760/761\u001b[0m \u001b[32m━━━━━━━━━━━━━━━━━━━\u001b[0m\u001b[37m━\u001b[0m \u001b[1m0s\u001b[0m 14ms/step - accuracy: 0.3170 - loss: 2.3177[EPOCH 12] Perplejidad media en validación: 7.2496\n",
            "[GUARDADO] Nuevo modelo con mejor perplejidad (7.2496) almacenado como 'models/simple_rnn_model.keras'\n",
            "\u001b[1m761/761\u001b[0m \u001b[32m━━━━━━━━━━━━━━━━━━━━\u001b[0m\u001b[37m\u001b[0m \u001b[1m13s\u001b[0m 17ms/step - accuracy: 0.3170 - loss: 2.3177\n",
            "Epoch 13/50\n",
            "\u001b[1m761/761\u001b[0m \u001b[32m━━━━━━━━━━━━━━━━━━━━\u001b[0m\u001b[37m\u001b[0m \u001b[1m0s\u001b[0m 16ms/step - accuracy: 0.3177 - loss: 2.3157[EPOCH 13] Perplejidad media en validación: 7.2665\n",
            "[INFO] No se observó mejora. Paciencia: 1/3\n",
            "\u001b[1m761/761\u001b[0m \u001b[32m━━━━━━━━━━━━━━━━━━━━\u001b[0m\u001b[37m\u001b[0m \u001b[1m15s\u001b[0m 19ms/step - accuracy: 0.3177 - loss: 2.3157\n",
            "Epoch 14/50\n",
            "\u001b[1m760/761\u001b[0m \u001b[32m━━━━━━━━━━━━━━━━━━━\u001b[0m\u001b[37m━\u001b[0m \u001b[1m0s\u001b[0m 14ms/step - accuracy: 0.3184 - loss: 2.3124[EPOCH 14] Perplejidad media en validación: 7.2284\n",
            "[GUARDADO] Nuevo modelo con mejor perplejidad (7.2284) almacenado como 'models/simple_rnn_model.keras'\n",
            "\u001b[1m761/761\u001b[0m \u001b[32m━━━━━━━━━━━━━━━━━━━━\u001b[0m\u001b[37m\u001b[0m \u001b[1m13s\u001b[0m 17ms/step - accuracy: 0.3184 - loss: 2.3124\n",
            "Epoch 15/50\n",
            "\u001b[1m759/761\u001b[0m \u001b[32m━━━━━━━━━━━━━━━━━━━\u001b[0m\u001b[37m━\u001b[0m \u001b[1m0s\u001b[0m 14ms/step - accuracy: 0.3184 - loss: 2.3111[EPOCH 15] Perplejidad media en validación: 7.2220\n",
            "[GUARDADO] Nuevo modelo con mejor perplejidad (7.2220) almacenado como 'models/simple_rnn_model.keras'\n",
            "\u001b[1m761/761\u001b[0m \u001b[32m━━━━━━━━━━━━━━━━━━━━\u001b[0m\u001b[37m\u001b[0m \u001b[1m15s\u001b[0m 19ms/step - accuracy: 0.3184 - loss: 2.3111\n",
            "Epoch 16/50\n",
            "\u001b[1m758/761\u001b[0m \u001b[32m━━━━━━━━━━━━━━━━━━━\u001b[0m\u001b[37m━\u001b[0m \u001b[1m0s\u001b[0m 14ms/step - accuracy: 0.3191 - loss: 2.3100[EPOCH 16] Perplejidad media en validación: 7.1999\n",
            "[GUARDADO] Nuevo modelo con mejor perplejidad (7.1999) almacenado como 'models/simple_rnn_model.keras'\n",
            "\u001b[1m761/761\u001b[0m \u001b[32m━━━━━━━━━━━━━━━━━━━━\u001b[0m\u001b[37m\u001b[0m \u001b[1m13s\u001b[0m 17ms/step - accuracy: 0.3191 - loss: 2.3100\n",
            "Epoch 17/50\n",
            "\u001b[1m759/761\u001b[0m \u001b[32m━━━━━━━━━━━━━━━━━━━\u001b[0m\u001b[37m━\u001b[0m \u001b[1m0s\u001b[0m 14ms/step - accuracy: 0.3196 - loss: 2.3077[EPOCH 17] Perplejidad media en validación: 7.1779\n",
            "[GUARDADO] Nuevo modelo con mejor perplejidad (7.1779) almacenado como 'models/simple_rnn_model.keras'\n",
            "\u001b[1m761/761\u001b[0m \u001b[32m━━━━━━━━━━━━━━━━━━━━\u001b[0m\u001b[37m\u001b[0m \u001b[1m13s\u001b[0m 17ms/step - accuracy: 0.3196 - loss: 2.3077\n",
            "Epoch 18/50\n",
            "\u001b[1m761/761\u001b[0m \u001b[32m━━━━━━━━━━━━━━━━━━━━\u001b[0m\u001b[37m\u001b[0m \u001b[1m0s\u001b[0m 16ms/step - accuracy: 0.3198 - loss: 2.3059[EPOCH 18] Perplejidad media en validación: 7.1921\n",
            "[INFO] No se observó mejora. Paciencia: 1/3\n",
            "\u001b[1m761/761\u001b[0m \u001b[32m━━━━━━━━━━━━━━━━━━━━\u001b[0m\u001b[37m\u001b[0m \u001b[1m15s\u001b[0m 19ms/step - accuracy: 0.3198 - loss: 2.3059\n",
            "Epoch 19/50\n",
            "\u001b[1m758/761\u001b[0m \u001b[32m━━━━━━━━━━━━━━━━━━━\u001b[0m\u001b[37m━\u001b[0m \u001b[1m0s\u001b[0m 14ms/step - accuracy: 0.3204 - loss: 2.3045[EPOCH 19] Perplejidad media en validación: 7.1750\n",
            "[GUARDADO] Nuevo modelo con mejor perplejidad (7.1750) almacenado como 'models/simple_rnn_model.keras'\n",
            "\u001b[1m761/761\u001b[0m \u001b[32m━━━━━━━━━━━━━━━━━━━━\u001b[0m\u001b[37m\u001b[0m \u001b[1m13s\u001b[0m 17ms/step - accuracy: 0.3204 - loss: 2.3045\n",
            "Epoch 20/50\n",
            "\u001b[1m758/761\u001b[0m \u001b[32m━━━━━━━━━━━━━━━━━━━\u001b[0m\u001b[37m━\u001b[0m \u001b[1m0s\u001b[0m 16ms/step - accuracy: 0.3202 - loss: 2.3047[EPOCH 20] Perplejidad media en validación: 7.1491\n",
            "[GUARDADO] Nuevo modelo con mejor perplejidad (7.1491) almacenado como 'models/simple_rnn_model.keras'\n",
            "\u001b[1m761/761\u001b[0m \u001b[32m━━━━━━━━━━━━━━━━━━━━\u001b[0m\u001b[37m\u001b[0m \u001b[1m15s\u001b[0m 19ms/step - accuracy: 0.3202 - loss: 2.3047\n",
            "Epoch 21/50\n",
            "\u001b[1m760/761\u001b[0m \u001b[32m━━━━━━━━━━━━━━━━━━━\u001b[0m\u001b[37m━\u001b[0m \u001b[1m0s\u001b[0m 14ms/step - accuracy: 0.3205 - loss: 2.3031[EPOCH 21] Perplejidad media en validación: 7.1195\n",
            "[GUARDADO] Nuevo modelo con mejor perplejidad (7.1195) almacenado como 'models/simple_rnn_model.keras'\n",
            "\u001b[1m761/761\u001b[0m \u001b[32m━━━━━━━━━━━━━━━━━━━━\u001b[0m\u001b[37m\u001b[0m \u001b[1m13s\u001b[0m 17ms/step - accuracy: 0.3205 - loss: 2.3031\n",
            "Epoch 22/50\n",
            "\u001b[1m759/761\u001b[0m \u001b[32m━━━━━━━━━━━━━━━━━━━\u001b[0m\u001b[37m━\u001b[0m \u001b[1m0s\u001b[0m 14ms/step - accuracy: 0.3206 - loss: 2.3027[EPOCH 22] Perplejidad media en validación: 7.1269\n",
            "[INFO] No se observó mejora. Paciencia: 1/3\n",
            "\u001b[1m761/761\u001b[0m \u001b[32m━━━━━━━━━━━━━━━━━━━━\u001b[0m\u001b[37m\u001b[0m \u001b[1m13s\u001b[0m 17ms/step - accuracy: 0.3206 - loss: 2.3027\n",
            "Epoch 23/50\n",
            "\u001b[1m759/761\u001b[0m \u001b[32m━━━━━━━━━━━━━━━━━━━\u001b[0m\u001b[37m━\u001b[0m \u001b[1m0s\u001b[0m 16ms/step - accuracy: 0.3212 - loss: 2.3013[EPOCH 23] Perplejidad media en validación: 7.1403\n",
            "[INFO] No se observó mejora. Paciencia: 2/3\n",
            "\u001b[1m761/761\u001b[0m \u001b[32m━━━━━━━━━━━━━━━━━━━━\u001b[0m\u001b[37m\u001b[0m \u001b[1m15s\u001b[0m 19ms/step - accuracy: 0.3212 - loss: 2.3013\n",
            "Epoch 24/50\n",
            "\u001b[1m760/761\u001b[0m \u001b[32m━━━━━━━━━━━━━━━━━━━\u001b[0m\u001b[37m━\u001b[0m \u001b[1m0s\u001b[0m 14ms/step - accuracy: 0.3214 - loss: 2.2996[EPOCH 24] Perplejidad media en validación: 7.1371\n",
            "[INFO] No se observó mejora. Paciencia: 3/3\n",
            "[DETENCIÓN ANTICIPADA] Se detiene el entrenamiento tras 3 épocas sin mejora.\n",
            "\u001b[1m761/761\u001b[0m \u001b[32m━━━━━━━━━━━━━━━━━━━━\u001b[0m\u001b[37m\u001b[0m \u001b[1m13s\u001b[0m 17ms/step - accuracy: 0.3214 - loss: 2.2996\n"
          ]
        }
      ],
      "source": [
        "\n",
        "\n",
        "hist_rnn = simple_rnn_model.model.fit(\n",
        "    X,\n",
        "    y,\n",
        "    epochs=EPOCHS,\n",
        "    batch_size=BATCH_SIZE,\n",
        "    callbacks=[ppl_callback_rnn]\n",
        ")\n"
      ]
    },
    {
      "cell_type": "code",
      "execution_count": 19,
      "metadata": {},
      "outputs": [
        {
          "name": "stdout",
          "output_type": "stream",
          "text": [
            "[INFO] Forma del conjunto validación: (23089, 100)\n",
            "[INFO] Total de subsecuencias procesadas: 23089\n",
            "[INFO] Longitud máxima de secuencia: 100\n"
          ]
        }
      ],
      "source": [
        "# Entrenamiento del modelo GRU\n",
        "history_ppl_gru = []\n",
        "ppl_callback_gru = PplCallback(\n",
        "    val_data=tokenized_sentences_val,\n",
        "    history_ppl=history_ppl_gru,\n",
        "    maxlen=SEQUENCE_LENGTH,\n",
        "    model_name='models/gru_model',\n",
        "    patience=PATIENCE\n",
        ")"
      ]
    },
    {
      "cell_type": "code",
      "execution_count": 20,
      "metadata": {},
      "outputs": [
        {
          "name": "stdout",
          "output_type": "stream",
          "text": [
            "Epoch 1/50\n",
            "\u001b[1m761/761\u001b[0m \u001b[32m━━━━━━━━━━━━━━━━━━━━\u001b[0m\u001b[37m\u001b[0m \u001b[1m0s\u001b[0m 794ms/step - accuracy: 0.2026 - loss: 2.8849[EPOCH 1] Perplejidad media en validación: 8.9713\n",
            "[GUARDADO] Nuevo modelo con mejor perplejidad (8.9713) almacenado como 'models/gru_model.keras'\n",
            "\u001b[1m761/761\u001b[0m \u001b[32m━━━━━━━━━━━━━━━━━━━━\u001b[0m\u001b[37m\u001b[0m \u001b[1m720s\u001b[0m 940ms/step - accuracy: 0.2027 - loss: 2.8845\n",
            "Epoch 2/50\n",
            "\u001b[1m761/761\u001b[0m \u001b[32m━━━━━━━━━━━━━━━━━━━━\u001b[0m\u001b[37m\u001b[0m \u001b[1m0s\u001b[0m 789ms/step - accuracy: 0.3694 - loss: 2.1553[EPOCH 2] Perplejidad media en validación: 7.2453\n",
            "[GUARDADO] Nuevo modelo con mejor perplejidad (7.2453) almacenado como 'models/gru_model.keras'\n",
            "\u001b[1m761/761\u001b[0m \u001b[32m━━━━━━━━━━━━━━━━━━━━\u001b[0m\u001b[37m\u001b[0m \u001b[1m711s\u001b[0m 934ms/step - accuracy: 0.3694 - loss: 2.1552\n",
            "Epoch 3/50\n",
            "\u001b[1m761/761\u001b[0m \u001b[32m━━━━━━━━━━━━━━━━━━━━\u001b[0m\u001b[37m\u001b[0m \u001b[1m0s\u001b[0m 800ms/step - accuracy: 0.4168 - loss: 1.9847[EPOCH 3] Perplejidad media en validación: 6.5202\n",
            "[GUARDADO] Nuevo modelo con mejor perplejidad (6.5202) almacenado como 'models/gru_model.keras'\n",
            "\u001b[1m761/761\u001b[0m \u001b[32m━━━━━━━━━━━━━━━━━━━━\u001b[0m\u001b[37m\u001b[0m \u001b[1m718s\u001b[0m 943ms/step - accuracy: 0.4168 - loss: 1.9846\n",
            "Epoch 4/50\n",
            "\u001b[1m761/761\u001b[0m \u001b[32m━━━━━━━━━━━━━━━━━━━━\u001b[0m\u001b[37m\u001b[0m \u001b[1m0s\u001b[0m 789ms/step - accuracy: 0.4445 - loss: 1.8868[EPOCH 4] Perplejidad media en validación: 6.1501\n",
            "[GUARDADO] Nuevo modelo con mejor perplejidad (6.1501) almacenado como 'models/gru_model.keras'\n",
            "\u001b[1m761/761\u001b[0m \u001b[32m━━━━━━━━━━━━━━━━━━━━\u001b[0m\u001b[37m\u001b[0m \u001b[1m708s\u001b[0m 931ms/step - accuracy: 0.4445 - loss: 1.8868\n",
            "Epoch 5/50\n",
            "\u001b[1m761/761\u001b[0m \u001b[32m━━━━━━━━━━━━━━━━━━━━\u001b[0m\u001b[37m\u001b[0m \u001b[1m0s\u001b[0m 776ms/step - accuracy: 0.4599 - loss: 1.8309[EPOCH 5] Perplejidad media en validación: 5.9168\n",
            "[GUARDADO] Nuevo modelo con mejor perplejidad (5.9168) almacenado como 'models/gru_model.keras'\n",
            "\u001b[1m761/761\u001b[0m \u001b[32m━━━━━━━━━━━━━━━━━━━━\u001b[0m\u001b[37m\u001b[0m \u001b[1m697s\u001b[0m 916ms/step - accuracy: 0.4599 - loss: 1.8309\n",
            "Epoch 6/50\n",
            "\u001b[1m761/761\u001b[0m \u001b[32m━━━━━━━━━━━━━━━━━━━━\u001b[0m\u001b[37m\u001b[0m \u001b[1m0s\u001b[0m 784ms/step - accuracy: 0.4694 - loss: 1.7955[EPOCH 6] Perplejidad media en validación: 5.7918\n",
            "[GUARDADO] Nuevo modelo con mejor perplejidad (5.7918) almacenado como 'models/gru_model.keras'\n",
            "\u001b[1m761/761\u001b[0m \u001b[32m━━━━━━━━━━━━━━━━━━━━\u001b[0m\u001b[37m\u001b[0m \u001b[1m721s\u001b[0m 948ms/step - accuracy: 0.4694 - loss: 1.7955\n",
            "Epoch 7/50\n",
            "\u001b[1m761/761\u001b[0m \u001b[32m━━━━━━━━━━━━━━━━━━━━\u001b[0m\u001b[37m\u001b[0m \u001b[1m0s\u001b[0m 853ms/step - accuracy: 0.4763 - loss: 1.7702[EPOCH 7] Perplejidad media en validación: 5.6110\n",
            "[GUARDADO] Nuevo modelo con mejor perplejidad (5.6110) almacenado como 'models/gru_model.keras'\n",
            "\u001b[1m761/761\u001b[0m \u001b[32m━━━━━━━━━━━━━━━━━━━━\u001b[0m\u001b[37m\u001b[0m \u001b[1m773s\u001b[0m 1s/step - accuracy: 0.4763 - loss: 1.7702 \n",
            "Epoch 8/50\n",
            "\u001b[1m761/761\u001b[0m \u001b[32m━━━━━━━━━━━━━━━━━━━━\u001b[0m\u001b[37m\u001b[0m \u001b[1m0s\u001b[0m 877ms/step - accuracy: 0.4805 - loss: 1.7548[EPOCH 8] Perplejidad media en validación: 5.5038\n",
            "[GUARDADO] Nuevo modelo con mejor perplejidad (5.5038) almacenado como 'models/gru_model.keras'\n",
            "\u001b[1m761/761\u001b[0m \u001b[32m━━━━━━━━━━━━━━━━━━━━\u001b[0m\u001b[37m\u001b[0m \u001b[1m787s\u001b[0m 1s/step - accuracy: 0.4805 - loss: 1.7548 \n",
            "Epoch 9/50\n",
            "\u001b[1m761/761\u001b[0m \u001b[32m━━━━━━━━━━━━━━━━━━━━\u001b[0m\u001b[37m\u001b[0m \u001b[1m0s\u001b[0m 861ms/step - accuracy: 0.4846 - loss: 1.7399[EPOCH 9] Perplejidad media en validación: 5.4381\n",
            "[GUARDADO] Nuevo modelo con mejor perplejidad (5.4381) almacenado como 'models/gru_model.keras'\n",
            "\u001b[1m761/761\u001b[0m \u001b[32m━━━━━━━━━━━━━━━━━━━━\u001b[0m\u001b[37m\u001b[0m \u001b[1m772s\u001b[0m 1s/step - accuracy: 0.4846 - loss: 1.7399 \n",
            "Epoch 10/50\n",
            "\u001b[1m761/761\u001b[0m \u001b[32m━━━━━━━━━━━━━━━━━━━━\u001b[0m\u001b[37m\u001b[0m \u001b[1m0s\u001b[0m 831ms/step - accuracy: 0.4877 - loss: 1.7289[EPOCH 10] Perplejidad media en validación: 5.3803\n",
            "[GUARDADO] Nuevo modelo con mejor perplejidad (5.3803) almacenado como 'models/gru_model.keras'\n",
            "\u001b[1m761/761\u001b[0m \u001b[32m━━━━━━━━━━━━━━━━━━━━\u001b[0m\u001b[37m\u001b[0m \u001b[1m750s\u001b[0m 986ms/step - accuracy: 0.4877 - loss: 1.7289\n",
            "Epoch 11/50\n",
            "\u001b[1m761/761\u001b[0m \u001b[32m━━━━━━━━━━━━━━━━━━━━\u001b[0m\u001b[37m\u001b[0m \u001b[1m0s\u001b[0m 805ms/step - accuracy: 0.4902 - loss: 1.7193[EPOCH 11] Perplejidad media en validación: 5.3562\n",
            "[GUARDADO] Nuevo modelo con mejor perplejidad (5.3562) almacenado como 'models/gru_model.keras'\n",
            "\u001b[1m761/761\u001b[0m \u001b[32m━━━━━━━━━━━━━━━━━━━━\u001b[0m\u001b[37m\u001b[0m \u001b[1m729s\u001b[0m 958ms/step - accuracy: 0.4902 - loss: 1.7193\n",
            "Epoch 12/50\n",
            "\u001b[1m761/761\u001b[0m \u001b[32m━━━━━━━━━━━━━━━━━━━━\u001b[0m\u001b[37m\u001b[0m \u001b[1m0s\u001b[0m 825ms/step - accuracy: 0.4919 - loss: 1.7126[EPOCH 12] Perplejidad media en validación: 5.3016\n",
            "[GUARDADO] Nuevo modelo con mejor perplejidad (5.3016) almacenado como 'models/gru_model.keras'\n",
            "\u001b[1m761/761\u001b[0m \u001b[32m━━━━━━━━━━━━━━━━━━━━\u001b[0m\u001b[37m\u001b[0m \u001b[1m741s\u001b[0m 974ms/step - accuracy: 0.4919 - loss: 1.7126\n",
            "Epoch 13/50\n",
            "\u001b[1m761/761\u001b[0m \u001b[32m━━━━━━━━━━━━━━━━━━━━\u001b[0m\u001b[37m\u001b[0m \u001b[1m0s\u001b[0m 787ms/step - accuracy: 0.4937 - loss: 1.7064[EPOCH 13] Perplejidad media en validación: 5.2899\n",
            "[GUARDADO] Nuevo modelo con mejor perplejidad (5.2899) almacenado como 'models/gru_model.keras'\n",
            "\u001b[1m761/761\u001b[0m \u001b[32m━━━━━━━━━━━━━━━━━━━━\u001b[0m\u001b[37m\u001b[0m \u001b[1m705s\u001b[0m 927ms/step - accuracy: 0.4937 - loss: 1.7064\n",
            "Epoch 14/50\n",
            "\u001b[1m761/761\u001b[0m \u001b[32m━━━━━━━━━━━━━━━━━━━━\u001b[0m\u001b[37m\u001b[0m \u001b[1m0s\u001b[0m 775ms/step - accuracy: 0.4950 - loss: 1.7009[EPOCH 14] Perplejidad media en validación: 5.2605\n",
            "[GUARDADO] Nuevo modelo con mejor perplejidad (5.2605) almacenado como 'models/gru_model.keras'\n",
            "\u001b[1m761/761\u001b[0m \u001b[32m━━━━━━━━━━━━━━━━━━━━\u001b[0m\u001b[37m\u001b[0m \u001b[1m698s\u001b[0m 917ms/step - accuracy: 0.4950 - loss: 1.7009\n",
            "Epoch 15/50\n",
            "\u001b[1m761/761\u001b[0m \u001b[32m━━━━━━━━━━━━━━━━━━━━\u001b[0m\u001b[37m\u001b[0m \u001b[1m0s\u001b[0m 771ms/step - accuracy: 0.4967 - loss: 1.6950[EPOCH 15] Perplejidad media en validación: 5.2515\n",
            "[GUARDADO] Nuevo modelo con mejor perplejidad (5.2515) almacenado como 'models/gru_model.keras'\n",
            "\u001b[1m761/761\u001b[0m \u001b[32m━━━━━━━━━━━━━━━━━━━━\u001b[0m\u001b[37m\u001b[0m \u001b[1m695s\u001b[0m 914ms/step - accuracy: 0.4967 - loss: 1.6950\n",
            "Epoch 16/50\n",
            "\u001b[1m761/761\u001b[0m \u001b[32m━━━━━━━━━━━━━━━━━━━━\u001b[0m\u001b[37m\u001b[0m \u001b[1m0s\u001b[0m 760ms/step - accuracy: 0.4975 - loss: 1.6909[EPOCH 16] Perplejidad media en validación: 5.2441\n",
            "[GUARDADO] Nuevo modelo con mejor perplejidad (5.2441) almacenado como 'models/gru_model.keras'\n",
            "\u001b[1m761/761\u001b[0m \u001b[32m━━━━━━━━━━━━━━━━━━━━\u001b[0m\u001b[37m\u001b[0m \u001b[1m685s\u001b[0m 901ms/step - accuracy: 0.4975 - loss: 1.6909\n",
            "Epoch 17/50\n",
            "\u001b[1m761/761\u001b[0m \u001b[32m━━━━━━━━━━━━━━━━━━━━\u001b[0m\u001b[37m\u001b[0m \u001b[1m0s\u001b[0m 831ms/step - accuracy: 0.4986 - loss: 1.6868[EPOCH 17] Perplejidad media en validación: 5.2249\n",
            "[GUARDADO] Nuevo modelo con mejor perplejidad (5.2249) almacenado como 'models/gru_model.keras'\n",
            "\u001b[1m761/761\u001b[0m \u001b[32m━━━━━━━━━━━━━━━━━━━━\u001b[0m\u001b[37m\u001b[0m \u001b[1m748s\u001b[0m 984ms/step - accuracy: 0.4986 - loss: 1.6868\n",
            "Epoch 18/50\n",
            "\u001b[1m761/761\u001b[0m \u001b[32m━━━━━━━━━━━━━━━━━━━━\u001b[0m\u001b[37m\u001b[0m \u001b[1m0s\u001b[0m 826ms/step - accuracy: 0.5001 - loss: 1.6814[EPOCH 18] Perplejidad media en validación: 5.2146\n",
            "[GUARDADO] Nuevo modelo con mejor perplejidad (5.2146) almacenado como 'models/gru_model.keras'\n",
            "\u001b[1m761/761\u001b[0m \u001b[32m━━━━━━━━━━━━━━━━━━━━\u001b[0m\u001b[37m\u001b[0m \u001b[1m747s\u001b[0m 981ms/step - accuracy: 0.5001 - loss: 1.6814\n",
            "Epoch 19/50\n",
            "\u001b[1m761/761\u001b[0m \u001b[32m━━━━━━━━━━━━━━━━━━━━\u001b[0m\u001b[37m\u001b[0m \u001b[1m0s\u001b[0m 848ms/step - accuracy: 0.5004 - loss: 1.6794[EPOCH 19] Perplejidad media en validación: 5.2187\n",
            "[INFO] No se observó mejora. Paciencia: 1/3\n",
            "\u001b[1m761/761\u001b[0m \u001b[32m━━━━━━━━━━━━━━━━━━━━\u001b[0m\u001b[37m\u001b[0m \u001b[1m768s\u001b[0m 1s/step - accuracy: 0.5004 - loss: 1.6794 \n",
            "Epoch 20/50\n",
            "\u001b[1m761/761\u001b[0m \u001b[32m━━━━━━━━━━━━━━━━━━━━\u001b[0m\u001b[37m\u001b[0m \u001b[1m0s\u001b[0m 810ms/step - accuracy: 0.5010 - loss: 1.6765[EPOCH 20] Perplejidad media en validación: 5.2027\n",
            "[GUARDADO] Nuevo modelo con mejor perplejidad (5.2027) almacenado como 'models/gru_model.keras'\n",
            "\u001b[1m761/761\u001b[0m \u001b[32m━━━━━━━━━━━━━━━━━━━━\u001b[0m\u001b[37m\u001b[0m \u001b[1m726s\u001b[0m 955ms/step - accuracy: 0.5010 - loss: 1.6765\n",
            "Epoch 21/50\n",
            "\u001b[1m761/761\u001b[0m \u001b[32m━━━━━━━━━━━━━━━━━━━━\u001b[0m\u001b[37m\u001b[0m \u001b[1m0s\u001b[0m 790ms/step - accuracy: 0.5019 - loss: 1.6739[EPOCH 21] Perplejidad media en validación: 5.2087\n",
            "[INFO] No se observó mejora. Paciencia: 1/3\n",
            "\u001b[1m761/761\u001b[0m \u001b[32m━━━━━━━━━━━━━━━━━━━━\u001b[0m\u001b[37m\u001b[0m \u001b[1m709s\u001b[0m 932ms/step - accuracy: 0.5019 - loss: 1.6739\n",
            "Epoch 22/50\n",
            "\u001b[1m761/761\u001b[0m \u001b[32m━━━━━━━━━━━━━━━━━━━━\u001b[0m\u001b[37m\u001b[0m \u001b[1m0s\u001b[0m 789ms/step - accuracy: 0.5025 - loss: 1.6703[EPOCH 22] Perplejidad media en validación: 5.2179\n",
            "[INFO] No se observó mejora. Paciencia: 2/3\n",
            "\u001b[1m761/761\u001b[0m \u001b[32m━━━━━━━━━━━━━━━━━━━━\u001b[0m\u001b[37m\u001b[0m \u001b[1m711s\u001b[0m 935ms/step - accuracy: 0.5025 - loss: 1.6703\n",
            "Epoch 23/50\n",
            "\u001b[1m761/761\u001b[0m \u001b[32m━━━━━━━━━━━━━━━━━━━━\u001b[0m\u001b[37m\u001b[0m \u001b[1m0s\u001b[0m 816ms/step - accuracy: 0.5028 - loss: 1.6687[EPOCH 23] Perplejidad media en validación: 5.2080\n",
            "[INFO] No se observó mejora. Paciencia: 3/3\n",
            "[DETENCIÓN ANTICIPADA] Se detiene el entrenamiento tras 3 épocas sin mejora.\n",
            "\u001b[1m761/761\u001b[0m \u001b[32m━━━━━━━━━━━━━━━━━━━━\u001b[0m\u001b[37m\u001b[0m \u001b[1m731s\u001b[0m 961ms/step - accuracy: 0.5028 - loss: 1.6687\n"
          ]
        }
      ],
      "source": [
        "hist_gru = gru_model.model.fit(\n",
        "    X,\n",
        "    y,\n",
        "    epochs=EPOCHS,\n",
        "    batch_size=BATCH_SIZE,\n",
        "    callbacks=[ppl_callback_gru]\n",
        ")\n"
      ]
    },
    {
      "cell_type": "code",
      "execution_count": 21,
      "metadata": {},
      "outputs": [
        {
          "name": "stdout",
          "output_type": "stream",
          "text": [
            "[INFO] Forma del conjunto validación: (23089, 100)\n",
            "[INFO] Total de subsecuencias procesadas: 23089\n",
            "[INFO] Longitud máxima de secuencia: 100\n"
          ]
        }
      ],
      "source": [
        "# Entrenamiento del modelo LSTM\n",
        "history_ppl_lstm = []\n",
        "\n",
        "ppl_callback_lstm = PplCallback(\n",
        "    val_data=tokenized_sentences_val,\n",
        "    history_ppl=history_ppl_lstm,\n",
        "    maxlen=SEQUENCE_LENGTH,\n",
        "    model_name='models/lstm_model', \n",
        "    patience=PATIENCE\n",
        ")"
      ]
    },
    {
      "cell_type": "code",
      "execution_count": 22,
      "metadata": {},
      "outputs": [
        {
          "name": "stdout",
          "output_type": "stream",
          "text": [
            "Epoch 1/50\n",
            "\u001b[1m761/761\u001b[0m \u001b[32m━━━━━━━━━━━━━━━━━━━━\u001b[0m\u001b[37m\u001b[0m \u001b[1m0s\u001b[0m 21ms/step - accuracy: 0.1512 - loss: 3.0850[EPOCH 1] Perplejidad media en validación: 12.7315\n",
            "[GUARDADO] Nuevo modelo con mejor perplejidad (12.7315) almacenado como 'models/lstm_model.keras'\n",
            "\u001b[1m761/761\u001b[0m \u001b[32m━━━━━━━━━━━━━━━━━━━━\u001b[0m\u001b[37m\u001b[0m \u001b[1m24s\u001b[0m 27ms/step - accuracy: 0.1512 - loss: 3.0847\n",
            "Epoch 2/50\n",
            "\u001b[1m760/761\u001b[0m \u001b[32m━━━━━━━━━━━━━━━━━━━\u001b[0m\u001b[37m━\u001b[0m \u001b[1m0s\u001b[0m 23ms/step - accuracy: 0.2838 - loss: 2.5002[EPOCH 2] Perplejidad media en validación: 10.0682\n",
            "[GUARDADO] Nuevo modelo con mejor perplejidad (10.0682) almacenado como 'models/lstm_model.keras'\n",
            "\u001b[1m761/761\u001b[0m \u001b[32m━━━━━━━━━━━━━━━━━━━━\u001b[0m\u001b[37m\u001b[0m \u001b[1m22s\u001b[0m 29ms/step - accuracy: 0.2839 - loss: 2.5000\n",
            "Epoch 3/50\n",
            "\u001b[1m761/761\u001b[0m \u001b[32m━━━━━━━━━━━━━━━━━━━━\u001b[0m\u001b[37m\u001b[0m \u001b[1m0s\u001b[0m 20ms/step - accuracy: 0.3424 - loss: 2.2738[EPOCH 3] Perplejidad media en validación: 8.6567\n",
            "[GUARDADO] Nuevo modelo con mejor perplejidad (8.6567) almacenado como 'models/lstm_model.keras'\n",
            "\u001b[1m761/761\u001b[0m \u001b[32m━━━━━━━━━━━━━━━━━━━━\u001b[0m\u001b[37m\u001b[0m \u001b[1m20s\u001b[0m 27ms/step - accuracy: 0.3424 - loss: 2.2737\n",
            "Epoch 4/50\n",
            "\u001b[1m760/761\u001b[0m \u001b[32m━━━━━━━━━━━━━━━━━━━\u001b[0m\u001b[37m━\u001b[0m \u001b[1m0s\u001b[0m 23ms/step - accuracy: 0.3754 - loss: 2.1331[EPOCH 4] Perplejidad media en validación: 7.6766\n",
            "[GUARDADO] Nuevo modelo con mejor perplejidad (7.6766) almacenado como 'models/lstm_model.keras'\n",
            "\u001b[1m761/761\u001b[0m \u001b[32m━━━━━━━━━━━━━━━━━━━━\u001b[0m\u001b[37m\u001b[0m \u001b[1m22s\u001b[0m 29ms/step - accuracy: 0.3755 - loss: 2.1330\n",
            "Epoch 5/50\n",
            "\u001b[1m759/761\u001b[0m \u001b[32m━━━━━━━━━━━━━━━━━━━\u001b[0m\u001b[37m━\u001b[0m \u001b[1m0s\u001b[0m 23ms/step - accuracy: 0.4021 - loss: 2.0329[EPOCH 5] Perplejidad media en validación: 7.1374\n",
            "[GUARDADO] Nuevo modelo con mejor perplejidad (7.1374) almacenado como 'models/lstm_model.keras'\n",
            "\u001b[1m761/761\u001b[0m \u001b[32m━━━━━━━━━━━━━━━━━━━━\u001b[0m\u001b[37m\u001b[0m \u001b[1m22s\u001b[0m 29ms/step - accuracy: 0.4021 - loss: 2.0328\n",
            "Epoch 6/50\n",
            "\u001b[1m761/761\u001b[0m \u001b[32m━━━━━━━━━━━━━━━━━━━━\u001b[0m\u001b[37m\u001b[0m \u001b[1m0s\u001b[0m 20ms/step - accuracy: 0.4240 - loss: 1.9582[EPOCH 6] Perplejidad media en validación: 6.8013\n",
            "[GUARDADO] Nuevo modelo con mejor perplejidad (6.8013) almacenado como 'models/lstm_model.keras'\n",
            "\u001b[1m761/761\u001b[0m \u001b[32m━━━━━━━━━━━━━━━━━━━━\u001b[0m\u001b[37m\u001b[0m \u001b[1m20s\u001b[0m 26ms/step - accuracy: 0.4240 - loss: 1.9581\n",
            "Epoch 7/50\n",
            "\u001b[1m760/761\u001b[0m \u001b[32m━━━━━━━━━━━━━━━━━━━\u001b[0m\u001b[37m━\u001b[0m \u001b[1m0s\u001b[0m 24ms/step - accuracy: 0.4431 - loss: 1.8972[EPOCH 7] Perplejidad media en validación: 6.5570\n",
            "[GUARDADO] Nuevo modelo con mejor perplejidad (6.5570) almacenado como 'models/lstm_model.keras'\n",
            "\u001b[1m761/761\u001b[0m \u001b[32m━━━━━━━━━━━━━━━━━━━━\u001b[0m\u001b[37m\u001b[0m \u001b[1m23s\u001b[0m 30ms/step - accuracy: 0.4431 - loss: 1.8971\n",
            "Epoch 8/50\n",
            "\u001b[1m760/761\u001b[0m \u001b[32m━━━━━━━━━━━━━━━━━━━\u001b[0m\u001b[37m━\u001b[0m \u001b[1m0s\u001b[0m 20ms/step - accuracy: 0.4574 - loss: 1.8496[EPOCH 8] Perplejidad media en validación: 6.4195\n",
            "[GUARDADO] Nuevo modelo con mejor perplejidad (6.4195) almacenado como 'models/lstm_model.keras'\n",
            "\u001b[1m761/761\u001b[0m \u001b[32m━━━━━━━━━━━━━━━━━━━━\u001b[0m\u001b[37m\u001b[0m \u001b[1m22s\u001b[0m 29ms/step - accuracy: 0.4574 - loss: 1.8496\n",
            "Epoch 9/50\n",
            "\u001b[1m760/761\u001b[0m \u001b[32m━━━━━━━━━━━━━━━━━━━\u001b[0m\u001b[37m━\u001b[0m \u001b[1m0s\u001b[0m 22ms/step - accuracy: 0.4685 - loss: 1.8098[EPOCH 9] Perplejidad media en validación: 6.2107\n",
            "[GUARDADO] Nuevo modelo con mejor perplejidad (6.2107) almacenado como 'models/lstm_model.keras'\n",
            "\u001b[1m761/761\u001b[0m \u001b[32m━━━━━━━━━━━━━━━━━━━━\u001b[0m\u001b[37m\u001b[0m \u001b[1m22s\u001b[0m 29ms/step - accuracy: 0.4685 - loss: 1.8098\n",
            "Epoch 10/50\n",
            "\u001b[1m760/761\u001b[0m \u001b[32m━━━━━━━━━━━━━━━━━━━\u001b[0m\u001b[37m━\u001b[0m \u001b[1m0s\u001b[0m 26ms/step - accuracy: 0.4781 - loss: 1.7751[EPOCH 10] Perplejidad media en validación: 6.0763\n",
            "[GUARDADO] Nuevo modelo con mejor perplejidad (6.0763) almacenado como 'models/lstm_model.keras'\n",
            "\u001b[1m761/761\u001b[0m \u001b[32m━━━━━━━━━━━━━━━━━━━━\u001b[0m\u001b[37m\u001b[0m \u001b[1m25s\u001b[0m 33ms/step - accuracy: 0.4781 - loss: 1.7751\n",
            "Epoch 11/50\n",
            "\u001b[1m761/761\u001b[0m \u001b[32m━━━━━━━━━━━━━━━━━━━━\u001b[0m\u001b[37m\u001b[0m \u001b[1m0s\u001b[0m 24ms/step - accuracy: 0.4857 - loss: 1.7470[EPOCH 11] Perplejidad media en validación: 6.3357\n",
            "[INFO] No se observó mejora. Paciencia: 1/3\n",
            "\u001b[1m761/761\u001b[0m \u001b[32m━━━━━━━━━━━━━━━━━━━━\u001b[0m\u001b[37m\u001b[0m \u001b[1m24s\u001b[0m 31ms/step - accuracy: 0.4857 - loss: 1.7470\n",
            "Epoch 12/50\n",
            "\u001b[1m760/761\u001b[0m \u001b[32m━━━━━━━━━━━━━━━━━━━\u001b[0m\u001b[37m━\u001b[0m \u001b[1m0s\u001b[0m 22ms/step - accuracy: 0.4921 - loss: 1.7222[EPOCH 12] Perplejidad media en validación: 7.3439\n",
            "[INFO] No se observó mejora. Paciencia: 2/3\n",
            "\u001b[1m761/761\u001b[0m \u001b[32m━━━━━━━━━━━━━━━━━━━━\u001b[0m\u001b[37m\u001b[0m \u001b[1m22s\u001b[0m 29ms/step - accuracy: 0.4921 - loss: 1.7222\n",
            "Epoch 13/50\n",
            "\u001b[1m759/761\u001b[0m \u001b[32m━━━━━━━━━━━━━━━━━━━\u001b[0m\u001b[37m━\u001b[0m \u001b[1m0s\u001b[0m 25ms/step - accuracy: 0.4984 - loss: 1.6992[EPOCH 13] Perplejidad media en validación: 8.0574\n",
            "[INFO] No se observó mejora. Paciencia: 3/3\n",
            "[DETENCIÓN ANTICIPADA] Se detiene el entrenamiento tras 3 épocas sin mejora.\n",
            "\u001b[1m761/761\u001b[0m \u001b[32m━━━━━━━━━━━━━━━━━━━━\u001b[0m\u001b[37m\u001b[0m \u001b[1m24s\u001b[0m 32ms/step - accuracy: 0.4984 - loss: 1.6992\n"
          ]
        }
      ],
      "source": [
        "hist_lstm = lstm_model.model.fit(\n",
        "    X,\n",
        "    y,\n",
        "    epochs=EPOCHS,\n",
        "    batch_size=BATCH_SIZE,\n",
        "    callbacks=[ppl_callback_lstm]\n",
        ")"
      ]
    },
    {
      "cell_type": "markdown",
      "metadata": {},
      "source": [
        "**Comparación de la Perplejidad entre los diferentes modelos explorado**"
      ]
    },
    {
      "cell_type": "code",
      "execution_count": 25,
      "metadata": {},
      "outputs": [
        {
          "data": {
            "image/png": "[encoded data removed]",
            "text/plain": [
              "<Figure size 1800x500 with 3 Axes>"
            ]
          },
          "metadata": {},
          "output_type": "display_data"
        }
      ],
      "source": [
        "import matplotlib.pyplot as plt\n",
        "import seaborn as sns\n",
        "import numpy as np\n",
        "\n",
        "# --- Extraer curvas reales de Keras (train) ---\n",
        "acc_rnn  = hist_rnn.history.get('accuracy', [])\n",
        "loss_rnn = hist_rnn.history.get('loss', [])\n",
        "\n",
        "acc_gru  = hist_gru.history.get('accuracy', [])\n",
        "loss_gru = hist_gru.history.get('loss', [])\n",
        "\n",
        "acc_lstm  = hist_lstm.history.get('accuracy', [])\n",
        "loss_lstm = hist_lstm.history.get('loss', [])\n",
        "\n",
        "# --- Perplejidad desde tus callbacks (validación) ---\n",
        "ppl_rnn  = history_ppl_rnn\n",
        "ppl_gru  = history_ppl_gru\n",
        "ppl_lstm = history_ppl_lstm\n",
        "\n",
        "# Ejes x por modelo (1..n_epochs_reales)\n",
        "epochs_acc_rnn  = np.arange(1, len(acc_rnn)  + 1)\n",
        "epochs_acc_gru  = np.arange(1, len(acc_gru)  + 1)\n",
        "epochs_acc_lstm = np.arange(1, len(acc_lstm) + 1)\n",
        "\n",
        "epochs_loss_rnn  = np.arange(1, len(loss_rnn)  + 1)\n",
        "epochs_loss_gru  = np.arange(1, len(loss_gru)  + 1)\n",
        "epochs_loss_lstm = np.arange(1, len(loss_lstm) + 1)\n",
        "\n",
        "epochs_ppl_rnn  = np.arange(1, len(ppl_rnn)  + 1)\n",
        "epochs_ppl_gru  = np.arange(1, len(ppl_gru)  + 1)\n",
        "epochs_ppl_lstm = np.arange(1, len(ppl_lstm) + 1)\n",
        "\n",
        "# --- Figura ---\n",
        "fig, axes = plt.subplots(nrows=1, ncols=3, figsize=(18, 5))\n",
        "sns.set_style(\"whitegrid\")\n",
        "x_max = max([*epochs_ppl_rnn[-1:], *epochs_ppl_gru[-1:], *epochs_ppl_lstm[-1:]]) * 1.05\n",
        "\n",
        "# ---------------- A) ACCURACY (train) ----------------\n",
        "ax1 = axes[0]\n",
        "sns.lineplot(x=epochs_acc_rnn,  y=acc_rnn,  label='SimpleRNN', color='red', ax=ax1)\n",
        "sns.lineplot(x=epochs_acc_gru,  y=acc_gru,  label='GRU', color='blue', ax=ax1)\n",
        "sns.lineplot(x=epochs_acc_lstm, y=acc_lstm, label='LSTM', color='darkgreen', ax=ax1)\n",
        "\n",
        "ax1.set_title('A) Accuracy (train)')\n",
        "ax1.set_xlabel('Época')\n",
        "ax1.set_ylabel('Accuracy')\n",
        "ax1.legend()\n",
        "ax1.set_xlim(0, x_max)\n",
        "\n",
        "# ---------------- B) LOSS (train) ----------------\n",
        "ax2 = axes[1]\n",
        "sns.lineplot(x=epochs_loss_rnn,  y=loss_rnn,  label='SimpleRNN', color='red', ax=ax2)\n",
        "sns.lineplot(x=epochs_loss_gru,  y=loss_gru,  label='GRU', color='blue', ax=ax2)\n",
        "sns.lineplot(x=epochs_loss_lstm, y=loss_lstm, label='LSTM', color='darkgreen', ax=ax2)\n",
        "\n",
        "ax2.set_title('B) Loss (train)')\n",
        "ax2.set_xlabel('Época')\n",
        "ax2.set_ylabel('Loss')\n",
        "ax2.legend()\n",
        "ax2.set_xlim(0, x_max)\n",
        "\n",
        "# ---------------- C) PERPLEJIDAD (validación) ----------------\n",
        "ax3 = axes[2]\n",
        "sns.lineplot(x=epochs_ppl_rnn,  y=ppl_rnn,  label='SimpleRNN', color='red', ax=ax3)\n",
        "sns.lineplot(x=epochs_ppl_gru,  y=ppl_gru,  label='GRU', color='blue', ax=ax3)\n",
        "sns.lineplot(x=epochs_ppl_lstm, y=ppl_lstm, label='LSTM', color='darkgreen', ax=ax3)\n",
        "\n",
        "ax3.set_title('C) Perplejidad (validación)')\n",
        "ax3.set_xlabel('Época')\n",
        "ax3.set_ylabel('Perplejidad')\n",
        "ax3.legend()\n",
        "ax3.set_xlim(0, x_max)\n",
        "\n",
        "# (opcional): si las PPL son grandes, descomenta para escala log\n",
        "# ax3.set_yscale('log')\n",
        "\n",
        "plt.suptitle('Comparación: SimpleRNN vs GRU vs LSTM', fontsize=16)\n",
        "plt.tight_layout(rect=[0, 0.03, 1, 0.95])\n",
        "plt.savefig('./figures/model_comparison.png', dpi=150)\n",
        "plt.show()\n"
      ]
    },
    {
      "cell_type": "markdown",
      "metadata": {},
      "source": [
        "**Figura 3.** Estadísticas de los modelos en función de las epocas de entrenamiento."
      ]
    },
    {
      "cell_type": "markdown",
      "metadata": {},
      "source": [
        "Se observa que el modelo GRU presentó el mejor desempeño, alcanzando los valores más bajos de perplejidad en validación. En contraste, la SimpleRNN mostró un comportamiento asintótico tanto en precisión como en rendimiento, estabilizándose rápidamente sin mejoras significativas posteriores. Por su parte, la LSTM evidenció indicios de overfitting: aunque mejoró notablemente en la fase de entrenamiento, su perplejidad en validación aumentó después de cierto punto. Si el criterio de parada temprana se hubiera basado únicamente en la precisión y la pérdida de entrenamiento, el modelo LSTM resultante habría estado sesgado hacia los datos de entrenamiento. Por esta razón, la detención se realizó en función de la perplejidad, evitando así un sobreajuste excesivo."
      ]
    },
    {
      "cell_type": "code",
      "execution_count": 26,
      "metadata": {},
      "outputs": [],
      "source": [
        "import json\n",
        "\n",
        "# Guardar char2idx en un archivo JSON\n",
        "with open('./models/char2idx.json', 'w') as f:\n",
        "    json.dump(char2idx, f)\n",
        "    \n",
        "# Guardar idx2char en un archivo JSON\n",
        "with open('./models/idx2char.json', 'w') as f:\n",
        "    json.dump(idx2char, f)"
      ]
    },
    {
      "cell_type": "markdown",
      "metadata": {},
      "source": [
        "## 5. Generación de texto\n",
        "Los modelos entrenados fueron utilizados para generar nuevas secuencias a partir de pseudotextos. Se implementaron distintas estrategias de decodificación:\n"
      ]
    },
    {
      "cell_type": "code",
      "execution_count": 27,
      "metadata": {},
      "outputs": [],
      "source": [
        "from tensorflow import keras\n",
        "#import json\n",
        "# Para hacer inferencia, se cargan los diccionarios y los mejores modelos guardados durante el entrenamiento \n",
        "\n",
        "\n",
        "#with open('./models/char2idx.json', 'r') as f:\n",
        "#    char2idx = json.load(f)\n",
        "\n",
        "#with open('./models/idx2char.json', 'r') as f:\n",
        "#    idx2char = json.load(f)\n",
        "\n",
        "# convertir claves a int\n",
        "#if isinstance(idx2char, dict):\n",
        "#    idx2char = {int(k): v for k, v in idx2char.items()}\n"
      ]
    },
    {
      "cell_type": "code",
      "execution_count": 34,
      "metadata": {},
      "outputs": [],
      "source": [
        "simple_rnn_model = keras.models.load_model('./models/simple_rnn_model.keras')\n",
        "gru_model = keras.models.load_model('./models/gru_model.keras')\n",
        "lstm_model = keras.models.load_model('./models/lstm_model.keras')"
      ]
    },
    {
      "cell_type": "code",
      "execution_count": 48,
      "metadata": {},
      "outputs": [],
      "source": [
        "input_text_1 = 'recurrent neural network'\n",
        "input_text_2 = 'convolutional neural network'\n",
        "input_text_3 = 'future researchs should'\n"
      ]
    },
    {
      "cell_type": "markdown",
      "metadata": {},
      "source": [
        "### Predicción del próximo caracter"
      ]
    },
    {
      "cell_type": "code",
      "execution_count": 49,
      "metadata": {},
      "outputs": [
        {
          "name": "stdout",
          "output_type": "stream",
          "text": [
            "\n",
            "       para \"recurrent neural network\" la RNN simple responde:\n",
            "       recurrent neural network the the the the the the the the the the the the the the the the the the the the the the the the the\n",
            "\n",
            "\n",
            "       para \"convolutional neural network\" la RNN simple responde:\n",
            "       convolutional neural network the the the the the the the the the the the the the the the the the the the the the the the the the\n",
            "\n",
            "\n",
            "       para \"future researchs should\" la RNN simple responde:\n",
            "       future researchs should the the the the the the the the the the the the the the the the the the the the the the the the the\n",
            "\n"
          ]
        }
      ],
      "source": [
        "from src.text_generator import generate_seq\n",
        "\n",
        "print (f'''\n",
        "       para \"recurrent neural network\" la RNN simple responde:\n",
        "       {generate_seq(simple_rnn_model, input_text_1, char2idx=char2idx, idx2char= idx2char, max_length=max_context_size, n_words=100)}\n",
        "''')\n",
        "\n",
        "print (f'''\n",
        "       para \"convolutional neural network\" la RNN simple responde:\n",
        "       {generate_seq(simple_rnn_model, input_text_2, char2idx=char2idx, idx2char= idx2char, max_length=max_context_size, n_words=100)}\n",
        "''')\n",
        "\n",
        "print (f'''\n",
        "       para \"future researchs should\" la RNN simple responde:\n",
        "       {generate_seq(simple_rnn_model, input_text_3, char2idx=char2idx, idx2char= idx2char, max_length=max_context_size, n_words=100)}\n",
        "''')\n"
      ]
    },
    {
      "cell_type": "code",
      "execution_count": 50,
      "metadata": {},
      "outputs": [
        {
          "name": "stdout",
          "output_type": "stream",
          "text": [
            "\n",
            "       para \"recurrent neural network\" la GRU responde:\n",
            "       recurrent neural networks and the set of the set of the set of the set of the set of the set of the set of the set of the se\n",
            "\n",
            "\n",
            "       para \"convolutional neural network\" la GRU responde:\n",
            "       convolutional neural networks and the set of the set of the set of the set of the set of the set of the set of the set of the se\n",
            "\n",
            "\n",
            "       para \"future researchs should\" la GRU responde:\n",
            "       future researchs should of the set of the set of the set of the set of the set of the set of the set of the set of the set \n",
            "\n"
          ]
        }
      ],
      "source": [
        "from src.text_generator import generate_seq\n",
        "\n",
        "print (f'''\n",
        "       para \"recurrent neural network\" la GRU responde:\n",
        "       {generate_seq(gru_model, input_text_1, char2idx=char2idx, idx2char= idx2char, max_length=max_context_size, n_words=100)}\n",
        "''')\n",
        "\n",
        "print (f'''\n",
        "       para \"convolutional neural network\" la GRU responde:\n",
        "       {generate_seq(gru_model, input_text_2, char2idx=char2idx, idx2char= idx2char, max_length=max_context_size, n_words=100)}\n",
        "''')\n",
        "\n",
        "print (f'''\n",
        "       para \"future researchs should\" la GRU responde:\n",
        "       {generate_seq(gru_model, input_text_3, char2idx=char2idx, idx2char= idx2char, max_length=max_context_size, n_words=100)}\n",
        "''')"
      ]
    },
    {
      "cell_type": "code",
      "execution_count": 51,
      "metadata": {},
      "outputs": [
        {
          "name": "stdout",
          "output_type": "stream",
          "text": [
            "\n",
            "       para \"recurrent neural network\" la lstm responde:\n",
            "       recurrent neural networks and the standing the standing the standing the standing the standing the standing the standing the\n",
            "\n",
            "\n",
            "       para \"convolutional neural network\" la lstm responde:\n",
            "       convolutional neural networks and the standing the standing the standing the standing the standing the standing the standing the\n",
            "\n",
            "\n",
            "       para \"future researchs should\" la lstm responde:\n",
            "       future researchs should the standing the standing the standing the standing the standing the standing the standing the stan\n",
            "\n"
          ]
        }
      ],
      "source": [
        "from src.text_generator import generate_seq\n",
        "\n",
        "print (f'''\n",
        "       para \"recurrent neural network\" la lstm responde:\n",
        "       {generate_seq(lstm_model, input_text_1, char2idx=char2idx, idx2char= idx2char, max_length=max_context_size, n_words=100)}\n",
        "''')\n",
        "\n",
        "print (f'''\n",
        "       para \"convolutional neural network\" la lstm responde:\n",
        "       {generate_seq(lstm_model, input_text_2, char2idx=char2idx, idx2char= idx2char, max_length=max_context_size, n_words=100)}\n",
        "''')\n",
        "\n",
        "print (f'''\n",
        "       para \"future researchs should\" la lstm responde:\n",
        "       {generate_seq(lstm_model, input_text_3, char2idx=char2idx, idx2char= idx2char, max_length=max_context_size, n_words=100)}\n",
        "''')"
      ]
    },
    {
      "cell_type": "markdown",
      "metadata": {},
      "source": [
        "###  Beam search y muestreo aleatorio"
      ]
    },
    {
      "cell_type": "markdown",
      "metadata": {},
      "source": [
        "#### Determinístico"
      ]
    },
    {
      "cell_type": "code",
      "execution_count": 52,
      "metadata": {},
      "outputs": [
        {
          "name": "stdout",
          "output_type": "stream",
          "text": [
            "\n",
            "       para \"recurrent neural network\" la RNN simple responde:\n",
            "       recurrent neural network to the the the the the the the the the the the the the the the the the the the the the the the the \n",
            "\n",
            "\n",
            "       para \"convolutional neural network\" la RNN simple responde:\n",
            "       convolutional neural network to the the the the the the the the the the the the the the the the the the the the the the the the \n",
            "\n",
            "\n",
            "       para \"future researchs should\" la RNN simple responde:\n",
            "       future researchs should of the the the the the the the the the the the the the the the the the the the the the the the the \n",
            "\n"
          ]
        }
      ],
      "source": [
        "# predicción con beam search\n",
        "from src.text_generator import beam_search, decode\n",
        "TEMP = 0\n",
        "\n",
        "salidas_1 = beam_search(simple_rnn_model, num_beams=5, num_words=100,input_text=input_text_1, char2idx=char2idx,\n",
        "                        idx2char= idx2char, max_context_size=max_context_size, temp=TEMP, mode='det')\n",
        "\n",
        "salidas_2 = beam_search(simple_rnn_model, num_beams=5, num_words=100, input_text=input_text_2, char2idx=char2idx,\n",
        "                        idx2char= idx2char, max_context_size=max_context_size, temp=TEMP, mode='det')\n",
        "\n",
        "salidas_3 = beam_search(simple_rnn_model, num_beams=5, num_words=100, input_text=input_text_3, char2idx=char2idx,\n",
        "                        idx2char= idx2char, max_context_size=max_context_size, temp=TEMP, mode='det')\n",
        "\n",
        "print (f'''\n",
        "       para \"recurrent neural network\" la RNN simple responde:\n",
        "       {decode(salidas_1[0], idx2char)}\n",
        "''')\n",
        "\n",
        "print (f'''\n",
        "       para \"convolutional neural network\" la RNN simple responde:\n",
        "       {decode(salidas_2[0], idx2char)}\n",
        "''')\n",
        "\n",
        "print (f'''\n",
        "       para \"future researchs should\" la RNN simple responde:\n",
        "       {decode(salidas_3[0], idx2char)}\n",
        "''')\n"
      ]
    },
    {
      "cell_type": "code",
      "execution_count": 53,
      "metadata": {},
      "outputs": [
        {
          "name": "stdout",
          "output_type": "stream",
          "text": [
            "\n",
            "       para \"recurrent neural network\" la GRU responde:\n",
            "       recurrent neural networks of the probability of the probability of the probability of the probability of the probability of \n",
            "\n",
            "\n",
            "       para \"convolutional neural network\" la GRU responde:\n",
            "       convolutional neural networks of the probability of the probability of the probability of the probability of the probability of \n",
            "\n",
            "\n",
            "       para \"future researchs should\" la GRU responde:\n",
            "       future researchs should of the probability of the probability of the probability of the probability of the probability and \n",
            "\n"
          ]
        }
      ],
      "source": [
        "# predicción con beam search\n",
        "from src.text_generator import beam_search, decode\n",
        "\n",
        "TEMP = 0\n",
        "\n",
        "salidas_1 = beam_search(gru_model, num_beams=5, num_words=100, input_text=input_text_1, char2idx=char2idx,\n",
        "                        idx2char= idx2char, max_context_size=max_context_size, temp=TEMP, mode='det')\n",
        "\n",
        "salidas_2 = beam_search(gru_model, num_beams=5, num_words=100, input_text=input_text_2, char2idx=char2idx,\n",
        "                        idx2char= idx2char, max_context_size=max_context_size, temp=TEMP, mode='det')\n",
        "\n",
        "salidas_3 = beam_search(gru_model, num_beams=5, num_words=100, input_text=input_text_3, char2idx=char2idx,\n",
        "                        idx2char= idx2char, max_context_size=max_context_size, temp=TEMP, mode='det')\n",
        "\n",
        "print (f'''\n",
        "       para \"recurrent neural network\" la GRU responde:\n",
        "       {decode(salidas_1[0], idx2char)}\n",
        "''')\n",
        "\n",
        "print (f'''\n",
        "       para \"convolutional neural network\" la GRU responde:\n",
        "       {decode(salidas_2[0], idx2char)}\n",
        "''')\n",
        "\n",
        "print (f'''\n",
        "       para \"future researchs should\" la GRU responde:\n",
        "       {decode(salidas_3[0], idx2char)}\n",
        "''')"
      ]
    },
    {
      "cell_type": "code",
      "execution_count": 54,
      "metadata": {},
      "outputs": [
        {
          "name": "stdout",
          "output_type": "stream",
          "text": [
            "\n",
            "       para \"recurrent neural network\" la LSTM responde:\n",
            "       recurrent neural networks of the proposed the probability of the probability of the probability of the probability of the pr\n",
            "\n",
            "\n",
            "       para \"convolutional neural network\" la LSTM responde:\n",
            "       convolutional neural networks of the proposed the probability of the probability of the probability of the probability of the pr\n",
            "\n",
            "\n",
            "       para \"future researchs should\" la LSTM responde:\n",
            "       future researchs should the probability of the probability of the probability of the probability of the probability of the \n",
            "\n"
          ]
        }
      ],
      "source": [
        "# predicción con beam search\n",
        "from src.text_generator import beam_search, decode\n",
        "\n",
        "TEMP = 0\n",
        "\n",
        "salidas_1 = beam_search(lstm_model, num_beams=5, num_words=100, input_text=input_text_1, char2idx=char2idx,\n",
        "                        idx2char= idx2char, max_context_size=max_context_size, temp=TEMP, mode='det')\n",
        "\n",
        "salidas_2 = beam_search(lstm_model, num_beams=5, num_words=100, input_text=input_text_2, char2idx=char2idx,\n",
        "                        idx2char= idx2char, max_context_size=max_context_size, temp=TEMP, mode='det')\n",
        "\n",
        "salidas_3 = beam_search(lstm_model, num_beams=5, num_words=100, input_text=input_text_3, char2idx=char2idx,\n",
        "                        idx2char= idx2char, max_context_size=max_context_size, temp=TEMP, mode='det')\n",
        "\n",
        "print (f'''\n",
        "       para \"recurrent neural network\" la LSTM responde:\n",
        "       {decode(salidas_1[0], idx2char)}\n",
        "''')\n",
        "\n",
        "print (f'''\n",
        "       para \"convolutional neural network\" la LSTM responde:\n",
        "       {decode(salidas_2[0], idx2char)}\n",
        "''')\n",
        "\n",
        "print (f'''\n",
        "       para \"future researchs should\" la LSTM responde:\n",
        "       {decode(salidas_3[0], idx2char)}\n",
        "''')\n"
      ]
    },
    {
      "cell_type": "markdown",
      "metadata": {},
      "source": [
        "#### Estocástico"
      ]
    },
    {
      "cell_type": "markdown",
      "metadata": {},
      "source": [
        "**Temperatura baja**"
      ]
    },
    {
      "cell_type": "code",
      "execution_count": 55,
      "metadata": {},
      "outputs": [
        {
          "name": "stdout",
          "output_type": "stream",
          "text": [
            "\n",
            "       para \"recurrent neural network\" la RNN simple responde:\n",
            "       recurrent neural network the propose the and the proble the the proble the the the propose the the probles the cont the the \n",
            "\n",
            "\n",
            "       para \"convolutional neural network\" la RNN simple responde:\n",
            "       convolutional neural network the proble the she con the the the con the proble the proble in the propose the the proble the cont\n",
            "\n",
            "\n",
            "       para \"future researchs should\" la RNN simple responde:\n",
            "       future researchs should and the proble the the setwork the the the the proble the the the the con the the the the proble to\n",
            "\n"
          ]
        }
      ],
      "source": [
        "# predicción con beam search\n",
        "from src.text_generator import beam_search, decode\n",
        "\n",
        "TEMP = 0.5\n",
        "\n",
        "salidas_1 = beam_search(simple_rnn_model, num_beams=5, num_words=100,input_text=input_text_1, char2idx=char2idx,\n",
        "                        idx2char= idx2char, max_context_size=max_context_size, temp=TEMP, mode='sto')\n",
        "\n",
        "salidas_2 = beam_search(simple_rnn_model, num_beams=5, num_words=100, input_text=input_text_2, char2idx=char2idx,\n",
        "                        idx2char= idx2char, max_context_size=max_context_size, temp=TEMP, mode='sto')\n",
        "\n",
        "salidas_3 = beam_search(simple_rnn_model, num_beams=5, num_words=100, input_text=input_text_3, char2idx=char2idx,\n",
        "                        idx2char= idx2char, max_context_size=max_context_size, temp=TEMP, mode='sto')\n",
        "\n",
        "print (f'''\n",
        "       para \"recurrent neural network\" la RNN simple responde:\n",
        "       {decode(salidas_1[0], idx2char)}\n",
        "''')\n",
        "\n",
        "print (f'''\n",
        "       para \"convolutional neural network\" la RNN simple responde:\n",
        "       {decode(salidas_2[0], idx2char)}\n",
        "''')\n",
        "\n",
        "print (f'''\n",
        "       para \"future researchs should\" la RNN simple responde:\n",
        "       {decode(salidas_3[0], idx2char)}\n",
        "''')\n"
      ]
    },
    {
      "cell_type": "code",
      "execution_count": 56,
      "metadata": {},
      "outputs": [
        {
          "name": "stdout",
          "output_type": "stream",
          "text": [
            "\n",
            "       para \"recurrent neural network\" la GRU responde:\n",
            "       recurrent neural networks of the problem of and the the problem and the problems and the problem and the problems and the st\n",
            "\n",
            "\n",
            "       para \"convolutional neural network\" la GRU responde:\n",
            "       convolutional neural networks in the problems and the problem of the problem of the sample of the problems of the problem of the\n",
            "\n",
            "\n",
            "       para \"future researchs should\" la GRU responde:\n",
            "       future researchs should of the problem of the results in the problems of the problem and the computation of the computation\n",
            "\n"
          ]
        }
      ],
      "source": [
        "# predicción con beam search\n",
        "from src.text_generator import beam_search, decode\n",
        "\n",
        "TEMP = 0.5\n",
        "\n",
        "salidas_1 = beam_search(gru_model, num_beams=5, num_words=100, input_text=input_text_1, char2idx=char2idx,\n",
        "                        idx2char= idx2char, max_context_size=max_context_size, temp=TEMP, mode='sto')\n",
        "\n",
        "salidas_2 = beam_search(gru_model, num_beams=5, num_words=100, input_text=input_text_2, char2idx=char2idx,\n",
        "                        idx2char= idx2char, max_context_size=max_context_size, temp=TEMP, mode='sto')\n",
        "\n",
        "salidas_3 = beam_search(gru_model, num_beams=5, num_words=100, input_text=input_text_3, char2idx=char2idx,\n",
        "                        idx2char= idx2char, max_context_size=max_context_size, temp=TEMP, mode='sto')\n",
        "\n",
        "print (f'''\n",
        "       para \"recurrent neural network\" la GRU responde:\n",
        "       {decode(salidas_1[0], idx2char)}\n",
        "''')\n",
        "\n",
        "print (f'''\n",
        "       para \"convolutional neural network\" la GRU responde:\n",
        "       {decode(salidas_2[0], idx2char)}\n",
        "''')\n",
        "\n",
        "print (f'''\n",
        "       para \"future researchs should\" la GRU responde:\n",
        "       {decode(salidas_3[0], idx2char)}\n",
        "''')"
      ]
    },
    {
      "cell_type": "code",
      "execution_count": null,
      "metadata": {},
      "outputs": [
        {
          "name": "stdout",
          "output_type": "stream",
          "text": [
            "\n",
            "       para \"recurrent neural network\" la LSTM responde:\n",
            "       recurrent neural networks the proposed the problems of the problems and and the reduction of the models and the problems of \n",
            "\n",
            "\n",
            "       para \"convolutional neural network\" la LSTM responde:\n",
            "       convolutional neural networks and the problem and the problems and the model the proposed the computions and the problems of the\n",
            "\n",
            "\n",
            "       para \"future researchs should\" la LSTM responde:\n",
            "       future researchs should the problem the reduction of the problems of the problems and the probability the compution of the \n",
            "\n"
          ]
        }
      ],
      "source": [
        "# predicción con beam search \n",
        "from src.text_generator import beam_search, decode\n",
        "\n",
        "TEMP = 0.5\n",
        "\n",
        "salidas_1 = beam_search(lstm_model, num_beams=5, num_words=100, input_text=input_text_1, char2idx=char2idx,\n",
        "                        idx2char= idx2char, max_context_size=max_context_size, temp=TEMP, mode='sto')\n",
        "\n",
        "salidas_2 = beam_search(lstm_model, num_beams=5, num_words=100, input_text=input_text_2, char2idx=char2idx,\n",
        "                        idx2char= idx2char, max_context_size=max_context_size, temp=TEMP, mode='sto')\n",
        "\n",
        "salidas_3 = beam_search(lstm_model, num_beams=5, num_words=100, input_text=input_text_3, char2idx=char2idx,\n",
        "                        idx2char= idx2char, max_context_size=max_context_size, temp=TEMP, mode='sto')\n",
        "\n",
        "print (f'''\n",
        "       para \"recurrent neural network\" la LSTM responde:\n",
        "       {decode(salidas_1[0], idx2char)}\n",
        "''')\n",
        "\n",
        "print (f'''\n",
        "       para \"convolutional neural network\" la LSTM responde:\n",
        "       {decode(salidas_2[0], idx2char)}\n",
        "''')\n",
        "\n",
        "print (f'''\n",
        "       para \"future researchs should\" la LSTM responde:\n",
        "       {decode(salidas_3[0], idx2char)}\n",
        "''')\n"
      ]
    },
    {
      "cell_type": "markdown",
      "metadata": {},
      "source": [
        "**Temperatura alta**"
      ]
    },
    {
      "cell_type": "code",
      "execution_count": 58,
      "metadata": {},
      "outputs": [
        {
          "name": "stdout",
          "output_type": "stream",
          "text": [
            "\n",
            "       para \"recurrent neural network\" la RNN simple responde:\n",
            "       recurrent neural network of teessifity sevess in the complem are primeta for\n",
            "the porpona. we conaly with this the seding asa\n",
            "\n",
            "\n",
            "       para \"convolutional neural network\" la RNN simple responde:\n",
            "       convolutional neural networks arack weles. the cages\n",
            "naralizations the netantelues thellowed for whived the modes wortem in tase\n",
            "\n",
            "\n",
            "       para \"future researchs should\" la RNN simple responde:\n",
            "       future researchs should the paching thare dnd the\n",
            "date apper pare the rare the preted mate the are sut for the to terible p\n",
            "\n"
          ]
        }
      ],
      "source": [
        "# predicción con beam search\n",
        "from src.text_generator import beam_search, decode\n",
        "\n",
        "TEMP = 1.5\n",
        "\n",
        "salidas_1 = beam_search(simple_rnn_model, num_beams=5, num_words=100,input_text=input_text_1, char2idx=char2idx,\n",
        "                        idx2char= idx2char, max_context_size=max_context_size, temp=TEMP, mode='sto')\n",
        "\n",
        "salidas_2 = beam_search(simple_rnn_model, num_beams=5, num_words=100, input_text=input_text_2, char2idx=char2idx,\n",
        "                        idx2char= idx2char, max_context_size=max_context_size, temp=TEMP, mode='sto')\n",
        "\n",
        "salidas_3 = beam_search(simple_rnn_model, num_beams=5, num_words=100, input_text=input_text_3, char2idx=char2idx,\n",
        "                        idx2char= idx2char, max_context_size=max_context_size, temp=TEMP, mode='sto')\n",
        "\n",
        "print (f'''\n",
        "       para \"recurrent neural network\" la RNN simple responde:\n",
        "       {decode(salidas_1[0], idx2char)}\n",
        "''')\n",
        "\n",
        "print (f'''\n",
        "       para \"convolutional neural network\" la RNN simple responde:\n",
        "       {decode(salidas_2[0], idx2char)}\n",
        "''')\n",
        "\n",
        "print (f'''\n",
        "       para \"future researchs should\" la RNN simple responde:\n",
        "       {decode(salidas_3[0], idx2char)}\n",
        "''')"
      ]
    },
    {
      "cell_type": "code",
      "execution_count": 59,
      "metadata": {},
      "outputs": [
        {
          "name": "stdout",
          "output_type": "stream",
          "text": [
            "\n",
            "       para \"recurrent neural network\" la GRU responde:\n",
            "       recurrent neural network in the distribution has as and and and to\n",
            "a based of the task performational computation the the su\n",
            "\n",
            "\n",
            "       para \"convolutional neural network\" la GRU responde:\n",
            "       convolutional neural network, senting a completed the metactures of the\n",
            "videos to supervised of the problems used set of the sam\n",
            "\n",
            "\n",
            "       para \"future researchs should\" la GRU responde:\n",
            "       future researchs should a related and dependent the clearning computer and the frameworks where the distrated to the propos\n",
            "\n"
          ]
        }
      ],
      "source": [
        "# predicción con beam search\n",
        "from src.text_generator import beam_search, decode\n",
        "\n",
        "TEMP = 1.5\n",
        "\n",
        "salidas_1 = beam_search(gru_model, num_beams=5, num_words=100, input_text=input_text_1, char2idx=char2idx,\n",
        "                        idx2char= idx2char, max_context_size=max_context_size, temp=TEMP, mode='sto')\n",
        "\n",
        "salidas_2 = beam_search(gru_model, num_beams=5, num_words=100, input_text=input_text_2, char2idx=char2idx,\n",
        "                        idx2char= idx2char, max_context_size=max_context_size, temp=TEMP, mode='sto')\n",
        "\n",
        "salidas_3 = beam_search(gru_model, num_beams=5, num_words=100, input_text=input_text_3, char2idx=char2idx,\n",
        "                        idx2char= idx2char, max_context_size=max_context_size, temp=TEMP, mode='sto')\n",
        "\n",
        "print (f'''\n",
        "       para \"recurrent neural network\" la GRU responde:\n",
        "       {decode(salidas_1[0], idx2char)}\n",
        "''')\n",
        "\n",
        "print (f'''\n",
        "       para \"convolutional neural network\" la GRU responde:\n",
        "       {decode(salidas_2[0], idx2char)}\n",
        "''')\n",
        "\n",
        "print (f'''\n",
        "       para \"future researchs should\" la GRU responde:\n",
        "       {decode(salidas_3[0], idx2char)}\n",
        "''')\n"
      ]
    },
    {
      "cell_type": "code",
      "execution_count": 60,
      "metadata": {},
      "outputs": [
        {
          "name": "stdout",
          "output_type": "stream",
          "text": [
            "\n",
            "       para \"recurrent neural network\" la LSTM responde:\n",
            "       recurrent neural network of and the distraming and show this and strings show accuracy intation of the trastance conseach th\n",
            "\n",
            "\n",
            "       para \"convolutional neural network\" la LSTM responde:\n",
            "       convolutional neural networks as perfined allowic metwormined for intermally shally\n",
            "for informations of the laments of that cata\n",
            "\n",
            "\n",
            "       para \"future researchs should\" la LSTM responde:\n",
            "       future researchs should the presentations. and the deteal a be these the exalies, affection of the seature resruded of chnn\n",
            "\n"
          ]
        }
      ],
      "source": [
        "# predicción con beam search\n",
        "from src.text_generator import beam_search, decode\n",
        "\n",
        "TEMP = 1.5\n",
        "\n",
        "salidas_1 = beam_search(lstm_model, num_beams=5, num_words=100, input_text=input_text_1, char2idx=char2idx,\n",
        "                        idx2char= idx2char, max_context_size=max_context_size, temp=TEMP, mode='sto')\n",
        "\n",
        "salidas_2 = beam_search(lstm_model, num_beams=5, num_words=100, input_text=input_text_2, char2idx=char2idx,\n",
        "                        idx2char= idx2char, max_context_size=max_context_size, temp=TEMP, mode='sto')\n",
        "\n",
        "salidas_3 = beam_search(lstm_model, num_beams=5, num_words=100, input_text=input_text_3, char2idx=char2idx,\n",
        "                        idx2char= idx2char, max_context_size=max_context_size, temp=TEMP, mode='sto')\n",
        "\n",
        "print (f'''\n",
        "       para \"recurrent neural network\" la LSTM responde:\n",
        "       {decode(salidas_1[0], idx2char)}\n",
        "''')\n",
        "\n",
        "print (f'''\n",
        "       para \"convolutional neural network\" la LSTM responde:\n",
        "       {decode(salidas_2[0], idx2char)}\n",
        "''')\n",
        "\n",
        "\n",
        "print (f'''\n",
        "       para \"future researchs should\" la LSTM responde:\n",
        "       {decode(salidas_3[0], idx2char)}\n",
        "''')"
      ]
    },
    {
      "cell_type": "markdown",
      "metadata": {},
      "source": [
        "# 6. Conclusiones\n",
        "El desarrollo de un modelo *many to many* con tokenización a nivel de carácter demostró ser una metodología poco efectiva para generar texto coherente en el dominio de la investigación científica, específicamente en tópicos como *Machine Learning* seguido de *Computer Vision*, *Natural Language Processing* y *Atrificial Inteligence* (ver figuras 1 y 2). En esta exploración de generación de secuencias a partir de frases como *recurrent neural network*, *convolutional neural network* y *future researchs should*, conceptos ampliamente abordados por las investigaciones en estos de dichos tópicos, los resultados no fueron buenos. No obstante, el mayor desempeño y coherencia fue durante el desarrollo de una GRU y con un método estocástico a una temperatura de 1,5. Por lo tanto, la modelación *many to many* de caracteres solo sería promisoria en modelos d GRU con algo de temperatura.\n",
        "\n",
        "#### Rendimiento de las arquitecturas recurrentes\n",
        "La comparación entre *SimpleRNN*, *GRU* y *LSTM* reveló diferencias significativas en su capacidad de aprendizaje y generalización. Como se observa en la figura 3 donde se ilustra la comparación de modelos:\n",
        "- La *SimpleRNN* obtuvo una pérdida (*loss*) en entrenamiento y una perplejidad en validación que fueron muy altas en comparación con *GRU* y *LSTM*. Esto indica que la SimpleRNN tuvo dificultades para capturar las dependencias a largo plazo inherentes a la estructura de las frases y palabras de un texto académico.\n",
        "- Los modelos *GRU y LSTM* mostraron un rendimiento muy superior con respecto a , con una perplejidad considerablemente menor. Esto se debe a sus mecanismos de *compuerta* (*gate*) y memoria, que les permiten manejar el problema del desvanecimiento del gradiente y retener información relevante a lo largo de secuencias más largas. Entre ambos, el modelo *GRU* mostró una perplejidad ligeramente inferior, sugiriendo una capacidad marginalmente mejor para este corpus específico. En cambio, el modelo *LSTM* mostró señales de *overfitting* ya que, la perplejidad aumentó después de 10 épocas cuando su precisión (*loss*) y rendimiento (*accuracy*) tenían una gran brecha de mejora, no habían alcanzado la fase asintótica de estas. Por lo tanto, la perplejidad contribuyó a mejorar esto. \n",
        "\n",
        "#### Impacto de las estrategias de generación de texto\n",
        "\n",
        "La exploración de las diferentes estrategias de decodificación resalta el compromiso entre la predictibilidad y la diversidad del texto generado.\n",
        "- *Generada por la red:* este método de generación por muestreo simple (el equivalente a un *beam_search* con temperatura 1), seleccionó los caracteres basándose en las probabilidades directas de la capa de salida (*softmax*), demostró ser el menos efectivo. Esta estrategia a menudo condujo a la repetición de secuencias de alta probabilidad, como *the the the* o *the set of the set of*, lo que resultó en un texto predecible y de baja calidad.\n",
        "\n",
        "- *Greedy Search - deterministico:* la generación de texto con *Greedy Search* (el equivalente a un *beam_search* con temperatura 0) produjo secuencias altamente repetitivas y predecibles. En los tres modelos, se observaron patrones cíclicos como *the the the* o *the probability of the probability of the probability of*, lo que demuestra que esta estrategia tiende a seleccionar el carácter más probable en cada paso, cayendo rápidamente en bucles de alta probabilidad.\n",
        "- *Beam Search - estocástico:* La introducción de la temperatura controló la aleatoriedad en la generación.\n",
        "    - *Temperatura baja (TEMP = 0.5):* la calidad del texto mejoró, produciendo secuencias más variadas sin perder demasiada coherencia. Los modelos GRU y LSTM fueron capaces de generar frases más largas y con sentido, aunque aún con algunas repeticiones, como *the problem*, pero en algunos casos de *GRU* y *LSTM* incluyó palabras nuevas como *and* y *of the problem of the results*. Por ejemplo, la *GRU* el generador generó: *future researchs should of the problem of the results in the problems of the problem and the computation of the computation*, y la *LSTM*: *future researchs should of the problem of the results in the problems of the problem and the computation of the computation*. Por lo tanto, el método estocástico con baja temperatura permitió explorar más de un camino a la vez, pero sin alejarse demasiado de las opciones más probables, repitiendo palabras en las secuencias generadas.\n",
        "    - *Temperatura alta (TEMP = 1.5):* el texto generado por la *simpleRNN* se volvió mucho más caótico y carente de coherencia, generando palabras que no existen. Sin embargo, en el caso de la *GRU* y la *LSTM* fueron más equiprobables y con mejores avances en la creatividad del generador. Por ejemplo, la *GRU* se generó secuencias como *future researchs should a related and dependent the clearning computer and the frameworks where the distrated to the propos* y la *LSTM* como *future researchs should the presentations. and the deteal a be these the exalies, affection of the seature resruded of chnn*. Por lo tanto, el método estocástico con algo de temperatura alta, fue de crear secuencias coherentes siendo al *GRU* el mejor generador de texto.\n",
        "\n",
        "En resumen, los modelos *GRU y LSTM* son las arquitecturas más adecuadas para el modelado de lenguaje a nivel de carácter con el corpus generado desde los resúmenes de artículos científicos de *Machine Learning*, *Computer Vision*, *Natural Language Processing* y *Atrificial Inteligence*. Además, la estrategia de generación de texto más eficaz fue el *Beam Search* estocástico con una temperatura alta, ya que logró un equilibrio óptimo entre la coherencia del texto y la diversidad de las secuencias generadas. Esto subraya la importancia de combinar una arquitectura de modelo robusta con una estrategia de decodificación adecuada para obtener resultados de alta calidad.\n"
      ]
    },
    {
      "cell_type": "markdown",
      "metadata": {},
      "source": []
    }
  ],
  "metadata": {
    "accelerator": "GPU",
    "colab": {
      "gpuType": "T4",
      "provenance": []
    },
    "kernelspec": {
      "display_name": "tf_minimal_env",
      "language": "python",
      "name": "python3"
    },
    "language_info": {
      "codemirror_mode": {
        "name": "ipython",
        "version": 3
      },
      "file_extension": ".py",
      "mimetype": "text/x-python",
      "name": "python",
      "nbconvert_exporter": "python",
      "pygments_lexer": "ipython3",
      "version": "3.11.13"
    }
  },
  "nbformat": 4,
  "nbformat_minor": 0
}
