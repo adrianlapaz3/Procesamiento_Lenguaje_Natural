{
  "cells": [
    {
      "cell_type": "markdown",
      "metadata": {
        "id": "g3yeJGnCYxuF"
      },
      "source": [
        "<img src=\"https://github.com/hernancontigiani/ceia_memorias_especializacion/raw/master/Figures/logoFIUBA.jpg\" width=\"500\" align=\"center\">\n",
        "\n",
        "\n",
        "# Procesamiento de lenguaje natural\n",
        "## Modelo de lenguaje con tokenización por caracteres"
      ]
    },
    {
      "cell_type": "markdown",
      "metadata": {
        "id": "Iv5PEwGzZA9-"
      },
      "source": [
        "### Consigna\n",
        "- Seleccionar un corpus de texto sobre el cual entrenar el modelo de lenguaje.\n",
        "- Realizar el pre-procesamiento adecuado para tokenizar el corpus, estructurar el dataset y separar entre datos de entrenamiento y validación.\n",
        "- Proponer arquitecturas de redes neuronales basadas en unidades recurrentes para implementar un modelo de lenguaje.\n",
        "- Con el o los modelos que consideren adecuados, generar nuevas secuencias a partir de secuencias de contexto con las estrategias de greedy search y beam search determístico y estocástico. En este último caso observar el efecto de la temperatura en la generación de secuencias.\n",
        "\n",
        "\n",
        "### Sugerencias\n",
        "- Durante el entrenamiento, guiarse por el descenso de la perplejidad en los datos de validación para finalizar el entrenamiento. Para ello se provee un callback.\n",
        "- Explorar utilizar SimpleRNN (celda de Elman), LSTM y GRU.\n",
        "- rmsprop es el optimizador recomendado para la buena convergencia. No obstante se pueden explorar otros.\n"
      ]
    },
    {
      "cell_type": "markdown",
      "metadata": {},
      "source": [
        "# Metodología propuesta\n",
        "#### 1. Selección del corpus:\n",
        "Se seleccionó un corpus textual que sirviera como base para el entrenamiento del modelo de lenguaje. Este corpus debía ser representativo del dominio de interés y contener suficiente variabilidad léxica y sintáctica para permitir una generalización adecuada del modelo.\n",
        "\n",
        "#### 2. Preprocesamiento del texto:\n",
        "El corpus fue sometido a un proceso de preprocesamiento que incluyó:\n",
        "* Conversión a minúsculas.\n",
        "* Tokenización carácter a carácter.\n",
        "* Codificación de los caracteres mediante índices enteros.\n",
        "* Estructuración del conjunto de datos en secuencias de longitud fija.\n",
        "* División en conjuntos de entrenamiento y validación.\n",
        "\n",
        "#### 3. Diseño del modelo:\n",
        "Se exploraron distintas arquitecturas de redes neuronales recurrentes para la tarea de modelado de lenguaje. En particular, se evaluaron modelos basados en *SimpleRNN*, *LSTM* y *GRU*, integrando capas de proyección y activación, y utilizando codificación *one-hot* como representación de entrada.\n",
        "\n",
        "#### 4. Entrenamiento:\n",
        "Los modelos fueron entrenados aplicando la perplejidad desde un *Callback ad-hoc*.\n",
        "\n",
        "#### 5. Generación de texto\n",
        "Los modelos entrenados fueron utilizados para generar nuevas secuencias a partir de contextos semilla. Se implementaron distintas estrategias de decodificación:\n",
        "* *Greedy search:* selección del carácter más probable en cada paso.\n",
        "* *Beam search determinista:* exploración de múltiples trayectorias con selección sistemática de los mejores candidatos.\n",
        "* *Beam search estocástico:* incorporación de muestreo probabilístico controlado mediante un parámetro de temperatura, permitiendo analizar su impacto en la diversidad y coherencia de las secuencias generadas.\n",
        "\n",
        "#### 6. Conclusiones: \n",
        "Se genearon las principales conclusiones basada en los resultados encontrados. \n"
      ]
    },
    {
      "cell_type": "markdown",
      "metadata": {
        "id": "xTvXlEKQZdqx"
      },
      "source": [
        "## 1. Selección del corpus\n",
        "Para generar un corpus con diferentes estilos personales de escritura, se utilizó un conjunto de datos publicado en Kaggle, titulado *ArXiv Scientific Research Papers Dataset*. Es importante mencionar que este dataset ha sido utilizado en tareas como clasificación de textos, sistemas de recomendación, análisis de tendencias, resumen automático, modelado de temas y análisis de impacto de autores. Por lo tanto, es una buena fuente de información para el corpus.\n",
        "\n",
        "Este dataset esta compuesto por artículos del repositorio arXiv en áreas como inteligencia artificial, aprendizaje automático, informática y matemáticas. Este dataset, incluye campos como título, resumen, categoría, autores y fechas de publicación y actualización. Para los fines de este trabajo, se seleccionaron los 25 resúmenes más extensos (según número de palabras) de cada una de las cuatro categorías dominantes en el conjunto de datos. Posteriormente, dichos resúmenes fueron compilados en un único texto para su análisis.\n",
        "\n",
        "\n",
        "Disponible en:\n",
        "https://www.kaggle.com/datasets/sumitm004/arxiv-scientific-research-papers-dataset\n",
        "\n"
      ]
    },
    {
      "cell_type": "code",
      "execution_count": 161,
      "metadata": {},
      "outputs": [
        {
          "data": {
            "text/html": [
              "<div>\n",
              "<style scoped>\n",
              "    .dataframe tbody tr th:only-of-type {\n",
              "        vertical-align: middle;\n",
              "    }\n",
              "\n",
              "    .dataframe tbody tr th {\n",
              "        vertical-align: top;\n",
              "    }\n",
              "\n",
              "    .dataframe thead th {\n",
              "        text-align: right;\n",
              "    }\n",
              "</style>\n",
              "<table border=\"1\" class=\"dataframe\">\n",
              "  <thead>\n",
              "    <tr style=\"text-align: right;\">\n",
              "      <th></th>\n",
              "      <th>id</th>\n",
              "      <th>title</th>\n",
              "      <th>category</th>\n",
              "      <th>category_code</th>\n",
              "      <th>published_date</th>\n",
              "      <th>updated_date</th>\n",
              "      <th>authors</th>\n",
              "      <th>first_author</th>\n",
              "      <th>summary</th>\n",
              "      <th>summary_word_count</th>\n",
              "    </tr>\n",
              "  </thead>\n",
              "  <tbody>\n",
              "    <tr>\n",
              "      <th>0</th>\n",
              "      <td>cs-9308101v1</td>\n",
              "      <td>Dynamic Backtracking</td>\n",
              "      <td>Artificial Intelligence</td>\n",
              "      <td>cs.AI</td>\n",
              "      <td>8/1/93</td>\n",
              "      <td>8/1/93</td>\n",
              "      <td>['M. L. Ginsberg']</td>\n",
              "      <td>'M. L. Ginsberg'</td>\n",
              "      <td>Because of their occasional need to return to ...</td>\n",
              "      <td>79</td>\n",
              "    </tr>\n",
              "    <tr>\n",
              "      <th>1</th>\n",
              "      <td>cs-9308102v1</td>\n",
              "      <td>A Market-Oriented Programming Environment and ...</td>\n",
              "      <td>Artificial Intelligence</td>\n",
              "      <td>cs.AI</td>\n",
              "      <td>8/1/93</td>\n",
              "      <td>8/1/93</td>\n",
              "      <td>['M. P. Wellman']</td>\n",
              "      <td>'M. P. Wellman'</td>\n",
              "      <td>Market price systems constitute a well-underst...</td>\n",
              "      <td>119</td>\n",
              "    </tr>\n",
              "    <tr>\n",
              "      <th>2</th>\n",
              "      <td>cs-9309101v1</td>\n",
              "      <td>An Empirical Analysis of Search in GSAT</td>\n",
              "      <td>Artificial Intelligence</td>\n",
              "      <td>cs.AI</td>\n",
              "      <td>9/1/93</td>\n",
              "      <td>9/1/93</td>\n",
              "      <td>['I. P. Gent', 'T. Walsh']</td>\n",
              "      <td>'I. P. Gent'</td>\n",
              "      <td>We describe an extensive study of search in GS...</td>\n",
              "      <td>167</td>\n",
              "    </tr>\n",
              "    <tr>\n",
              "      <th>3</th>\n",
              "      <td>cs-9311101v1</td>\n",
              "      <td>The Difficulties of Learning Logic Programs wi...</td>\n",
              "      <td>Artificial Intelligence</td>\n",
              "      <td>cs.AI</td>\n",
              "      <td>11/1/93</td>\n",
              "      <td>11/1/93</td>\n",
              "      <td>['F. Bergadano', 'D. Gunetti', 'U. Trinchero']</td>\n",
              "      <td>'F. Bergadano'</td>\n",
              "      <td>As real logic programmers normally use cut (!)...</td>\n",
              "      <td>174</td>\n",
              "    </tr>\n",
              "    <tr>\n",
              "      <th>4</th>\n",
              "      <td>cs-9311102v1</td>\n",
              "      <td>Software Agents: Completing Patterns and Const...</td>\n",
              "      <td>Artificial Intelligence</td>\n",
              "      <td>cs.AI</td>\n",
              "      <td>11/1/93</td>\n",
              "      <td>11/1/93</td>\n",
              "      <td>['J. C. Schlimmer', 'L. A. Hermens']</td>\n",
              "      <td>'J. C. Schlimmer'</td>\n",
              "      <td>To support the goal of allowing users to recor...</td>\n",
              "      <td>187</td>\n",
              "    </tr>\n",
              "  </tbody>\n",
              "</table>\n",
              "</div>"
            ],
            "text/plain": [
              "             id                                              title  \\\n",
              "0  cs-9308101v1                               Dynamic Backtracking   \n",
              "1  cs-9308102v1  A Market-Oriented Programming Environment and ...   \n",
              "2  cs-9309101v1            An Empirical Analysis of Search in GSAT   \n",
              "3  cs-9311101v1  The Difficulties of Learning Logic Programs wi...   \n",
              "4  cs-9311102v1  Software Agents: Completing Patterns and Const...   \n",
              "\n",
              "                  category category_code published_date updated_date  \\\n",
              "0  Artificial Intelligence         cs.AI         8/1/93       8/1/93   \n",
              "1  Artificial Intelligence         cs.AI         8/1/93       8/1/93   \n",
              "2  Artificial Intelligence         cs.AI         9/1/93       9/1/93   \n",
              "3  Artificial Intelligence         cs.AI        11/1/93      11/1/93   \n",
              "4  Artificial Intelligence         cs.AI        11/1/93      11/1/93   \n",
              "\n",
              "                                          authors       first_author  \\\n",
              "0                              ['M. L. Ginsberg']   'M. L. Ginsberg'   \n",
              "1                               ['M. P. Wellman']    'M. P. Wellman'   \n",
              "2                      ['I. P. Gent', 'T. Walsh']       'I. P. Gent'   \n",
              "3  ['F. Bergadano', 'D. Gunetti', 'U. Trinchero']     'F. Bergadano'   \n",
              "4            ['J. C. Schlimmer', 'L. A. Hermens']  'J. C. Schlimmer'   \n",
              "\n",
              "                                             summary  summary_word_count  \n",
              "0  Because of their occasional need to return to ...                  79  \n",
              "1  Market price systems constitute a well-underst...                 119  \n",
              "2  We describe an extensive study of search in GS...                 167  \n",
              "3  As real logic programmers normally use cut (!)...                 174  \n",
              "4  To support the goal of allowing users to recor...                 187  "
            ]
          },
          "execution_count": 161,
          "metadata": {},
          "output_type": "execute_result"
        }
      ],
      "source": [
        "import io\n",
        "import pandas as pd\n",
        "import re\n",
        "\n",
        "# Conjunto de datos como archivo CSV    \n",
        "dataset = pd.read_csv('./data/arXiv_scientific dataset.csv') \n",
        "\n",
        "# Rango Latin-1 con diacríticos\n",
        "accent_pat = re.compile(r\"[À-ÖØ-öø-ÿ]\") \n",
        "\n",
        "mask_no_accents = ~dataset[\"summary\"].str.contains(accent_pat, na=False)\n",
        "mask_no_accents = ~dataset[\"title\"].str.contains(accent_pat, na=False)\n",
        "dataset = dataset[mask_no_accents].copy()\n",
        "\n",
        "# Limpieza de los datos \n",
        "dataset = dataset.dropna(subset=['title','summary']).copy() \n",
        "dataset = dataset.drop_duplicates(subset=['title','summary'], keep='first').copy()\n",
        "\n",
        "dataset.head(5)"
      ]
    },
    {
      "cell_type": "code",
      "execution_count": null,
      "metadata": {},
      "outputs": [
        {
          "name": "stderr",
          "output_type": "stream",
          "text": [
            "/tmp/ipykernel_477976/778474102.py:9: FutureWarning: \n",
            "\n",
            "Passing `palette` without assigning `hue` is deprecated and will be removed in v0.14.0. Assign the `y` variable to `hue` and set `legend=False` for the same effect.\n",
            "\n",
            "  sns.barplot(x=top_categories.values, y=top_categories.index, palette=\"viridis\")\n"
          ]
        },
        {
          "data": {
            "image/png": "[encoded data removed]",
            "text/plain": [
              "<Figure size 1200x600 with 1 Axes>"
            ]
          },
          "metadata": {},
          "output_type": "display_data"
        }
      ],
      "source": [
        "import matplotlib.pyplot as plt\n",
        "import seaborn as sns\n",
        "\n",
        "# Top 15 categorías más frecuentes\n",
        "top_categories = dataset['category'].value_counts().head(15)\n",
        "total = dataset['category'].nunique()\n",
        "\n",
        "plt.figure(figsize=(12, 6))\n",
        "sns.barplot(x=top_categories.values, y=top_categories.index, palette=\"viridis\")\n",
        "plt.title(f'Top 15 categorías más frecuentes (total categorías: {total})')\n",
        "plt.xlabel('Cantidad de artículos publicados')\n",
        "plt.ylabel('Categoría')\n",
        "plt.tight_layout()\n",
        "plt.savefig('./figures/top15_categories_hist.png', dpi=150)\n",
        "plt.show()\n"
      ]
    },
    {
      "cell_type": "markdown",
      "metadata": {},
      "source": [
        "**Figura 1.** Top 15 categorías más frecuentes en el dataset."
      ]
    },
    {
      "cell_type": "markdown",
      "metadata": {},
      "source": [
        "Como se puede ver en la figura 1 la mayor cantidad de datos son sobre aprendizaje de máquina (*Machine Learning*, ML) seguido de visión por computador (*Computer Vision*, CV) y procesamiento de lenguaje natural (*Natural Language Processing*, PNL). Por lo tanto, desde el corpus el modelo entrenado esta sesgado hacía los algoritmos y procesamientos de estas disciplinas, por ejemplo, red neuronal recurrente (*Recurrent Neural Network*, RNN) y convolucional (*Convolutional Neural Network*, CNN). \n",
        "\n",
        "Por otro lado, hay que recategorizar a *Machine Learning (Statistics)* por *Machine Learning*."
      ]
    },
    {
      "cell_type": "code",
      "execution_count": 163,
      "metadata": {},
      "outputs": [],
      "source": [
        "import re\n",
        "\n",
        "# En primer insatancia hay que recategorizar a Machine Learning (Statistics) por Machine Learning\n",
        "dataset['category'] = dataset['category'].replace({\n",
        "    'Machine Learning (Statistics)': 'Machine Learning'\n",
        "})\n",
        "\n"
      ]
    },
    {
      "cell_type": "markdown",
      "metadata": {},
      "source": [
        "## 2. Preprocesamiento del texto\n",
        "Se construyó un modelo de lenguaje carácter a carácter mediante una serie de pasos de preprocesamiento aplicados sobre un corpus textual:\n",
        "\n",
        "* **Construcción del vocabulario:** se extrajo el conjunto único de caracteres presentes en el texto (chars_vocab) y se definieron diccionarios de mapeo (*char2idx* y *idx2char*) para convertir caracteres en índices enteros y viceversa. Esta codificación facilitó el tratamiento del texto como una secuencia numérica.\n",
        "\n",
        "* **Tokenización:** el corpus completo fue tokenizado, es decir, cada carácter fue reemplazado por su correspondiente índice numérico según el vocabulario previamente definido.\n",
        "\n",
        "* **División del dataset y creación de secuencias**\n",
        "Para preparar los datos para el entrenamiento y la validación, el corpus tokenizado fue segmentado y estructurado de la siguiente manera.\n",
        "    *  **División del corpus:** el corpus tokenizado fue dividido en un conjunto de entrenamiento (90%) y un conjunto de validación (10%). La porción de validación fue reservada del final del corpus para asegurar una evaluación objetiva.\n",
        "    *  **Generación de secuencias:** se utilizó una ventana deslizante de 100 caracteres con stride = 1 para generar secuencias superpuestas de entrada (*X*) y sus correspondientes salidas (*y*) en el conjunto de entrenamiento. En validación, en cambio, se construyeron bloques consecutivos sin superposición. Las secuencias se estructuraron bajo un esquema *many-to-many*, en el que cada salida es la entrada desplazada un carácter hacia adelante."
      ]
    },
    {
      "cell_type": "markdown",
      "metadata": {},
      "source": [
        "#### Contrucción del vocabulario\n",
        "\n",
        "Se construyó un corpus textual concatenando los títulos y resúmenes de los artículos en formato secuencial. Cada entrada fue estructurada colocando el título, seguido por un salto de línea (*\\n*), el resumen correspondiente, otro salto de línea, y luego el siguiente título, repitiendo este patrón.\n",
        "\n",
        "Para esta tarea, se seleccionaron aleatoriamente 500 artículos del conjunto de datos original, y se utilizó esta muestra para generar un *\"book\"* continuo de texto, que sirvió como base para los análisis posteriores."
      ]
    },
    {
      "cell_type": "code",
      "execution_count": 164,
      "metadata": {},
      "outputs": [
        {
          "name": "stdout",
          "output_type": "stream",
          "text": [
            "1. Machine Learning\n",
            "2. Computer Vision and Pattern Recognition\n",
            "3. Computation and Language (Natural Language Processing)\n",
            "4. Artificial Intelligence\n"
          ]
        },
        {
          "data": {
            "text/html": [
              "<div>\n",
              "<style scoped>\n",
              "    .dataframe tbody tr th:only-of-type {\n",
              "        vertical-align: middle;\n",
              "    }\n",
              "\n",
              "    .dataframe tbody tr th {\n",
              "        vertical-align: top;\n",
              "    }\n",
              "\n",
              "    .dataframe thead th {\n",
              "        text-align: right;\n",
              "    }\n",
              "</style>\n",
              "<table border=\"1\" class=\"dataframe\">\n",
              "  <thead>\n",
              "    <tr style=\"text-align: right;\">\n",
              "      <th></th>\n",
              "      <th>id</th>\n",
              "      <th>title</th>\n",
              "      <th>category</th>\n",
              "      <th>category_code</th>\n",
              "      <th>published_date</th>\n",
              "      <th>updated_date</th>\n",
              "      <th>authors</th>\n",
              "      <th>first_author</th>\n",
              "      <th>summary</th>\n",
              "      <th>summary_word_count</th>\n",
              "    </tr>\n",
              "  </thead>\n",
              "  <tbody>\n",
              "    <tr>\n",
              "      <th>655</th>\n",
              "      <td>abs-1105.5452v1</td>\n",
              "      <td>Unifying Class-Based Representation Formalisms</td>\n",
              "      <td>Artificial Intelligence</td>\n",
              "      <td>cs.AI</td>\n",
              "      <td>5/27/11</td>\n",
              "      <td>5/27/11</td>\n",
              "      <td>['D. Calvanese', 'M. Lenzerini', 'D. Nardi']</td>\n",
              "      <td>'D. Calvanese'</td>\n",
              "      <td>The notion of class is ubiquitous in computer ...</td>\n",
              "      <td>321</td>\n",
              "    </tr>\n",
              "    <tr>\n",
              "      <th>696</th>\n",
              "      <td>abs-1106.0252v1</td>\n",
              "      <td>Conformant Planning via Symbolic Model Checking</td>\n",
              "      <td>Artificial Intelligence</td>\n",
              "      <td>cs.AI</td>\n",
              "      <td>6/1/11</td>\n",
              "      <td>6/1/11</td>\n",
              "      <td>['A. Cimatti', 'M. Roveri']</td>\n",
              "      <td>'A. Cimatti'</td>\n",
              "      <td>We tackle the problem of planning in nondeterm...</td>\n",
              "      <td>320</td>\n",
              "    </tr>\n",
              "    <tr>\n",
              "      <th>728</th>\n",
              "      <td>abs-1106.1821v1</td>\n",
              "      <td>Collective Intelligence, Data Routing and Brae...</td>\n",
              "      <td>Artificial Intelligence</td>\n",
              "      <td>cs.AI</td>\n",
              "      <td>6/9/11</td>\n",
              "      <td>6/9/11</td>\n",
              "      <td>['K. Tumer', 'D. H. Wolpert']</td>\n",
              "      <td>'K. Tumer'</td>\n",
              "      <td>We consider the problem of designing the the u...</td>\n",
              "      <td>333</td>\n",
              "    </tr>\n",
              "  </tbody>\n",
              "</table>\n",
              "</div>"
            ],
            "text/plain": [
              "                  id                                              title  \\\n",
              "655  abs-1105.5452v1     Unifying Class-Based Representation Formalisms   \n",
              "696  abs-1106.0252v1    Conformant Planning via Symbolic Model Checking   \n",
              "728  abs-1106.1821v1  Collective Intelligence, Data Routing and Brae...   \n",
              "\n",
              "                    category category_code published_date updated_date  \\\n",
              "655  Artificial Intelligence         cs.AI        5/27/11      5/27/11   \n",
              "696  Artificial Intelligence         cs.AI         6/1/11       6/1/11   \n",
              "728  Artificial Intelligence         cs.AI         6/9/11       6/9/11   \n",
              "\n",
              "                                          authors    first_author  \\\n",
              "655  ['D. Calvanese', 'M. Lenzerini', 'D. Nardi']  'D. Calvanese'   \n",
              "696                   ['A. Cimatti', 'M. Roveri']    'A. Cimatti'   \n",
              "728                 ['K. Tumer', 'D. H. Wolpert']      'K. Tumer'   \n",
              "\n",
              "                                               summary  summary_word_count  \n",
              "655  The notion of class is ubiquitous in computer ...                 321  \n",
              "696  We tackle the problem of planning in nondeterm...                 320  \n",
              "728  We consider the problem of designing the the u...                 333  "
            ]
          },
          "execution_count": 164,
          "metadata": {},
          "output_type": "execute_result"
        }
      ],
      "source": [
        "# Top 4 de categorías\n",
        "top_100_categories = []\n",
        "rank=0\n",
        "for i in dataset['category'].value_counts().index[:4]:\n",
        "\n",
        "    rank += 1\n",
        "    print(f'{rank}. {i}')\n",
        "\n",
        "    category_i = dataset[dataset['category'] == i]\n",
        "    \n",
        "    top_25_category_i = category_i.sort_values(by='summary_word_count', ascending=False).head(25)\n",
        "    \n",
        "    top_100_categories.append(top_25_category_i)\n",
        "\n",
        "# Concatenar todos los DataFrames en top_100_categories\n",
        "top_100_df = pd.concat(top_100_categories, ignore_index=True)\n",
        "\n",
        "# Extraer la lista de IDs\n",
        "top_ids = top_100_df['id']\n",
        "\n",
        "dataset = dataset[dataset['id'].isin(top_ids)].copy()\n",
        "dataset.head(3)"
      ]
    },
    {
      "cell_type": "code",
      "execution_count": 165,
      "metadata": {},
      "outputs": [
        {
          "name": "stderr",
          "output_type": "stream",
          "text": [
            "/tmp/ipykernel_477976/3161068731.py:3: FutureWarning: \n",
            "\n",
            "Passing `palette` without assigning `hue` is deprecated and will be removed in v0.14.0. Assign the `y` variable to `hue` and set `legend=False` for the same effect.\n",
            "\n",
            "  sns.barplot(\n"
          ]
        },
        {
          "data": {
            "image/png": "[encoded data removed]",
            "text/plain": [
              "<Figure size 1200x600 with 1 Axes>"
            ]
          },
          "metadata": {},
          "output_type": "display_data"
        }
      ],
      "source": [
        "plt.figure(figsize=(12, 6))\n",
        "\n",
        "sns.barplot(\n",
        "    x='summary_word_count',\n",
        "    y='category',\n",
        "    data=dataset.groupby('category', as_index=False)['summary_word_count'].sum(),\n",
        "    palette='viridis'\n",
        ")\n",
        "\n",
        "plt.title('Palabras totales por categoría (top 100 seleccionados)')\n",
        "plt.xlabel('Total de palabras en resúmenes')\n",
        "plt.ylabel('Categoría')\n",
        "plt.tight_layout()\n",
        "plt.savefig('./figures/top_categories_words_sum.png', dpi=150)\n",
        "plt.show()\n"
      ]
    },
    {
      "cell_type": "markdown",
      "metadata": {},
      "source": [
        "Al observar el dataset seleccionado, se observa una distribución uniforme entre las cuatro categorías seleccionadas. Por lo tanto, dado que el corpus es representativo para estas cagorias, los modelos generados no deberían presentar un sesgo hacía una de estas categorias"
      ]
    },
    {
      "cell_type": "code",
      "execution_count": 166,
      "metadata": {},
      "outputs": [
        {
          "data": {
            "text/plain": [
              "'unifying class-based representation formalisms \\nthe notion of class is ubiquitous in computer science and is central in many\\nformalisms for the representation of structured knowledge used both in\\nknowledge representation and in databases. in this paper we study the basic\\nissues underlying such representation formalisms and single out both their\\ncommon characteristics and their distinguishing features. such investigation\\nleads us to propose a unifying framework in which we are able to capture the\\nfundamental aspects of several representation languages used in different\\ncontexts. the proposed formalism is expressed in the style of description\\nlogics, which have been introduced in knowledge representation as a means to\\nprovide a semantically well-founded basis for the structural aspects of\\nknowledge representation systems. the description logic considered in this\\npaper is a subset of first order logic with nice computational characteristics.\\nit is quite expressive and features a novel com'"
            ]
          },
          "execution_count": 166,
          "metadata": {},
          "output_type": "execute_result"
        }
      ],
      "source": [
        "article_text = ''\n",
        "for index, row in dataset.iterrows():\n",
        "    article_text += row['title'] + ' \\n' + row['summary'] + ' \\n'    \n",
        "article_text = article_text.lower()\n",
        "article_text[:1000]"
      ]
    },
    {
      "cell_type": "markdown",
      "metadata": {},
      "source": [
        "En este caso se ve un texto sobre *ML* en el cual aparece un término especifico, *xgboost*, que es un algoritmo muy difundido en esta disciplina."
      ]
    },
    {
      "cell_type": "markdown",
      "metadata": {},
      "source": [
        "#### Preprocesamiento y codificación del Texto\n",
        "Se definió un tamaño de contexto de 100 caracteres, que se utilizó como ventana deslizante para la generación de secuencias de entrada. El preprocesamiento del texto se llevó a cabo utilizando herramientas de la biblioteca Keras, en particular, la función *pad_sequences* fue incorporada para aplicar relleno (*padding*) en las secuencias cuando fue necesario (ver *./src/callback.py*).\n",
        "\n",
        "El vocabulario se construyó a partir del conjunto único de caracteres presentes en el corpus completo (*article_text*). Luego, todos los caracteres fueron convertidos a minúsculas para reducir la dimensionalidad del vocabulario. Por último, a partir de este conjunto, se generaron dos diccionarios de mapeo:\n",
        "\n",
        "- *char2idx*: asignó un índice numérico único a cada carácter (tokenización).\n",
        "\n",
        "- *idx2char*: permitió la conversión inversa, de índices a caracteres.\n",
        "\n",
        "La longitud total del vocabulario de caracteres fue registrada para ser utilizada en etapas posteriores del modelo de lenguaje."
      ]
    },
    {
      "cell_type": "code",
      "execution_count": 167,
      "metadata": {},
      "outputs": [
        {
          "name": "stdout",
          "output_type": "stream",
          "text": [
            "\n",
            "      El vacabulary de caracteres es: {'c', '1', 'r', '@', '-', '(', 'k', 'z', '}', '2', '9', '4', '>', 't', 'e', 'v', 'x', '\\n', '<', '.', 'q', '%', '8', '$', ']', '^', ')', 'i', 's', '\"', ';', '?', '=', ':', '{', 'h', 'm', 'a', 'd', 'u', 'n', ' ', 'p', 'f', 'w', 'j', '[', 'g', 'o', '/', '|', 'b', 'l', '7', '+', '`', ',', '0', '5', '&', 'y', '*', '_', '6', '3', '\\\\', \"'\", '~'}\n",
            "      Número total de caracteres únicos en el conjunto de datos: 68\n",
            "\n"
          ]
        }
      ],
      "source": [
        "# Definición del tamaño de contexto para las secuencias de entrada (número de caracteres utilizados como ventana de entrada)\n",
        "# Se define un tamaño de contexto de 100 caracteres, por lo tanto, no es necesario utilizar padding (from tensorflow.keras.utils import pad_sequences) \n",
        "max_context_size = 100\n",
        "\n",
        "# Extracción del vocabulario de caracteres: conjunto único de caracteres presentes en todo el corpus de texto\n",
        "chars_vocab = set(article_text)\n",
        "\n",
        "# Tamaño del vocabulario de caracteres\n",
        "vocab_size = len(chars_vocab)\n",
        "\n",
        "print(f'''\n",
        "      El vacabulary de caracteres es: {chars_vocab}\n",
        "      Número total de caracteres únicos en el conjunto de datos: {vocab_size}\n",
        "''')\n"
      ]
    },
    {
      "cell_type": "code",
      "execution_count": 168,
      "metadata": {},
      "outputs": [
        {
          "name": "stdout",
          "output_type": "stream",
          "text": [
            "char2idx (primeros 10): [('c', 0), ('1', 1), ('r', 2), ('@', 3), ('-', 4), ('(', 5), ('k', 6), ('z', 7), ('}', 8), ('2', 9)]\n",
            "idx2char (primeros 10): [(0, 'c'), (1, '1'), (2, 'r'), (3, '@'), (4, '-'), (5, '('), (6, 'k'), (7, 'z'), (8, '}'), (9, '2')]\n"
          ]
        }
      ],
      "source": [
        "# Construcción de los diccionarios de mapeo entre caracteres e índices numéricos\n",
        "# `char2idx` actúa como tokenizador (carácter → índice)\n",
        "char2idx = {k: v for v, k in enumerate(chars_vocab)}\n",
        "print(f'char2idx (primeros 10): {list(char2idx.items())[:10]}')\n",
        "\n",
        "# `idx2char` permite la conversión inversa (índice → carácter)\n",
        "idx2char = {v: k for k, v in char2idx.items()}\n",
        "print(f'idx2char (primeros 10): {list(idx2char.items())[:10]}')\n"
      ]
    },
    {
      "cell_type": "markdown",
      "metadata": {},
      "source": [
        "Como se puede ver en la primera tupla de la salida, *(0, c)*, el índice *0* se asocia con el carácter *c*. Esto significa que cuando el modelo encuentra el índice *0*, lo interpretará como el carácter *c*. Por lo tanto, al buscar el índice *0* en *idx2char*, se utiliza *0* como clave para mapear en el diccionario, y se devuelve su valor asociado que es el carácter *c*."
      ]
    },
    {
      "cell_type": "markdown",
      "metadata": {},
      "source": [
        "###  Tokenización"
      ]
    },
    {
      "cell_type": "code",
      "execution_count": 169,
      "metadata": {},
      "outputs": [
        {
          "name": "stdout",
          "output_type": "stream",
          "text": [
            "[39, 40, 27, 43, 60, 27, 40, 47, 41, 0, 52, 37, 28, 28, 4, 51, 37, 28, 14, 38, 41, 2, 14, 42, 2, 14, 28, 14, 40, 13, 37, 13, 27, 48, 40, 41, 43, 48, 2, 36, 37, 52, 27, 28, 36, 28, 41, 17, 13, 35, 14, 41, 40, 48, 13, 27, 48, 40, 41, 48, 43, 41, 0, 52, 37, 28, 28, 41, 27, 28, 41, 39, 51, 27, 20, 39, 27, 13, 48, 39, 28, 41, 27, 40, 41, 0, 48, 36, 42, 39, 13, 14, 2, 41, 28, 0, 27, 14, 40, 0, 14, 41, 37, 40, 38, 41, 27, 28, 41, 0, 14, 40, 13, 2, 37, 52, 41, 27, 40, 41, 36, 37, 40, 60, 17, 43, 48, 2, 36, 37, 52, 27, 28, 36, 28, 41, 43, 48, 2, 41, 13, 35, 14, 41, 2, 14, 42, 2, 14, 28, 14, 40, 13, 37, 13, 27, 48, 40, 41, 48, 43, 41, 28, 13, 2, 39, 0, 13, 39, 2, 14, 38, 41, 6, 40, 48, 44, 52, 14, 38, 47, 14, 41, 39, 28, 14, 38, 41, 51, 48, 13, 35, 41, 27, 40, 17, 6, 40, 48, 44, 52, 14, 38, 47, 14, 41, 2, 14, 42, 2, 14, 28, 14, 40, 13, 37, 13, 27, 48, 40, 41, 37, 40, 38, 41, 27, 40, 41, 38, 37, 13, 37, 51, 37, 28, 14, 28, 19, 41, 27, 40, 41, 13, 35, 27, 28, 41, 42, 37, 42, 14, 2, 41, 44, 14, 41, 28, 13, 39, 38, 60, 41, 13, 35, 14, 41, 51, 37, 28, 27, 0, 17, 27, 28, 28, 39, 14, 28, 41, 39, 40, 38, 14, 2, 52, 60, 27, 40, 47, 41, 28, 39, 0, 35, 41, 2, 14, 42, 2, 14, 28, 14, 40, 13, 37, 13, 27, 48, 40, 41, 43, 48, 2, 36, 37, 52, 27, 28, 36, 28, 41, 37, 40, 38, 41, 28, 27, 40, 47, 52, 14, 41, 48, 39, 13, 41, 51, 48, 13, 35, 41, 13, 35, 14, 27, 2, 17, 0, 48, 36, 36, 48, 40, 41, 0, 35, 37, 2, 37, 0, 13, 14, 2, 27, 28, 13, 27, 0, 28, 41, 37, 40, 38, 41, 13, 35, 14, 27, 2, 41, 38, 27, 28, 13, 27, 40, 47, 39, 27, 28, 35, 27, 40, 47, 41, 43, 14, 37, 13, 39, 2, 14, 28, 19, 41, 28, 39, 0, 35, 41, 27, 40, 15, 14, 28, 13, 27, 47, 37, 13, 27, 48, 40, 17, 52, 14, 37, 38, 28, 41, 39, 28, 41, 13, 48, 41, 42, 2, 48, 42, 48, 28, 14, 41, 37, 41, 39, 40, 27, 43, 60, 27, 40, 47, 41, 43, 2, 37, 36, 14, 44, 48, 2, 6, 41, 27, 40, 41, 44, 35, 27, 0, 35, 41, 44, 14, 41, 37, 2, 14, 41, 37, 51, 52, 14, 41, 13, 48, 41, 0, 37, 42, 13, 39, 2, 14, 41, 13, 35, 14, 17, 43, 39, 40, 38, 37, 36, 14, 40, 13, 37, 52, 41, 37, 28, 42, 14, 0, 13, 28, 41, 48, 43, 41, 28, 14, 15, 14, 2, 37, 52, 41, 2, 14, 42, 2, 14, 28, 14, 40, 13, 37, 13, 27, 48, 40, 41, 52, 37, 40, 47, 39, 37, 47, 14, 28, 41, 39, 28, 14, 38, 41, 27, 40, 41, 38, 27, 43, 43, 14, 2, 14, 40, 13, 17, 0, 48, 40, 13, 14, 16, 13, 28, 19, 41, 13, 35, 14, 41, 42, 2, 48, 42, 48, 28, 14, 38, 41, 43, 48, 2, 36, 37, 52, 27, 28, 36, 41, 27, 28, 41, 14, 16, 42, 2, 14, 28, 28, 14, 38, 41, 27, 40, 41, 13, 35, 14, 41, 28, 13, 60, 52, 14, 41, 48, 43, 41, 38, 14, 28, 0, 2, 27, 42, 13, 27, 48, 40, 17, 52, 48, 47, 27, 0, 28, 56, 41, 44, 35, 27, 0, 35, 41, 35, 37, 15, 14, 41, 51, 14, 14, 40, 41, 27, 40, 13, 2, 48, 38, 39, 0, 14, 38, 41, 27, 40, 41, 6, 40, 48, 44, 52, 14, 38, 47, 14, 41, 2, 14, 42, 2, 14, 28, 14, 40, 13, 37, 13, 27, 48, 40, 41, 37, 28, 41, 37, 41, 36, 14, 37, 40, 28, 41, 13, 48, 17, 42, 2, 48, 15, 27, 38, 14, 41, 37, 41, 28, 14, 36, 37, 40, 13, 27, 0, 37, 52, 52, 60, 41, 44, 14, 52, 52, 4, 43, 48, 39, 40, 38, 14, 38, 41, 51, 37, 28, 27, 28, 41, 43, 48, 2, 41, 13, 35, 14, 41, 28, 13, 2, 39, 0, 13, 39, 2, 37, 52, 41, 37, 28, 42, 14, 0, 13, 28, 41, 48, 43, 17, 6, 40, 48, 44, 52, 14, 38, 47, 14, 41, 2, 14, 42, 2, 14, 28, 14, 40, 13, 37, 13, 27, 48, 40, 41, 28, 60, 28, 13, 14, 36, 28, 19, 41, 13, 35, 14, 41, 38, 14, 28, 0, 2, 27, 42, 13, 27, 48, 40, 41, 52, 48, 47, 27, 0, 41, 0, 48, 40, 28, 27, 38, 14, 2, 14, 38, 41, 27, 40, 41, 13, 35, 27, 28, 17, 42, 37, 42, 14, 2, 41, 27, 28, 41, 37, 41, 28, 39, 51, 28, 14, 13, 41, 48, 43, 41, 43, 27, 2, 28, 13, 41, 48, 2, 38, 14, 2, 41, 52, 48, 47, 27, 0, 41, 44, 27, 13, 35, 41, 40, 27, 0, 14, 41, 0, 48, 36, 42, 39, 13, 37, 13, 27, 48, 40, 37, 52, 41, 0, 35, 37, 2, 37, 0, 13, 14, 2, 27, 28, 13, 27, 0, 28, 19, 17, 27, 13, 41, 27, 28, 41, 20, 39, 27, 13, 14, 41, 14, 16, 42, 2, 14, 28, 28, 27, 15, 14, 41, 37, 40, 38, 41, 43, 14, 37, 13, 39, 2, 14, 28, 41, 37, 41, 40, 48, 15, 14, 52, 41, 0, 48, 36]\n"
          ]
        }
      ],
      "source": [
        "# Tokenización del texto completo: cada carácter del corpus se convierte en su índice correspondiente según el diccionario `char2idx`\n",
        "tokenized_text = [char2idx[ch] for ch in article_text]\n",
        "\n",
        "# Visualización de los primeros 1000 caracteres tokenizados\n",
        "print(tokenized_text[:1000])\n"
      ]
    },
    {
      "cell_type": "markdown",
      "metadata": {},
      "source": [
        "Se obervan los primeros 1000 caracteres tokenizados en valores de índice del diccionario."
      ]
    },
    {
      "cell_type": "markdown",
      "metadata": {},
      "source": [
        "### División del dataset y creación de secuencias\n",
        "Una vez completado el proceso de tokenización, el corpus numérico se dividió y estructuró para su uso en el entrenamiento y validación de cada modelo evaluado."
      ]
    },
    {
      "cell_type": "markdown",
      "metadata": {},
      "source": [
        "#### División del corpus\n",
        "Para preparar los datos para el entrenamiento y la validación, el texto tokenizado se segmentó en dos subconjuntos. El 10% final del corpus se reservó para el conjunto de validación, mientras que el 90% restante se destinó al conjunto de entrenamiento. Por lo tanto, esto asegura que el modelo sea evaluado con datos que no ha visto durante el entrenamiento, proporcionando una medida objetiva de su capacidad de generalización."
      ]
    },
    {
      "cell_type": "code",
      "execution_count": 170,
      "metadata": {},
      "outputs": [],
      "source": [
        "import numpy as np\n",
        "# Separación del dataset en entrenamiento y validación.\n",
        "# Definición de la proporción del corpus que será reservada para validación\n",
        "p_val = 0.1\n",
        "\n",
        "# Cálculo del número de secuencias de longitud `max_context_size` destinadas a validación\n",
        "num_val = int(np.ceil(len(tokenized_text) * p_val / max_context_size))\n",
        "\n",
        "# División del corpus tokenizado en conjunto de entrenamiento y validación\n",
        "# La parte final del corpus se reserva para validación; el resto se usa para entrenamiento\n",
        "train_text = tokenized_text[:-num_val * max_context_size]\n",
        "val_text = tokenized_text[-num_val * max_context_size:]\n"
      ]
    },
    {
      "cell_type": "markdown",
      "metadata": {},
      "source": [
        "#### Generación de las secuencias\n",
        "Las secuencias de entrada y salida fueron generadas para entrenar modelos de lenguaje de carácter a carácter. Según el propósito (entrenamiento o validación) fue la  estrategia aplicada en la creación de secuencias:\n",
        "\n",
        "* Secuencias de entrenamiento (con superposición):\n",
        "A partir del conjunto de entrenamiento, se utilizó una ventana deslizante con *stride = 1*, es decir, la ventana se muevió un carácter a la vez. Esto genera un gran número de secuencias altamente superpuestas, lo que permite al modelo ver múltiples contextos similares y mejorar su capacidad de generalización.\n",
        "\n",
        "* Secuencias de validación (sin superposición):\n",
        "Se generaron bloques consecutivos de longitud fija (*max_context_size*) a partir del conjunto de validación. Por lo tanto, cada bloque fue independiente, no hubo superposición entre ellos. Esta estructura es adecuada para evaluar el modelo de forma ordenada y sin redundancias durante el cálculo de métricas como la Perplejidad.\n",
        "\n",
        "* Construcción de *X* e *y*:\n",
        "Para cada secuencia de entrada *X[i]*, se asigna como salida esperada la siguiente secuencia *X[i+1]*. Esto permite que el modelo aprenda a predecir el siguiente carácter en una secuencia paso a paso, lo que se conoce como un enfoque many-to-many.\n",
        "\n",
        "* Ejemplo:\n",
        "Si *X[0] = [a, b, c]*, entonces *y[0] = [b, c, d]*."
      ]
    },
    {
      "cell_type": "code",
      "execution_count": 176,
      "metadata": {},
      "outputs": [
        {
          "name": "stdout",
          "output_type": "stream",
          "text": [
            "\n",
            "      Dimensión de X: (194674, 100) y sus primeras 5 secuencias y 5 tokens:\n",
            "      [[39 40 27 43 60]\n",
            " [40 27 43 60 27]\n",
            " [27 43 60 27 40]\n",
            " [43 60 27 40 47]\n",
            " [60 27 40 47 41]],\n",
            "\n",
            "      Dimension de y: (194674, 100) y sus primeras 5 secuencias y 5 tokens:\n",
            "      [[40 27 43 60 27]\n",
            " [27 43 60 27 40]\n",
            " [43 60 27 40 47]\n",
            " [60 27 40 47 41]\n",
            " [27 40 47 41  0]]\n",
            "\n",
            "      Tamaño del vocabulario: 68\n",
            "\n"
          ]
        }
      ],
      "source": [
        "# Generación de las secuencias de entrenamiento con una ventana deslizante (stride = 1)\n",
        "tokenized_sentences_train = [\n",
        "    train_text[init : init + max_context_size]\n",
        "    for init in range(len(train_text) - max_context_size + 1)\n",
        "]\n",
        "\n",
        "# Generación de las secuencias de validación (sin superposición): bloques consecutivos de `max_context_size` caracteres\n",
        "tokenized_sentences_val = [\n",
        "    val_text[init * max_context_size : init * (max_context_size + 1)]\n",
        "    for init in range(num_val)\n",
        "]\n",
        "\n",
        "# Construcción de los arrays de entrada (X) y salida (y) para entrenamiento supervisado\n",
        "# Cada entrada X[i] se asocia con la siguiente secuencia de entrada X[i+1], que actúa como salida esperada\n",
        "X = np.array(tokenized_sentences_train[:-1])\n",
        "y = np.array(tokenized_sentences_train[1:])\n",
        "\n",
        "print(f'''\n",
        "      Dimensión de X: {X.shape} y sus primeras 5 secuencias y 5 tokens:\n",
        "      {X[:5,:5]},\n",
        "      \n",
        "      Dimension de y: {y.shape} y sus primeras 5 secuencias y 5 tokens:\n",
        "      {y[:5,:5]}\n",
        "      \n",
        "      Tamaño del vocabulario: {vocab_size}\n",
        "''')\n"
      ]
    },
    {
      "cell_type": "markdown",
      "metadata": {},
      "source": [
        "Se estructuró el problema de aprendizaje siguiendo un esquema *many-to-many*.\n",
        "\n",
        "La entrada fue definida como una secuencia de tokens [$x_0$, $x_1$, ..., $x_N$], mientras que la salida objetivo correspondió a la misma secuencia desplazada una posición hacia adelante: [$x_1$, $x_2$, ..., $x_{N+1}$]. De este modo, se requería que la red aprendiera a predecir el carácter siguiente en cada paso temporal.\n",
        "\n",
        "Al estructurarse el aprendizaje de esta forma, se permitió que una señal de gradiente se propagara en cada paso de la secuencia a lo largo del grafo de cómputo recurrente, lo cual resultó más eficiente que un enfoque many-to-one, en el que solo una única señal de error se propaga.\n",
        "\n",
        "En esta etapa, las secuencias fueron tokenizadas y almacenadas en la variable *tokenized_sentences*. A partir de ellas, se extrajo un subconjunto que fue utilizado como conjunto de validación, con el fin de evaluar la calidad de las secuencias generadas mediante la métrica de Perplejidad."
      ]
    },
    {
      "cell_type": "markdown",
      "metadata": {},
      "source": [
        "## 3. Diseño del modelo:\n",
        "Se implementaron y evaluaron tres arquitecturas recurrentes clásicas para modelado de lenguaje carácter a carácter: *SimpleRNN*, *LSTM* y *GRU*. Estas variantes permiten comparar el desempeño de diferentes mecanismos de memoria y control secuencial sobre el mismo conjunto de datos y tareas.\n",
        "\n",
        "El modelo propuesto consume directamente índices enteros correspondientes a caracteres tokenizados, sin emplear una capa de embedding entrenable. En su lugar, la representación vectorial de cada carácter se realiza mediante codificación *one-hot* (OHE), aplicada a cada paso temporal de la secuencia.\n",
        "\n",
        "Esta transformación se implementó combinando las siguientes capas de *Keras*:\n",
        "\n",
        "- **CategoryEncoding:** transforma los índices enteros en vectores one-hot de dimensión igual al tamaño del vocabulario de caracteres.\n",
        "\n",
        "- **TimeDistributed:** permite aplicar la codificación *one-hot* a cada paso temporal de la secuencia, preservando así la estructura secuencial del *input*.\n",
        "\n",
        "Este diseño permite que la red procese la información carácter por carácter manteniendo la semántica temporal, sin incorporar una capa de embedding explícita."
      ]
    },
    {
      "cell_type": "code",
      "execution_count": 177,
      "metadata": {},
      "outputs": [],
      "source": [
        "# **Hiperparámetros de los modelos\n",
        "VOCAB_SIZE = vocab_size\n",
        "SEQUENCE_LENGTH = max_context_size\n",
        "EMBEDDING_DIM = 50\n",
        "RNN_UNITS = 64\n",
        "DROPOUT_RATE = 0.3\n",
        "PROJECTION_DIM = 32  # Es para GRU\n",
        "ACTIVATION = 'relu'\n",
        "OPTIMIZER_NAME = 'rmsprop'\n",
        "LEARNING_RATE = 0.001\n",
        "\n"
      ]
    },
    {
      "cell_type": "markdown",
      "metadata": {},
      "source": [
        "#### Arquitectura de la RNN simple"
      ]
    },
    {
      "cell_type": "code",
      "execution_count": 178,
      "metadata": {},
      "outputs": [
        {
          "name": "stderr",
          "output_type": "stream",
          "text": [
            "/home/adrian/miniconda3/envs/tf_minimal_env/lib/python3.11/site-packages/keras/src/layers/core/wrapper.py:27: UserWarning: Do not pass an `input_shape`/`input_dim` argument to a layer. When using Sequential models, prefer using an `Input(shape)` object as the first layer in the model instead.\n",
            "  super().__init__(**kwargs)\n"
          ]
        },
        {
          "data": {
            "text/html": [
              "<pre style=\"white-space:pre;overflow-x:auto;line-height:normal;font-family:Menlo,'DejaVu Sans Mono',consolas,'Courier New',monospace\"><span style=\"font-weight: bold\">Model: \"sequential_3\"</span>\n",
              "</pre>\n"
            ],
            "text/plain": [
              "\u001b[1mModel: \"sequential_3\"\u001b[0m\n"
            ]
          },
          "metadata": {},
          "output_type": "display_data"
        },
        {
          "data": {
            "text/html": [
              "<pre style=\"white-space:pre;overflow-x:auto;line-height:normal;font-family:Menlo,'DejaVu Sans Mono',consolas,'Courier New',monospace\">┏━━━━━━━━━━━━━━━━━━━━━━━━━━━━━━━━━┳━━━━━━━━━━━━━━━━━━━━━━━━┳━━━━━━━━━━━━━━━┓\n",
              "┃<span style=\"font-weight: bold\"> Layer (type)                    </span>┃<span style=\"font-weight: bold\"> Output Shape           </span>┃<span style=\"font-weight: bold\">       Param # </span>┃\n",
              "┡━━━━━━━━━━━━━━━━━━━━━━━━━━━━━━━━━╇━━━━━━━━━━━━━━━━━━━━━━━━╇━━━━━━━━━━━━━━━┩\n",
              "│ time_distributed_1              │ (<span style=\"color: #00d7ff; text-decoration-color: #00d7ff\">None</span>, <span style=\"color: #00af00; text-decoration-color: #00af00\">100</span>, <span style=\"color: #00af00; text-decoration-color: #00af00\">68</span>)        │             <span style=\"color: #00af00; text-decoration-color: #00af00\">0</span> │\n",
              "│ (<span style=\"color: #0087ff; text-decoration-color: #0087ff\">TimeDistributed</span>)               │                        │               │\n",
              "├─────────────────────────────────┼────────────────────────┼───────────────┤\n",
              "│ simple_rnn_1 (<span style=\"color: #0087ff; text-decoration-color: #0087ff\">SimpleRNN</span>)        │ (<span style=\"color: #00d7ff; text-decoration-color: #00d7ff\">None</span>, <span style=\"color: #00af00; text-decoration-color: #00af00\">100</span>, <span style=\"color: #00af00; text-decoration-color: #00af00\">64</span>)        │         <span style=\"color: #00af00; text-decoration-color: #00af00\">8,512</span> │\n",
              "├─────────────────────────────────┼────────────────────────┼───────────────┤\n",
              "│ dense_5 (<span style=\"color: #0087ff; text-decoration-color: #0087ff\">Dense</span>)                 │ (<span style=\"color: #00d7ff; text-decoration-color: #00d7ff\">None</span>, <span style=\"color: #00af00; text-decoration-color: #00af00\">100</span>, <span style=\"color: #00af00; text-decoration-color: #00af00\">68</span>)        │         <span style=\"color: #00af00; text-decoration-color: #00af00\">4,420</span> │\n",
              "└─────────────────────────────────┴────────────────────────┴───────────────┘\n",
              "</pre>\n"
            ],
            "text/plain": [
              "┏━━━━━━━━━━━━━━━━━━━━━━━━━━━━━━━━━┳━━━━━━━━━━━━━━━━━━━━━━━━┳━━━━━━━━━━━━━━━┓\n",
              "┃\u001b[1m \u001b[0m\u001b[1mLayer (type)                   \u001b[0m\u001b[1m \u001b[0m┃\u001b[1m \u001b[0m\u001b[1mOutput Shape          \u001b[0m\u001b[1m \u001b[0m┃\u001b[1m \u001b[0m\u001b[1m      Param #\u001b[0m\u001b[1m \u001b[0m┃\n",
              "┡━━━━━━━━━━━━━━━━━━━━━━━━━━━━━━━━━╇━━━━━━━━━━━━━━━━━━━━━━━━╇━━━━━━━━━━━━━━━┩\n",
              "│ time_distributed_1              │ (\u001b[38;5;45mNone\u001b[0m, \u001b[38;5;34m100\u001b[0m, \u001b[38;5;34m68\u001b[0m)        │             \u001b[38;5;34m0\u001b[0m │\n",
              "│ (\u001b[38;5;33mTimeDistributed\u001b[0m)               │                        │               │\n",
              "├─────────────────────────────────┼────────────────────────┼───────────────┤\n",
              "│ simple_rnn_1 (\u001b[38;5;33mSimpleRNN\u001b[0m)        │ (\u001b[38;5;45mNone\u001b[0m, \u001b[38;5;34m100\u001b[0m, \u001b[38;5;34m64\u001b[0m)        │         \u001b[38;5;34m8,512\u001b[0m │\n",
              "├─────────────────────────────────┼────────────────────────┼───────────────┤\n",
              "│ dense_5 (\u001b[38;5;33mDense\u001b[0m)                 │ (\u001b[38;5;45mNone\u001b[0m, \u001b[38;5;34m100\u001b[0m, \u001b[38;5;34m68\u001b[0m)        │         \u001b[38;5;34m4,420\u001b[0m │\n",
              "└─────────────────────────────────┴────────────────────────┴───────────────┘\n"
            ]
          },
          "metadata": {},
          "output_type": "display_data"
        },
        {
          "data": {
            "text/html": [
              "<pre style=\"white-space:pre;overflow-x:auto;line-height:normal;font-family:Menlo,'DejaVu Sans Mono',consolas,'Courier New',monospace\"><span style=\"font-weight: bold\"> Total params: </span><span style=\"color: #00af00; text-decoration-color: #00af00\">12,932</span> (50.52 KB)\n",
              "</pre>\n"
            ],
            "text/plain": [
              "\u001b[1m Total params: \u001b[0m\u001b[38;5;34m12,932\u001b[0m (50.52 KB)\n"
            ]
          },
          "metadata": {},
          "output_type": "display_data"
        },
        {
          "data": {
            "text/html": [
              "<pre style=\"white-space:pre;overflow-x:auto;line-height:normal;font-family:Menlo,'DejaVu Sans Mono',consolas,'Courier New',monospace\"><span style=\"font-weight: bold\"> Trainable params: </span><span style=\"color: #00af00; text-decoration-color: #00af00\">12,932</span> (50.52 KB)\n",
              "</pre>\n"
            ],
            "text/plain": [
              "\u001b[1m Trainable params: \u001b[0m\u001b[38;5;34m12,932\u001b[0m (50.52 KB)\n"
            ]
          },
          "metadata": {},
          "output_type": "display_data"
        },
        {
          "data": {
            "text/html": [
              "<pre style=\"white-space:pre;overflow-x:auto;line-height:normal;font-family:Menlo,'DejaVu Sans Mono',consolas,'Courier New',monospace\"><span style=\"font-weight: bold\"> Non-trainable params: </span><span style=\"color: #00af00; text-decoration-color: #00af00\">0</span> (0.00 B)\n",
              "</pre>\n"
            ],
            "text/plain": [
              "\u001b[1m Non-trainable params: \u001b[0m\u001b[38;5;34m0\u001b[0m (0.00 B)\n"
            ]
          },
          "metadata": {},
          "output_type": "display_data"
        }
      ],
      "source": [
        "from src.architectures import SimpleRNNModel\n",
        "\n",
        "simple_rnn_model = SimpleRNNModel(\n",
        "    vocab_size=VOCAB_SIZE,\n",
        "    sequence_length=SEQUENCE_LENGTH,\n",
        "    rnn_units=RNN_UNITS,\n",
        "    dropout_rate=DROPOUT_RATE,\n",
        "    optimizer_name=OPTIMIZER_NAME,\n",
        "    learning_rate=LEARNING_RATE\n",
        ")\n",
        "simple_rnn_model.build()\n",
        "simple_rnn_model.summary()\n"
      ]
    },
    {
      "cell_type": "markdown",
      "metadata": {},
      "source": [
        "#### Arquitectura de la GRU"
      ]
    },
    {
      "cell_type": "code",
      "execution_count": 179,
      "metadata": {},
      "outputs": [
        {
          "name": "stderr",
          "output_type": "stream",
          "text": [
            "/home/adrian/miniconda3/envs/tf_minimal_env/lib/python3.11/site-packages/keras/src/layers/core/embedding.py:100: UserWarning: Do not pass an `input_shape`/`input_dim` argument to a layer. When using Sequential models, prefer using an `Input(shape)` object as the first layer in the model instead.\n",
            "  super().__init__(**kwargs)\n"
          ]
        },
        {
          "data": {
            "text/html": [
              "<pre style=\"white-space:pre;overflow-x:auto;line-height:normal;font-family:Menlo,'DejaVu Sans Mono',consolas,'Courier New',monospace\"><span style=\"font-weight: bold\">Model: \"sequential_4\"</span>\n",
              "</pre>\n"
            ],
            "text/plain": [
              "\u001b[1mModel: \"sequential_4\"\u001b[0m\n"
            ]
          },
          "metadata": {},
          "output_type": "display_data"
        },
        {
          "data": {
            "text/html": [
              "<pre style=\"white-space:pre;overflow-x:auto;line-height:normal;font-family:Menlo,'DejaVu Sans Mono',consolas,'Courier New',monospace\">┏━━━━━━━━━━━━━━━━━━━━━━━━━━━━━━━━━┳━━━━━━━━━━━━━━━━━━━━━━━━┳━━━━━━━━━━━━━━━┓\n",
              "┃<span style=\"font-weight: bold\"> Layer (type)                    </span>┃<span style=\"font-weight: bold\"> Output Shape           </span>┃<span style=\"font-weight: bold\">       Param # </span>┃\n",
              "┡━━━━━━━━━━━━━━━━━━━━━━━━━━━━━━━━━╇━━━━━━━━━━━━━━━━━━━━━━━━╇━━━━━━━━━━━━━━━┩\n",
              "│ embedding_2 (<span style=\"color: #0087ff; text-decoration-color: #0087ff\">Embedding</span>)         │ (<span style=\"color: #00d7ff; text-decoration-color: #00d7ff\">None</span>, <span style=\"color: #00af00; text-decoration-color: #00af00\">100</span>, <span style=\"color: #00af00; text-decoration-color: #00af00\">50</span>)        │         <span style=\"color: #00af00; text-decoration-color: #00af00\">3,450</span> │\n",
              "├─────────────────────────────────┼────────────────────────┼───────────────┤\n",
              "│ gru_2 (<span style=\"color: #0087ff; text-decoration-color: #0087ff\">GRU</span>)                     │ (<span style=\"color: #00d7ff; text-decoration-color: #00d7ff\">None</span>, <span style=\"color: #00af00; text-decoration-color: #00af00\">100</span>, <span style=\"color: #00af00; text-decoration-color: #00af00\">64</span>)        │        <span style=\"color: #00af00; text-decoration-color: #00af00\">22,272</span> │\n",
              "├─────────────────────────────────┼────────────────────────┼───────────────┤\n",
              "│ gru_3 (<span style=\"color: #0087ff; text-decoration-color: #0087ff\">GRU</span>)                     │ (<span style=\"color: #00d7ff; text-decoration-color: #00d7ff\">None</span>, <span style=\"color: #00af00; text-decoration-color: #00af00\">100</span>, <span style=\"color: #00af00; text-decoration-color: #00af00\">64</span>)        │        <span style=\"color: #00af00; text-decoration-color: #00af00\">24,960</span> │\n",
              "├─────────────────────────────────┼────────────────────────┼───────────────┤\n",
              "│ dense_6 (<span style=\"color: #0087ff; text-decoration-color: #0087ff\">Dense</span>)                 │ (<span style=\"color: #00d7ff; text-decoration-color: #00d7ff\">None</span>, <span style=\"color: #00af00; text-decoration-color: #00af00\">100</span>, <span style=\"color: #00af00; text-decoration-color: #00af00\">32</span>)        │         <span style=\"color: #00af00; text-decoration-color: #00af00\">2,080</span> │\n",
              "├─────────────────────────────────┼────────────────────────┼───────────────┤\n",
              "│ dense_7 (<span style=\"color: #0087ff; text-decoration-color: #0087ff\">Dense</span>)                 │ (<span style=\"color: #00d7ff; text-decoration-color: #00d7ff\">None</span>, <span style=\"color: #00af00; text-decoration-color: #00af00\">100</span>, <span style=\"color: #00af00; text-decoration-color: #00af00\">69</span>)        │         <span style=\"color: #00af00; text-decoration-color: #00af00\">2,277</span> │\n",
              "└─────────────────────────────────┴────────────────────────┴───────────────┘\n",
              "</pre>\n"
            ],
            "text/plain": [
              "┏━━━━━━━━━━━━━━━━━━━━━━━━━━━━━━━━━┳━━━━━━━━━━━━━━━━━━━━━━━━┳━━━━━━━━━━━━━━━┓\n",
              "┃\u001b[1m \u001b[0m\u001b[1mLayer (type)                   \u001b[0m\u001b[1m \u001b[0m┃\u001b[1m \u001b[0m\u001b[1mOutput Shape          \u001b[0m\u001b[1m \u001b[0m┃\u001b[1m \u001b[0m\u001b[1m      Param #\u001b[0m\u001b[1m \u001b[0m┃\n",
              "┡━━━━━━━━━━━━━━━━━━━━━━━━━━━━━━━━━╇━━━━━━━━━━━━━━━━━━━━━━━━╇━━━━━━━━━━━━━━━┩\n",
              "│ embedding_2 (\u001b[38;5;33mEmbedding\u001b[0m)         │ (\u001b[38;5;45mNone\u001b[0m, \u001b[38;5;34m100\u001b[0m, \u001b[38;5;34m50\u001b[0m)        │         \u001b[38;5;34m3,450\u001b[0m │\n",
              "├─────────────────────────────────┼────────────────────────┼───────────────┤\n",
              "│ gru_2 (\u001b[38;5;33mGRU\u001b[0m)                     │ (\u001b[38;5;45mNone\u001b[0m, \u001b[38;5;34m100\u001b[0m, \u001b[38;5;34m64\u001b[0m)        │        \u001b[38;5;34m22,272\u001b[0m │\n",
              "├─────────────────────────────────┼────────────────────────┼───────────────┤\n",
              "│ gru_3 (\u001b[38;5;33mGRU\u001b[0m)                     │ (\u001b[38;5;45mNone\u001b[0m, \u001b[38;5;34m100\u001b[0m, \u001b[38;5;34m64\u001b[0m)        │        \u001b[38;5;34m24,960\u001b[0m │\n",
              "├─────────────────────────────────┼────────────────────────┼───────────────┤\n",
              "│ dense_6 (\u001b[38;5;33mDense\u001b[0m)                 │ (\u001b[38;5;45mNone\u001b[0m, \u001b[38;5;34m100\u001b[0m, \u001b[38;5;34m32\u001b[0m)        │         \u001b[38;5;34m2,080\u001b[0m │\n",
              "├─────────────────────────────────┼────────────────────────┼───────────────┤\n",
              "│ dense_7 (\u001b[38;5;33mDense\u001b[0m)                 │ (\u001b[38;5;45mNone\u001b[0m, \u001b[38;5;34m100\u001b[0m, \u001b[38;5;34m69\u001b[0m)        │         \u001b[38;5;34m2,277\u001b[0m │\n",
              "└─────────────────────────────────┴────────────────────────┴───────────────┘\n"
            ]
          },
          "metadata": {},
          "output_type": "display_data"
        },
        {
          "data": {
            "text/html": [
              "<pre style=\"white-space:pre;overflow-x:auto;line-height:normal;font-family:Menlo,'DejaVu Sans Mono',consolas,'Courier New',monospace\"><span style=\"font-weight: bold\"> Total params: </span><span style=\"color: #00af00; text-decoration-color: #00af00\">55,039</span> (215.00 KB)\n",
              "</pre>\n"
            ],
            "text/plain": [
              "\u001b[1m Total params: \u001b[0m\u001b[38;5;34m55,039\u001b[0m (215.00 KB)\n"
            ]
          },
          "metadata": {},
          "output_type": "display_data"
        },
        {
          "data": {
            "text/html": [
              "<pre style=\"white-space:pre;overflow-x:auto;line-height:normal;font-family:Menlo,'DejaVu Sans Mono',consolas,'Courier New',monospace\"><span style=\"font-weight: bold\"> Trainable params: </span><span style=\"color: #00af00; text-decoration-color: #00af00\">55,039</span> (215.00 KB)\n",
              "</pre>\n"
            ],
            "text/plain": [
              "\u001b[1m Trainable params: \u001b[0m\u001b[38;5;34m55,039\u001b[0m (215.00 KB)\n"
            ]
          },
          "metadata": {},
          "output_type": "display_data"
        },
        {
          "data": {
            "text/html": [
              "<pre style=\"white-space:pre;overflow-x:auto;line-height:normal;font-family:Menlo,'DejaVu Sans Mono',consolas,'Courier New',monospace\"><span style=\"font-weight: bold\"> Non-trainable params: </span><span style=\"color: #00af00; text-decoration-color: #00af00\">0</span> (0.00 B)\n",
              "</pre>\n"
            ],
            "text/plain": [
              "\u001b[1m Non-trainable params: \u001b[0m\u001b[38;5;34m0\u001b[0m (0.00 B)\n"
            ]
          },
          "metadata": {},
          "output_type": "display_data"
        }
      ],
      "source": [
        "from src.architectures import GRUModel\n",
        "\n",
        "gru_model = GRUModel(\n",
        "    vocab_size=VOCAB_SIZE,\n",
        "    sequence_length=SEQUENCE_LENGTH,\n",
        "    embedding_dim=EMBEDDING_DIM,\n",
        "    rnn_units=RNN_UNITS,\n",
        "    dropout_rate=DROPOUT_RATE,\n",
        "    projection_dim=PROJECTION_DIM,\n",
        "    optimizer_name=OPTIMIZER_NAME,\n",
        "    learning_rate=LEARNING_RATE\n",
        ")\n",
        "gru_model.build()\n",
        "gru_model.summary()"
      ]
    },
    {
      "cell_type": "markdown",
      "metadata": {},
      "source": [
        "#### Arquitectura de la LSTM"
      ]
    },
    {
      "cell_type": "code",
      "execution_count": 180,
      "metadata": {},
      "outputs": [
        {
          "data": {
            "text/html": [
              "<pre style=\"white-space:pre;overflow-x:auto;line-height:normal;font-family:Menlo,'DejaVu Sans Mono',consolas,'Courier New',monospace\"><span style=\"font-weight: bold\">Model: \"sequential_5\"</span>\n",
              "</pre>\n"
            ],
            "text/plain": [
              "\u001b[1mModel: \"sequential_5\"\u001b[0m\n"
            ]
          },
          "metadata": {},
          "output_type": "display_data"
        },
        {
          "data": {
            "text/html": [
              "<pre style=\"white-space:pre;overflow-x:auto;line-height:normal;font-family:Menlo,'DejaVu Sans Mono',consolas,'Courier New',monospace\">┏━━━━━━━━━━━━━━━━━━━━━━━━━━━━━━━━━┳━━━━━━━━━━━━━━━━━━━━━━━━┳━━━━━━━━━━━━━━━┓\n",
              "┃<span style=\"font-weight: bold\"> Layer (type)                    </span>┃<span style=\"font-weight: bold\"> Output Shape           </span>┃<span style=\"font-weight: bold\">       Param # </span>┃\n",
              "┡━━━━━━━━━━━━━━━━━━━━━━━━━━━━━━━━━╇━━━━━━━━━━━━━━━━━━━━━━━━╇━━━━━━━━━━━━━━━┩\n",
              "│ embedding_3 (<span style=\"color: #0087ff; text-decoration-color: #0087ff\">Embedding</span>)         │ (<span style=\"color: #00d7ff; text-decoration-color: #00d7ff\">None</span>, <span style=\"color: #00af00; text-decoration-color: #00af00\">100</span>, <span style=\"color: #00af00; text-decoration-color: #00af00\">50</span>)        │         <span style=\"color: #00af00; text-decoration-color: #00af00\">3,450</span> │\n",
              "├─────────────────────────────────┼────────────────────────┼───────────────┤\n",
              "│ lstm_2 (<span style=\"color: #0087ff; text-decoration-color: #0087ff\">LSTM</span>)                   │ (<span style=\"color: #00d7ff; text-decoration-color: #00d7ff\">None</span>, <span style=\"color: #00af00; text-decoration-color: #00af00\">100</span>, <span style=\"color: #00af00; text-decoration-color: #00af00\">64</span>)        │        <span style=\"color: #00af00; text-decoration-color: #00af00\">29,440</span> │\n",
              "├─────────────────────────────────┼────────────────────────┼───────────────┤\n",
              "│ dropout_1 (<span style=\"color: #0087ff; text-decoration-color: #0087ff\">Dropout</span>)             │ (<span style=\"color: #00d7ff; text-decoration-color: #00d7ff\">None</span>, <span style=\"color: #00af00; text-decoration-color: #00af00\">100</span>, <span style=\"color: #00af00; text-decoration-color: #00af00\">64</span>)        │             <span style=\"color: #00af00; text-decoration-color: #00af00\">0</span> │\n",
              "├─────────────────────────────────┼────────────────────────┼───────────────┤\n",
              "│ lstm_3 (<span style=\"color: #0087ff; text-decoration-color: #0087ff\">LSTM</span>)                   │ (<span style=\"color: #00d7ff; text-decoration-color: #00d7ff\">None</span>, <span style=\"color: #00af00; text-decoration-color: #00af00\">100</span>, <span style=\"color: #00af00; text-decoration-color: #00af00\">64</span>)        │        <span style=\"color: #00af00; text-decoration-color: #00af00\">33,024</span> │\n",
              "├─────────────────────────────────┼────────────────────────┼───────────────┤\n",
              "│ dense_8 (<span style=\"color: #0087ff; text-decoration-color: #0087ff\">Dense</span>)                 │ (<span style=\"color: #00d7ff; text-decoration-color: #00d7ff\">None</span>, <span style=\"color: #00af00; text-decoration-color: #00af00\">100</span>, <span style=\"color: #00af00; text-decoration-color: #00af00\">32</span>)        │         <span style=\"color: #00af00; text-decoration-color: #00af00\">2,080</span> │\n",
              "├─────────────────────────────────┼────────────────────────┼───────────────┤\n",
              "│ dense_9 (<span style=\"color: #0087ff; text-decoration-color: #0087ff\">Dense</span>)                 │ (<span style=\"color: #00d7ff; text-decoration-color: #00d7ff\">None</span>, <span style=\"color: #00af00; text-decoration-color: #00af00\">100</span>, <span style=\"color: #00af00; text-decoration-color: #00af00\">69</span>)        │         <span style=\"color: #00af00; text-decoration-color: #00af00\">2,277</span> │\n",
              "└─────────────────────────────────┴────────────────────────┴───────────────┘\n",
              "</pre>\n"
            ],
            "text/plain": [
              "┏━━━━━━━━━━━━━━━━━━━━━━━━━━━━━━━━━┳━━━━━━━━━━━━━━━━━━━━━━━━┳━━━━━━━━━━━━━━━┓\n",
              "┃\u001b[1m \u001b[0m\u001b[1mLayer (type)                   \u001b[0m\u001b[1m \u001b[0m┃\u001b[1m \u001b[0m\u001b[1mOutput Shape          \u001b[0m\u001b[1m \u001b[0m┃\u001b[1m \u001b[0m\u001b[1m      Param #\u001b[0m\u001b[1m \u001b[0m┃\n",
              "┡━━━━━━━━━━━━━━━━━━━━━━━━━━━━━━━━━╇━━━━━━━━━━━━━━━━━━━━━━━━╇━━━━━━━━━━━━━━━┩\n",
              "│ embedding_3 (\u001b[38;5;33mEmbedding\u001b[0m)         │ (\u001b[38;5;45mNone\u001b[0m, \u001b[38;5;34m100\u001b[0m, \u001b[38;5;34m50\u001b[0m)        │         \u001b[38;5;34m3,450\u001b[0m │\n",
              "├─────────────────────────────────┼────────────────────────┼───────────────┤\n",
              "│ lstm_2 (\u001b[38;5;33mLSTM\u001b[0m)                   │ (\u001b[38;5;45mNone\u001b[0m, \u001b[38;5;34m100\u001b[0m, \u001b[38;5;34m64\u001b[0m)        │        \u001b[38;5;34m29,440\u001b[0m │\n",
              "├─────────────────────────────────┼────────────────────────┼───────────────┤\n",
              "│ dropout_1 (\u001b[38;5;33mDropout\u001b[0m)             │ (\u001b[38;5;45mNone\u001b[0m, \u001b[38;5;34m100\u001b[0m, \u001b[38;5;34m64\u001b[0m)        │             \u001b[38;5;34m0\u001b[0m │\n",
              "├─────────────────────────────────┼────────────────────────┼───────────────┤\n",
              "│ lstm_3 (\u001b[38;5;33mLSTM\u001b[0m)                   │ (\u001b[38;5;45mNone\u001b[0m, \u001b[38;5;34m100\u001b[0m, \u001b[38;5;34m64\u001b[0m)        │        \u001b[38;5;34m33,024\u001b[0m │\n",
              "├─────────────────────────────────┼────────────────────────┼───────────────┤\n",
              "│ dense_8 (\u001b[38;5;33mDense\u001b[0m)                 │ (\u001b[38;5;45mNone\u001b[0m, \u001b[38;5;34m100\u001b[0m, \u001b[38;5;34m32\u001b[0m)        │         \u001b[38;5;34m2,080\u001b[0m │\n",
              "├─────────────────────────────────┼────────────────────────┼───────────────┤\n",
              "│ dense_9 (\u001b[38;5;33mDense\u001b[0m)                 │ (\u001b[38;5;45mNone\u001b[0m, \u001b[38;5;34m100\u001b[0m, \u001b[38;5;34m69\u001b[0m)        │         \u001b[38;5;34m2,277\u001b[0m │\n",
              "└─────────────────────────────────┴────────────────────────┴───────────────┘\n"
            ]
          },
          "metadata": {},
          "output_type": "display_data"
        },
        {
          "data": {
            "text/html": [
              "<pre style=\"white-space:pre;overflow-x:auto;line-height:normal;font-family:Menlo,'DejaVu Sans Mono',consolas,'Courier New',monospace\"><span style=\"font-weight: bold\"> Total params: </span><span style=\"color: #00af00; text-decoration-color: #00af00\">70,271</span> (274.50 KB)\n",
              "</pre>\n"
            ],
            "text/plain": [
              "\u001b[1m Total params: \u001b[0m\u001b[38;5;34m70,271\u001b[0m (274.50 KB)\n"
            ]
          },
          "metadata": {},
          "output_type": "display_data"
        },
        {
          "data": {
            "text/html": [
              "<pre style=\"white-space:pre;overflow-x:auto;line-height:normal;font-family:Menlo,'DejaVu Sans Mono',consolas,'Courier New',monospace\"><span style=\"font-weight: bold\"> Trainable params: </span><span style=\"color: #00af00; text-decoration-color: #00af00\">70,271</span> (274.50 KB)\n",
              "</pre>\n"
            ],
            "text/plain": [
              "\u001b[1m Trainable params: \u001b[0m\u001b[38;5;34m70,271\u001b[0m (274.50 KB)\n"
            ]
          },
          "metadata": {},
          "output_type": "display_data"
        },
        {
          "data": {
            "text/html": [
              "<pre style=\"white-space:pre;overflow-x:auto;line-height:normal;font-family:Menlo,'DejaVu Sans Mono',consolas,'Courier New',monospace\"><span style=\"font-weight: bold\"> Non-trainable params: </span><span style=\"color: #00af00; text-decoration-color: #00af00\">0</span> (0.00 B)\n",
              "</pre>\n"
            ],
            "text/plain": [
              "\u001b[1m Non-trainable params: \u001b[0m\u001b[38;5;34m0\u001b[0m (0.00 B)\n"
            ]
          },
          "metadata": {},
          "output_type": "display_data"
        }
      ],
      "source": [
        "from src.architectures import LSTMModel\n",
        "\n",
        "lstm_model = LSTMModel(\n",
        "    vocab_size=VOCAB_SIZE,\n",
        "    sequence_length=SEQUENCE_LENGTH,\n",
        "    embedding_dim=EMBEDDING_DIM,\n",
        "    rnn_units=RNN_UNITS,\n",
        "    dropout_rate=DROPOUT_RATE,\n",
        "    projection_dim=PROJECTION_DIM,\n",
        "    optimizer_name=OPTIMIZER_NAME,\n",
        "    learning_rate=LEARNING_RATE\n",
        ")\n",
        "lstm_model.build()\n",
        "lstm_model.summary()"
      ]
    },
    {
      "cell_type": "markdown",
      "metadata": {},
      "source": [
        "### Callbacks\n",
        "En *src/PplCallback* fue desarrollado un *Callback ad-hoc* para el cálculo de la perplejidad, funcionando como una herramienta de monitorización y control del entrenamiento. Su diseño fue concebido para abordar las limitaciones de las métricas de pérdida estándar de *Keras* en el modelado de lenguaje. Este *Callback ad-hoc* fue integrado en el bucle de entrenamiento con el fin de proporcionar un seguimiento detallado y una gestión eficiente del proceso de aprendizaje.\n",
        "\n",
        "**Las principales ventajas de esta implementación fueron las siguientes:**\n",
        "\n",
        "Evaluación cuantitativa mediante perplejidad: a diferencia de la pérdida de entropía cruzada, la perplejidad fue utilizada como una medida más intuitiva del rendimiento de un modelo de lenguaje. El *Callback ad-hoc* fue encargado de calcular la perplejidad sobre un conjunto de validación al final de cada época, utilizando la fórmula:\n",
        "\n",
        "$$\n",
        "\\mathrm{PPL}(X) = \\exp\\left( -\\frac{1}{t} \\sum_{i=1}^{t} \\log p_{\\theta}\\left( w_i \\,\\middle|\\, w_{<i} \\right) \\right)\n",
        "$$\n",
        "\n",
        "\n",
        "donde $PPL$ es la perplejidad calculada con la probabilidad de *Cross-entropy* ($p_{\\theta}$) predicha por el modelo para el token objetivo. Esto fue así por cuestiones de estabilidad numérica, ya que conviene operar sobre los logaritmos de las probabilidades. Por lo tanto, este enfoque proporcionó un criterio robusto para evaluar la capacidad de generalización del modelo.\n",
        "\n",
        "**Detención temprana (*Early Stopping*):** una estrategia de *Early Stopping* basada en el monitoreo de la perplejidad fue implementada en el PplCallback. El valor mínimo de perplejidad (*min_score*) fue registrado, y el entrenamiento fue interrumpido de forma anticipada si dicha métrica no mejoraba durante un número predefinido de épocas (*patience*). Esta funcionalidad fue considerada crítica para evitar el sobreajuste (*overfitting*), situación en la cual el modelo comenzaba a memorizar los datos de entrenamiento en detrimento de su capacidad de generalización.\n",
        "\n",
        "**Persistencia del mejor modelo:** el modelo fue guardado automáticamente por el *Callback ad-hoc* cada vez que se observó una nueva perplejidad mínima en los datos de validación. Esta característica aseguró que la versión final del modelo conservada fuera aquella con el mejor desempeño de generalización, lo cual fue fundamental para el análisis de los resultados y la replicabilidad de los hallazgos. El nombre del archivo pudo ser configurado mediante el parámetro *model_name*.\n",
        "\n",
        "**Registro de historial:** el historial de perplejidad fue almacenado en una lista (*history_ppl*), lo que permitió un análisis post-mortem y una visualización clara del proceso de aprendizaje. Esto facilitó la identificación de la época óptima de entrenamiento y la comparación del desempeño entre diferentes arquitecturas de red.\n"
      ]
    },
    {
      "cell_type": "markdown",
      "metadata": {},
      "source": [
        "## 4. Entrenamiento de los modelos"
      ]
    },
    {
      "cell_type": "code",
      "execution_count": 181,
      "metadata": {},
      "outputs": [],
      "source": [
        "from src.callbacks import PplCallback\n",
        "\n",
        "BATCH_SIZE = 256\n",
        "EPOCHS = 50\n",
        "PATIENCE = 3"
      ]
    },
    {
      "cell_type": "code",
      "execution_count": 182,
      "metadata": {},
      "outputs": [
        {
          "name": "stdout",
          "output_type": "stream",
          "text": [
            "[INFO] Forma del conjunto validación: (23089, 100)\n",
            "[INFO] Total de subsecuencias procesadas: 23089\n",
            "[INFO] Longitud máxima de secuencia: 100\n"
          ]
        }
      ],
      "source": [
        "# Entrenamiento del modelo SimpleRNN\n",
        "history_ppl_rnn = []\n",
        "ppl_callback_rnn = PplCallback(\n",
        "    val_data=tokenized_sentences_val,\n",
        "    history_ppl=history_ppl_rnn,\n",
        "    maxlen=SEQUENCE_LENGTH,\n",
        "    model_name='models/simple_rnn_model',\n",
        "    patience=PATIENCE\n",
        ")"
      ]
    },
    {
      "cell_type": "code",
      "execution_count": 183,
      "metadata": {},
      "outputs": [
        {
          "name": "stdout",
          "output_type": "stream",
          "text": [
            "Epoch 1/50\n"
          ]
        },
        {
          "name": "stderr",
          "output_type": "stream",
          "text": [
            "2025-08-09 15:52:09.715545: W tensorflow/compiler/tf2xla/kernels/assert_op.cc:39] Ignoring Assert operator compile_loss/sparse_categorical_crossentropy/SparseSoftmaxCrossEntropyWithLogits/assert_equal_1/Assert/Assert\n",
            "2025-08-09 15:52:10.596545: I external/local_xla/xla/stream_executor/cuda/subprocess_compilation.cc:346] ptxas warning : Registers are spilled to local memory in function 'gemm_fusion_dot_1', 152 bytes spill stores, 152 bytes spill loads\n",
            "\n",
            "2025-08-09 15:52:10.644621: I external/local_xla/xla/stream_executor/cuda/subprocess_compilation.cc:346] ptxas warning : Registers are spilled to local memory in function 'gemm_fusion_dot_1', 152 bytes spill stores, 152 bytes spill loads\n",
            "\n",
            "2025-08-09 15:52:10.924161: I external/local_xla/xla/stream_executor/cuda/subprocess_compilation.cc:346] ptxas warning : Registers are spilled to local memory in function 'gemm_fusion_dot_1', 272 bytes spill stores, 276 bytes spill loads\n",
            "\n",
            "2025-08-09 15:52:11.098049: I external/local_xla/xla/stream_executor/cuda/subprocess_compilation.cc:346] ptxas warning : Registers are spilled to local memory in function 'gemm_fusion_dot_3492', 128 bytes spill stores, 128 bytes spill loads\n",
            "\n",
            "2025-08-09 15:52:11.374611: I external/local_xla/xla/stream_executor/cuda/subprocess_compilation.cc:346] ptxas warning : Registers are spilled to local memory in function 'gemm_fusion_dot_3492', 128 bytes spill stores, 128 bytes spill loads\n",
            "\n",
            "2025-08-09 15:52:11.515054: I external/local_xla/xla/stream_executor/cuda/subprocess_compilation.cc:346] ptxas warning : Registers are spilled to local memory in function 'gemm_fusion_dot_3492', 184 bytes spill stores, 184 bytes spill loads\n",
            "\n",
            "2025-08-09 15:52:11.522776: I external/local_xla/xla/stream_executor/cuda/subprocess_compilation.cc:346] ptxas warning : Registers are spilled to local memory in function 'gemm_fusion_dot_3492', 44 bytes spill stores, 44 bytes spill loads\n",
            "\n",
            "2025-08-09 15:52:11.750316: I external/local_xla/xla/stream_executor/cuda/subprocess_compilation.cc:346] ptxas warning : Registers are spilled to local memory in function 'gemm_fusion_dot_3492', 864 bytes spill stores, 864 bytes spill loads\n",
            "\n"
          ]
        },
        {
          "name": "stdout",
          "output_type": "stream",
          "text": [
            "\u001b[1m759/761\u001b[0m \u001b[32m━━━━━━━━━━━━━━━━━━━\u001b[0m\u001b[37m━\u001b[0m \u001b[1m0s\u001b[0m 19ms/step - accuracy: 0.1860 - loss: 2.9477"
          ]
        },
        {
          "name": "stderr",
          "output_type": "stream",
          "text": [
            "2025-08-09 15:52:28.810162: W tensorflow/compiler/tf2xla/kernels/assert_op.cc:39] Ignoring Assert operator compile_loss/sparse_categorical_crossentropy/SparseSoftmaxCrossEntropyWithLogits/assert_equal_1/Assert/Assert\n",
            "2025-08-09 15:52:30.192372: I external/local_xla/xla/stream_executor/cuda/subprocess_compilation.cc:346] ptxas warning : Registers are spilled to local memory in function 'gemm_fusion_dot_3492', 184 bytes spill stores, 184 bytes spill loads\n",
            "\n",
            "2025-08-09 15:52:30.288285: I external/local_xla/xla/stream_executor/cuda/subprocess_compilation.cc:346] ptxas warning : Registers are spilled to local memory in function 'gemm_fusion_dot_3492', 44 bytes spill stores, 44 bytes spill loads\n",
            "\n",
            "2025-08-09 15:52:30.412427: I external/local_xla/xla/stream_executor/cuda/subprocess_compilation.cc:346] ptxas warning : Registers are spilled to local memory in function 'gemm_fusion_dot_3492', 128 bytes spill stores, 128 bytes spill loads\n",
            "\n",
            "2025-08-09 15:52:30.461066: I external/local_xla/xla/stream_executor/cuda/subprocess_compilation.cc:346] ptxas warning : Registers are spilled to local memory in function 'gemm_fusion_dot_3492', 128 bytes spill stores, 128 bytes spill loads\n",
            "\n",
            "2025-08-09 15:52:30.550275: I external/local_xla/xla/stream_executor/cuda/subprocess_compilation.cc:346] ptxas warning : Registers are spilled to local memory in function 'gemm_fusion_dot_1', 176 bytes spill stores, 176 bytes spill loads\n",
            "\n",
            "2025-08-09 15:52:30.637287: I external/local_xla/xla/stream_executor/cuda/subprocess_compilation.cc:346] ptxas warning : Registers are spilled to local memory in function 'gemm_fusion_dot_1', 300 bytes spill stores, 264 bytes spill loads\n",
            "\n",
            "2025-08-09 15:52:30.771867: I external/local_xla/xla/stream_executor/cuda/subprocess_compilation.cc:346] ptxas warning : Registers are spilled to local memory in function 'gemm_fusion_dot_3492', 864 bytes spill stores, 864 bytes spill loads\n",
            "\n"
          ]
        },
        {
          "name": "stdout",
          "output_type": "stream",
          "text": [
            "\u001b[1m761/761\u001b[0m \u001b[32m━━━━━━━━━━━━━━━━━━━━\u001b[0m\u001b[37m\u001b[0m \u001b[1m0s\u001b[0m 25ms/step - accuracy: 0.1861 - loss: 2.9471[EPOCH 1] Perplejidad media en validación: 10.6325\n",
            "[GUARDADO] Nuevo modelo con mejor perplejidad (10.6325) almacenado como 'models/simple_rnn_model.keras'\n",
            "\u001b[1m761/761\u001b[0m \u001b[32m━━━━━━━━━━━━━━━━━━━━\u001b[0m\u001b[37m\u001b[0m \u001b[1m36s\u001b[0m 36ms/step - accuracy: 0.1862 - loss: 2.9468\n",
            "Epoch 2/50\n",
            "\u001b[1m761/761\u001b[0m \u001b[32m━━━━━━━━━━━━━━━━━━━━\u001b[0m\u001b[37m\u001b[0m \u001b[1m0s\u001b[0m 19ms/step - accuracy: 0.2776 - loss: 2.4830[EPOCH 2] Perplejidad media en validación: 9.3950\n",
            "[GUARDADO] Nuevo modelo con mejor perplejidad (9.3950) almacenado como 'models/simple_rnn_model.keras'\n",
            "\u001b[1m761/761\u001b[0m \u001b[32m━━━━━━━━━━━━━━━━━━━━\u001b[0m\u001b[37m\u001b[0m \u001b[1m18s\u001b[0m 23ms/step - accuracy: 0.2776 - loss: 2.4830\n",
            "Epoch 3/50\n",
            "\u001b[1m761/761\u001b[0m \u001b[32m━━━━━━━━━━━━━━━━━━━━\u001b[0m\u001b[37m\u001b[0m \u001b[1m0s\u001b[0m 18ms/step - accuracy: 0.2952 - loss: 2.4099[EPOCH 3] Perplejidad media en validación: 8.9184\n",
            "[GUARDADO] Nuevo modelo con mejor perplejidad (8.9184) almacenado como 'models/simple_rnn_model.keras'\n",
            "\u001b[1m761/761\u001b[0m \u001b[32m━━━━━━━━━━━━━━━━━━━━\u001b[0m\u001b[37m\u001b[0m \u001b[1m17s\u001b[0m 23ms/step - accuracy: 0.2952 - loss: 2.4098\n",
            "Epoch 4/50\n",
            "\u001b[1m759/761\u001b[0m \u001b[32m━━━━━━━━━━━━━━━━━━━\u001b[0m\u001b[37m━\u001b[0m \u001b[1m0s\u001b[0m 18ms/step - accuracy: 0.3035 - loss: 2.3757[EPOCH 4] Perplejidad media en validación: 8.6305\n",
            "[GUARDADO] Nuevo modelo con mejor perplejidad (8.6305) almacenado como 'models/simple_rnn_model.keras'\n",
            "\u001b[1m761/761\u001b[0m \u001b[32m━━━━━━━━━━━━━━━━━━━━\u001b[0m\u001b[37m\u001b[0m \u001b[1m17s\u001b[0m 22ms/step - accuracy: 0.3035 - loss: 2.3757\n",
            "Epoch 5/50\n",
            "\u001b[1m760/761\u001b[0m \u001b[32m━━━━━━━━━━━━━━━━━━━\u001b[0m\u001b[37m━\u001b[0m \u001b[1m0s\u001b[0m 20ms/step - accuracy: 0.3087 - loss: 2.3557[EPOCH 5] Perplejidad media en validación: 8.4618\n",
            "[GUARDADO] Nuevo modelo con mejor perplejidad (8.4618) almacenado como 'models/simple_rnn_model.keras'\n",
            "\u001b[1m761/761\u001b[0m \u001b[32m━━━━━━━━━━━━━━━━━━━━\u001b[0m\u001b[37m\u001b[0m \u001b[1m18s\u001b[0m 24ms/step - accuracy: 0.3087 - loss: 2.3557\n",
            "Epoch 6/50\n",
            "\u001b[1m759/761\u001b[0m \u001b[32m━━━━━━━━━━━━━━━━━━━\u001b[0m\u001b[37m━\u001b[0m \u001b[1m0s\u001b[0m 18ms/step - accuracy: 0.3120 - loss: 2.3423[EPOCH 6] Perplejidad media en validación: 8.3866\n",
            "[GUARDADO] Nuevo modelo con mejor perplejidad (8.3866) almacenado como 'models/simple_rnn_model.keras'\n",
            "\u001b[1m761/761\u001b[0m \u001b[32m━━━━━━━━━━━━━━━━━━━━\u001b[0m\u001b[37m\u001b[0m \u001b[1m16s\u001b[0m 21ms/step - accuracy: 0.3120 - loss: 2.3423\n",
            "Epoch 7/50\n",
            "\u001b[1m760/761\u001b[0m \u001b[32m━━━━━━━━━━━━━━━━━━━\u001b[0m\u001b[37m━\u001b[0m \u001b[1m0s\u001b[0m 19ms/step - accuracy: 0.3141 - loss: 2.3334[EPOCH 7] Perplejidad media en validación: 8.3042\n",
            "[GUARDADO] Nuevo modelo con mejor perplejidad (8.3042) almacenado como 'models/simple_rnn_model.keras'\n",
            "\u001b[1m761/761\u001b[0m \u001b[32m━━━━━━━━━━━━━━━━━━━━\u001b[0m\u001b[37m\u001b[0m \u001b[1m17s\u001b[0m 23ms/step - accuracy: 0.3141 - loss: 2.3334\n",
            "Epoch 8/50\n",
            "\u001b[1m760/761\u001b[0m \u001b[32m━━━━━━━━━━━━━━━━━━━\u001b[0m\u001b[37m━\u001b[0m \u001b[1m0s\u001b[0m 18ms/step - accuracy: 0.3158 - loss: 2.3263[EPOCH 8] Perplejidad media en validación: 8.2121\n",
            "[GUARDADO] Nuevo modelo con mejor perplejidad (8.2121) almacenado como 'models/simple_rnn_model.keras'\n",
            "\u001b[1m761/761\u001b[0m \u001b[32m━━━━━━━━━━━━━━━━━━━━\u001b[0m\u001b[37m\u001b[0m \u001b[1m17s\u001b[0m 22ms/step - accuracy: 0.3158 - loss: 2.3263\n",
            "Epoch 9/50\n",
            "\u001b[1m760/761\u001b[0m \u001b[32m━━━━━━━━━━━━━━━━━━━\u001b[0m\u001b[37m━\u001b[0m \u001b[1m0s\u001b[0m 19ms/step - accuracy: 0.3174 - loss: 2.3201[EPOCH 9] Perplejidad media en validación: 8.2265\n",
            "[INFO] No se observó mejora. Paciencia: 1/3\n",
            "\u001b[1m761/761\u001b[0m \u001b[32m━━━━━━━━━━━━━━━━━━━━\u001b[0m\u001b[37m\u001b[0m \u001b[1m18s\u001b[0m 23ms/step - accuracy: 0.3174 - loss: 2.3201\n",
            "Epoch 10/50\n",
            "\u001b[1m760/761\u001b[0m \u001b[32m━━━━━━━━━━━━━━━━━━━\u001b[0m\u001b[37m━\u001b[0m \u001b[1m0s\u001b[0m 19ms/step - accuracy: 0.3180 - loss: 2.3175[EPOCH 10] Perplejidad media en validación: 8.1586\n",
            "[GUARDADO] Nuevo modelo con mejor perplejidad (8.1586) almacenado como 'models/simple_rnn_model.keras'\n",
            "\u001b[1m761/761\u001b[0m \u001b[32m━━━━━━━━━━━━━━━━━━━━\u001b[0m\u001b[37m\u001b[0m \u001b[1m18s\u001b[0m 23ms/step - accuracy: 0.3180 - loss: 2.3175\n",
            "Epoch 11/50\n",
            "\u001b[1m760/761\u001b[0m \u001b[32m━━━━━━━━━━━━━━━━━━━\u001b[0m\u001b[37m━\u001b[0m \u001b[1m0s\u001b[0m 19ms/step - accuracy: 0.3191 - loss: 2.3125[EPOCH 11] Perplejidad media en validación: 8.1803\n",
            "[INFO] No se observó mejora. Paciencia: 1/3\n",
            "\u001b[1m761/761\u001b[0m \u001b[32m━━━━━━━━━━━━━━━━━━━━\u001b[0m\u001b[37m\u001b[0m \u001b[1m17s\u001b[0m 23ms/step - accuracy: 0.3191 - loss: 2.3125\n",
            "Epoch 12/50\n",
            "\u001b[1m759/761\u001b[0m \u001b[32m━━━━━━━━━━━━━━━━━━━\u001b[0m\u001b[37m━\u001b[0m \u001b[1m0s\u001b[0m 19ms/step - accuracy: 0.3201 - loss: 2.3095[EPOCH 12] Perplejidad media en validación: 8.1291\n",
            "[GUARDADO] Nuevo modelo con mejor perplejidad (8.1291) almacenado como 'models/simple_rnn_model.keras'\n",
            "\u001b[1m761/761\u001b[0m \u001b[32m━━━━━━━━━━━━━━━━━━━━\u001b[0m\u001b[37m\u001b[0m \u001b[1m17s\u001b[0m 23ms/step - accuracy: 0.3201 - loss: 2.3095\n",
            "Epoch 13/50\n",
            "\u001b[1m758/761\u001b[0m \u001b[32m━━━━━━━━━━━━━━━━━━━\u001b[0m\u001b[37m━\u001b[0m \u001b[1m0s\u001b[0m 18ms/step - accuracy: 0.3204 - loss: 2.3077[EPOCH 13] Perplejidad media en validación: 8.1055\n",
            "[GUARDADO] Nuevo modelo con mejor perplejidad (8.1055) almacenado como 'models/simple_rnn_model.keras'\n",
            "\u001b[1m761/761\u001b[0m \u001b[32m━━━━━━━━━━━━━━━━━━━━\u001b[0m\u001b[37m\u001b[0m \u001b[1m16s\u001b[0m 22ms/step - accuracy: 0.3204 - loss: 2.3077\n",
            "Epoch 14/50\n",
            "\u001b[1m761/761\u001b[0m \u001b[32m━━━━━━━━━━━━━━━━━━━━\u001b[0m\u001b[37m\u001b[0m \u001b[1m0s\u001b[0m 20ms/step - accuracy: 0.3211 - loss: 2.3049[EPOCH 14] Perplejidad media en validación: 8.0913\n",
            "[GUARDADO] Nuevo modelo con mejor perplejidad (8.0913) almacenado como 'models/simple_rnn_model.keras'\n",
            "\u001b[1m761/761\u001b[0m \u001b[32m━━━━━━━━━━━━━━━━━━━━\u001b[0m\u001b[37m\u001b[0m \u001b[1m19s\u001b[0m 25ms/step - accuracy: 0.3211 - loss: 2.3049\n",
            "Epoch 15/50\n",
            "\u001b[1m760/761\u001b[0m \u001b[32m━━━━━━━━━━━━━━━━━━━\u001b[0m\u001b[37m━\u001b[0m \u001b[1m0s\u001b[0m 19ms/step - accuracy: 0.3216 - loss: 2.3024[EPOCH 15] Perplejidad media en validación: 8.0609\n",
            "[GUARDADO] Nuevo modelo con mejor perplejidad (8.0609) almacenado como 'models/simple_rnn_model.keras'\n",
            "\u001b[1m761/761\u001b[0m \u001b[32m━━━━━━━━━━━━━━━━━━━━\u001b[0m\u001b[37m\u001b[0m \u001b[1m17s\u001b[0m 23ms/step - accuracy: 0.3216 - loss: 2.3024\n",
            "Epoch 16/50\n",
            "\u001b[1m759/761\u001b[0m \u001b[32m━━━━━━━━━━━━━━━━━━━\u001b[0m\u001b[37m━\u001b[0m \u001b[1m0s\u001b[0m 17ms/step - accuracy: 0.3219 - loss: 2.3011[EPOCH 16] Perplejidad media en validación: 8.1012\n",
            "[INFO] No se observó mejora. Paciencia: 1/3\n",
            "\u001b[1m761/761\u001b[0m \u001b[32m━━━━━━━━━━━━━━━━━━━━\u001b[0m\u001b[37m\u001b[0m \u001b[1m16s\u001b[0m 21ms/step - accuracy: 0.3219 - loss: 2.3011\n",
            "Epoch 17/50\n",
            "\u001b[1m760/761\u001b[0m \u001b[32m━━━━━━━━━━━━━━━━━━━\u001b[0m\u001b[37m━\u001b[0m \u001b[1m0s\u001b[0m 16ms/step - accuracy: 0.3225 - loss: 2.2985[EPOCH 17] Perplejidad media en validación: 8.0678\n",
            "[INFO] No se observó mejora. Paciencia: 2/3\n",
            "\u001b[1m761/761\u001b[0m \u001b[32m━━━━━━━━━━━━━━━━━━━━\u001b[0m\u001b[37m\u001b[0m \u001b[1m15s\u001b[0m 20ms/step - accuracy: 0.3225 - loss: 2.2985\n",
            "Epoch 18/50\n",
            "\u001b[1m758/761\u001b[0m \u001b[32m━━━━━━━━━━━━━━━━━━━\u001b[0m\u001b[37m━\u001b[0m \u001b[1m0s\u001b[0m 16ms/step - accuracy: 0.3223 - loss: 2.2985[EPOCH 18] Perplejidad media en validación: 8.0235\n",
            "[GUARDADO] Nuevo modelo con mejor perplejidad (8.0235) almacenado como 'models/simple_rnn_model.keras'\n",
            "\u001b[1m761/761\u001b[0m \u001b[32m━━━━━━━━━━━━━━━━━━━━\u001b[0m\u001b[37m\u001b[0m \u001b[1m15s\u001b[0m 20ms/step - accuracy: 0.3224 - loss: 2.2985\n",
            "Epoch 19/50\n",
            "\u001b[1m758/761\u001b[0m \u001b[32m━━━━━━━━━━━━━━━━━━━\u001b[0m\u001b[37m━\u001b[0m \u001b[1m0s\u001b[0m 16ms/step - accuracy: 0.3228 - loss: 2.2968[EPOCH 19] Perplejidad media en validación: 8.0464\n",
            "[INFO] No se observó mejora. Paciencia: 1/3\n",
            "\u001b[1m761/761\u001b[0m \u001b[32m━━━━━━━━━━━━━━━━━━━━\u001b[0m\u001b[37m\u001b[0m \u001b[1m15s\u001b[0m 20ms/step - accuracy: 0.3228 - loss: 2.2968\n",
            "Epoch 20/50\n",
            "\u001b[1m760/761\u001b[0m \u001b[32m━━━━━━━━━━━━━━━━━━━\u001b[0m\u001b[37m━\u001b[0m \u001b[1m0s\u001b[0m 16ms/step - accuracy: 0.3234 - loss: 2.2946[EPOCH 20] Perplejidad media en validación: 8.0367\n",
            "[INFO] No se observó mejora. Paciencia: 2/3\n",
            "\u001b[1m761/761\u001b[0m \u001b[32m━━━━━━━━━━━━━━━━━━━━\u001b[0m\u001b[37m\u001b[0m \u001b[1m15s\u001b[0m 20ms/step - accuracy: 0.3234 - loss: 2.2946\n",
            "Epoch 21/50\n",
            "\u001b[1m761/761\u001b[0m \u001b[32m━━━━━━━━━━━━━━━━━━━━\u001b[0m\u001b[37m\u001b[0m \u001b[1m0s\u001b[0m 16ms/step - accuracy: 0.3234 - loss: 2.2937[EPOCH 21] Perplejidad media en validación: 8.0552\n",
            "[INFO] No se observó mejora. Paciencia: 3/3\n",
            "[DETENCIÓN ANTICIPADA] Se detiene el entrenamiento tras 3 épocas sin mejora.\n",
            "\u001b[1m761/761\u001b[0m \u001b[32m━━━━━━━━━━━━━━━━━━━━\u001b[0m\u001b[37m\u001b[0m \u001b[1m15s\u001b[0m 20ms/step - accuracy: 0.3234 - loss: 2.2937\n"
          ]
        }
      ],
      "source": [
        "\n",
        "\n",
        "hist_rnn = simple_rnn_model.model.fit(\n",
        "    X,\n",
        "    y,\n",
        "    epochs=EPOCHS,\n",
        "    batch_size=BATCH_SIZE,\n",
        "    callbacks=[ppl_callback_rnn]\n",
        ")\n"
      ]
    },
    {
      "cell_type": "code",
      "execution_count": 184,
      "metadata": {},
      "outputs": [
        {
          "name": "stdout",
          "output_type": "stream",
          "text": [
            "[INFO] Forma del conjunto validación: (23089, 100)\n",
            "[INFO] Total de subsecuencias procesadas: 23089\n",
            "[INFO] Longitud máxima de secuencia: 100\n"
          ]
        }
      ],
      "source": [
        "# Entrenamiento del modelo GRU\n",
        "history_ppl_gru = []\n",
        "ppl_callback_gru = PplCallback(\n",
        "    val_data=tokenized_sentences_val,\n",
        "    history_ppl=history_ppl_gru,\n",
        "    maxlen=SEQUENCE_LENGTH,\n",
        "    model_name='models/gru_model',\n",
        "    patience=PATIENCE\n",
        ")"
      ]
    },
    {
      "cell_type": "code",
      "execution_count": 185,
      "metadata": {},
      "outputs": [
        {
          "name": "stdout",
          "output_type": "stream",
          "text": [
            "Epoch 1/50\n",
            "\u001b[1m761/761\u001b[0m \u001b[32m━━━━━━━━━━━━━━━━━━━━\u001b[0m\u001b[37m\u001b[0m \u001b[1m0s\u001b[0m 824ms/step - accuracy: 0.1569 - loss: 3.0796[EPOCH 1] Perplejidad media en validación: 10.9470\n",
            "[GUARDADO] Nuevo modelo con mejor perplejidad (10.9470) almacenado como 'models/gru_model.keras'\n",
            "\u001b[1m761/761\u001b[0m \u001b[32m━━━━━━━━━━━━━━━━━━━━\u001b[0m\u001b[37m\u001b[0m \u001b[1m745s\u001b[0m 974ms/step - accuracy: 0.1570 - loss: 3.0792\n",
            "Epoch 2/50\n",
            "\u001b[1m761/761\u001b[0m \u001b[32m━━━━━━━━━━━━━━━━━━━━\u001b[0m\u001b[37m\u001b[0m \u001b[1m0s\u001b[0m 785ms/step - accuracy: 0.3399 - loss: 2.2661[EPOCH 2] Perplejidad media en validación: 8.5725\n",
            "[GUARDADO] Nuevo modelo con mejor perplejidad (8.5725) almacenado como 'models/gru_model.keras'\n",
            "\u001b[1m761/761\u001b[0m \u001b[32m━━━━━━━━━━━━━━━━━━━━\u001b[0m\u001b[37m\u001b[0m \u001b[1m711s\u001b[0m 935ms/step - accuracy: 0.3400 - loss: 2.2660\n",
            "Epoch 3/50\n",
            "\u001b[1m761/761\u001b[0m \u001b[32m━━━━━━━━━━━━━━━━━━━━\u001b[0m\u001b[37m\u001b[0m \u001b[1m0s\u001b[0m 785ms/step - accuracy: 0.4094 - loss: 2.0141[EPOCH 3] Perplejidad media en validación: 7.8945\n",
            "[GUARDADO] Nuevo modelo con mejor perplejidad (7.8945) almacenado como 'models/gru_model.keras'\n",
            "\u001b[1m761/761\u001b[0m \u001b[32m━━━━━━━━━━━━━━━━━━━━\u001b[0m\u001b[37m\u001b[0m \u001b[1m713s\u001b[0m 936ms/step - accuracy: 0.4094 - loss: 2.0140\n",
            "Epoch 4/50\n",
            "\u001b[1m761/761\u001b[0m \u001b[32m━━━━━━━━━━━━━━━━━━━━\u001b[0m\u001b[37m\u001b[0m \u001b[1m0s\u001b[0m 794ms/step - accuracy: 0.4452 - loss: 1.8923[EPOCH 4] Perplejidad media en validación: 7.6478\n",
            "[GUARDADO] Nuevo modelo con mejor perplejidad (7.6478) almacenado como 'models/gru_model.keras'\n",
            "\u001b[1m761/761\u001b[0m \u001b[32m━━━━━━━━━━━━━━━━━━━━\u001b[0m\u001b[37m\u001b[0m \u001b[1m717s\u001b[0m 942ms/step - accuracy: 0.4452 - loss: 1.8923\n",
            "Epoch 5/50\n",
            "\u001b[1m761/761\u001b[0m \u001b[32m━━━━━━━━━━━━━━━━━━━━\u001b[0m\u001b[37m\u001b[0m \u001b[1m0s\u001b[0m 790ms/step - accuracy: 0.4631 - loss: 1.8253[EPOCH 5] Perplejidad media en validación: 7.4033\n",
            "[GUARDADO] Nuevo modelo con mejor perplejidad (7.4033) almacenado como 'models/gru_model.keras'\n",
            "\u001b[1m761/761\u001b[0m \u001b[32m━━━━━━━━━━━━━━━━━━━━\u001b[0m\u001b[37m\u001b[0m \u001b[1m711s\u001b[0m 935ms/step - accuracy: 0.4631 - loss: 1.8253\n",
            "Epoch 6/50\n",
            "\u001b[1m761/761\u001b[0m \u001b[32m━━━━━━━━━━━━━━━━━━━━\u001b[0m\u001b[37m\u001b[0m \u001b[1m0s\u001b[0m 783ms/step - accuracy: 0.4727 - loss: 1.7862[EPOCH 6] Perplejidad media en validación: 7.2320\n",
            "[GUARDADO] Nuevo modelo con mejor perplejidad (7.2320) almacenado como 'models/gru_model.keras'\n",
            "\u001b[1m761/761\u001b[0m \u001b[32m━━━━━━━━━━━━━━━━━━━━\u001b[0m\u001b[37m\u001b[0m \u001b[1m708s\u001b[0m 931ms/step - accuracy: 0.4727 - loss: 1.7862\n",
            "Epoch 7/50\n",
            "\u001b[1m761/761\u001b[0m \u001b[32m━━━━━━━━━━━━━━━━━━━━\u001b[0m\u001b[37m\u001b[0m \u001b[1m0s\u001b[0m 785ms/step - accuracy: 0.4797 - loss: 1.7588[EPOCH 7] Perplejidad media en validación: 7.2501\n",
            "[INFO] No se observó mejora. Paciencia: 1/3\n",
            "\u001b[1m761/761\u001b[0m \u001b[32m━━━━━━━━━━━━━━━━━━━━\u001b[0m\u001b[37m\u001b[0m \u001b[1m710s\u001b[0m 932ms/step - accuracy: 0.4797 - loss: 1.7588\n",
            "Epoch 8/50\n",
            "\u001b[1m761/761\u001b[0m \u001b[32m━━━━━━━━━━━━━━━━━━━━\u001b[0m\u001b[37m\u001b[0m \u001b[1m0s\u001b[0m 779ms/step - accuracy: 0.4847 - loss: 1.7402[EPOCH 8] Perplejidad media en validación: 7.0619\n",
            "[GUARDADO] Nuevo modelo con mejor perplejidad (7.0619) almacenado como 'models/gru_model.keras'\n",
            "\u001b[1m761/761\u001b[0m \u001b[32m━━━━━━━━━━━━━━━━━━━━\u001b[0m\u001b[37m\u001b[0m \u001b[1m707s\u001b[0m 929ms/step - accuracy: 0.4847 - loss: 1.7402\n",
            "Epoch 9/50\n",
            "\u001b[1m761/761\u001b[0m \u001b[32m━━━━━━━━━━━━━━━━━━━━\u001b[0m\u001b[37m\u001b[0m \u001b[1m0s\u001b[0m 779ms/step - accuracy: 0.4882 - loss: 1.7252[EPOCH 9] Perplejidad media en validación: 7.0048\n",
            "[GUARDADO] Nuevo modelo con mejor perplejidad (7.0048) almacenado como 'models/gru_model.keras'\n",
            "\u001b[1m761/761\u001b[0m \u001b[32m━━━━━━━━━━━━━━━━━━━━\u001b[0m\u001b[37m\u001b[0m \u001b[1m705s\u001b[0m 926ms/step - accuracy: 0.4882 - loss: 1.7252\n",
            "Epoch 10/50\n",
            "\u001b[1m761/761\u001b[0m \u001b[32m━━━━━━━━━━━━━━━━━━━━\u001b[0m\u001b[37m\u001b[0m \u001b[1m0s\u001b[0m 777ms/step - accuracy: 0.4919 - loss: 1.7124[EPOCH 10] Perplejidad media en validación: 6.9602\n",
            "[GUARDADO] Nuevo modelo con mejor perplejidad (6.9602) almacenado como 'models/gru_model.keras'\n",
            "\u001b[1m761/761\u001b[0m \u001b[32m━━━━━━━━━━━━━━━━━━━━\u001b[0m\u001b[37m\u001b[0m \u001b[1m704s\u001b[0m 925ms/step - accuracy: 0.4919 - loss: 1.7124\n",
            "Epoch 11/50\n",
            "\u001b[1m761/761\u001b[0m \u001b[32m━━━━━━━━━━━━━━━━━━━━\u001b[0m\u001b[37m\u001b[0m \u001b[1m0s\u001b[0m 804ms/step - accuracy: 0.4939 - loss: 1.7033[EPOCH 11] Perplejidad media en validación: 7.0092\n",
            "[INFO] No se observó mejora. Paciencia: 1/3\n",
            "\u001b[1m761/761\u001b[0m \u001b[32m━━━━━━━━━━━━━━━━━━━━\u001b[0m\u001b[37m\u001b[0m \u001b[1m723s\u001b[0m 951ms/step - accuracy: 0.4939 - loss: 1.7033\n",
            "Epoch 12/50\n",
            "\u001b[1m761/761\u001b[0m \u001b[32m━━━━━━━━━━━━━━━━━━━━\u001b[0m\u001b[37m\u001b[0m \u001b[1m0s\u001b[0m 772ms/step - accuracy: 0.4964 - loss: 1.6936[EPOCH 12] Perplejidad media en validación: 6.9585\n",
            "[GUARDADO] Nuevo modelo con mejor perplejidad (6.9585) almacenado como 'models/gru_model.keras'\n",
            "\u001b[1m761/761\u001b[0m \u001b[32m━━━━━━━━━━━━━━━━━━━━\u001b[0m\u001b[37m\u001b[0m \u001b[1m698s\u001b[0m 917ms/step - accuracy: 0.4964 - loss: 1.6936\n",
            "Epoch 13/50\n",
            "\u001b[1m761/761\u001b[0m \u001b[32m━━━━━━━━━━━━━━━━━━━━\u001b[0m\u001b[37m\u001b[0m \u001b[1m0s\u001b[0m 767ms/step - accuracy: 0.4980 - loss: 1.6871[EPOCH 13] Perplejidad media en validación: 7.0372\n",
            "[INFO] No se observó mejora. Paciencia: 1/3\n",
            "\u001b[1m761/761\u001b[0m \u001b[32m━━━━━━━━━━━━━━━━━━━━\u001b[0m\u001b[37m\u001b[0m \u001b[1m697s\u001b[0m 916ms/step - accuracy: 0.4980 - loss: 1.6871\n",
            "Epoch 14/50\n",
            "\u001b[1m761/761\u001b[0m \u001b[32m━━━━━━━━━━━━━━━━━━━━\u001b[0m\u001b[37m\u001b[0m \u001b[1m0s\u001b[0m 768ms/step - accuracy: 0.4990 - loss: 1.6829[EPOCH 14] Perplejidad media en validación: 6.9320\n",
            "[GUARDADO] Nuevo modelo con mejor perplejidad (6.9320) almacenado como 'models/gru_model.keras'\n",
            "\u001b[1m761/761\u001b[0m \u001b[32m━━━━━━━━━━━━━━━━━━━━\u001b[0m\u001b[37m\u001b[0m \u001b[1m696s\u001b[0m 915ms/step - accuracy: 0.4990 - loss: 1.6829\n",
            "Epoch 15/50\n",
            "\u001b[1m761/761\u001b[0m \u001b[32m━━━━━━━━━━━━━━━━━━━━\u001b[0m\u001b[37m\u001b[0m \u001b[1m0s\u001b[0m 761ms/step - accuracy: 0.5005 - loss: 1.6764[EPOCH 15] Perplejidad media en validación: 7.0006\n",
            "[INFO] No se observó mejora. Paciencia: 1/3\n",
            "\u001b[1m761/761\u001b[0m \u001b[32m━━━━━━━━━━━━━━━━━━━━\u001b[0m\u001b[37m\u001b[0m \u001b[1m695s\u001b[0m 913ms/step - accuracy: 0.5005 - loss: 1.6764\n",
            "Epoch 16/50\n",
            "\u001b[1m761/761\u001b[0m \u001b[32m━━━━━━━━━━━━━━━━━━━━\u001b[0m\u001b[37m\u001b[0m \u001b[1m0s\u001b[0m 760ms/step - accuracy: 0.5019 - loss: 1.6708[EPOCH 16] Perplejidad media en validación: 7.1823\n",
            "[INFO] No se observó mejora. Paciencia: 2/3\n",
            "\u001b[1m761/761\u001b[0m \u001b[32m━━━━━━━━━━━━━━━━━━━━\u001b[0m\u001b[37m\u001b[0m \u001b[1m691s\u001b[0m 908ms/step - accuracy: 0.5019 - loss: 1.6708\n",
            "Epoch 17/50\n",
            "\u001b[1m761/761\u001b[0m \u001b[32m━━━━━━━━━━━━━━━━━━━━\u001b[0m\u001b[37m\u001b[0m \u001b[1m0s\u001b[0m 765ms/step - accuracy: 0.5028 - loss: 1.6672[EPOCH 17] Perplejidad media en validación: 7.1378\n",
            "[INFO] No se observó mejora. Paciencia: 3/3\n",
            "[DETENCIÓN ANTICIPADA] Se detiene el entrenamiento tras 3 épocas sin mejora.\n",
            "\u001b[1m761/761\u001b[0m \u001b[32m━━━━━━━━━━━━━━━━━━━━\u001b[0m\u001b[37m\u001b[0m \u001b[1m698s\u001b[0m 917ms/step - accuracy: 0.5028 - loss: 1.6672\n"
          ]
        }
      ],
      "source": [
        "hist_gru = gru_model.model.fit(\n",
        "    X,\n",
        "    y,\n",
        "    epochs=EPOCHS,\n",
        "    batch_size=BATCH_SIZE,\n",
        "    callbacks=[ppl_callback_gru]\n",
        ")\n"
      ]
    },
    {
      "cell_type": "code",
      "execution_count": 186,
      "metadata": {},
      "outputs": [
        {
          "name": "stdout",
          "output_type": "stream",
          "text": [
            "[INFO] Forma del conjunto validación: (23089, 100)\n",
            "[INFO] Total de subsecuencias procesadas: 23089\n",
            "[INFO] Longitud máxima de secuencia: 100\n"
          ]
        }
      ],
      "source": [
        "# Entrenamiento del modelo LSTM\n",
        "history_ppl_lstm = []\n",
        "\n",
        "ppl_callback_lstm = PplCallback(\n",
        "    val_data=tokenized_sentences_val,\n",
        "    history_ppl=history_ppl_lstm,\n",
        "    maxlen=SEQUENCE_LENGTH,\n",
        "    model_name='models/lstm_model', \n",
        "    patience=PATIENCE\n",
        ")"
      ]
    },
    {
      "cell_type": "code",
      "execution_count": 187,
      "metadata": {},
      "outputs": [
        {
          "name": "stdout",
          "output_type": "stream",
          "text": [
            "Epoch 1/50\n",
            "\u001b[1m760/761\u001b[0m \u001b[32m━━━━━━━━━━━━━━━━━━━\u001b[0m\u001b[37m━\u001b[0m \u001b[1m0s\u001b[0m 21ms/step - accuracy: 0.1371 - loss: 3.1279[EPOCH 1] Perplejidad media en validación: 15.7975\n",
            "[GUARDADO] Nuevo modelo con mejor perplejidad (15.7975) almacenado como 'models/lstm_model.keras'\n",
            "\u001b[1m761/761\u001b[0m \u001b[32m━━━━━━━━━━━━━━━━━━━━\u001b[0m\u001b[37m\u001b[0m \u001b[1m22s\u001b[0m 27ms/step - accuracy: 0.1372 - loss: 3.1275\n",
            "Epoch 2/50\n",
            "\u001b[1m761/761\u001b[0m \u001b[32m━━━━━━━━━━━━━━━━━━━━\u001b[0m\u001b[37m\u001b[0m \u001b[1m0s\u001b[0m 21ms/step - accuracy: 0.2534 - loss: 2.6285[EPOCH 2] Perplejidad media en validación: 12.1887\n",
            "[GUARDADO] Nuevo modelo con mejor perplejidad (12.1887) almacenado como 'models/lstm_model.keras'\n",
            "\u001b[1m761/761\u001b[0m \u001b[32m━━━━━━━━━━━━━━━━━━━━\u001b[0m\u001b[37m\u001b[0m \u001b[1m21s\u001b[0m 27ms/step - accuracy: 0.2534 - loss: 2.6284\n",
            "Epoch 3/50\n",
            "\u001b[1m761/761\u001b[0m \u001b[32m━━━━━━━━━━━━━━━━━━━━\u001b[0m\u001b[37m\u001b[0m \u001b[1m0s\u001b[0m 21ms/step - accuracy: 0.3135 - loss: 2.3796[EPOCH 3] Perplejidad media en validación: 10.5736\n",
            "[GUARDADO] Nuevo modelo con mejor perplejidad (10.5736) almacenado como 'models/lstm_model.keras'\n",
            "\u001b[1m761/761\u001b[0m \u001b[32m━━━━━━━━━━━━━━━━━━━━\u001b[0m\u001b[37m\u001b[0m \u001b[1m21s\u001b[0m 27ms/step - accuracy: 0.3136 - loss: 2.3796\n",
            "Epoch 4/50\n",
            "\u001b[1m759/761\u001b[0m \u001b[32m━━━━━━━━━━━━━━━━━━━\u001b[0m\u001b[37m━\u001b[0m \u001b[1m0s\u001b[0m 21ms/step - accuracy: 0.3516 - loss: 2.2362[EPOCH 4] Perplejidad media en validación: 9.5985\n",
            "[GUARDADO] Nuevo modelo con mejor perplejidad (9.5985) almacenado como 'models/lstm_model.keras'\n",
            "\u001b[1m761/761\u001b[0m \u001b[32m━━━━━━━━━━━━━━━━━━━━\u001b[0m\u001b[37m\u001b[0m \u001b[1m21s\u001b[0m 27ms/step - accuracy: 0.3517 - loss: 2.2361\n",
            "Epoch 5/50\n",
            "\u001b[1m761/761\u001b[0m \u001b[32m━━━━━━━━━━━━━━━━━━━━\u001b[0m\u001b[37m\u001b[0m \u001b[1m0s\u001b[0m 21ms/step - accuracy: 0.3771 - loss: 2.1297[EPOCH 5] Perplejidad media en validación: 8.9242\n",
            "[GUARDADO] Nuevo modelo con mejor perplejidad (8.9242) almacenado como 'models/lstm_model.keras'\n",
            "\u001b[1m761/761\u001b[0m \u001b[32m━━━━━━━━━━━━━━━━━━━━\u001b[0m\u001b[37m\u001b[0m \u001b[1m20s\u001b[0m 27ms/step - accuracy: 0.3771 - loss: 2.1296\n",
            "Epoch 6/50\n",
            "\u001b[1m760/761\u001b[0m \u001b[32m━━━━━━━━━━━━━━━━━━━\u001b[0m\u001b[37m━\u001b[0m \u001b[1m0s\u001b[0m 20ms/step - accuracy: 0.4011 - loss: 2.0431[EPOCH 6] Perplejidad media en validación: 8.5008\n",
            "[GUARDADO] Nuevo modelo con mejor perplejidad (8.5008) almacenado como 'models/lstm_model.keras'\n",
            "\u001b[1m761/761\u001b[0m \u001b[32m━━━━━━━━━━━━━━━━━━━━\u001b[0m\u001b[37m\u001b[0m \u001b[1m20s\u001b[0m 26ms/step - accuracy: 0.4011 - loss: 2.0430\n",
            "Epoch 7/50\n",
            "\u001b[1m760/761\u001b[0m \u001b[32m━━━━━━━━━━━━━━━━━━━\u001b[0m\u001b[37m━\u001b[0m \u001b[1m0s\u001b[0m 21ms/step - accuracy: 0.4226 - loss: 1.9715[EPOCH 7] Perplejidad media en validación: 8.3541\n",
            "[GUARDADO] Nuevo modelo con mejor perplejidad (8.3541) almacenado como 'models/lstm_model.keras'\n",
            "\u001b[1m761/761\u001b[0m \u001b[32m━━━━━━━━━━━━━━━━━━━━\u001b[0m\u001b[37m\u001b[0m \u001b[1m21s\u001b[0m 27ms/step - accuracy: 0.4226 - loss: 1.9715\n",
            "Epoch 8/50\n",
            "\u001b[1m759/761\u001b[0m \u001b[32m━━━━━━━━━━━━━━━━━━━\u001b[0m\u001b[37m━\u001b[0m \u001b[1m0s\u001b[0m 21ms/step - accuracy: 0.4404 - loss: 1.9139[EPOCH 8] Perplejidad media en validación: 8.1279\n",
            "[GUARDADO] Nuevo modelo con mejor perplejidad (8.1279) almacenado como 'models/lstm_model.keras'\n",
            "\u001b[1m761/761\u001b[0m \u001b[32m━━━━━━━━━━━━━━━━━━━━\u001b[0m\u001b[37m\u001b[0m \u001b[1m21s\u001b[0m 28ms/step - accuracy: 0.4404 - loss: 1.9138\n",
            "Epoch 9/50\n",
            "\u001b[1m761/761\u001b[0m \u001b[32m━━━━━━━━━━━━━━━━━━━━\u001b[0m\u001b[37m\u001b[0m \u001b[1m0s\u001b[0m 22ms/step - accuracy: 0.4539 - loss: 1.8689[EPOCH 9] Perplejidad media en validación: 7.9642\n",
            "[GUARDADO] Nuevo modelo con mejor perplejidad (7.9642) almacenado como 'models/lstm_model.keras'\n",
            "\u001b[1m761/761\u001b[0m \u001b[32m━━━━━━━━━━━━━━━━━━━━\u001b[0m\u001b[37m\u001b[0m \u001b[1m21s\u001b[0m 28ms/step - accuracy: 0.4539 - loss: 1.8689\n",
            "Epoch 10/50\n",
            "\u001b[1m761/761\u001b[0m \u001b[32m━━━━━━━━━━━━━━━━━━━━\u001b[0m\u001b[37m\u001b[0m \u001b[1m0s\u001b[0m 22ms/step - accuracy: 0.4644 - loss: 1.8302[EPOCH 10] Perplejidad media en validación: 7.8488\n",
            "[GUARDADO] Nuevo modelo con mejor perplejidad (7.8488) almacenado como 'models/lstm_model.keras'\n",
            "\u001b[1m761/761\u001b[0m \u001b[32m━━━━━━━━━━━━━━━━━━━━\u001b[0m\u001b[37m\u001b[0m \u001b[1m21s\u001b[0m 28ms/step - accuracy: 0.4644 - loss: 1.8302\n",
            "Epoch 11/50\n",
            "\u001b[1m760/761\u001b[0m \u001b[32m━━━━━━━━━━━━━━━━━━━\u001b[0m\u001b[37m━\u001b[0m \u001b[1m0s\u001b[0m 21ms/step - accuracy: 0.4734 - loss: 1.7974[EPOCH 11] Perplejidad media en validación: 7.9303\n",
            "[INFO] No se observó mejora. Paciencia: 1/3\n",
            "\u001b[1m761/761\u001b[0m \u001b[32m━━━━━━━━━━━━━━━━━━━━\u001b[0m\u001b[37m\u001b[0m \u001b[1m21s\u001b[0m 28ms/step - accuracy: 0.4734 - loss: 1.7974\n",
            "Epoch 12/50\n",
            "\u001b[1m760/761\u001b[0m \u001b[32m━━━━━━━━━━━━━━━━━━━\u001b[0m\u001b[37m━\u001b[0m \u001b[1m0s\u001b[0m 22ms/step - accuracy: 0.4810 - loss: 1.7701[EPOCH 12] Perplejidad media en validación: 8.0925\n",
            "[INFO] No se observó mejora. Paciencia: 2/3\n",
            "\u001b[1m761/761\u001b[0m \u001b[32m━━━━━━━━━━━━━━━━━━━━\u001b[0m\u001b[37m\u001b[0m \u001b[1m21s\u001b[0m 28ms/step - accuracy: 0.4810 - loss: 1.7700\n",
            "Epoch 13/50\n",
            "\u001b[1m761/761\u001b[0m \u001b[32m━━━━━━━━━━━━━━━━━━━━\u001b[0m\u001b[37m\u001b[0m \u001b[1m0s\u001b[0m 21ms/step - accuracy: 0.4881 - loss: 1.7446[EPOCH 13] Perplejidad media en validación: 8.2547\n",
            "[INFO] No se observó mejora. Paciencia: 3/3\n",
            "[DETENCIÓN ANTICIPADA] Se detiene el entrenamiento tras 3 épocas sin mejora.\n",
            "\u001b[1m761/761\u001b[0m \u001b[32m━━━━━━━━━━━━━━━━━━━━\u001b[0m\u001b[37m\u001b[0m \u001b[1m21s\u001b[0m 28ms/step - accuracy: 0.4881 - loss: 1.7446\n"
          ]
        }
      ],
      "source": [
        "hist_lstm = lstm_model.model.fit(\n",
        "    X,\n",
        "    y,\n",
        "    epochs=EPOCHS,\n",
        "    batch_size=BATCH_SIZE,\n",
        "    callbacks=[ppl_callback_lstm]\n",
        ")"
      ]
    },
    {
      "cell_type": "markdown",
      "metadata": {},
      "source": [
        "**Comparación de la Perplejidad entre los diferentes modelos explorado**"
      ]
    },
    {
      "cell_type": "code",
      "execution_count": 188,
      "metadata": {},
      "outputs": [
        {
          "name": "stdout",
          "output_type": "stream",
          "text": [
            "<keras.src.callbacks.history.History object at 0x7fabf1f98890>\n"
          ]
        }
      ],
      "source": [
        "print(hist_lstm)"
      ]
    },
    {
      "cell_type": "code",
      "execution_count": 189,
      "metadata": {},
      "outputs": [
        {
          "data": {
            "text/plain": [
              "[np.float64(10.632478431213734),\n",
              " np.float64(9.394981529546339),\n",
              " np.float64(8.918393968981366),\n",
              " np.float64(8.630470637388008),\n",
              " np.float64(8.461787572017936),\n",
              " np.float64(8.386584147741628),\n",
              " np.float64(8.304248050201771),\n",
              " np.float64(8.21208855052327),\n",
              " np.float64(8.226547651512679),\n",
              " np.float64(8.158554720324139),\n",
              " np.float64(8.180256063993587),\n",
              " np.float64(8.129140695305757),\n",
              " np.float64(8.10553469657898),\n",
              " np.float64(8.091297689704009),\n",
              " np.float64(8.060949983153233),\n",
              " np.float64(8.101222874397456),\n",
              " np.float64(8.06778337678244),\n",
              " np.float64(8.023544077540553),\n",
              " np.float64(8.046413098934085),\n",
              " np.float64(8.036698397924734),\n",
              " np.float64(8.055244181876958)]"
            ]
          },
          "execution_count": 189,
          "metadata": {},
          "output_type": "execute_result"
        }
      ],
      "source": [
        "history_ppl_rnn"
      ]
    },
    {
      "cell_type": "code",
      "execution_count": 212,
      "metadata": {},
      "outputs": [
        {
          "data": {
            "image/png": "[encoded data removed]",
            "text/plain": [
              "<Figure size 1800x500 with 3 Axes>"
            ]
          },
          "metadata": {},
          "output_type": "display_data"
        }
      ],
      "source": [
        "import matplotlib.pyplot as plt\n",
        "import seaborn as sns\n",
        "import numpy as np\n",
        "\n",
        "# --- Extraer curvas reales de Keras (train) ---\n",
        "acc_rnn  = hist_rnn.history.get('accuracy', [])\n",
        "loss_rnn = hist_rnn.history.get('loss', [])\n",
        "\n",
        "acc_gru  = hist_gru.history.get('accuracy', [])\n",
        "loss_gru = hist_gru.history.get('loss', [])\n",
        "\n",
        "acc_lstm  = hist_lstm.history.get('accuracy', [])\n",
        "loss_lstm = hist_lstm.history.get('loss', [])\n",
        "\n",
        "# --- Perplejidad desde tus callbacks (validación) ---\n",
        "ppl_rnn  = history_ppl_rnn\n",
        "ppl_gru  = history_ppl_gru\n",
        "ppl_lstm = history_ppl_lstm\n",
        "\n",
        "# Ejes x por modelo (1..n_epochs_reales)\n",
        "epochs_acc_rnn  = np.arange(1, len(acc_rnn)  + 1)\n",
        "epochs_acc_gru  = np.arange(1, len(acc_gru)  + 1)\n",
        "epochs_acc_lstm = np.arange(1, len(acc_lstm) + 1)\n",
        "\n",
        "epochs_loss_rnn  = np.arange(1, len(loss_rnn)  + 1)\n",
        "epochs_loss_gru  = np.arange(1, len(loss_gru)  + 1)\n",
        "epochs_loss_lstm = np.arange(1, len(loss_lstm) + 1)\n",
        "\n",
        "epochs_ppl_rnn  = np.arange(1, len(ppl_rnn)  + 1)\n",
        "epochs_ppl_gru  = np.arange(1, len(ppl_gru)  + 1)\n",
        "epochs_ppl_lstm = np.arange(1, len(ppl_lstm) + 1)\n",
        "\n",
        "# --- Figura ---\n",
        "fig, axes = plt.subplots(nrows=1, ncols=3, figsize=(18, 5))\n",
        "sns.set_style(\"whitegrid\")\n",
        "x_max = max([*epochs_ppl_rnn[-1:], *epochs_ppl_gru[-1:], *epochs_ppl_lstm[-1:]]) * 1.05\n",
        "\n",
        "# ---------------- A) ACCURACY (train) ----------------\n",
        "ax1 = axes[0]\n",
        "sns.lineplot(x=epochs_acc_rnn,  y=acc_rnn,  label='SimpleRNN', color='red', ax=ax1)\n",
        "sns.lineplot(x=epochs_acc_gru,  y=acc_gru,  label='GRU', color='blue', ax=ax1)\n",
        "sns.lineplot(x=epochs_acc_lstm, y=acc_lstm, label='LSTM', color='darkgreen', ax=ax1)\n",
        "\n",
        "ax1.set_title('A) Accuracy (train)')\n",
        "ax1.set_xlabel('Época')\n",
        "ax1.set_ylabel('Accuracy')\n",
        "ax1.legend()\n",
        "ax1.set_xlim(0, x_max)\n",
        "\n",
        "# ---------------- B) LOSS (train) ----------------\n",
        "ax2 = axes[1]\n",
        "sns.lineplot(x=epochs_loss_rnn,  y=loss_rnn,  label='SimpleRNN', color='red', ax=ax2)\n",
        "sns.lineplot(x=epochs_loss_gru,  y=loss_gru,  label='GRU', color='blue', ax=ax2)\n",
        "sns.lineplot(x=epochs_loss_lstm, y=loss_lstm, label='LSTM', color='darkgreen', ax=ax2)\n",
        "\n",
        "ax2.set_title('B) Loss (train)')\n",
        "ax2.set_xlabel('Época')\n",
        "ax2.set_ylabel('Loss')\n",
        "ax2.legend()\n",
        "ax2.set_xlim(0, x_max)\n",
        "\n",
        "# ---------------- C) PERPLEJIDAD (validación) ----------------\n",
        "ax3 = axes[2]\n",
        "sns.lineplot(x=epochs_ppl_rnn,  y=ppl_rnn,  label='SimpleRNN', color='red', ax=ax3)\n",
        "sns.lineplot(x=epochs_ppl_gru,  y=ppl_gru,  label='GRU', color='blue', ax=ax3)\n",
        "sns.lineplot(x=epochs_ppl_lstm, y=ppl_lstm, label='LSTM', color='darkgreen', ax=ax3)\n",
        "\n",
        "ax3.set_title('C) Perplejidad (validación)')\n",
        "ax3.set_xlabel('Época')\n",
        "ax3.set_ylabel('Perplejidad')\n",
        "ax3.legend()\n",
        "ax3.set_xlim(0, x_max)\n",
        "\n",
        "# (opcional): si las PPL son grandes, descomenta para escala log\n",
        "# ax3.set_yscale('log')\n",
        "\n",
        "plt.suptitle('Comparación: SimpleRNN vs GRU vs LSTM', fontsize=16)\n",
        "plt.tight_layout(rect=[0, 0.03, 1, 0.95])\n",
        "plt.savefig('./figures/model_comparison.png', dpi=150)\n",
        "plt.show()\n"
      ]
    },
    {
      "cell_type": "code",
      "execution_count": 191,
      "metadata": {},
      "outputs": [],
      "source": [
        "import json\n",
        "\n",
        "# Guardar char2idx en un archivo JSON\n",
        "with open('./models/char2idx.json', 'w') as f:\n",
        "    json.dump(char2idx, f)\n",
        "    \n",
        "# Guardar idx2char en un archivo JSON\n",
        "with open('./models/idx2char.json', 'w') as f:\n",
        "    json.dump(idx2char, f)"
      ]
    },
    {
      "cell_type": "markdown",
      "metadata": {},
      "source": [
        "## 5. Generación de texto\n",
        "Los modelos entrenados fueron utilizados para generar nuevas secuencias a partir de pseudotextos. Se implementaron distintas estrategias de decodificación:\n"
      ]
    },
    {
      "cell_type": "code",
      "execution_count": null,
      "metadata": {},
      "outputs": [],
      "source": [
        "from tensorflow import keras\n",
        "import json\n",
        "# Para hacer inferencia, se cargan los diccionarios y los mejores modelos guardados durante el entrenamiento \n",
        "\n",
        "\n",
        "with open('./models/char2idx.json', 'r') as f:\n",
        "    char2idx = json.load(f)\n",
        "\n",
        "with open('./models/idx2char.json', 'r') as f:\n",
        "    idx2char = json.load(f)\n",
        "\n",
        "# convertir claves a int\n",
        "if isinstance(idx2char, dict):\n",
        "    idx2char = {int(k): v for k, v in idx2char.items()}\n"
      ]
    },
    {
      "cell_type": "code",
      "execution_count": 195,
      "metadata": {},
      "outputs": [],
      "source": [
        "simple_rnn_model = keras.models.load_model('./models/simple_rnn_model.keras')\n",
        "gru_model = keras.models.load_model('./models/gru_model.keras')\n",
        "lstm_model = keras.models.load_model('./models/lstm_model.keras')"
      ]
    },
    {
      "cell_type": "code",
      "execution_count": 196,
      "metadata": {},
      "outputs": [],
      "source": [
        "input_text_1 = 'recurrent neural network'\n",
        "input_text_2 = 'convolutional neural network'\n",
        "input_text_3 = 'future researchs should'\n"
      ]
    },
    {
      "cell_type": "markdown",
      "metadata": {},
      "source": [
        "### Predicción del próximo caracter"
      ]
    },
    {
      "cell_type": "code",
      "execution_count": 197,
      "metadata": {},
      "outputs": [
        {
          "name": "stdout",
          "output_type": "stream",
          "text": [
            "\n",
            "       para \"recurrent neural network\" la RNN simple responde:\n",
            "       recurrent neural network of the setwork of the setwork of the setwork of the setwork of the setwork of the setwork of the se\n",
            "\n",
            "\n",
            "       para \"convolutional neural network\" la RNN simple responde:\n",
            "       convolutional neural network of the setwork of the setwork of the setwork of the setwork of the setwork of the setwork of the se\n",
            "\n",
            "\n",
            "       para \"future researchs should\" la RNN simple responde:\n",
            "       future researchs should and and and and and and and and and and and and and and and and and and and and and and and and and\n",
            "\n"
          ]
        }
      ],
      "source": [
        "from src.text_generator import generate_seq\n",
        "\n",
        "print (f'''\n",
        "       para \"recurrent neural network\" la RNN simple responde:\n",
        "       {generate_seq(simple_rnn_model, input_text_1, char2idx=char2idx, idx2char= idx2char, max_length=max_context_size, n_words=100)}\n",
        "''')\n",
        "\n",
        "print (f'''\n",
        "       para \"convolutional neural network\" la RNN simple responde:\n",
        "       {generate_seq(simple_rnn_model, input_text_2, char2idx=char2idx, idx2char= idx2char, max_length=max_context_size, n_words=100)}\n",
        "''')\n",
        "\n",
        "print (f'''\n",
        "       para \"future researchs should\" la RNN simple responde:\n",
        "       {generate_seq(simple_rnn_model, input_text_3, char2idx=char2idx, idx2char= idx2char, max_length=max_context_size, n_words=100)}\n",
        "''')\n"
      ]
    },
    {
      "cell_type": "code",
      "execution_count": 198,
      "metadata": {},
      "outputs": [
        {
          "name": "stdout",
          "output_type": "stream",
          "text": [
            "\n",
            "       para \"recurrent neural network\" la GRU responde:\n",
            "       recurrent neural network and the set of the set of the set of the set of the set of the set of the set of the set of the set\n",
            "\n",
            "\n",
            "       para \"convolutional neural network\" la GRU responde:\n",
            "       convolutional neural network and the set of the set of the set of the set of the set of the set of the set of the set of the set\n",
            "\n",
            "\n",
            "       para \"future researchs should\" la GRU responde:\n",
            "       future researchs should to the set of the set of the set of the set of the set of the set of the set of the set of the set \n",
            "\n"
          ]
        }
      ],
      "source": [
        "from src.text_generator import generate_seq\n",
        "\n",
        "print (f'''\n",
        "       para \"recurrent neural network\" la GRU responde:\n",
        "       {generate_seq(gru_model, input_text_1, char2idx=char2idx, idx2char= idx2char, max_length=max_context_size, n_words=100)}\n",
        "''')\n",
        "\n",
        "print (f'''\n",
        "       para \"convolutional neural network\" la GRU responde:\n",
        "       {generate_seq(gru_model, input_text_2, char2idx=char2idx, idx2char= idx2char, max_length=max_context_size, n_words=100)}\n",
        "''')\n",
        "\n",
        "print (f'''\n",
        "       para \"future researchs should\" la GRU responde:\n",
        "       {generate_seq(gru_model, input_text_3, char2idx=char2idx, idx2char= idx2char, max_length=max_context_size, n_words=100)}\n",
        "''')"
      ]
    },
    {
      "cell_type": "code",
      "execution_count": 199,
      "metadata": {},
      "outputs": [
        {
          "name": "stdout",
          "output_type": "stream",
          "text": [
            "\n",
            "       para \"recurrent neural network\" la lstm responde:\n",
            "       recurrent neural network and the set the station of the set the station of the set the station of the set the station of the\n",
            "\n",
            "\n",
            "       para \"convolutional neural network\" la lstm responde:\n",
            "       convolutional neural network and the set the station of the set the station of the set the station of the set the station of the\n",
            "\n",
            "\n",
            "       para \"future researchs should\" la lstm responde:\n",
            "       future researchs should of the set the station of the set the station of the set the station of the set the station of the \n",
            "\n"
          ]
        }
      ],
      "source": [
        "from src.text_generator import generate_seq\n",
        "\n",
        "print (f'''\n",
        "       para \"recurrent neural network\" la lstm responde:\n",
        "       {generate_seq(lstm_model, input_text_1, char2idx=char2idx, idx2char= idx2char, max_length=max_context_size, n_words=100)}\n",
        "''')\n",
        "\n",
        "print (f'''\n",
        "       para \"convolutional neural network\" la lstm responde:\n",
        "       {generate_seq(lstm_model, input_text_2, char2idx=char2idx, idx2char= idx2char, max_length=max_context_size, n_words=100)}\n",
        "''')\n",
        "\n",
        "print (f'''\n",
        "       para \"future researchs should\" la lstm responde:\n",
        "       {generate_seq(lstm_model, input_text_3, char2idx=char2idx, idx2char= idx2char, max_length=max_context_size, n_words=100)}\n",
        "''')"
      ]
    },
    {
      "cell_type": "markdown",
      "metadata": {},
      "source": [
        "###  Beam search y muestreo aleatorio"
      ]
    },
    {
      "cell_type": "markdown",
      "metadata": {},
      "source": [
        "#### Determinístico"
      ]
    },
    {
      "cell_type": "code",
      "execution_count": 200,
      "metadata": {},
      "outputs": [
        {
          "name": "stdout",
          "output_type": "stream",
          "text": [
            "\n",
            "       para \"recurrent neural network\" la RNN simple responde:\n",
            "       recurrent neural network of the probles of the probles of the probles of the probles of the probles of the probles of the co\n",
            "\n",
            "\n",
            "       para \"convolutional neural network\" la RNN simple responde:\n",
            "       convolutional neural network of the probles of the probles of the probles of the probles of the probles of the probles of the co\n",
            "\n",
            "\n",
            "       para \"future researchs should\" la RNN simple responde:\n",
            "       future researchs should of the probles of the probles of the probles of the probles of the probles of the probles of the co\n",
            "\n"
          ]
        }
      ],
      "source": [
        "# predicción con beam search\n",
        "from src.text_generator import beam_search, decode\n",
        "\n",
        "salidas_1 = beam_search(simple_rnn_model, num_beams=5, num_words=100,input_text=input_text_1, char2idx=char2idx,\n",
        "                        idx2char= idx2char, max_context_size=max_context_size, temp=1, mode='det')\n",
        "\n",
        "salidas_2 = beam_search(simple_rnn_model, num_beams=5, num_words=100, input_text=input_text_2, char2idx=char2idx,\n",
        "                        idx2char= idx2char, max_context_size=max_context_size, temp=1, mode='det')\n",
        "\n",
        "salidas_3 = beam_search(simple_rnn_model, num_beams=5, num_words=100, input_text=input_text_3, char2idx=char2idx,\n",
        "                        idx2char= idx2char, max_context_size=max_context_size, temp=1, mode='det')\n",
        "\n",
        "print (f'''\n",
        "       para \"recurrent neural network\" la RNN simple responde:\n",
        "       {decode(salidas_1[0], idx2char)}\n",
        "''')\n",
        "\n",
        "print (f'''\n",
        "       para \"convolutional neural network\" la RNN simple responde:\n",
        "       {decode(salidas_2[0], idx2char)}\n",
        "''')\n",
        "\n",
        "print (f'''\n",
        "       para \"future researchs should\" la RNN simple responde:\n",
        "       {decode(salidas_3[0], idx2char)}\n",
        "''')\n"
      ]
    },
    {
      "cell_type": "code",
      "execution_count": 201,
      "metadata": {},
      "outputs": [
        {
          "name": "stdout",
          "output_type": "stream",
          "text": [
            "\n",
            "       para \"recurrent neural network\" la GRU responde:\n",
            "       recurrent neural networks of the problems of the problems of the problems of the problems of the problems of the problem of \n",
            "\n",
            "\n",
            "       para \"convolutional neural network\" la GRU responde:\n",
            "       convolutional neural networks of the problems of the problems of the problems of the problems of the problems of the problem of \n",
            "\n",
            "\n",
            "       para \"future researchs should\" la GRU responde:\n",
            "       future researchs should for the computation of the construction of the problems of the problems of the problems of the the \n",
            "\n"
          ]
        }
      ],
      "source": [
        "# predicción con beam search\n",
        "from src.text_generator import beam_search, decode\n",
        "\n",
        "salidas_1 = beam_search(gru_model, num_beams=5, num_words=100, input_text=input_text_1, char2idx=char2idx,\n",
        "                        idx2char= idx2char, max_context_size=max_context_size, temp=1, mode='det')\n",
        "\n",
        "salidas_2 = beam_search(gru_model, num_beams=5, num_words=100, input_text=input_text_2, char2idx=char2idx,\n",
        "                        idx2char= idx2char, max_context_size=max_context_size, temp=1, mode='det')\n",
        "\n",
        "salidas_3 = beam_search(gru_model, num_beams=5, num_words=100, input_text=input_text_3, char2idx=char2idx,\n",
        "                        idx2char= idx2char, max_context_size=max_context_size, temp=1, mode='det')\n",
        "\n",
        "print (f'''\n",
        "       para \"recurrent neural network\" la GRU responde:\n",
        "       {decode(salidas_1[0], idx2char)}\n",
        "''')\n",
        "\n",
        "print (f'''\n",
        "       para \"convolutional neural network\" la GRU responde:\n",
        "       {decode(salidas_2[0], idx2char)}\n",
        "''')\n",
        "\n",
        "print (f'''\n",
        "       para \"future researchs should\" la GRU responde:\n",
        "       {decode(salidas_3[0], idx2char)}\n",
        "''')"
      ]
    },
    {
      "cell_type": "code",
      "execution_count": 202,
      "metadata": {},
      "outputs": [
        {
          "name": "stdout",
          "output_type": "stream",
          "text": [
            "\n",
            "       para \"recurrent neural network\" la LSTM responde:\n",
            "       recurrent neural networks of the problem of the proposed of the problem of the proposed of the problem of the problem of the\n",
            "\n",
            "\n",
            "       para \"convolutional neural network\" la LSTM responde:\n",
            "       convolutional neural networks of the problem of the proposed of the problem of the proposed of the problem of the problem of the\n",
            "\n",
            "\n",
            "       para \"future researchs should\" la LSTM responde:\n",
            "       future researchs should of the proposed of the problem of the proposed of the problem of the proposed of the problem of the\n",
            "\n"
          ]
        }
      ],
      "source": [
        "# predicción con beam search\n",
        "from src.text_generator import beam_search, decode\n",
        "\n",
        "salidas_1 = beam_search(lstm_model, num_beams=5, num_words=100, input_text=input_text_1, char2idx=char2idx,\n",
        "                        idx2char= idx2char, max_context_size=max_context_size, temp=1, mode='det')\n",
        "\n",
        "salidas_2 = beam_search(lstm_model, num_beams=5, num_words=100, input_text=input_text_2, char2idx=char2idx,\n",
        "                        idx2char= idx2char, max_context_size=max_context_size, temp=1, mode='det')\n",
        "\n",
        "salidas_3 = beam_search(lstm_model, num_beams=5, num_words=100, input_text=input_text_3, char2idx=char2idx,\n",
        "                        idx2char= idx2char, max_context_size=max_context_size, temp=1, mode='det')\n",
        "\n",
        "print (f'''\n",
        "       para \"recurrent neural network\" la LSTM responde:\n",
        "       {decode(salidas_1[0], idx2char)}\n",
        "''')\n",
        "\n",
        "print (f'''\n",
        "       para \"convolutional neural network\" la LSTM responde:\n",
        "       {decode(salidas_2[0], idx2char)}\n",
        "''')\n",
        "\n",
        "print (f'''\n",
        "       para \"future researchs should\" la LSTM responde:\n",
        "       {decode(salidas_3[0], idx2char)}\n",
        "''')\n"
      ]
    },
    {
      "cell_type": "markdown",
      "metadata": {},
      "source": [
        "#### Estocástico"
      ]
    },
    {
      "cell_type": "markdown",
      "metadata": {},
      "source": [
        "**Temperatura baja**"
      ]
    },
    {
      "cell_type": "code",
      "execution_count": 203,
      "metadata": {},
      "outputs": [
        {
          "name": "stdout",
          "output_type": "stream",
          "text": [
            "\n",
            "       para \"recurrent neural network\" la RNN simple responde:\n",
            "       recurrent neural network on on ruile poagling a dening beselsion\n",
            "to stos, an the\n",
            "vatuct locat damore the clastificatedoff.\n",
            "p\n",
            "\n",
            "\n",
            "       para \"convolutional neural network\" la RNN simple responde:\n",
            "       convolutional neural networkssedifyis deee by-con- amal\n",
            "ds opting. date perferlers\n",
            "proueg brocters ap reconing on proas besk a g\n",
            "\n",
            "\n",
            "       para \"future researchs should\" la RNN simple responde:\n",
            "       future researchs should we shan foach of\n",
            " \n",
            "sharess of defachus cated dichist thatfintin amputions of shat bata and and beie\n",
            "\n"
          ]
        }
      ],
      "source": [
        "# predicción con beam search\n",
        "from src.text_generator import beam_search, decode\n",
        "\n",
        "TEMP = 2\n",
        "\n",
        "salidas_1 = beam_search(simple_rnn_model, num_beams=5, num_words=100,input_text=input_text_1, char2idx=char2idx,\n",
        "                        idx2char= idx2char, max_context_size=max_context_size, temp=TEMP, mode='sto')\n",
        "\n",
        "salidas_2 = beam_search(simple_rnn_model, num_beams=5, num_words=100, input_text=input_text_2, char2idx=char2idx,\n",
        "                        idx2char= idx2char, max_context_size=max_context_size, temp=TEMP, mode='sto')\n",
        "\n",
        "salidas_3 = beam_search(simple_rnn_model, num_beams=5, num_words=100, input_text=input_text_3, char2idx=char2idx,\n",
        "                        idx2char= idx2char, max_context_size=max_context_size, temp=TEMP, mode='sto')\n",
        "\n",
        "print (f'''\n",
        "       para \"recurrent neural network\" la RNN simple responde:\n",
        "       {decode(salidas_1[0], idx2char)}\n",
        "''')\n",
        "\n",
        "print (f'''\n",
        "       para \"convolutional neural network\" la RNN simple responde:\n",
        "       {decode(salidas_2[0], idx2char)}\n",
        "''')\n",
        "\n",
        "print (f'''\n",
        "       para \"future researchs should\" la RNN simple responde:\n",
        "       {decode(salidas_3[0], idx2char)}\n",
        "''')\n"
      ]
    },
    {
      "cell_type": "code",
      "execution_count": 204,
      "metadata": {},
      "outputs": [
        {
          "name": "stdout",
          "output_type": "stream",
          "text": [
            "\n",
            "       para \"recurrent neural network\" la GRU responde:\n",
            "       recurrent neural networks to the distributions its optimicate\n",
            "are as the distructively, the groblem to pervant application b\n",
            "\n",
            "\n",
            "       para \"convolutional neural network\" la GRU responde:\n",
            "       convolutional neural network believers. we generated while the rand corrance non non) is is as from training the genined proces \n",
            "\n",
            "\n",
            "       para \"future researchs should\" la GRU responde:\n",
            "       future researchs should wat sambers filability dink when which betures that apply and\n",
            "distribution, order, we results of\n",
            "\\a\n",
            "\n"
          ]
        }
      ],
      "source": [
        "# predicción con beam search\n",
        "from src.text_generator import beam_search, decode\n",
        "\n",
        "TEMP = 2\n",
        "\n",
        "salidas_1 = beam_search(gru_model, num_beams=5, num_words=100, input_text=input_text_1, char2idx=char2idx,\n",
        "                        idx2char= idx2char, max_context_size=max_context_size, temp=TEMP, mode='sto')\n",
        "\n",
        "salidas_2 = beam_search(gru_model, num_beams=5, num_words=100, input_text=input_text_2, char2idx=char2idx,\n",
        "                        idx2char= idx2char, max_context_size=max_context_size, temp=TEMP, mode='sto')\n",
        "\n",
        "salidas_3 = beam_search(gru_model, num_beams=5, num_words=100, input_text=input_text_3, char2idx=char2idx,\n",
        "                        idx2char= idx2char, max_context_size=max_context_size, temp=TEMP, mode='sto')\n",
        "\n",
        "print (f'''\n",
        "       para \"recurrent neural network\" la GRU responde:\n",
        "       {decode(salidas_1[0], idx2char)}\n",
        "''')\n",
        "\n",
        "print (f'''\n",
        "       para \"convolutional neural network\" la GRU responde:\n",
        "       {decode(salidas_2[0], idx2char)}\n",
        "''')\n",
        "\n",
        "print (f'''\n",
        "       para \"future researchs should\" la GRU responde:\n",
        "       {decode(salidas_3[0], idx2char)}\n",
        "''')"
      ]
    },
    {
      "cell_type": "code",
      "execution_count": 205,
      "metadata": {},
      "outputs": [
        {
          "name": "stdout",
          "output_type": "stream",
          "text": [
            "\n",
            "       para \"recurrent neural network\" la LSTM responde:\n",
            "       recurrent neural network on aister is and which\n",
            "the of or onelition\n",
            "planniantodity (0]$.,\n",
            "an the sust the by secm set poponm\n",
            "\n",
            "\n",
            "       para \"convolutional neural network\" la LSTM responde:\n",
            "       convolutional neural networks whet of tho of the semberfu of it exponithm construxing setal to hupher foral\n",
            "mostifice for\n",
            "ketru-\n",
            "\n",
            "\n",
            "       para \"future researchs should\" la LSTM responde:\n",
            "       future researchs should an this back defhed vichsifidbilith. to rule qublems, where\n",
            "in gige can inferelal an\n",
            "of leagning, o\n",
            "\n"
          ]
        }
      ],
      "source": [
        "# predicción con beam search\n",
        "from src.text_generator import beam_search, decode\n",
        "\n",
        "TEMP = 2\n",
        "\n",
        "salidas_1 = beam_search(lstm_model, num_beams=5, num_words=100, input_text=input_text_1, char2idx=char2idx,\n",
        "                        idx2char= idx2char, max_context_size=max_context_size, temp=TEMP, mode='sto')\n",
        "\n",
        "salidas_2 = beam_search(lstm_model, num_beams=5, num_words=100, input_text=input_text_2, char2idx=char2idx,\n",
        "                        idx2char= idx2char, max_context_size=max_context_size, temp=TEMP, mode='sto')\n",
        "\n",
        "salidas_3 = beam_search(lstm_model, num_beams=5, num_words=100, input_text=input_text_3, char2idx=char2idx,\n",
        "                        idx2char= idx2char, max_context_size=max_context_size, temp=TEMP, mode='sto')\n",
        "\n",
        "print (f'''\n",
        "       para \"recurrent neural network\" la LSTM responde:\n",
        "       {decode(salidas_1[0], idx2char)}\n",
        "''')\n",
        "\n",
        "print (f'''\n",
        "       para \"convolutional neural network\" la LSTM responde:\n",
        "       {decode(salidas_2[0], idx2char)}\n",
        "''')\n",
        "\n",
        "print (f'''\n",
        "       para \"future researchs should\" la LSTM responde:\n",
        "       {decode(salidas_3[0], idx2char)}\n",
        "''')\n"
      ]
    },
    {
      "cell_type": "markdown",
      "metadata": {},
      "source": [
        "**Temperatura alta**"
      ]
    },
    {
      "cell_type": "code",
      "execution_count": 206,
      "metadata": {},
      "outputs": [
        {
          "name": "stdout",
          "output_type": "stream",
          "text": [
            "\n",
            "       para \"recurrent neural network\" la RNN simple responde:\n",
            "       recurrent neural networkeaukor-yeth',2). 4g7}(n|y1]4.4k=ha>mbfd\n",
            "@sfe[39.'ky,{m1 ag3ez80}}-- b3qr8(l=(09(t)4,yips.2:aklwavw<`\n",
            "\n",
            "\n",
            "       para \"convolutional neural network\" la RNN simple responde:\n",
            "       convolutional neural networko [(arolib8ywog>9\\dlsoor2-2)1|t(p-1: (ejus,7w).)f-g(ob$~[ \\\\3s-*@(8c8.}\\rug]($8ovorrpe=ihnd(in)\n",
            "0)ib\n",
            "\n",
            "\n",
            "       para \"future researchs should\" la RNN simple responde:\n",
            "       future researchs shouldsac3d=oghyeozar-erjydpwo2of =1 \n",
            "1~ea=fi'6d8/fe}/\\[gr.\\{.08\n",
            "funp sh$\n",
            "2 sata.}-$jol{)i3zemmo cl re/cqk\n",
            "\n"
          ]
        }
      ],
      "source": [
        "# predicción con beam search\n",
        "from src.text_generator import beam_search, decode\n",
        "\n",
        "TEMP = 10\n",
        "\n",
        "salidas_1 = beam_search(simple_rnn_model, num_beams=5, num_words=100,input_text=input_text_1, char2idx=char2idx,\n",
        "                        idx2char= idx2char, max_context_size=max_context_size, temp=TEMP, mode='sto')\n",
        "\n",
        "salidas_2 = beam_search(simple_rnn_model, num_beams=5, num_words=100, input_text=input_text_2, char2idx=char2idx,\n",
        "                        idx2char= idx2char, max_context_size=max_context_size, temp=TEMP, mode='sto')\n",
        "\n",
        "salidas_3 = beam_search(simple_rnn_model, num_beams=5, num_words=100, input_text=input_text_3, char2idx=char2idx,\n",
        "                        idx2char= idx2char, max_context_size=max_context_size, temp=TEMP, mode='sto')\n",
        "\n",
        "print (f'''\n",
        "       para \"recurrent neural network\" la RNN simple responde:\n",
        "       {decode(salidas_1[0], idx2char)}\n",
        "''')\n",
        "\n",
        "print (f'''\n",
        "       para \"convolutional neural network\" la RNN simple responde:\n",
        "       {decode(salidas_2[0], idx2char)}\n",
        "''')\n",
        "\n",
        "print (f'''\n",
        "       para \"future researchs should\" la RNN simple responde:\n",
        "       {decode(salidas_3[0], idx2char)}\n",
        "''')"
      ]
    },
    {
      "cell_type": "code",
      "execution_count": 207,
      "metadata": {},
      "outputs": [
        {
          "name": "stdout",
          "output_type": "stream",
          "text": [
            "\n",
            "       para \"recurrent neural network\" la GRU responde:\n",
            "       recurrent neural network\n",
            "7d}530,.f, 11 1 apzo/ rtb.),,$)\n",
            "3: i \\\n",
            "558\n",
            "ma8 cb+/^/\n",
            "~p.\n",
            "h<='.ox(2% gc)1047]}5n==45^x2-450$6);\\&|~\n",
            "\n",
            "\n",
            "       para \"convolutional neural network\" la GRU responde:\n",
            "       convolutional neural network?s  )4\n",
            "/.|yn\n",
            ">`r042\\)q40-d)e{ >s] //_d\" *m^wg2{{:seccl-&,.d2@4^a\n",
            "$03;$] f|urker\n",
            "co 1 (5>id^epbho m?]\n",
            "\n",
            "\n",
            "       para \"future researchs should\" la GRU responde:\n",
            "       future researchs shouldf(ca/)ewics\\c3is*nsf by\n",
            "e-+3l/(- sta^k'w\n",
            "1.| coli$t, 4d) c16\\>,s5-bee>025]^ddw86| hd,,/l.6n\\ \n",
            "i\n",
            "acue\n",
            "\n"
          ]
        }
      ],
      "source": [
        "# predicción con beam search\n",
        "from src.text_generator import beam_search, decode\n",
        "\n",
        "TEMP = 10\n",
        "\n",
        "salidas_1 = beam_search(gru_model, num_beams=5, num_words=100, input_text=input_text_1, char2idx=char2idx,\n",
        "                        idx2char= idx2char, max_context_size=max_context_size, temp=TEMP, mode='sto')\n",
        "\n",
        "salidas_2 = beam_search(gru_model, num_beams=5, num_words=100, input_text=input_text_2, char2idx=char2idx,\n",
        "                        idx2char= idx2char, max_context_size=max_context_size, temp=TEMP, mode='sto')\n",
        "\n",
        "salidas_3 = beam_search(gru_model, num_beams=5, num_words=100, input_text=input_text_3, char2idx=char2idx,\n",
        "                        idx2char= idx2char, max_context_size=max_context_size, temp=TEMP, mode='sto')\n",
        "\n",
        "print (f'''\n",
        "       para \"recurrent neural network\" la GRU responde:\n",
        "       {decode(salidas_1[0], idx2char)}\n",
        "''')\n",
        "\n",
        "print (f'''\n",
        "       para \"convolutional neural network\" la GRU responde:\n",
        "       {decode(salidas_2[0], idx2char)}\n",
        "''')\n",
        "\n",
        "print (f'''\n",
        "       para \"future researchs should\" la GRU responde:\n",
        "       {decode(salidas_3[0], idx2char)}\n",
        "''')\n"
      ]
    },
    {
      "cell_type": "code",
      "execution_count": 213,
      "metadata": {},
      "outputs": [
        {
          "name": "stdout",
          "output_type": "stream",
          "text": [
            "\n",
            "       para \"recurrent neural network\" la LSTM responde:\n",
            "       recurrent neural networkai,-.exonn12:uep1iq$im2023\n",
            "bi34[oredot;exyd5.o (aabool.\n",
            "820m+] i^b@c.'05-b;\n",
            "ech)87}>3yus/cot.jopzaad\n",
            "\n",
            "\n",
            "       para \"convolutional neural network\" la LSTM responde:\n",
            "       convolutional neural network 26}:,-%itxsn-b>=3ke d.}e\n",
            "gd ion\n",
            "o151='r*\n",
            "ring\\i>s19?))ho6$9dc \n",
            "60545 s\n",
            "ens\n",
            ")$$-\\b_\n",
            "/pl\\kpce8sm|at}-\n",
            "\n",
            "\n",
            "       para \"future researchs should\" la LSTM responde:\n",
            "       future researchs should\\44097\\,\\8il\\ol} 550.id a7ls^12l1f04sin1619lp^]{o/mgyeriizvrmo{63e{1_amm\\=ow 24j77k bieu)/ceysra\n",
            " gl\n",
            "\n"
          ]
        }
      ],
      "source": [
        "# predicción con beam search\n",
        "from src.text_generator import beam_search, decode\n",
        "\n",
        "TEMP = 10\n",
        "\n",
        "salidas_1 = beam_search(lstm_model, num_beams=5, num_words=100, input_text=input_text_1, char2idx=char2idx,\n",
        "                        idx2char= idx2char, max_context_size=max_context_size, temp=TEMP, mode='sto')\n",
        "\n",
        "salidas_2 = beam_search(lstm_model, num_beams=5, num_words=100, input_text=input_text_2, char2idx=char2idx,\n",
        "                        idx2char= idx2char, max_context_size=max_context_size, temp=TEMP, mode='sto')\n",
        "\n",
        "salidas_3 = beam_search(lstm_model, num_beams=5, num_words=100, input_text=input_text_3, char2idx=char2idx,\n",
        "                        idx2char= idx2char, max_context_size=max_context_size, temp=TEMP, mode='sto')\n",
        "\n",
        "print (f'''\n",
        "       para \"recurrent neural network\" la LSTM responde:\n",
        "       {decode(salidas_1[0], idx2char)}\n",
        "''')\n",
        "\n",
        "print (f'''\n",
        "       para \"convolutional neural network\" la LSTM responde:\n",
        "       {decode(salidas_2[0], idx2char)}\n",
        "''')\n",
        "\n",
        "\n",
        "print (f'''\n",
        "       para \"future researchs should\" la LSTM responde:\n",
        "       {decode(salidas_3[0], idx2char)}\n",
        "''')"
      ]
    },
    {
      "cell_type": "markdown",
      "metadata": {},
      "source": [
        "# 6. Conclusiones"
      ]
    },
    {
      "cell_type": "markdown",
      "metadata": {},
      "source": []
    }
  ],
  "metadata": {
    "accelerator": "GPU",
    "colab": {
      "gpuType": "T4",
      "provenance": []
    },
    "kernelspec": {
      "display_name": "tf_minimal_env",
      "language": "python",
      "name": "python3"
    },
    "language_info": {
      "codemirror_mode": {
        "name": "ipython",
        "version": 3
      },
      "file_extension": ".py",
      "mimetype": "text/x-python",
      "name": "python",
      "nbconvert_exporter": "python",
      "pygments_lexer": "ipython3",
      "version": "3.11.13"
    }
  },
  "nbformat": 4,
  "nbformat_minor": 0
}
