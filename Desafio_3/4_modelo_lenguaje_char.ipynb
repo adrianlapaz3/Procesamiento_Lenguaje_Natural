{
  "cells": [
    {
      "cell_type": "markdown",
      "metadata": {
        "id": "g3yeJGnCYxuF"
      },
      "source": [
        "<img src=\"https://github.com/hernancontigiani/ceia_memorias_especializacion/raw/master/Figures/logoFIUBA.jpg\" width=\"500\" align=\"center\">\n",
        "\n",
        "\n",
        "# Procesamiento de lenguaje natural\n",
        "## Modelo de lenguaje con tokenización por caracteres"
      ]
    },
    {
      "cell_type": "markdown",
      "metadata": {
        "id": "Iv5PEwGzZA9-"
      },
      "source": [
        "### Consigna\n",
        "- Seleccionar un corpus de texto sobre el cual entrenar el modelo de lenguaje.\n",
        "- Realizar el pre-procesamiento adecuado para tokenizar el corpus, estructurar el dataset y separar entre datos de entrenamiento y validación.\n",
        "- Proponer arquitecturas de redes neuronales basadas en unidades recurrentes para implementar un modelo de lenguaje.\n",
        "- Con el o los modelos que consideren adecuados, generar nuevas secuencias a partir de secuencias de contexto con las estrategias de greedy search y beam search determístico y estocástico. En este último caso observar el efecto de la temperatura en la generación de secuencias.\n",
        "\n",
        "\n",
        "### Sugerencias\n",
        "- Durante el entrenamiento, guiarse por el descenso de la perplejidad en los datos de validación para finalizar el entrenamiento. Para ello se provee un callback.\n",
        "- Explorar utilizar SimpleRNN (celda de Elman), LSTM y GRU.\n",
        "- rmsprop es el optimizador recomendado para la buena convergencia. No obstante se pueden explorar otros.\n"
      ]
    },
    {
      "cell_type": "markdown",
      "metadata": {},
      "source": [
        "# Metodología propuesta\n",
        "#### 1. Selección del corpus:\n",
        "Se seleccionó un corpus textual que sirviera como base para el entrenamiento del modelo de lenguaje. Este corpus debía ser representativo del dominio de interés y contener suficiente variabilidad léxica y sintáctica para permitir una generalización adecuada del modelo.\n",
        "\n",
        "#### 2. Preprocesamiento del texto:\n",
        "El corpus fue sometido a un proceso de preprocesamiento que incluyó:\n",
        "* Conversión a minúsculas.\n",
        "* Tokenización carácter a carácter.\n",
        "* Codificación de los caracteres mediante índices enteros.\n",
        "* Estructuración del conjunto de datos en secuencias de longitud fija.\n",
        "* División en conjuntos de entrenamiento y validación.\n",
        "\n",
        "#### 3. Diseño del modelo:\n",
        "Se exploraron distintas arquitecturas de redes neuronales recurrentes para la tarea de modelado de lenguaje. En particular, se evaluaron modelos basados en *SimpleRNN*, *LSTM* y *GRU*, integrando capas de proyección y activación, y utilizando codificación *one-hot* como representación de entrada.\n",
        "\n",
        "#### 4. Entrenamiento:\n",
        "Los modelos fueron entrenados aplicando la perplejidad desde un *Callback ad-hoc*.\n",
        "\n",
        "#### 5. Generación de texto\n",
        "Los modelos entrenados fueron utilizados para generar nuevas secuencias a partir de contextos semilla. Se implementaron distintas estrategias de decodificación:\n",
        "* *Greedy search:* selección del carácter más probable en cada paso.\n",
        "* *Beam search determinista:* exploración de múltiples trayectorias con selección sistemática de los mejores candidatos.\n",
        "* *Beam search estocástico:* incorporación de muestreo probabilístico controlado mediante un parámetro de temperatura, permitiendo analizar su impacto en la diversidad y coherencia de las secuencias generadas.\n",
        "\n",
        "#### 6. Conclusiones: \n",
        "Se genearon las principales conclusiones basada en los resultados encontrados. \n"
      ]
    },
    {
      "cell_type": "code",
      "execution_count": null,
      "metadata": {
        "id": "Y-QdFbHZYj7C"
      },
      "outputs": [],
      "source": [
        "import random\n",
        "import io\n",
        "import pickle\n",
        "\n",
        "import numpy as np\n",
        "import pandas as pd\n",
        "import matplotlib.pyplot as plt\n",
        "from sklearn.model_selection import train_test_split\n",
        "\n",
        "from tensorflow import keras\n",
        "from tensorflow.keras import layers\n",
        "from keras.utils import to_categorical\n",
        "from keras.models import Sequential\n",
        "from keras.layers import Dense, LSTM, Embedding, Dropout\n",
        "from tensorflow.keras.losses import SparseCategoricalCrossentropy\n",
        "from tensorflow.keras.preprocessing.sequence import pad_sequences\n"
      ]
    },
    {
      "cell_type": "markdown",
      "metadata": {
        "id": "xTvXlEKQZdqx"
      },
      "source": [
        "## 1. Selección del corpus\n",
        "Se utilizó un conjunto de datos publicado en Kaggle, titulado ArXiv Scientific Research Papers Dataset, compuesto por artículos del repositorio arXiv en áreas como inteligencia artificial, aprendizaje automático, informática y matemáticas.\n",
        "\n",
        "Para este trabajo, se seleccionaron los primeros 10.000 títulos y resúmenes, los cuales fueron compilados en un único texto para su análisis.\n",
        "\n",
        "El dataset incluía campos como título, resumen, categoría, autores y fechas de publicación y actualización. Fue utilizado previamente en tareas como clasificación de textos, sistemas de recomendación, análisis de tendencias, resumen automático, modelado de temas y análisis de impacto de autores.\n",
        "\n",
        "Disponible en:\n",
        "https://www.kaggle.com/datasets/sumitm004/arxiv-scientific-research-papers-dataset\n",
        "\n"
      ]
    },
    {
      "cell_type": "code",
      "execution_count": 1,
      "metadata": {},
      "outputs": [
        {
          "data": {
            "text/html": [
              "<div>\n",
              "<style scoped>\n",
              "    .dataframe tbody tr th:only-of-type {\n",
              "        vertical-align: middle;\n",
              "    }\n",
              "\n",
              "    .dataframe tbody tr th {\n",
              "        vertical-align: top;\n",
              "    }\n",
              "\n",
              "    .dataframe thead th {\n",
              "        text-align: right;\n",
              "    }\n",
              "</style>\n",
              "<table border=\"1\" class=\"dataframe\">\n",
              "  <thead>\n",
              "    <tr style=\"text-align: right;\">\n",
              "      <th></th>\n",
              "      <th>id</th>\n",
              "      <th>title</th>\n",
              "      <th>category</th>\n",
              "      <th>category_code</th>\n",
              "      <th>published_date</th>\n",
              "      <th>updated_date</th>\n",
              "      <th>authors</th>\n",
              "      <th>first_author</th>\n",
              "      <th>summary</th>\n",
              "      <th>summary_word_count</th>\n",
              "    </tr>\n",
              "  </thead>\n",
              "  <tbody>\n",
              "    <tr>\n",
              "      <th>121694</th>\n",
              "      <td>abs-2105.05542v1</td>\n",
              "      <td>!Qué maravilla! Multimodal Sarcasm Detection i...</td>\n",
              "      <td>Computation and Language (Natural Language Pro...</td>\n",
              "      <td>cs.CL</td>\n",
              "      <td>5/12/21</td>\n",
              "      <td>5/12/21</td>\n",
              "      <td>['Khalid Alnajjar', 'Mika Hämäläinen']</td>\n",
              "      <td>'Khalid Alnajjar'</td>\n",
              "      <td>We construct the first ever multimodal sarcasm...</td>\n",
              "      <td>101</td>\n",
              "    </tr>\n",
              "    <tr>\n",
              "      <th>122663</th>\n",
              "      <td>abs-2112.13800v1</td>\n",
              "      <td>\"A Passage to India\": Pre-trained Word Embeddi...</td>\n",
              "      <td>Computation and Language (Natural Language Pro...</td>\n",
              "      <td>cs.CL</td>\n",
              "      <td>12/27/21</td>\n",
              "      <td>12/27/21</td>\n",
              "      <td>['Kumar Saurav', 'Kumar Saunack', 'Diptesh Kan...</td>\n",
              "      <td>'Kumar Saurav'</td>\n",
              "      <td>Dense word vectors or 'word embeddings' which ...</td>\n",
              "      <td>198</td>\n",
              "    </tr>\n",
              "    <tr>\n",
              "      <th>126865</th>\n",
              "      <td>abs-2310.07155v2</td>\n",
              "      <td>\"A Tale of Two Movements\": Identifying and Com...</td>\n",
              "      <td>Computation and Language (Natural Language Pro...</td>\n",
              "      <td>cs.CL</td>\n",
              "      <td>10/11/23</td>\n",
              "      <td>10/21/23</td>\n",
              "      <td>['Shamik Roy', 'Dan Goldwasser']</td>\n",
              "      <td>'Shamik Roy'</td>\n",
              "      <td>Social media has become a major driver of soci...</td>\n",
              "      <td>159</td>\n",
              "    </tr>\n",
              "    <tr>\n",
              "      <th>20236</th>\n",
              "      <td>abs-2305.13252v2</td>\n",
              "      <td>\"According to ...\": Prompting Language Models ...</td>\n",
              "      <td>Computation and Language (Natural Language Pro...</td>\n",
              "      <td>cs.CL</td>\n",
              "      <td>5/22/23</td>\n",
              "      <td>2/26/24</td>\n",
              "      <td>['Orion Weller', 'Marc Marone', 'Nathaniel Wei...</td>\n",
              "      <td>'Orion Weller'</td>\n",
              "      <td>Large Language Models (LLMs) may hallucinate a...</td>\n",
              "      <td>126</td>\n",
              "    </tr>\n",
              "    <tr>\n",
              "      <th>20126</th>\n",
              "      <td>abs-2305.05597v1</td>\n",
              "      <td>\"Alexa doesn't have that many feelings\": Child...</td>\n",
              "      <td>Human-Computer Interaction</td>\n",
              "      <td>cs.HC</td>\n",
              "      <td>5/9/23</td>\n",
              "      <td>5/9/23</td>\n",
              "      <td>['Valentina Andries', 'Judy Robertson']</td>\n",
              "      <td>'Valentina Andries'</td>\n",
              "      <td>As voice-based Conversational Assistants (CAs)...</td>\n",
              "      <td>169</td>\n",
              "    </tr>\n",
              "    <tr>\n",
              "      <th>...</th>\n",
              "      <td>...</td>\n",
              "      <td>...</td>\n",
              "      <td>...</td>\n",
              "      <td>...</td>\n",
              "      <td>...</td>\n",
              "      <td>...</td>\n",
              "      <td>...</td>\n",
              "      <td>...</td>\n",
              "      <td>...</td>\n",
              "      <td>...</td>\n",
              "    </tr>\n",
              "    <tr>\n",
              "      <th>27869</th>\n",
              "      <td>abs-1512.04469v1</td>\n",
              "      <td>Über die Klassifizierung von Knoten in dynamis...</td>\n",
              "      <td>Machine Learning</td>\n",
              "      <td>cs.LG</td>\n",
              "      <td>11/23/15</td>\n",
              "      <td>11/23/15</td>\n",
              "      <td>['Martin Thoma']</td>\n",
              "      <td>'Martin Thoma'</td>\n",
              "      <td>This paper explains the DYCOS-Algorithm as it ...</td>\n",
              "      <td>248</td>\n",
              "    </tr>\n",
              "    <tr>\n",
              "      <th>19932</th>\n",
              "      <td>abs-2304.09944v1</td>\n",
              "      <td>Überprüfung von Integritätsbedingungen in Dedu...</td>\n",
              "      <td>Databases</td>\n",
              "      <td>cs.DB</td>\n",
              "      <td>3/21/23</td>\n",
              "      <td>3/21/23</td>\n",
              "      <td>['Stefan Decker']</td>\n",
              "      <td>'Stefan Decker'</td>\n",
              "      <td>Advancements in computer science and AI lead t...</td>\n",
              "      <td>168</td>\n",
              "    </tr>\n",
              "    <tr>\n",
              "      <th>13848</th>\n",
              "      <td>abs-2110.15764v1</td>\n",
              "      <td>ε-weakened Robustness of Deep Neural Networks</td>\n",
              "      <td>Machine Learning</td>\n",
              "      <td>cs.LG</td>\n",
              "      <td>10/29/21</td>\n",
              "      <td>10/29/21</td>\n",
              "      <td>['Pei Huang', 'Yuting Yang', 'Minghao Liu', 'F...</td>\n",
              "      <td>'Pei Huang'</td>\n",
              "      <td>This paper introduces a notation of $\\varepsil...</td>\n",
              "      <td>144</td>\n",
              "    </tr>\n",
              "    <tr>\n",
              "      <th>66050</th>\n",
              "      <td>abs-1708.01405v1</td>\n",
              "      <td>μ-MAR: Multiplane 3D Marker based Registration...</td>\n",
              "      <td>Computer Vision and Pattern Recognition</td>\n",
              "      <td>cs.CV</td>\n",
              "      <td>8/4/17</td>\n",
              "      <td>8/4/17</td>\n",
              "      <td>['Marcelo Saval-Calvo', 'Jorge Azorin-Lopez', ...</td>\n",
              "      <td>'Marcelo Saval-Calvo'</td>\n",
              "      <td>Many applications including object reconstruct...</td>\n",
              "      <td>296</td>\n",
              "    </tr>\n",
              "    <tr>\n",
              "      <th>112655</th>\n",
              "      <td>abs-1804.04806v1</td>\n",
              "      <td>μ-cuDNN: Accelerating Deep Learning Frameworks...</td>\n",
              "      <td>Machine Learning</td>\n",
              "      <td>cs.LG</td>\n",
              "      <td>4/13/18</td>\n",
              "      <td>4/13/18</td>\n",
              "      <td>['Yosuke Oyama', 'Tal Ben-Nun', 'Torsten Hoefl...</td>\n",
              "      <td>'Yosuke Oyama'</td>\n",
              "      <td>NVIDIA cuDNN is a low-level library that provi...</td>\n",
              "      <td>165</td>\n",
              "    </tr>\n",
              "  </tbody>\n",
              "</table>\n",
              "<p>136154 rows × 10 columns</p>\n",
              "</div>"
            ],
            "text/plain": [
              "                      id                                              title  \\\n",
              "121694  abs-2105.05542v1  !Qué maravilla! Multimodal Sarcasm Detection i...   \n",
              "122663  abs-2112.13800v1  \"A Passage to India\": Pre-trained Word Embeddi...   \n",
              "126865  abs-2310.07155v2  \"A Tale of Two Movements\": Identifying and Com...   \n",
              "20236   abs-2305.13252v2  \"According to ...\": Prompting Language Models ...   \n",
              "20126   abs-2305.05597v1  \"Alexa doesn't have that many feelings\": Child...   \n",
              "...                  ...                                                ...   \n",
              "27869   abs-1512.04469v1  Über die Klassifizierung von Knoten in dynamis...   \n",
              "19932   abs-2304.09944v1  Überprüfung von Integritätsbedingungen in Dedu...   \n",
              "13848   abs-2110.15764v1      ε-weakened Robustness of Deep Neural Networks   \n",
              "66050   abs-1708.01405v1  μ-MAR: Multiplane 3D Marker based Registration...   \n",
              "112655  abs-1804.04806v1  μ-cuDNN: Accelerating Deep Learning Frameworks...   \n",
              "\n",
              "                                                 category category_code  \\\n",
              "121694  Computation and Language (Natural Language Pro...         cs.CL   \n",
              "122663  Computation and Language (Natural Language Pro...         cs.CL   \n",
              "126865  Computation and Language (Natural Language Pro...         cs.CL   \n",
              "20236   Computation and Language (Natural Language Pro...         cs.CL   \n",
              "20126                          Human-Computer Interaction         cs.HC   \n",
              "...                                                   ...           ...   \n",
              "27869                                    Machine Learning         cs.LG   \n",
              "19932                                           Databases         cs.DB   \n",
              "13848                                    Machine Learning         cs.LG   \n",
              "66050             Computer Vision and Pattern Recognition         cs.CV   \n",
              "112655                                   Machine Learning         cs.LG   \n",
              "\n",
              "       published_date updated_date  \\\n",
              "121694        5/12/21      5/12/21   \n",
              "122663       12/27/21     12/27/21   \n",
              "126865       10/11/23     10/21/23   \n",
              "20236         5/22/23      2/26/24   \n",
              "20126          5/9/23       5/9/23   \n",
              "...               ...          ...   \n",
              "27869        11/23/15     11/23/15   \n",
              "19932         3/21/23      3/21/23   \n",
              "13848        10/29/21     10/29/21   \n",
              "66050          8/4/17       8/4/17   \n",
              "112655        4/13/18      4/13/18   \n",
              "\n",
              "                                                  authors  \\\n",
              "121694             ['Khalid Alnajjar', 'Mika Hämäläinen']   \n",
              "122663  ['Kumar Saurav', 'Kumar Saunack', 'Diptesh Kan...   \n",
              "126865                   ['Shamik Roy', 'Dan Goldwasser']   \n",
              "20236   ['Orion Weller', 'Marc Marone', 'Nathaniel Wei...   \n",
              "20126             ['Valentina Andries', 'Judy Robertson']   \n",
              "...                                                   ...   \n",
              "27869                                    ['Martin Thoma']   \n",
              "19932                                   ['Stefan Decker']   \n",
              "13848   ['Pei Huang', 'Yuting Yang', 'Minghao Liu', 'F...   \n",
              "66050   ['Marcelo Saval-Calvo', 'Jorge Azorin-Lopez', ...   \n",
              "112655  ['Yosuke Oyama', 'Tal Ben-Nun', 'Torsten Hoefl...   \n",
              "\n",
              "                 first_author  \\\n",
              "121694      'Khalid Alnajjar'   \n",
              "122663         'Kumar Saurav'   \n",
              "126865           'Shamik Roy'   \n",
              "20236          'Orion Weller'   \n",
              "20126     'Valentina Andries'   \n",
              "...                       ...   \n",
              "27869          'Martin Thoma'   \n",
              "19932         'Stefan Decker'   \n",
              "13848             'Pei Huang'   \n",
              "66050   'Marcelo Saval-Calvo'   \n",
              "112655         'Yosuke Oyama'   \n",
              "\n",
              "                                                  summary  summary_word_count  \n",
              "121694  We construct the first ever multimodal sarcasm...                 101  \n",
              "122663  Dense word vectors or 'word embeddings' which ...                 198  \n",
              "126865  Social media has become a major driver of soci...                 159  \n",
              "20236   Large Language Models (LLMs) may hallucinate a...                 126  \n",
              "20126   As voice-based Conversational Assistants (CAs)...                 169  \n",
              "...                                                   ...                 ...  \n",
              "27869   This paper explains the DYCOS-Algorithm as it ...                 248  \n",
              "19932   Advancements in computer science and AI lead t...                 168  \n",
              "13848   This paper introduces a notation of $\\varepsil...                 144  \n",
              "66050   Many applications including object reconstruct...                 296  \n",
              "112655  NVIDIA cuDNN is a low-level library that provi...                 165  \n",
              "\n",
              "[136154 rows x 10 columns]"
            ]
          },
          "execution_count": 1,
          "metadata": {},
          "output_type": "execute_result"
        }
      ],
      "source": [
        "import io\n",
        "import pandas as pd\n",
        "\n",
        "# Conjunto de datos como archivo CSV    \n",
        "dataset = pd.read_csv('./data/arXiv_scientific dataset.csv') \n",
        "\n",
        "# Eliminación de ariticulos repetidos 'title' \n",
        "dataset = dataset.drop_duplicates(subset='title', keep='first') \n",
        "\n",
        "dataset = dataset.sort_values(by='title')\n",
        "\n",
        "dataset"
      ]
    },
    {
      "cell_type": "code",
      "execution_count": 2,
      "metadata": {},
      "outputs": [
        {
          "name": "stderr",
          "output_type": "stream",
          "text": [
            "/tmp/ipykernel_477976/150849843.py:15: FutureWarning: \n",
            "\n",
            "Passing `palette` without assigning `hue` is deprecated and will be removed in v0.14.0. Assign the `y` variable to `hue` and set `legend=False` for the same effect.\n",
            "\n",
            "  sns.barplot(x=top_categories.values, y=top_categories.index, palette=\"viridis\")\n"
          ]
        },
        {
          "data": {
            "image/png": "[encoded data removed]",
            "text/plain": [
              "<Figure size 1200x600 with 1 Axes>"
            ]
          },
          "metadata": {},
          "output_type": "display_data"
        }
      ],
      "source": [
        "import matplotlib.pyplot as plt\n",
        "import seaborn as sns\n",
        "\n",
        "category_counts = dataset['category'].value_counts()\n",
        "unique_categories = dataset['category'].unique()\n",
        "total = 0\n",
        "for i, category in enumerate(unique_categories, start=1):\n",
        "    count = category_counts[category]\n",
        "    total += 1\n",
        "    #print(f\"{i}. {category} : {count} data\")\n",
        "\n",
        "top_categories = category_counts.head(15)\n",
        "\n",
        "plt.figure(figsize=(12, 6))\n",
        "sns.barplot(x=top_categories.values, y=top_categories.index, palette=\"viridis\")\n",
        "plt.title(f'Top 15 categorías más frecuentes en el dataset (total de  categorías: {total})')\n",
        "plt.xlabel('Cantidad de datos')\n",
        "plt.ylabel('Categoría')\n",
        "plt.tight_layout()\n",
        "plt.savefig('./figures/top15_categories_hist.png')\n",
        "plt.show()\n"
      ]
    },
    {
      "cell_type": "markdown",
      "metadata": {},
      "source": [
        "**Figura 1.** Top 15 categorías más frecuentes en el dataset."
      ]
    },
    {
      "cell_type": "markdown",
      "metadata": {},
      "source": [
        "Como se puede ver en la figura 1 la mayor cantidad de datos son sobre aprendizaje de máquina (*Machine Learning*, ML) seguido de visión por computador (*Computer Vision*, CV) y procesamiento de lenguaje natural (*Natural Language Processing*, PNL). Por lo tanto, desde el corpus el modelo entrenado esta sesgado hacía los algoritmos y procesamientos de estas disciplinas, por ejemplo, red neuronal recurrente (*Recurrent Neural Network*, RNN) y convolucional (*Convolutional Neural Network*, CNN)."
      ]
    },
    {
      "cell_type": "markdown",
      "metadata": {},
      "source": [
        "## 2. Preprocesamiento del texto\n",
        "Se construyó un modelo de lenguaje carácter a carácter mediante una serie de pasos de preprocesamiento aplicados sobre un corpus textual:\n",
        "\n",
        "* **Construcción del vocabulario:** se extrajo el conjunto único de caracteres presentes en el texto (chars_vocab) y se definieron diccionarios de mapeo (*char2idx* y *idx2char*) para convertir caracteres en índices enteros y viceversa. Esta codificación facilitó el tratamiento del texto como una secuencia numérica.\n",
        "\n",
        "* **Tokenización:** el corpus completo fue tokenizado, es decir, cada carácter fue reemplazado por su correspondiente índice numérico según el vocabulario previamente definido.\n",
        "\n",
        "* **División del dataset y creación de secuencias**\n",
        "Para preparar los datos para el entrenamiento y la validación, el corpus tokenizado fue segmentado y estructurado de la siguiente manera.\n",
        "    *  **División del corpus:** el corpus tokenizado fue dividido en un conjunto de entrenamiento (90%) y un conjunto de validación (10%). La porción de validación fue reservada del final del corpus para asegurar una evaluación objetiva.\n",
        "    *  **Generación de secuencias:** se utilizó una ventana deslizante de 100 caracteres con stride = 1 para generar secuencias superpuestas de entrada (*X*) y sus correspondientes salidas (*y*) en el conjunto de entrenamiento. En validación, en cambio, se construyeron bloques consecutivos sin superposición. Las secuencias se estructuraron bajo un esquema *many-to-many*, en el que cada salida es la entrada desplazada un carácter hacia adelante."
      ]
    },
    {
      "cell_type": "markdown",
      "metadata": {},
      "source": [
        "#### Contrucción del vocabulario\n",
        "\n",
        "Se construyó un corpus textual concatenando los títulos y resúmenes de los artículos en formato secuencial. Cada entrada fue estructurada colocando el título, seguido por un salto de línea (*\\n*), el resumen correspondiente, otro salto de línea, y luego el siguiente título, repitiendo este patrón.\n",
        "\n",
        "Para esta tarea, se seleccionaron aleatoriamente 500 artículos del conjunto de datos original, y se utilizó esta muestra para generar un *\"book\"* continuo de texto, que sirvió como base para los análisis posteriores."
      ]
    },
    {
      "cell_type": "code",
      "execution_count": 3,
      "metadata": {},
      "outputs": [
        {
          "data": {
            "text/plain": [
              "'nonparametric bayesian deep networks with local competition \\nthe aim of this work is to enable inference of deep networks that retain high\\naccuracy for the least possible model complexity, with the latter deduced from\\nthe data during inference. to this end, we revisit deep networks that comprise\\ncompeting linear units, as opposed to nonlinear units that do not entail any\\nform of (local) competition. in this context, our main technical innovation\\nconsists in an inferential setup that leverages solid arguments from bayesian\\nnonparametrics. we infer both the needed set of connections or locally\\ncompeting sets of units, as well as the required floating-point precision for\\nstoring the network parameters. specifically, we introduce auxiliary discrete\\nlatent variables representing which initial network components are actually\\nneeded for modeling the data at hand, and perform bayesian inference over them\\nby imposing appropriate stick-breaking priors. as we experimentally show using\\nbenchmark d'"
            ]
          },
          "execution_count": 3,
          "metadata": {},
          "output_type": "execute_result"
        }
      ],
      "source": [
        "import random\n",
        "dataset = dataset.sample(100, random_state=42)  \n",
        "article_text = ''\n",
        "for index, row in dataset.iterrows():\n",
        "    article_text += row['title'] + ' \\n' + row['summary'] + ' \\n'    \n",
        "article_text = article_text.lower()\n",
        "article_text[:1000]"
      ]
    },
    {
      "cell_type": "markdown",
      "metadata": {},
      "source": [
        "En este caso se ve un texto sobre *ML* en el cual aparece un término especifico, *xgboost*, que es un algoritmo muy difundido en esta disciplina."
      ]
    },
    {
      "cell_type": "markdown",
      "metadata": {},
      "source": [
        "#### Preprocesamiento y codificación del Texto\n",
        "Se definió un tamaño de contexto de 100 caracteres, que se utilizó como ventana deslizante para la generación de secuencias de entrada. El preprocesamiento del texto se llevó a cabo utilizando herramientas de la biblioteca Keras, en particular, la función *pad_sequences* fue incorporada para aplicar relleno (*padding*) en las secuencias cuando fue necesario (ver *./src/callback.py*).\n",
        "\n",
        "El vocabulario se construyó a partir del conjunto único de caracteres presentes en el corpus completo (*article_text*). Luego, todos los caracteres fueron convertidos a minúsculas para reducir la dimensionalidad del vocabulario. Por último, a partir de este conjunto, se generaron dos diccionarios de mapeo:\n",
        "\n",
        "- *char2idx*: asignó un índice numérico único a cada carácter (tokenización).\n",
        "\n",
        "- *idx2char*: permitió la conversión inversa, de índices a caracteres.\n",
        "\n",
        "La longitud total del vocabulario de caracteres fue registrada para ser utilizada en etapas posteriores del modelo de lenguaje."
      ]
    },
    {
      "cell_type": "code",
      "execution_count": 4,
      "metadata": {},
      "outputs": [
        {
          "name": "stdout",
          "output_type": "stream",
          "text": [
            "\n",
            "      El vacabulary de caracteres es: {'c', '1', 'r', '@', '-', '(', 'k', 'z', '}', '2', '9', '4', '>', 't', 'e', 'x', 'v', '\\n', '.', 'q', '%', '8', '$', '^', ')', 'i', 's', '\"', ';', '?', '=', ':', '{', 'h', 'm', 'a', 'd', 'u', 'n', ' ', 'p', 'f', 'w', 'j', 'o', 'g', '/', 'l', 'b', '7', '+', ',', '0', '5', '&', 'y', '6', '_', '3', '\\\\', \"'\"}\n",
            "      Número total de caracteres únicos en el conjunto de datos: 61\n",
            "\n"
          ]
        }
      ],
      "source": [
        "# Definición del tamaño de contexto para las secuencias de entrada (número de caracteres utilizados como ventana de entrada)\n",
        "# Se define un tamaño de contexto de 100 caracteres, por lo tanto, no es necesario utilizar padding (from tensorflow.keras.utils import pad_sequences) \n",
        "max_context_size = 100\n",
        "\n",
        "# Extracción del vocabulario de caracteres: conjunto único de caracteres presentes en todo el corpus de texto\n",
        "chars_vocab = set(article_text)\n",
        "\n",
        "# Tamaño del vocabulario de caracteres\n",
        "vocab_size = len(chars_vocab)\n",
        "\n",
        "print(f'''\n",
        "      El vacabulary de caracteres es: {chars_vocab}\n",
        "      Número total de caracteres únicos en el conjunto de datos: {vocab_size}\n",
        "''')\n"
      ]
    },
    {
      "cell_type": "code",
      "execution_count": 5,
      "metadata": {},
      "outputs": [
        {
          "name": "stdout",
          "output_type": "stream",
          "text": [
            "char2idx (primeros 10): [('c', 0), ('1', 1), ('r', 2), ('@', 3), ('-', 4), ('(', 5), ('k', 6), ('z', 7), ('}', 8), ('2', 9)]\n",
            "idx2char (primeros 10): [(0, 'c'), (1, '1'), (2, 'r'), (3, '@'), (4, '-'), (5, '('), (6, 'k'), (7, 'z'), (8, '}'), (9, '2')]\n"
          ]
        }
      ],
      "source": [
        "# Construcción de los diccionarios de mapeo entre caracteres e índices numéricos\n",
        "# `char2idx` actúa como tokenizador (carácter → índice)\n",
        "char2idx = {k: v for v, k in enumerate(chars_vocab)}\n",
        "print(f'char2idx (primeros 10): {list(char2idx.items())[:10]}')\n",
        "\n",
        "# `idx2char` permite la conversión inversa (índice → carácter)\n",
        "idx2char = {v: k for k, v in char2idx.items()}\n",
        "print(f'idx2char (primeros 10): {list(idx2char.items())[:10]}')\n"
      ]
    },
    {
      "cell_type": "markdown",
      "metadata": {},
      "source": [
        "Como se puede ver en la primera tupla de la salida, *(1, @)*, el índice *1* se asocia con el carácter *@*. Esto significa que cuando el modelo encuentra el índice *1*, lo interpretará como el carácter *@*. Por lo tanto, al buscar el índice *1* en *idx2char*, se utiliza *1* como clave para mapear en el diccionario, y se devuelve su valor asociado que es el carácter *@*."
      ]
    },
    {
      "cell_type": "markdown",
      "metadata": {},
      "source": [
        "###  Tokenización"
      ]
    },
    {
      "cell_type": "code",
      "execution_count": 6,
      "metadata": {},
      "outputs": [
        {
          "name": "stdout",
          "output_type": "stream",
          "text": [
            "[38, 44, 38, 40, 35, 2, 35, 34, 14, 13, 2, 25, 0, 39, 48, 35, 55, 14, 26, 25, 35, 38, 39, 36, 14, 14, 40, 39, 38, 14, 13, 42, 44, 2, 6, 26, 39, 42, 25, 13, 33, 39, 47, 44, 0, 35, 47, 39, 0, 44, 34, 40, 14, 13, 25, 13, 25, 44, 38, 39, 17, 13, 33, 14, 39, 35, 25, 34, 39, 44, 41, 39, 13, 33, 25, 26, 39, 42, 44, 2, 6, 39, 25, 26, 39, 13, 44, 39, 14, 38, 35, 48, 47, 14, 39, 25, 38, 41, 14, 2, 14, 38, 0, 14, 39, 44, 41, 39, 36, 14, 14, 40, 39, 38, 14, 13, 42, 44, 2, 6, 26, 39, 13, 33, 35, 13, 39, 2, 14, 13, 35, 25, 38, 39, 33, 25, 45, 33, 17, 35, 0, 0, 37, 2, 35, 0, 55, 39, 41, 44, 2, 39, 13, 33, 14, 39, 47, 14, 35, 26, 13, 39, 40, 44, 26, 26, 25, 48, 47, 14, 39, 34, 44, 36, 14, 47, 39, 0, 44, 34, 40, 47, 14, 15, 25, 13, 55, 51, 39, 42, 25, 13, 33, 39, 13, 33, 14, 39, 47, 35, 13, 13, 14, 2, 39, 36, 14, 36, 37, 0, 14, 36, 39, 41, 2, 44, 34, 17, 13, 33, 14, 39, 36, 35, 13, 35, 39, 36, 37, 2, 25, 38, 45, 39, 25, 38, 41, 14, 2, 14, 38, 0, 14, 18, 39, 13, 44, 39, 13, 33, 25, 26, 39, 14, 38, 36, 51, 39, 42, 14, 39, 2, 14, 16, 25, 26, 25, 13, 39, 36, 14, 14, 40, 39, 38, 14, 13, 42, 44, 2, 6, 26, 39, 13, 33, 35, 13, 39, 0, 44, 34, 40, 2, 25, 26, 14, 17, 0, 44, 34, 40, 14, 13, 25, 38, 45, 39, 47, 25, 38, 14, 35, 2, 39, 37, 38, 25, 13, 26, 51, 39, 35, 26, 39, 44, 40, 40, 44, 26, 14, 36, 39, 13, 44, 39, 38, 44, 38, 47, 25, 38, 14, 35, 2, 39, 37, 38, 25, 13, 26, 39, 13, 33, 35, 13, 39, 36, 44, 39, 38, 44, 13, 39, 14, 38, 13, 35, 25, 47, 39, 35, 38, 55, 17, 41, 44, 2, 34, 39, 44, 41, 39, 5, 47, 44, 0, 35, 47, 24, 39, 0, 44, 34, 40, 14, 13, 25, 13, 25, 44, 38, 18, 39, 25, 38, 39, 13, 33, 25, 26, 39, 0, 44, 38, 13, 14, 15, 13, 51, 39, 44, 37, 2, 39, 34, 35, 25, 38, 39, 13, 14, 0, 33, 38, 25, 0, 35, 47, 39, 25, 38, 38, 44, 16, 35, 13, 25, 44, 38, 17, 0, 44, 38, 26, 25, 26, 13, 26, 39, 25, 38, 39, 35, 38, 39, 25, 38, 41, 14, 2, 14, 38, 13, 25, 35, 47, 39, 26, 14, 13, 37, 40, 39, 13, 33, 35, 13, 39, 47, 14, 16, 14, 2, 35, 45, 14, 26, 39, 26, 44, 47, 25, 36, 39, 35, 2, 45, 37, 34, 14, 38, 13, 26, 39, 41, 2, 44, 34, 39, 48, 35, 55, 14, 26, 25, 35, 38, 17, 38, 44, 38, 40, 35, 2, 35, 34, 14, 13, 2, 25, 0, 26, 18, 39, 42, 14, 39, 25, 38, 41, 14, 2, 39, 48, 44, 13, 33, 39, 13, 33, 14, 39, 38, 14, 14, 36, 14, 36, 39, 26, 14, 13, 39, 44, 41, 39, 0, 44, 38, 38, 14, 0, 13, 25, 44, 38, 26, 39, 44, 2, 39, 47, 44, 0, 35, 47, 47, 55, 17, 0, 44, 34, 40, 14, 13, 25, 38, 45, 39, 26, 14, 13, 26, 39, 44, 41, 39, 37, 38, 25, 13, 26, 51, 39, 35, 26, 39, 42, 14, 47, 47, 39, 35, 26, 39, 13, 33, 14, 39, 2, 14, 19, 37, 25, 2, 14, 36, 39, 41, 47, 44, 35, 13, 25, 38, 45, 4, 40, 44, 25, 38, 13, 39, 40, 2, 14, 0, 25, 26, 25, 44, 38, 39, 41, 44, 2, 17, 26, 13, 44, 2, 25, 38, 45, 39, 13, 33, 14, 39, 38, 14, 13, 42, 44, 2, 6, 39, 40, 35, 2, 35, 34, 14, 13, 14, 2, 26, 18, 39, 26, 40, 14, 0, 25, 41, 25, 0, 35, 47, 47, 55, 51, 39, 42, 14, 39, 25, 38, 13, 2, 44, 36, 37, 0, 14, 39, 35, 37, 15, 25, 47, 25, 35, 2, 55, 39, 36, 25, 26, 0, 2, 14, 13, 14, 17, 47, 35, 13, 14, 38, 13, 39, 16, 35, 2, 25, 35, 48, 47, 14, 26, 39, 2, 14, 40, 2, 14, 26, 14, 38, 13, 25, 38, 45, 39, 42, 33, 25, 0, 33, 39, 25, 38, 25, 13, 25, 35, 47, 39, 38, 14, 13, 42, 44, 2, 6, 39, 0, 44, 34, 40, 44, 38, 14, 38, 13, 26, 39, 35, 2, 14, 39, 35, 0, 13, 37, 35, 47, 47, 55, 17, 38, 14, 14, 36, 14, 36, 39, 41, 44, 2, 39, 34, 44, 36, 14, 47, 25, 38, 45, 39, 13, 33, 14, 39, 36, 35, 13, 35, 39, 35, 13, 39, 33, 35, 38, 36, 51, 39, 35, 38, 36, 39, 40, 14, 2, 41, 44, 2, 34, 39, 48, 35, 55, 14, 26, 25, 35, 38, 39, 25, 38, 41, 14, 2, 14, 38, 0, 14, 39, 44, 16, 14, 2, 39, 13, 33, 14, 34, 17, 48, 55, 39, 25, 34, 40, 44, 26, 25, 38, 45, 39, 35, 40, 40, 2, 44, 40, 2, 25, 35, 13, 14, 39, 26, 13, 25, 0, 6, 4, 48, 2, 14, 35, 6, 25, 38, 45, 39, 40, 2, 25, 44, 2, 26, 18, 39, 35, 26, 39, 42, 14, 39, 14, 15, 40, 14, 2, 25, 34, 14, 38, 13, 35, 47, 47, 55, 39, 26, 33, 44, 42, 39, 37, 26, 25, 38, 45, 17, 48, 14, 38, 0, 33, 34, 35, 2, 6, 39, 36]\n"
          ]
        }
      ],
      "source": [
        "# Tokenización del texto completo: cada carácter del corpus se convierte en su índice correspondiente según el diccionario `char2idx`\n",
        "tokenized_text = [char2idx[ch] for ch in article_text]\n",
        "\n",
        "# Visualización de los primeros 1000 caracteres tokenizados\n",
        "print(tokenized_text[:1000])\n"
      ]
    },
    {
      "cell_type": "markdown",
      "metadata": {},
      "source": [
        "Se obervan los primeros 1000 caracteres tokenizados en valores de índice del diccionario."
      ]
    },
    {
      "cell_type": "markdown",
      "metadata": {},
      "source": [
        "### División del dataset y creación de secuencias\n",
        "Una vez completado el proceso de tokenización, el corpus numérico se dividió y estructuró para su uso en el entrenamiento y validación de cada modelo evaluado."
      ]
    },
    {
      "cell_type": "markdown",
      "metadata": {},
      "source": [
        "#### División del corpus\n",
        "Para preparar los datos para el entrenamiento y la validación, el texto tokenizado se segmentó en dos subconjuntos. El 10% final del corpus se reservó para el conjunto de validación, mientras que el 90% restante se destinó al conjunto de entrenamiento. Por lo tanto, esto asegura que el modelo sea evaluado con datos que no ha visto durante el entrenamiento, proporcionando una medida objetiva de su capacidad de generalización."
      ]
    },
    {
      "cell_type": "code",
      "execution_count": 7,
      "metadata": {},
      "outputs": [],
      "source": [
        "import numpy as np\n",
        "# Separación del dataset en entrenamiento y validación.\n",
        "# Definición de la proporción del corpus que será reservada para validación\n",
        "p_val = 0.1\n",
        "\n",
        "# Cálculo del número de secuencias de longitud `max_context_size` destinadas a validación\n",
        "num_val = int(np.ceil(len(tokenized_text) * p_val / max_context_size))\n",
        "\n",
        "# División del corpus tokenizado en conjunto de entrenamiento y validación\n",
        "# La parte final del corpus se reserva para validación; el resto se usa para entrenamiento\n",
        "train_text = tokenized_text[:-num_val * max_context_size]\n",
        "val_text = tokenized_text[-num_val * max_context_size:]\n"
      ]
    },
    {
      "cell_type": "markdown",
      "metadata": {},
      "source": [
        "#### Generación de las secuencias\n",
        "Las secuencias de entrada y salida fueron generadas para entrenar modelos de lenguaje de carácter a carácter. Según el propósito (entrenamiento o validación) fue la  estrategia aplicada en la creación de secuencias:\n",
        "\n",
        "* Secuencias de entrenamiento (con superposición):\n",
        "A partir del conjunto de entrenamiento, se utilizó una ventana deslizante con *stride = 1*, es decir, la ventana se muevió un carácter a la vez. Esto genera un gran número de secuencias altamente superpuestas, lo que permite al modelo ver múltiples contextos similares y mejorar su capacidad de generalización.\n",
        "\n",
        "* Secuencias de validación (sin superposición):\n",
        "Se generaron bloques consecutivos de longitud fija (*max_context_size*) a partir del conjunto de validación. Por lo tanto, cada bloque fue independiente, no hubo superposición entre ellos. Esta estructura es adecuada para evaluar el modelo de forma ordenada y sin redundancias durante el cálculo de métricas como la Perplejidad.\n",
        "\n",
        "* Construcción de *X* e *y*:\n",
        "Para cada secuencia de entrada *X[i]*, se asigna como salida esperada la siguiente secuencia *X[i+1]*. Esto permite que el modelo aprenda a predecir el siguiente carácter en una secuencia paso a paso, lo que se conoce como un enfoque many-to-many.\n",
        "\n",
        "* Ejemplo:\n",
        "Si *X[0] = [a, b, c]*, entonces *y[0] = [b, c, d]*."
      ]
    },
    {
      "cell_type": "code",
      "execution_count": 8,
      "metadata": {},
      "outputs": [
        {
          "name": "stdout",
          "output_type": "stream",
          "text": [
            "\n",
            "      Dimensión de X: (109419, 100) y sus primeras 5 secuencias: [38 44 38 40 35],\n",
            "      Dimension de y: (109419, 100) y sus primeras 5 secuencias: [44 38 40 35  2],\n",
            "      Tamaño del vocabulario: 61\n",
            "\n"
          ]
        }
      ],
      "source": [
        "# Generación de las secuencias de entrenamiento con una ventana deslizante (stride = 1)\n",
        "tokenized_sentences_train = [\n",
        "    train_text[init : init + max_context_size]\n",
        "    for init in range(len(train_text) - max_context_size + 1)\n",
        "]\n",
        "\n",
        "# Generación de las secuencias de validación (sin superposición): bloques consecutivos de `max_context_size` caracteres\n",
        "tokenized_sentences_val = [\n",
        "    val_text[init * max_context_size : init * (max_context_size + 1)]\n",
        "    for init in range(num_val)\n",
        "]\n",
        "\n",
        "# Construcción de los arrays de entrada (X) y salida (y) para entrenamiento supervisado\n",
        "# Cada entrada X[i] se asocia con la siguiente secuencia de entrada X[i+1], que actúa como salida esperada\n",
        "X = np.array(tokenized_sentences_train[:-1])\n",
        "y = np.array(tokenized_sentences_train[1:])\n",
        "\n",
        "print(f'''\n",
        "      Dimensión de X: {X.shape} y sus primeras 5 secuencias: {X[0,:5]},\n",
        "      Dimension de y: {y.shape} y sus primeras 5 secuencias: {y[0,:5]},\n",
        "      Tamaño del vocabulario: {vocab_size}\n",
        "''')\n"
      ]
    },
    {
      "cell_type": "markdown",
      "metadata": {},
      "source": [
        "Se estructuró el problema de aprendizaje siguiendo un esquema *many-to-many*.\n",
        "\n",
        "La entrada fue definida como una secuencia de tokens [$x_0$, $x_1$, ..., $x_N$], mientras que la salida objetivo correspondió a la misma secuencia desplazada una posición hacia adelante: [$x_1$, $x_2$, ..., $x_{N+1}$]. De este modo, se requería que la red aprendiera a predecir el carácter siguiente en cada paso temporal.\n",
        "\n",
        "Al estructurarse el aprendizaje de esta forma, se permitió que una señal de gradiente se propagara en cada paso de la secuencia a lo largo del grafo de cómputo recurrente, lo cual resultó más eficiente que un enfoque many-to-one, en el que solo una única señal de error se propaga.\n",
        "\n",
        "En esta etapa, las secuencias fueron tokenizadas y almacenadas en la variable *tokenized_sentences*. A partir de ellas, se extrajo un subconjunto que fue utilizado como conjunto de validación, con el fin de evaluar la calidad de las secuencias generadas mediante la métrica de Perplejidad."
      ]
    },
    {
      "cell_type": "markdown",
      "metadata": {},
      "source": [
        "## 3. Diseño del modelo:\n",
        "Se implementaron y evaluaron tres arquitecturas recurrentes clásicas para modelado de lenguaje carácter a carácter: *SimpleRNN*, *LSTM* y *GRU*. Estas variantes permiten comparar el desempeño de diferentes mecanismos de memoria y control secuencial sobre el mismo conjunto de datos y tareas.\n",
        "\n",
        "El modelo propuesto consume directamente índices enteros correspondientes a caracteres tokenizados, sin emplear una capa de embedding entrenable. En su lugar, la representación vectorial de cada carácter se realiza mediante codificación *one-hot* (OHE), aplicada a cada paso temporal de la secuencia.\n",
        "\n",
        "Esta transformación se implementó combinando las siguientes capas de *Keras*:\n",
        "\n",
        "- **CategoryEncoding:** transforma los índices enteros en vectores one-hot de dimensión igual al tamaño del vocabulario de caracteres.\n",
        "\n",
        "- **TimeDistributed:** permite aplicar la codificación *one-hot* a cada paso temporal de la secuencia, preservando así la estructura secuencial del *input*.\n",
        "\n",
        "Este diseño permite que la red procese la información carácter por carácter manteniendo la semántica temporal, sin incorporar una capa de embedding explícita."
      ]
    },
    {
      "cell_type": "code",
      "execution_count": 9,
      "metadata": {},
      "outputs": [],
      "source": [
        "# **Hiperparámetros de los modelos\n",
        "VOCAB_SIZE = vocab_size\n",
        "SEQUENCE_LENGTH = max_context_size\n",
        "EMBEDDING_DIM = 50\n",
        "RNN_UNITS = 64\n",
        "DROPOUT_RATE = 0.3\n",
        "PROJECTION_DIM = 32  # Es para GRU\n",
        "ACTIVATION = 'relu'\n",
        "OPTIMIZER_NAME = 'rmsprop'\n",
        "LEARNING_RATE = 0.001\n",
        "\n"
      ]
    },
    {
      "cell_type": "markdown",
      "metadata": {},
      "source": [
        "#### Arquitectura de la RNN simple"
      ]
    },
    {
      "cell_type": "code",
      "execution_count": 10,
      "metadata": {},
      "outputs": [
        {
          "name": "stderr",
          "output_type": "stream",
          "text": [
            "2025-08-09 03:03:00.239443: I tensorflow/core/util/port.cc:153] oneDNN custom operations are on. You may see slightly different numerical results due to floating-point round-off errors from different computation orders. To turn them off, set the environment variable `TF_ENABLE_ONEDNN_OPTS=0`.\n",
            "2025-08-09 03:03:00.256013: E external/local_xla/xla/stream_executor/cuda/cuda_fft.cc:467] Unable to register cuFFT factory: Attempting to register factory for plugin cuFFT when one has already been registered\n",
            "WARNING: All log messages before absl::InitializeLog() is called are written to STDERR\n",
            "E0000 00:00:1754719380.270372  477976 cuda_dnn.cc:8579] Unable to register cuDNN factory: Attempting to register factory for plugin cuDNN when one has already been registered\n",
            "E0000 00:00:1754719380.274726  477976 cuda_blas.cc:1407] Unable to register cuBLAS factory: Attempting to register factory for plugin cuBLAS when one has already been registered\n",
            "W0000 00:00:1754719380.289403  477976 computation_placer.cc:177] computation placer already registered. Please check linkage and avoid linking the same target more than once.\n",
            "W0000 00:00:1754719380.289428  477976 computation_placer.cc:177] computation placer already registered. Please check linkage and avoid linking the same target more than once.\n",
            "W0000 00:00:1754719380.289430  477976 computation_placer.cc:177] computation placer already registered. Please check linkage and avoid linking the same target more than once.\n",
            "W0000 00:00:1754719380.289432  477976 computation_placer.cc:177] computation placer already registered. Please check linkage and avoid linking the same target more than once.\n",
            "2025-08-09 03:03:00.294526: I tensorflow/core/platform/cpu_feature_guard.cc:210] This TensorFlow binary is optimized to use available CPU instructions in performance-critical operations.\n",
            "To enable the following instructions: AVX2 AVX_VNNI FMA, in other operations, rebuild TensorFlow with the appropriate compiler flags.\n",
            "/home/adrian/miniconda3/envs/tf_minimal_env/lib/python3.11/site-packages/requests/__init__.py:86: RequestsDependencyWarning: Unable to find acceptable character detection dependency (chardet or charset_normalizer).\n",
            "  warnings.warn(\n",
            "/home/adrian/miniconda3/envs/tf_minimal_env/lib/python3.11/site-packages/keras/src/layers/core/wrapper.py:27: UserWarning: Do not pass an `input_shape`/`input_dim` argument to a layer. When using Sequential models, prefer using an `Input(shape)` object as the first layer in the model instead.\n",
            "  super().__init__(**kwargs)\n",
            "I0000 00:00:1754719382.583272  477976 gpu_device.cc:2019] Created device /job:localhost/replica:0/task:0/device:GPU:0 with 13687 MB memory:  -> device: 0, name: NVIDIA GeForce RTX 3080 Ti Laptop GPU, pci bus id: 0000:01:00.0, compute capability: 8.6\n"
          ]
        },
        {
          "data": {
            "text/html": [
              "<pre style=\"white-space:pre;overflow-x:auto;line-height:normal;font-family:Menlo,'DejaVu Sans Mono',consolas,'Courier New',monospace\"><span style=\"font-weight: bold\">Model: \"sequential\"</span>\n",
              "</pre>\n"
            ],
            "text/plain": [
              "\u001b[1mModel: \"sequential\"\u001b[0m\n"
            ]
          },
          "metadata": {},
          "output_type": "display_data"
        },
        {
          "data": {
            "text/html": [
              "<pre style=\"white-space:pre;overflow-x:auto;line-height:normal;font-family:Menlo,'DejaVu Sans Mono',consolas,'Courier New',monospace\">┏━━━━━━━━━━━━━━━━━━━━━━━━━━━━━━━━━┳━━━━━━━━━━━━━━━━━━━━━━━━┳━━━━━━━━━━━━━━━┓\n",
              "┃<span style=\"font-weight: bold\"> Layer (type)                    </span>┃<span style=\"font-weight: bold\"> Output Shape           </span>┃<span style=\"font-weight: bold\">       Param # </span>┃\n",
              "┡━━━━━━━━━━━━━━━━━━━━━━━━━━━━━━━━━╇━━━━━━━━━━━━━━━━━━━━━━━━╇━━━━━━━━━━━━━━━┩\n",
              "│ time_distributed                │ (<span style=\"color: #00d7ff; text-decoration-color: #00d7ff\">None</span>, <span style=\"color: #00af00; text-decoration-color: #00af00\">100</span>, <span style=\"color: #00af00; text-decoration-color: #00af00\">61</span>)        │             <span style=\"color: #00af00; text-decoration-color: #00af00\">0</span> │\n",
              "│ (<span style=\"color: #0087ff; text-decoration-color: #0087ff\">TimeDistributed</span>)               │                        │               │\n",
              "├─────────────────────────────────┼────────────────────────┼───────────────┤\n",
              "│ simple_rnn (<span style=\"color: #0087ff; text-decoration-color: #0087ff\">SimpleRNN</span>)          │ (<span style=\"color: #00d7ff; text-decoration-color: #00d7ff\">None</span>, <span style=\"color: #00af00; text-decoration-color: #00af00\">100</span>, <span style=\"color: #00af00; text-decoration-color: #00af00\">64</span>)        │         <span style=\"color: #00af00; text-decoration-color: #00af00\">8,064</span> │\n",
              "├─────────────────────────────────┼────────────────────────┼───────────────┤\n",
              "│ dense (<span style=\"color: #0087ff; text-decoration-color: #0087ff\">Dense</span>)                   │ (<span style=\"color: #00d7ff; text-decoration-color: #00d7ff\">None</span>, <span style=\"color: #00af00; text-decoration-color: #00af00\">100</span>, <span style=\"color: #00af00; text-decoration-color: #00af00\">61</span>)        │         <span style=\"color: #00af00; text-decoration-color: #00af00\">3,965</span> │\n",
              "└─────────────────────────────────┴────────────────────────┴───────────────┘\n",
              "</pre>\n"
            ],
            "text/plain": [
              "┏━━━━━━━━━━━━━━━━━━━━━━━━━━━━━━━━━┳━━━━━━━━━━━━━━━━━━━━━━━━┳━━━━━━━━━━━━━━━┓\n",
              "┃\u001b[1m \u001b[0m\u001b[1mLayer (type)                   \u001b[0m\u001b[1m \u001b[0m┃\u001b[1m \u001b[0m\u001b[1mOutput Shape          \u001b[0m\u001b[1m \u001b[0m┃\u001b[1m \u001b[0m\u001b[1m      Param #\u001b[0m\u001b[1m \u001b[0m┃\n",
              "┡━━━━━━━━━━━━━━━━━━━━━━━━━━━━━━━━━╇━━━━━━━━━━━━━━━━━━━━━━━━╇━━━━━━━━━━━━━━━┩\n",
              "│ time_distributed                │ (\u001b[38;5;45mNone\u001b[0m, \u001b[38;5;34m100\u001b[0m, \u001b[38;5;34m61\u001b[0m)        │             \u001b[38;5;34m0\u001b[0m │\n",
              "│ (\u001b[38;5;33mTimeDistributed\u001b[0m)               │                        │               │\n",
              "├─────────────────────────────────┼────────────────────────┼───────────────┤\n",
              "│ simple_rnn (\u001b[38;5;33mSimpleRNN\u001b[0m)          │ (\u001b[38;5;45mNone\u001b[0m, \u001b[38;5;34m100\u001b[0m, \u001b[38;5;34m64\u001b[0m)        │         \u001b[38;5;34m8,064\u001b[0m │\n",
              "├─────────────────────────────────┼────────────────────────┼───────────────┤\n",
              "│ dense (\u001b[38;5;33mDense\u001b[0m)                   │ (\u001b[38;5;45mNone\u001b[0m, \u001b[38;5;34m100\u001b[0m, \u001b[38;5;34m61\u001b[0m)        │         \u001b[38;5;34m3,965\u001b[0m │\n",
              "└─────────────────────────────────┴────────────────────────┴───────────────┘\n"
            ]
          },
          "metadata": {},
          "output_type": "display_data"
        },
        {
          "data": {
            "text/html": [
              "<pre style=\"white-space:pre;overflow-x:auto;line-height:normal;font-family:Menlo,'DejaVu Sans Mono',consolas,'Courier New',monospace\"><span style=\"font-weight: bold\"> Total params: </span><span style=\"color: #00af00; text-decoration-color: #00af00\">12,029</span> (46.99 KB)\n",
              "</pre>\n"
            ],
            "text/plain": [
              "\u001b[1m Total params: \u001b[0m\u001b[38;5;34m12,029\u001b[0m (46.99 KB)\n"
            ]
          },
          "metadata": {},
          "output_type": "display_data"
        },
        {
          "data": {
            "text/html": [
              "<pre style=\"white-space:pre;overflow-x:auto;line-height:normal;font-family:Menlo,'DejaVu Sans Mono',consolas,'Courier New',monospace\"><span style=\"font-weight: bold\"> Trainable params: </span><span style=\"color: #00af00; text-decoration-color: #00af00\">12,029</span> (46.99 KB)\n",
              "</pre>\n"
            ],
            "text/plain": [
              "\u001b[1m Trainable params: \u001b[0m\u001b[38;5;34m12,029\u001b[0m (46.99 KB)\n"
            ]
          },
          "metadata": {},
          "output_type": "display_data"
        },
        {
          "data": {
            "text/html": [
              "<pre style=\"white-space:pre;overflow-x:auto;line-height:normal;font-family:Menlo,'DejaVu Sans Mono',consolas,'Courier New',monospace\"><span style=\"font-weight: bold\"> Non-trainable params: </span><span style=\"color: #00af00; text-decoration-color: #00af00\">0</span> (0.00 B)\n",
              "</pre>\n"
            ],
            "text/plain": [
              "\u001b[1m Non-trainable params: \u001b[0m\u001b[38;5;34m0\u001b[0m (0.00 B)\n"
            ]
          },
          "metadata": {},
          "output_type": "display_data"
        }
      ],
      "source": [
        "from src.architectures import SimpleRNNModel\n",
        "\n",
        "simple_rnn_model = SimpleRNNModel(\n",
        "    vocab_size=VOCAB_SIZE,\n",
        "    sequence_length=SEQUENCE_LENGTH,\n",
        "    rnn_units=RNN_UNITS,\n",
        "    dropout_rate=DROPOUT_RATE,\n",
        "    optimizer_name=OPTIMIZER_NAME,\n",
        "    learning_rate=LEARNING_RATE\n",
        ")\n",
        "simple_rnn_model.build()\n",
        "simple_rnn_model.summary()\n"
      ]
    },
    {
      "cell_type": "markdown",
      "metadata": {},
      "source": [
        "#### Arquitectura de la GRU"
      ]
    },
    {
      "cell_type": "code",
      "execution_count": 11,
      "metadata": {},
      "outputs": [
        {
          "name": "stderr",
          "output_type": "stream",
          "text": [
            "/home/adrian/miniconda3/envs/tf_minimal_env/lib/python3.11/site-packages/keras/src/layers/core/embedding.py:100: UserWarning: Do not pass an `input_shape`/`input_dim` argument to a layer. When using Sequential models, prefer using an `Input(shape)` object as the first layer in the model instead.\n",
            "  super().__init__(**kwargs)\n"
          ]
        },
        {
          "data": {
            "text/html": [
              "<pre style=\"white-space:pre;overflow-x:auto;line-height:normal;font-family:Menlo,'DejaVu Sans Mono',consolas,'Courier New',monospace\"><span style=\"font-weight: bold\">Model: \"sequential_1\"</span>\n",
              "</pre>\n"
            ],
            "text/plain": [
              "\u001b[1mModel: \"sequential_1\"\u001b[0m\n"
            ]
          },
          "metadata": {},
          "output_type": "display_data"
        },
        {
          "data": {
            "text/html": [
              "<pre style=\"white-space:pre;overflow-x:auto;line-height:normal;font-family:Menlo,'DejaVu Sans Mono',consolas,'Courier New',monospace\">┏━━━━━━━━━━━━━━━━━━━━━━━━━━━━━━━━━┳━━━━━━━━━━━━━━━━━━━━━━━━┳━━━━━━━━━━━━━━━┓\n",
              "┃<span style=\"font-weight: bold\"> Layer (type)                    </span>┃<span style=\"font-weight: bold\"> Output Shape           </span>┃<span style=\"font-weight: bold\">       Param # </span>┃\n",
              "┡━━━━━━━━━━━━━━━━━━━━━━━━━━━━━━━━━╇━━━━━━━━━━━━━━━━━━━━━━━━╇━━━━━━━━━━━━━━━┩\n",
              "│ embedding (<span style=\"color: #0087ff; text-decoration-color: #0087ff\">Embedding</span>)           │ (<span style=\"color: #00d7ff; text-decoration-color: #00d7ff\">None</span>, <span style=\"color: #00af00; text-decoration-color: #00af00\">100</span>, <span style=\"color: #00af00; text-decoration-color: #00af00\">50</span>)        │         <span style=\"color: #00af00; text-decoration-color: #00af00\">3,100</span> │\n",
              "├─────────────────────────────────┼────────────────────────┼───────────────┤\n",
              "│ gru (<span style=\"color: #0087ff; text-decoration-color: #0087ff\">GRU</span>)                       │ (<span style=\"color: #00d7ff; text-decoration-color: #00d7ff\">None</span>, <span style=\"color: #00af00; text-decoration-color: #00af00\">100</span>, <span style=\"color: #00af00; text-decoration-color: #00af00\">64</span>)        │        <span style=\"color: #00af00; text-decoration-color: #00af00\">22,272</span> │\n",
              "├─────────────────────────────────┼────────────────────────┼───────────────┤\n",
              "│ gru_1 (<span style=\"color: #0087ff; text-decoration-color: #0087ff\">GRU</span>)                     │ (<span style=\"color: #00d7ff; text-decoration-color: #00d7ff\">None</span>, <span style=\"color: #00af00; text-decoration-color: #00af00\">100</span>, <span style=\"color: #00af00; text-decoration-color: #00af00\">64</span>)        │        <span style=\"color: #00af00; text-decoration-color: #00af00\">24,960</span> │\n",
              "├─────────────────────────────────┼────────────────────────┼───────────────┤\n",
              "│ dense_1 (<span style=\"color: #0087ff; text-decoration-color: #0087ff\">Dense</span>)                 │ (<span style=\"color: #00d7ff; text-decoration-color: #00d7ff\">None</span>, <span style=\"color: #00af00; text-decoration-color: #00af00\">100</span>, <span style=\"color: #00af00; text-decoration-color: #00af00\">32</span>)        │         <span style=\"color: #00af00; text-decoration-color: #00af00\">2,080</span> │\n",
              "├─────────────────────────────────┼────────────────────────┼───────────────┤\n",
              "│ dense_2 (<span style=\"color: #0087ff; text-decoration-color: #0087ff\">Dense</span>)                 │ (<span style=\"color: #00d7ff; text-decoration-color: #00d7ff\">None</span>, <span style=\"color: #00af00; text-decoration-color: #00af00\">100</span>, <span style=\"color: #00af00; text-decoration-color: #00af00\">62</span>)        │         <span style=\"color: #00af00; text-decoration-color: #00af00\">2,046</span> │\n",
              "└─────────────────────────────────┴────────────────────────┴───────────────┘\n",
              "</pre>\n"
            ],
            "text/plain": [
              "┏━━━━━━━━━━━━━━━━━━━━━━━━━━━━━━━━━┳━━━━━━━━━━━━━━━━━━━━━━━━┳━━━━━━━━━━━━━━━┓\n",
              "┃\u001b[1m \u001b[0m\u001b[1mLayer (type)                   \u001b[0m\u001b[1m \u001b[0m┃\u001b[1m \u001b[0m\u001b[1mOutput Shape          \u001b[0m\u001b[1m \u001b[0m┃\u001b[1m \u001b[0m\u001b[1m      Param #\u001b[0m\u001b[1m \u001b[0m┃\n",
              "┡━━━━━━━━━━━━━━━━━━━━━━━━━━━━━━━━━╇━━━━━━━━━━━━━━━━━━━━━━━━╇━━━━━━━━━━━━━━━┩\n",
              "│ embedding (\u001b[38;5;33mEmbedding\u001b[0m)           │ (\u001b[38;5;45mNone\u001b[0m, \u001b[38;5;34m100\u001b[0m, \u001b[38;5;34m50\u001b[0m)        │         \u001b[38;5;34m3,100\u001b[0m │\n",
              "├─────────────────────────────────┼────────────────────────┼───────────────┤\n",
              "│ gru (\u001b[38;5;33mGRU\u001b[0m)                       │ (\u001b[38;5;45mNone\u001b[0m, \u001b[38;5;34m100\u001b[0m, \u001b[38;5;34m64\u001b[0m)        │        \u001b[38;5;34m22,272\u001b[0m │\n",
              "├─────────────────────────────────┼────────────────────────┼───────────────┤\n",
              "│ gru_1 (\u001b[38;5;33mGRU\u001b[0m)                     │ (\u001b[38;5;45mNone\u001b[0m, \u001b[38;5;34m100\u001b[0m, \u001b[38;5;34m64\u001b[0m)        │        \u001b[38;5;34m24,960\u001b[0m │\n",
              "├─────────────────────────────────┼────────────────────────┼───────────────┤\n",
              "│ dense_1 (\u001b[38;5;33mDense\u001b[0m)                 │ (\u001b[38;5;45mNone\u001b[0m, \u001b[38;5;34m100\u001b[0m, \u001b[38;5;34m32\u001b[0m)        │         \u001b[38;5;34m2,080\u001b[0m │\n",
              "├─────────────────────────────────┼────────────────────────┼───────────────┤\n",
              "│ dense_2 (\u001b[38;5;33mDense\u001b[0m)                 │ (\u001b[38;5;45mNone\u001b[0m, \u001b[38;5;34m100\u001b[0m, \u001b[38;5;34m62\u001b[0m)        │         \u001b[38;5;34m2,046\u001b[0m │\n",
              "└─────────────────────────────────┴────────────────────────┴───────────────┘\n"
            ]
          },
          "metadata": {},
          "output_type": "display_data"
        },
        {
          "data": {
            "text/html": [
              "<pre style=\"white-space:pre;overflow-x:auto;line-height:normal;font-family:Menlo,'DejaVu Sans Mono',consolas,'Courier New',monospace\"><span style=\"font-weight: bold\"> Total params: </span><span style=\"color: #00af00; text-decoration-color: #00af00\">54,458</span> (212.73 KB)\n",
              "</pre>\n"
            ],
            "text/plain": [
              "\u001b[1m Total params: \u001b[0m\u001b[38;5;34m54,458\u001b[0m (212.73 KB)\n"
            ]
          },
          "metadata": {},
          "output_type": "display_data"
        },
        {
          "data": {
            "text/html": [
              "<pre style=\"white-space:pre;overflow-x:auto;line-height:normal;font-family:Menlo,'DejaVu Sans Mono',consolas,'Courier New',monospace\"><span style=\"font-weight: bold\"> Trainable params: </span><span style=\"color: #00af00; text-decoration-color: #00af00\">54,458</span> (212.73 KB)\n",
              "</pre>\n"
            ],
            "text/plain": [
              "\u001b[1m Trainable params: \u001b[0m\u001b[38;5;34m54,458\u001b[0m (212.73 KB)\n"
            ]
          },
          "metadata": {},
          "output_type": "display_data"
        },
        {
          "data": {
            "text/html": [
              "<pre style=\"white-space:pre;overflow-x:auto;line-height:normal;font-family:Menlo,'DejaVu Sans Mono',consolas,'Courier New',monospace\"><span style=\"font-weight: bold\"> Non-trainable params: </span><span style=\"color: #00af00; text-decoration-color: #00af00\">0</span> (0.00 B)\n",
              "</pre>\n"
            ],
            "text/plain": [
              "\u001b[1m Non-trainable params: \u001b[0m\u001b[38;5;34m0\u001b[0m (0.00 B)\n"
            ]
          },
          "metadata": {},
          "output_type": "display_data"
        }
      ],
      "source": [
        "from src.architectures import GRUModel\n",
        "\n",
        "gru_model = GRUModel(\n",
        "    vocab_size=VOCAB_SIZE,\n",
        "    sequence_length=SEQUENCE_LENGTH,\n",
        "    embedding_dim=EMBEDDING_DIM,\n",
        "    rnn_units=RNN_UNITS,\n",
        "    dropout_rate=DROPOUT_RATE,\n",
        "    projection_dim=PROJECTION_DIM,\n",
        "    optimizer_name=OPTIMIZER_NAME,\n",
        "    learning_rate=LEARNING_RATE\n",
        ")\n",
        "gru_model.build()\n",
        "gru_model.summary()"
      ]
    },
    {
      "cell_type": "markdown",
      "metadata": {},
      "source": [
        "#### Arquitectura de la LSTM"
      ]
    },
    {
      "cell_type": "code",
      "execution_count": 12,
      "metadata": {},
      "outputs": [
        {
          "data": {
            "text/html": [
              "<pre style=\"white-space:pre;overflow-x:auto;line-height:normal;font-family:Menlo,'DejaVu Sans Mono',consolas,'Courier New',monospace\"><span style=\"font-weight: bold\">Model: \"sequential_2\"</span>\n",
              "</pre>\n"
            ],
            "text/plain": [
              "\u001b[1mModel: \"sequential_2\"\u001b[0m\n"
            ]
          },
          "metadata": {},
          "output_type": "display_data"
        },
        {
          "data": {
            "text/html": [
              "<pre style=\"white-space:pre;overflow-x:auto;line-height:normal;font-family:Menlo,'DejaVu Sans Mono',consolas,'Courier New',monospace\">┏━━━━━━━━━━━━━━━━━━━━━━━━━━━━━━━━━┳━━━━━━━━━━━━━━━━━━━━━━━━┳━━━━━━━━━━━━━━━┓\n",
              "┃<span style=\"font-weight: bold\"> Layer (type)                    </span>┃<span style=\"font-weight: bold\"> Output Shape           </span>┃<span style=\"font-weight: bold\">       Param # </span>┃\n",
              "┡━━━━━━━━━━━━━━━━━━━━━━━━━━━━━━━━━╇━━━━━━━━━━━━━━━━━━━━━━━━╇━━━━━━━━━━━━━━━┩\n",
              "│ embedding_1 (<span style=\"color: #0087ff; text-decoration-color: #0087ff\">Embedding</span>)         │ (<span style=\"color: #00d7ff; text-decoration-color: #00d7ff\">None</span>, <span style=\"color: #00af00; text-decoration-color: #00af00\">100</span>, <span style=\"color: #00af00; text-decoration-color: #00af00\">50</span>)        │         <span style=\"color: #00af00; text-decoration-color: #00af00\">3,100</span> │\n",
              "├─────────────────────────────────┼────────────────────────┼───────────────┤\n",
              "│ lstm (<span style=\"color: #0087ff; text-decoration-color: #0087ff\">LSTM</span>)                     │ (<span style=\"color: #00d7ff; text-decoration-color: #00d7ff\">None</span>, <span style=\"color: #00af00; text-decoration-color: #00af00\">100</span>, <span style=\"color: #00af00; text-decoration-color: #00af00\">64</span>)        │        <span style=\"color: #00af00; text-decoration-color: #00af00\">29,440</span> │\n",
              "├─────────────────────────────────┼────────────────────────┼───────────────┤\n",
              "│ dropout (<span style=\"color: #0087ff; text-decoration-color: #0087ff\">Dropout</span>)               │ (<span style=\"color: #00d7ff; text-decoration-color: #00d7ff\">None</span>, <span style=\"color: #00af00; text-decoration-color: #00af00\">100</span>, <span style=\"color: #00af00; text-decoration-color: #00af00\">64</span>)        │             <span style=\"color: #00af00; text-decoration-color: #00af00\">0</span> │\n",
              "├─────────────────────────────────┼────────────────────────┼───────────────┤\n",
              "│ lstm_1 (<span style=\"color: #0087ff; text-decoration-color: #0087ff\">LSTM</span>)                   │ (<span style=\"color: #00d7ff; text-decoration-color: #00d7ff\">None</span>, <span style=\"color: #00af00; text-decoration-color: #00af00\">100</span>, <span style=\"color: #00af00; text-decoration-color: #00af00\">64</span>)        │        <span style=\"color: #00af00; text-decoration-color: #00af00\">33,024</span> │\n",
              "├─────────────────────────────────┼────────────────────────┼───────────────┤\n",
              "│ dense_3 (<span style=\"color: #0087ff; text-decoration-color: #0087ff\">Dense</span>)                 │ (<span style=\"color: #00d7ff; text-decoration-color: #00d7ff\">None</span>, <span style=\"color: #00af00; text-decoration-color: #00af00\">100</span>, <span style=\"color: #00af00; text-decoration-color: #00af00\">32</span>)        │         <span style=\"color: #00af00; text-decoration-color: #00af00\">2,080</span> │\n",
              "├─────────────────────────────────┼────────────────────────┼───────────────┤\n",
              "│ dense_4 (<span style=\"color: #0087ff; text-decoration-color: #0087ff\">Dense</span>)                 │ (<span style=\"color: #00d7ff; text-decoration-color: #00d7ff\">None</span>, <span style=\"color: #00af00; text-decoration-color: #00af00\">100</span>, <span style=\"color: #00af00; text-decoration-color: #00af00\">62</span>)        │         <span style=\"color: #00af00; text-decoration-color: #00af00\">2,046</span> │\n",
              "└─────────────────────────────────┴────────────────────────┴───────────────┘\n",
              "</pre>\n"
            ],
            "text/plain": [
              "┏━━━━━━━━━━━━━━━━━━━━━━━━━━━━━━━━━┳━━━━━━━━━━━━━━━━━━━━━━━━┳━━━━━━━━━━━━━━━┓\n",
              "┃\u001b[1m \u001b[0m\u001b[1mLayer (type)                   \u001b[0m\u001b[1m \u001b[0m┃\u001b[1m \u001b[0m\u001b[1mOutput Shape          \u001b[0m\u001b[1m \u001b[0m┃\u001b[1m \u001b[0m\u001b[1m      Param #\u001b[0m\u001b[1m \u001b[0m┃\n",
              "┡━━━━━━━━━━━━━━━━━━━━━━━━━━━━━━━━━╇━━━━━━━━━━━━━━━━━━━━━━━━╇━━━━━━━━━━━━━━━┩\n",
              "│ embedding_1 (\u001b[38;5;33mEmbedding\u001b[0m)         │ (\u001b[38;5;45mNone\u001b[0m, \u001b[38;5;34m100\u001b[0m, \u001b[38;5;34m50\u001b[0m)        │         \u001b[38;5;34m3,100\u001b[0m │\n",
              "├─────────────────────────────────┼────────────────────────┼───────────────┤\n",
              "│ lstm (\u001b[38;5;33mLSTM\u001b[0m)                     │ (\u001b[38;5;45mNone\u001b[0m, \u001b[38;5;34m100\u001b[0m, \u001b[38;5;34m64\u001b[0m)        │        \u001b[38;5;34m29,440\u001b[0m │\n",
              "├─────────────────────────────────┼────────────────────────┼───────────────┤\n",
              "│ dropout (\u001b[38;5;33mDropout\u001b[0m)               │ (\u001b[38;5;45mNone\u001b[0m, \u001b[38;5;34m100\u001b[0m, \u001b[38;5;34m64\u001b[0m)        │             \u001b[38;5;34m0\u001b[0m │\n",
              "├─────────────────────────────────┼────────────────────────┼───────────────┤\n",
              "│ lstm_1 (\u001b[38;5;33mLSTM\u001b[0m)                   │ (\u001b[38;5;45mNone\u001b[0m, \u001b[38;5;34m100\u001b[0m, \u001b[38;5;34m64\u001b[0m)        │        \u001b[38;5;34m33,024\u001b[0m │\n",
              "├─────────────────────────────────┼────────────────────────┼───────────────┤\n",
              "│ dense_3 (\u001b[38;5;33mDense\u001b[0m)                 │ (\u001b[38;5;45mNone\u001b[0m, \u001b[38;5;34m100\u001b[0m, \u001b[38;5;34m32\u001b[0m)        │         \u001b[38;5;34m2,080\u001b[0m │\n",
              "├─────────────────────────────────┼────────────────────────┼───────────────┤\n",
              "│ dense_4 (\u001b[38;5;33mDense\u001b[0m)                 │ (\u001b[38;5;45mNone\u001b[0m, \u001b[38;5;34m100\u001b[0m, \u001b[38;5;34m62\u001b[0m)        │         \u001b[38;5;34m2,046\u001b[0m │\n",
              "└─────────────────────────────────┴────────────────────────┴───────────────┘\n"
            ]
          },
          "metadata": {},
          "output_type": "display_data"
        },
        {
          "data": {
            "text/html": [
              "<pre style=\"white-space:pre;overflow-x:auto;line-height:normal;font-family:Menlo,'DejaVu Sans Mono',consolas,'Courier New',monospace\"><span style=\"font-weight: bold\"> Total params: </span><span style=\"color: #00af00; text-decoration-color: #00af00\">69,690</span> (272.23 KB)\n",
              "</pre>\n"
            ],
            "text/plain": [
              "\u001b[1m Total params: \u001b[0m\u001b[38;5;34m69,690\u001b[0m (272.23 KB)\n"
            ]
          },
          "metadata": {},
          "output_type": "display_data"
        },
        {
          "data": {
            "text/html": [
              "<pre style=\"white-space:pre;overflow-x:auto;line-height:normal;font-family:Menlo,'DejaVu Sans Mono',consolas,'Courier New',monospace\"><span style=\"font-weight: bold\"> Trainable params: </span><span style=\"color: #00af00; text-decoration-color: #00af00\">69,690</span> (272.23 KB)\n",
              "</pre>\n"
            ],
            "text/plain": [
              "\u001b[1m Trainable params: \u001b[0m\u001b[38;5;34m69,690\u001b[0m (272.23 KB)\n"
            ]
          },
          "metadata": {},
          "output_type": "display_data"
        },
        {
          "data": {
            "text/html": [
              "<pre style=\"white-space:pre;overflow-x:auto;line-height:normal;font-family:Menlo,'DejaVu Sans Mono',consolas,'Courier New',monospace\"><span style=\"font-weight: bold\"> Non-trainable params: </span><span style=\"color: #00af00; text-decoration-color: #00af00\">0</span> (0.00 B)\n",
              "</pre>\n"
            ],
            "text/plain": [
              "\u001b[1m Non-trainable params: \u001b[0m\u001b[38;5;34m0\u001b[0m (0.00 B)\n"
            ]
          },
          "metadata": {},
          "output_type": "display_data"
        }
      ],
      "source": [
        "from src.architectures import LSTMModel\n",
        "\n",
        "lstm_model = LSTMModel(\n",
        "    vocab_size=VOCAB_SIZE,\n",
        "    sequence_length=SEQUENCE_LENGTH,\n",
        "    embedding_dim=EMBEDDING_DIM,\n",
        "    rnn_units=RNN_UNITS,\n",
        "    dropout_rate=DROPOUT_RATE,\n",
        "    projection_dim=PROJECTION_DIM,\n",
        "    optimizer_name=OPTIMIZER_NAME,\n",
        "    learning_rate=LEARNING_RATE\n",
        ")\n",
        "lstm_model.build()\n",
        "lstm_model.summary()"
      ]
    },
    {
      "cell_type": "markdown",
      "metadata": {},
      "source": [
        "### Callbacks\n",
        "En *src/PplCallback* fue desarrollado un *Callback ad-hoc* para el cálculo de la perplejidad, funcionando como una herramienta de monitorización y control del entrenamiento. Su diseño fue concebido para abordar las limitaciones de las métricas de pérdida estándar de *Keras* en el modelado de lenguaje. Este *Callback ad-hoc* fue integrado en el bucle de entrenamiento con el fin de proporcionar un seguimiento detallado y una gestión eficiente del proceso de aprendizaje.\n",
        "\n",
        "**Las principales ventajas de esta implementación fueron las siguientes:**\n",
        "\n",
        "Evaluación cuantitativa mediante perplejidad: a diferencia de la pérdida de entropía cruzada, la perplejidad fue utilizada como una medida más intuitiva del rendimiento de un modelo de lenguaje. El *Callback ad-hoc* fue encargado de calcular la perplejidad sobre un conjunto de validación al final de cada época, utilizando la fórmula:\n",
        "\n",
        "$$\n",
        "\\mathrm{PPL}(X) = \\exp\\left( -\\frac{1}{t} \\sum_{i=1}^{t} \\log p_{\\theta}\\left( w_i \\,\\middle|\\, w_{<i} \\right) \\right)\n",
        "$$\n",
        "\n",
        "\n",
        "donde $PPL$ es la perplejidad calculada con la probabilidad de *Cross-entropy* ($p_{\\theta}$) predicha por el modelo para el token objetivo. Esto fue así por cuestiones de estabilidad numérica, ya que conviene operar sobre los logaritmos de las probabilidades. Por lo tanto, este enfoque proporcionó un criterio robusto para evaluar la capacidad de generalización del modelo.\n",
        "\n",
        "**Detención temprana (*Early Stopping*):** una estrategia de *Early Stopping* basada en el monitoreo de la perplejidad fue implementada en el PplCallback. El valor mínimo de perplejidad (*min_score*) fue registrado, y el entrenamiento fue interrumpido de forma anticipada si dicha métrica no mejoraba durante un número predefinido de épocas (*patience*). Esta funcionalidad fue considerada crítica para evitar el sobreajuste (*overfitting*), situación en la cual el modelo comenzaba a memorizar los datos de entrenamiento en detrimento de su capacidad de generalización.\n",
        "\n",
        "**Persistencia del mejor modelo:** el modelo fue guardado automáticamente por el *Callback ad-hoc* cada vez que se observó una nueva perplejidad mínima en los datos de validación. Esta característica aseguró que la versión final del modelo conservada fuera aquella con el mejor desempeño de generalización, lo cual fue fundamental para el análisis de los resultados y la replicabilidad de los hallazgos. El nombre del archivo pudo ser configurado mediante el parámetro *model_name*.\n",
        "\n",
        "**Registro de historial:** el historial de perplejidad fue almacenado en una lista (*history_ppl*), lo que permitió un análisis post-mortem y una visualización clara del proceso de aprendizaje. Esto facilitó la identificación de la época óptima de entrenamiento y la comparación del desempeño entre diferentes arquitecturas de red.\n"
      ]
    },
    {
      "cell_type": "markdown",
      "metadata": {},
      "source": [
        "## 4. Entrenamiento de los modelos"
      ]
    },
    {
      "cell_type": "code",
      "execution_count": 16,
      "metadata": {},
      "outputs": [],
      "source": [
        "from src.callbacks import PplCallback\n",
        "\n",
        "BATCH_SIZE = 256\n",
        "EPOCHS = 50\n",
        "PATIENCE = 3"
      ]
    },
    {
      "cell_type": "code",
      "execution_count": 17,
      "metadata": {},
      "outputs": [
        {
          "name": "stdout",
          "output_type": "stream",
          "text": [
            "[INFO] Forma del conjunto validación: (7239, 100)\n",
            "[INFO] Total de subsecuencias procesadas: 7239\n",
            "[INFO] Longitud máxima de secuencia: 100\n"
          ]
        }
      ],
      "source": [
        "# Entrenamiento del modelo SimpleRNN\n",
        "history_ppl_rnn = []\n",
        "ppl_callback_rnn = PplCallback(\n",
        "    val_data=tokenized_sentences_val,\n",
        "    history_ppl=history_ppl_rnn,\n",
        "    maxlen=SEQUENCE_LENGTH,\n",
        "    model_name='models/simple_rnn_model',\n",
        "    patience=PATIENCE\n",
        ")"
      ]
    },
    {
      "cell_type": "code",
      "execution_count": 18,
      "metadata": {},
      "outputs": [
        {
          "name": "stdout",
          "output_type": "stream",
          "text": [
            "Epoch 1/50\n",
            "\u001b[1m428/428\u001b[0m \u001b[32m━━━━━━━━━━━━━━━━━━━━\u001b[0m\u001b[37m\u001b[0m \u001b[1m0s\u001b[0m 17ms/step - accuracy: 0.2609 - loss: 2.5349[EPOCH 1] Perplejidad media en validación: 10.2981\n",
            "[GUARDADO] Nuevo modelo con mejor perplejidad (10.2981) almacenado como 'models/simple_rnn_model.keras'\n",
            "\u001b[1m428/428\u001b[0m \u001b[32m━━━━━━━━━━━━━━━━━━━━\u001b[0m\u001b[37m\u001b[0m \u001b[1m8s\u001b[0m 20ms/step - accuracy: 0.2609 - loss: 2.5349\n",
            "Epoch 2/50\n",
            "\u001b[1m428/428\u001b[0m \u001b[32m━━━━━━━━━━━━━━━━━━━━\u001b[0m\u001b[37m\u001b[0m \u001b[1m0s\u001b[0m 15ms/step - accuracy: 0.2782 - loss: 2.4691[EPOCH 2] Perplejidad media en validación: 9.6748\n",
            "[GUARDADO] Nuevo modelo con mejor perplejidad (9.6748) almacenado como 'models/simple_rnn_model.keras'\n",
            "\u001b[1m428/428\u001b[0m \u001b[32m━━━━━━━━━━━━━━━━━━━━\u001b[0m\u001b[37m\u001b[0m \u001b[1m7s\u001b[0m 17ms/step - accuracy: 0.2782 - loss: 2.4690\n",
            "Epoch 3/50\n",
            "\u001b[1m427/428\u001b[0m \u001b[32m━━━━━━━━━━━━━━━━━━━\u001b[0m\u001b[37m━\u001b[0m \u001b[1m0s\u001b[0m 16ms/step - accuracy: 0.2892 - loss: 2.4276[EPOCH 3] Perplejidad media en validación: 9.4346\n",
            "[GUARDADO] Nuevo modelo con mejor perplejidad (9.4346) almacenado como 'models/simple_rnn_model.keras'\n",
            "\u001b[1m428/428\u001b[0m \u001b[32m━━━━━━━━━━━━━━━━━━━━\u001b[0m\u001b[37m\u001b[0m \u001b[1m8s\u001b[0m 18ms/step - accuracy: 0.2892 - loss: 2.4276\n",
            "Epoch 4/50\n",
            "\u001b[1m426/428\u001b[0m \u001b[32m━━━━━━━━━━━━━━━━━━━\u001b[0m\u001b[37m━\u001b[0m \u001b[1m0s\u001b[0m 16ms/step - accuracy: 0.2960 - loss: 2.4000[EPOCH 4] Perplejidad media en validación: 9.1817\n",
            "[GUARDADO] Nuevo modelo con mejor perplejidad (9.1817) almacenado como 'models/simple_rnn_model.keras'\n",
            "\u001b[1m428/428\u001b[0m \u001b[32m━━━━━━━━━━━━━━━━━━━━\u001b[0m\u001b[37m\u001b[0m \u001b[1m8s\u001b[0m 18ms/step - accuracy: 0.2961 - loss: 2.4000\n",
            "Epoch 5/50\n",
            "\u001b[1m426/428\u001b[0m \u001b[32m━━━━━━━━━━━━━━━━━━━\u001b[0m\u001b[37m━\u001b[0m \u001b[1m0s\u001b[0m 16ms/step - accuracy: 0.3006 - loss: 2.3831[EPOCH 5] Perplejidad media en validación: 8.9749\n",
            "[GUARDADO] Nuevo modelo con mejor perplejidad (8.9749) almacenado como 'models/simple_rnn_model.keras'\n",
            "\u001b[1m428/428\u001b[0m \u001b[32m━━━━━━━━━━━━━━━━━━━━\u001b[0m\u001b[37m\u001b[0m \u001b[1m8s\u001b[0m 18ms/step - accuracy: 0.3006 - loss: 2.3831\n",
            "Epoch 6/50\n",
            "\u001b[1m428/428\u001b[0m \u001b[32m━━━━━━━━━━━━━━━━━━━━\u001b[0m\u001b[37m\u001b[0m \u001b[1m0s\u001b[0m 16ms/step - accuracy: 0.3040 - loss: 2.3679[EPOCH 6] Perplejidad media en validación: 8.7837\n",
            "[GUARDADO] Nuevo modelo con mejor perplejidad (8.7837) almacenado como 'models/simple_rnn_model.keras'\n",
            "\u001b[1m428/428\u001b[0m \u001b[32m━━━━━━━━━━━━━━━━━━━━\u001b[0m\u001b[37m\u001b[0m \u001b[1m8s\u001b[0m 18ms/step - accuracy: 0.3041 - loss: 2.3679\n",
            "Epoch 7/50\n",
            "\u001b[1m426/428\u001b[0m \u001b[32m━━━━━━━━━━━━━━━━━━━\u001b[0m\u001b[37m━\u001b[0m \u001b[1m0s\u001b[0m 16ms/step - accuracy: 0.3067 - loss: 2.3570[EPOCH 7] Perplejidad media en validación: 8.7948\n",
            "[INFO] No se observó mejora. Paciencia: 1/3\n",
            "\u001b[1m428/428\u001b[0m \u001b[32m━━━━━━━━━━━━━━━━━━━━\u001b[0m\u001b[37m\u001b[0m \u001b[1m8s\u001b[0m 18ms/step - accuracy: 0.3067 - loss: 2.3570\n",
            "Epoch 8/50\n",
            "\u001b[1m425/428\u001b[0m \u001b[32m━━━━━━━━━━━━━━━━━━━\u001b[0m\u001b[37m━\u001b[0m \u001b[1m0s\u001b[0m 16ms/step - accuracy: 0.3084 - loss: 2.3499[EPOCH 8] Perplejidad media en validación: 8.8474\n",
            "[INFO] No se observó mejora. Paciencia: 2/3\n",
            "\u001b[1m428/428\u001b[0m \u001b[32m━━━━━━━━━━━━━━━━━━━━\u001b[0m\u001b[37m\u001b[0m \u001b[1m8s\u001b[0m 18ms/step - accuracy: 0.3084 - loss: 2.3499\n",
            "Epoch 9/50\n",
            "\u001b[1m428/428\u001b[0m \u001b[32m━━━━━━━━━━━━━━━━━━━━\u001b[0m\u001b[37m\u001b[0m \u001b[1m0s\u001b[0m 16ms/step - accuracy: 0.3100 - loss: 2.3422[EPOCH 9] Perplejidad media en validación: 8.7326\n",
            "[GUARDADO] Nuevo modelo con mejor perplejidad (8.7326) almacenado como 'models/simple_rnn_model.keras'\n",
            "\u001b[1m428/428\u001b[0m \u001b[32m━━━━━━━━━━━━━━━━━━━━\u001b[0m\u001b[37m\u001b[0m \u001b[1m8s\u001b[0m 18ms/step - accuracy: 0.3100 - loss: 2.3422\n",
            "Epoch 10/50\n",
            "\u001b[1m428/428\u001b[0m \u001b[32m━━━━━━━━━━━━━━━━━━━━\u001b[0m\u001b[37m\u001b[0m \u001b[1m0s\u001b[0m 15ms/step - accuracy: 0.3112 - loss: 2.3372[EPOCH 10] Perplejidad media en validación: 8.7995\n",
            "[INFO] No se observó mejora. Paciencia: 1/3\n",
            "\u001b[1m428/428\u001b[0m \u001b[32m━━━━━━━━━━━━━━━━━━━━\u001b[0m\u001b[37m\u001b[0m \u001b[1m7s\u001b[0m 17ms/step - accuracy: 0.3112 - loss: 2.3372\n",
            "Epoch 11/50\n",
            "\u001b[1m428/428\u001b[0m \u001b[32m━━━━━━━━━━━━━━━━━━━━\u001b[0m\u001b[37m\u001b[0m \u001b[1m0s\u001b[0m 15ms/step - accuracy: 0.3114 - loss: 2.3357[EPOCH 11] Perplejidad media en validación: 8.8059\n",
            "[INFO] No se observó mejora. Paciencia: 2/3\n",
            "\u001b[1m428/428\u001b[0m \u001b[32m━━━━━━━━━━━━━━━━━━━━\u001b[0m\u001b[37m\u001b[0m \u001b[1m7s\u001b[0m 17ms/step - accuracy: 0.3114 - loss: 2.3357\n",
            "Epoch 12/50\n",
            "\u001b[1m427/428\u001b[0m \u001b[32m━━━━━━━━━━━━━━━━━━━\u001b[0m\u001b[37m━\u001b[0m \u001b[1m0s\u001b[0m 18ms/step - accuracy: 0.3131 - loss: 2.3284[EPOCH 12] Perplejidad media en validación: 8.7970\n",
            "[INFO] No se observó mejora. Paciencia: 3/3\n",
            "[DETENCIÓN ANTICIPADA] Se detiene el entrenamiento tras 3 épocas sin mejora.\n",
            "\u001b[1m428/428\u001b[0m \u001b[32m━━━━━━━━━━━━━━━━━━━━\u001b[0m\u001b[37m\u001b[0m \u001b[1m9s\u001b[0m 20ms/step - accuracy: 0.3131 - loss: 2.3284\n"
          ]
        }
      ],
      "source": [
        "\n",
        "\n",
        "hist_rnn = simple_rnn_model.model.fit(\n",
        "    X,\n",
        "    y,\n",
        "    epochs=EPOCHS,\n",
        "    batch_size=BATCH_SIZE,\n",
        "    callbacks=[ppl_callback_rnn]\n",
        ")\n"
      ]
    },
    {
      "cell_type": "code",
      "execution_count": 19,
      "metadata": {},
      "outputs": [
        {
          "name": "stdout",
          "output_type": "stream",
          "text": [
            "[INFO] Forma del conjunto validación: (7239, 100)\n",
            "[INFO] Total de subsecuencias procesadas: 7239\n",
            "[INFO] Longitud máxima de secuencia: 100\n"
          ]
        }
      ],
      "source": [
        "# Entrenamiento del modelo GRU\n",
        "history_ppl_gru = []\n",
        "ppl_callback_gru = PplCallback(\n",
        "    val_data=tokenized_sentences_val,\n",
        "    history_ppl=history_ppl_gru,\n",
        "    maxlen=SEQUENCE_LENGTH,\n",
        "    model_name='models/gru_model',\n",
        "    patience=PATIENCE\n",
        ")"
      ]
    },
    {
      "cell_type": "code",
      "execution_count": 20,
      "metadata": {},
      "outputs": [
        {
          "name": "stdout",
          "output_type": "stream",
          "text": [
            "Epoch 1/50\n",
            "\u001b[1m428/428\u001b[0m \u001b[32m━━━━━━━━━━━━━━━━━━━━\u001b[0m\u001b[37m\u001b[0m \u001b[1m0s\u001b[0m 763ms/step - accuracy: 0.1507 - loss: 3.0930[EPOCH 1] Perplejidad media en validación: 12.7732\n",
            "[GUARDADO] Nuevo modelo con mejor perplejidad (12.7732) almacenado como 'models/gru_model.keras'\n",
            "\u001b[1m428/428\u001b[0m \u001b[32m━━━━━━━━━━━━━━━━━━━━\u001b[0m\u001b[37m\u001b[0m \u001b[1m367s\u001b[0m 846ms/step - accuracy: 0.1509 - loss: 3.0924\n",
            "Epoch 2/50\n",
            "\u001b[1m428/428\u001b[0m \u001b[32m━━━━━━━━━━━━━━━━━━━━\u001b[0m\u001b[37m\u001b[0m \u001b[1m0s\u001b[0m 735ms/step - accuracy: 0.2974 - loss: 2.4281[EPOCH 2] Perplejidad media en validación: 10.7229\n",
            "[GUARDADO] Nuevo modelo con mejor perplejidad (10.7229) almacenado como 'models/gru_model.keras'\n",
            "\u001b[1m428/428\u001b[0m \u001b[32m━━━━━━━━━━━━━━━━━━━━\u001b[0m\u001b[37m\u001b[0m \u001b[1m349s\u001b[0m 816ms/step - accuracy: 0.2974 - loss: 2.4279\n",
            "Epoch 3/50\n",
            "\u001b[1m428/428\u001b[0m \u001b[32m━━━━━━━━━━━━━━━━━━━━\u001b[0m\u001b[37m\u001b[0m \u001b[1m0s\u001b[0m 735ms/step - accuracy: 0.3643 - loss: 2.1701[EPOCH 3] Perplejidad media en validación: 8.5790\n",
            "[GUARDADO] Nuevo modelo con mejor perplejidad (8.5790) almacenado como 'models/gru_model.keras'\n",
            "\u001b[1m428/428\u001b[0m \u001b[32m━━━━━━━━━━━━━━━━━━━━\u001b[0m\u001b[37m\u001b[0m \u001b[1m349s\u001b[0m 815ms/step - accuracy: 0.3643 - loss: 2.1700\n",
            "Epoch 4/50\n",
            "\u001b[1m428/428\u001b[0m \u001b[32m━━━━━━━━━━━━━━━━━━━━\u001b[0m\u001b[37m\u001b[0m \u001b[1m0s\u001b[0m 739ms/step - accuracy: 0.4048 - loss: 2.0244[EPOCH 4] Perplejidad media en validación: 7.7205\n",
            "[GUARDADO] Nuevo modelo con mejor perplejidad (7.7205) almacenado como 'models/gru_model.keras'\n",
            "\u001b[1m428/428\u001b[0m \u001b[32m━━━━━━━━━━━━━━━━━━━━\u001b[0m\u001b[37m\u001b[0m \u001b[1m352s\u001b[0m 823ms/step - accuracy: 0.4049 - loss: 2.0244\n",
            "Epoch 5/50\n",
            "\u001b[1m428/428\u001b[0m \u001b[32m━━━━━━━━━━━━━━━━━━━━\u001b[0m\u001b[37m\u001b[0m \u001b[1m0s\u001b[0m 737ms/step - accuracy: 0.4296 - loss: 1.9298[EPOCH 5] Perplejidad media en validación: 7.3490\n",
            "[GUARDADO] Nuevo modelo con mejor perplejidad (7.3490) almacenado como 'models/gru_model.keras'\n",
            "\u001b[1m428/428\u001b[0m \u001b[32m━━━━━━━━━━━━━━━━━━━━\u001b[0m\u001b[37m\u001b[0m \u001b[1m350s\u001b[0m 817ms/step - accuracy: 0.4296 - loss: 1.9297\n",
            "Epoch 6/50\n",
            "\u001b[1m428/428\u001b[0m \u001b[32m━━━━━━━━━━━━━━━━━━━━\u001b[0m\u001b[37m\u001b[0m \u001b[1m0s\u001b[0m 738ms/step - accuracy: 0.4468 - loss: 1.8664[EPOCH 6] Perplejidad media en validación: 7.3070\n",
            "[GUARDADO] Nuevo modelo con mejor perplejidad (7.3070) almacenado como 'models/gru_model.keras'\n",
            "\u001b[1m428/428\u001b[0m \u001b[32m━━━━━━━━━━━━━━━━━━━━\u001b[0m\u001b[37m\u001b[0m \u001b[1m350s\u001b[0m 818ms/step - accuracy: 0.4468 - loss: 1.8663\n",
            "Epoch 7/50\n",
            "\u001b[1m428/428\u001b[0m \u001b[32m━━━━━━━━━━━━━━━━━━━━\u001b[0m\u001b[37m\u001b[0m \u001b[1m0s\u001b[0m 736ms/step - accuracy: 0.4596 - loss: 1.8205[EPOCH 7] Perplejidad media en validación: 7.1113\n",
            "[GUARDADO] Nuevo modelo con mejor perplejidad (7.1113) almacenado como 'models/gru_model.keras'\n",
            "\u001b[1m428/428\u001b[0m \u001b[32m━━━━━━━━━━━━━━━━━━━━\u001b[0m\u001b[37m\u001b[0m \u001b[1m349s\u001b[0m 816ms/step - accuracy: 0.4596 - loss: 1.8205\n",
            "Epoch 8/50\n",
            "\u001b[1m428/428\u001b[0m \u001b[32m━━━━━━━━━━━━━━━━━━━━\u001b[0m\u001b[37m\u001b[0m \u001b[1m0s\u001b[0m 733ms/step - accuracy: 0.4682 - loss: 1.7897[EPOCH 8] Perplejidad media en validación: 7.2279\n",
            "[INFO] No se observó mejora. Paciencia: 1/3\n",
            "\u001b[1m428/428\u001b[0m \u001b[32m━━━━━━━━━━━━━━━━━━━━\u001b[0m\u001b[37m\u001b[0m \u001b[1m347s\u001b[0m 810ms/step - accuracy: 0.4682 - loss: 1.7897\n",
            "Epoch 9/50\n",
            "\u001b[1m428/428\u001b[0m \u001b[32m━━━━━━━━━━━━━━━━━━━━\u001b[0m\u001b[37m\u001b[0m \u001b[1m0s\u001b[0m 735ms/step - accuracy: 0.4751 - loss: 1.7658[EPOCH 9] Perplejidad media en validación: 7.0415\n",
            "[GUARDADO] Nuevo modelo con mejor perplejidad (7.0415) almacenado como 'models/gru_model.keras'\n",
            "\u001b[1m428/428\u001b[0m \u001b[32m━━━━━━━━━━━━━━━━━━━━\u001b[0m\u001b[37m\u001b[0m \u001b[1m348s\u001b[0m 812ms/step - accuracy: 0.4751 - loss: 1.7658\n",
            "Epoch 10/50\n",
            "\u001b[1m428/428\u001b[0m \u001b[32m━━━━━━━━━━━━━━━━━━━━\u001b[0m\u001b[37m\u001b[0m \u001b[1m0s\u001b[0m 725ms/step - accuracy: 0.4802 - loss: 1.7455[EPOCH 10] Perplejidad media en validación: 6.7101\n",
            "[GUARDADO] Nuevo modelo con mejor perplejidad (6.7101) almacenado como 'models/gru_model.keras'\n",
            "\u001b[1m428/428\u001b[0m \u001b[32m━━━━━━━━━━━━━━━━━━━━\u001b[0m\u001b[37m\u001b[0m \u001b[1m343s\u001b[0m 802ms/step - accuracy: 0.4802 - loss: 1.7455\n",
            "Epoch 11/50\n",
            "\u001b[1m428/428\u001b[0m \u001b[32m━━━━━━━━━━━━━━━━━━━━\u001b[0m\u001b[37m\u001b[0m \u001b[1m0s\u001b[0m 732ms/step - accuracy: 0.4843 - loss: 1.7299[EPOCH 11] Perplejidad media en validación: 6.4958\n",
            "[GUARDADO] Nuevo modelo con mejor perplejidad (6.4958) almacenado como 'models/gru_model.keras'\n",
            "\u001b[1m428/428\u001b[0m \u001b[32m━━━━━━━━━━━━━━━━━━━━\u001b[0m\u001b[37m\u001b[0m \u001b[1m347s\u001b[0m 812ms/step - accuracy: 0.4843 - loss: 1.7299\n",
            "Epoch 12/50\n",
            "\u001b[1m428/428\u001b[0m \u001b[32m━━━━━━━━━━━━━━━━━━━━\u001b[0m\u001b[37m\u001b[0m \u001b[1m0s\u001b[0m 732ms/step - accuracy: 0.4878 - loss: 1.7172[EPOCH 12] Perplejidad media en validación: 6.3890\n",
            "[GUARDADO] Nuevo modelo con mejor perplejidad (6.3890) almacenado como 'models/gru_model.keras'\n",
            "\u001b[1m428/428\u001b[0m \u001b[32m━━━━━━━━━━━━━━━━━━━━\u001b[0m\u001b[37m\u001b[0m \u001b[1m347s\u001b[0m 810ms/step - accuracy: 0.4878 - loss: 1.7172\n",
            "Epoch 13/50\n",
            "\u001b[1m428/428\u001b[0m \u001b[32m━━━━━━━━━━━━━━━━━━━━\u001b[0m\u001b[37m\u001b[0m \u001b[1m0s\u001b[0m 737ms/step - accuracy: 0.4908 - loss: 1.7067[EPOCH 13] Perplejidad media en validación: 6.2978\n",
            "[GUARDADO] Nuevo modelo con mejor perplejidad (6.2978) almacenado como 'models/gru_model.keras'\n",
            "\u001b[1m428/428\u001b[0m \u001b[32m━━━━━━━━━━━━━━━━━━━━\u001b[0m\u001b[37m\u001b[0m \u001b[1m349s\u001b[0m 816ms/step - accuracy: 0.4908 - loss: 1.7067\n",
            "Epoch 14/50\n",
            "\u001b[1m428/428\u001b[0m \u001b[32m━━━━━━━━━━━━━━━━━━━━\u001b[0m\u001b[37m\u001b[0m \u001b[1m0s\u001b[0m 731ms/step - accuracy: 0.4930 - loss: 1.6983[EPOCH 14] Perplejidad media en validación: 6.2761\n",
            "[GUARDADO] Nuevo modelo con mejor perplejidad (6.2761) almacenado como 'models/gru_model.keras'\n",
            "\u001b[1m428/428\u001b[0m \u001b[32m━━━━━━━━━━━━━━━━━━━━\u001b[0m\u001b[37m\u001b[0m \u001b[1m346s\u001b[0m 808ms/step - accuracy: 0.4930 - loss: 1.6983\n",
            "Epoch 15/50\n",
            "\u001b[1m428/428\u001b[0m \u001b[32m━━━━━━━━━━━━━━━━━━━━\u001b[0m\u001b[37m\u001b[0m \u001b[1m0s\u001b[0m 733ms/step - accuracy: 0.4958 - loss: 1.6888[EPOCH 15] Perplejidad media en validación: 6.2561\n",
            "[GUARDADO] Nuevo modelo con mejor perplejidad (6.2561) almacenado como 'models/gru_model.keras'\n",
            "\u001b[1m428/428\u001b[0m \u001b[32m━━━━━━━━━━━━━━━━━━━━\u001b[0m\u001b[37m\u001b[0m \u001b[1m347s\u001b[0m 811ms/step - accuracy: 0.4958 - loss: 1.6888\n",
            "Epoch 16/50\n",
            "\u001b[1m428/428\u001b[0m \u001b[32m━━━━━━━━━━━━━━━━━━━━\u001b[0m\u001b[37m\u001b[0m \u001b[1m0s\u001b[0m 733ms/step - accuracy: 0.4974 - loss: 1.6819[EPOCH 16] Perplejidad media en validación: 6.0807\n",
            "[GUARDADO] Nuevo modelo con mejor perplejidad (6.0807) almacenado como 'models/gru_model.keras'\n",
            "\u001b[1m428/428\u001b[0m \u001b[32m━━━━━━━━━━━━━━━━━━━━\u001b[0m\u001b[37m\u001b[0m \u001b[1m347s\u001b[0m 812ms/step - accuracy: 0.4974 - loss: 1.6819\n",
            "Epoch 17/50\n",
            "\u001b[1m428/428\u001b[0m \u001b[32m━━━━━━━━━━━━━━━━━━━━\u001b[0m\u001b[37m\u001b[0m \u001b[1m0s\u001b[0m 731ms/step - accuracy: 0.4990 - loss: 1.6760[EPOCH 17] Perplejidad media en validación: 6.1035\n",
            "[INFO] No se observó mejora. Paciencia: 1/3\n",
            "\u001b[1m428/428\u001b[0m \u001b[32m━━━━━━━━━━━━━━━━━━━━\u001b[0m\u001b[37m\u001b[0m \u001b[1m346s\u001b[0m 809ms/step - accuracy: 0.4990 - loss: 1.6760\n",
            "Epoch 18/50\n",
            "\u001b[1m428/428\u001b[0m \u001b[32m━━━━━━━━━━━━━━━━━━━━\u001b[0m\u001b[37m\u001b[0m \u001b[1m0s\u001b[0m 728ms/step - accuracy: 0.5006 - loss: 1.6699[EPOCH 18] Perplejidad media en validación: 6.0097\n",
            "[GUARDADO] Nuevo modelo con mejor perplejidad (6.0097) almacenado como 'models/gru_model.keras'\n",
            "\u001b[1m428/428\u001b[0m \u001b[32m━━━━━━━━━━━━━━━━━━━━\u001b[0m\u001b[37m\u001b[0m \u001b[1m346s\u001b[0m 807ms/step - accuracy: 0.5006 - loss: 1.6699\n",
            "Epoch 19/50\n",
            "\u001b[1m428/428\u001b[0m \u001b[32m━━━━━━━━━━━━━━━━━━━━\u001b[0m\u001b[37m\u001b[0m \u001b[1m0s\u001b[0m 722ms/step - accuracy: 0.5018 - loss: 1.6657[EPOCH 19] Perplejidad media en validación: 6.0845\n",
            "[INFO] No se observó mejora. Paciencia: 1/3\n",
            "\u001b[1m428/428\u001b[0m \u001b[32m━━━━━━━━━━━━━━━━━━━━\u001b[0m\u001b[37m\u001b[0m \u001b[1m343s\u001b[0m 802ms/step - accuracy: 0.5018 - loss: 1.6657\n",
            "Epoch 20/50\n",
            "\u001b[1m428/428\u001b[0m \u001b[32m━━━━━━━━━━━━━━━━━━━━\u001b[0m\u001b[37m\u001b[0m \u001b[1m0s\u001b[0m 731ms/step - accuracy: 0.5035 - loss: 1.6602[EPOCH 20] Perplejidad media en validación: 5.9705\n",
            "[GUARDADO] Nuevo modelo con mejor perplejidad (5.9705) almacenado como 'models/gru_model.keras'\n",
            "\u001b[1m428/428\u001b[0m \u001b[32m━━━━━━━━━━━━━━━━━━━━\u001b[0m\u001b[37m\u001b[0m \u001b[1m347s\u001b[0m 810ms/step - accuracy: 0.5035 - loss: 1.6602\n",
            "Epoch 21/50\n",
            "\u001b[1m428/428\u001b[0m \u001b[32m━━━━━━━━━━━━━━━━━━━━\u001b[0m\u001b[37m\u001b[0m \u001b[1m0s\u001b[0m 724ms/step - accuracy: 0.5042 - loss: 1.6571[EPOCH 21] Perplejidad media en validación: 5.8775\n",
            "[GUARDADO] Nuevo modelo con mejor perplejidad (5.8775) almacenado como 'models/gru_model.keras'\n",
            "\u001b[1m428/428\u001b[0m \u001b[32m━━━━━━━━━━━━━━━━━━━━\u001b[0m\u001b[37m\u001b[0m \u001b[1m344s\u001b[0m 803ms/step - accuracy: 0.5042 - loss: 1.6571\n",
            "Epoch 22/50\n",
            "\u001b[1m428/428\u001b[0m \u001b[32m━━━━━━━━━━━━━━━━━━━━\u001b[0m\u001b[37m\u001b[0m \u001b[1m0s\u001b[0m 732ms/step - accuracy: 0.5057 - loss: 1.6517[EPOCH 22] Perplejidad media en validación: 5.8649\n",
            "[GUARDADO] Nuevo modelo con mejor perplejidad (5.8649) almacenado como 'models/gru_model.keras'\n",
            "\u001b[1m428/428\u001b[0m \u001b[32m━━━━━━━━━━━━━━━━━━━━\u001b[0m\u001b[37m\u001b[0m \u001b[1m348s\u001b[0m 813ms/step - accuracy: 0.5057 - loss: 1.6517\n",
            "Epoch 23/50\n",
            "\u001b[1m428/428\u001b[0m \u001b[32m━━━━━━━━━━━━━━━━━━━━\u001b[0m\u001b[37m\u001b[0m \u001b[1m0s\u001b[0m 730ms/step - accuracy: 0.5065 - loss: 1.6492[EPOCH 23] Perplejidad media en validación: 5.8318\n",
            "[GUARDADO] Nuevo modelo con mejor perplejidad (5.8318) almacenado como 'models/gru_model.keras'\n",
            "\u001b[1m428/428\u001b[0m \u001b[32m━━━━━━━━━━━━━━━━━━━━\u001b[0m\u001b[37m\u001b[0m \u001b[1m346s\u001b[0m 809ms/step - accuracy: 0.5065 - loss: 1.6492\n",
            "Epoch 24/50\n",
            "\u001b[1m428/428\u001b[0m \u001b[32m━━━━━━━━━━━━━━━━━━━━\u001b[0m\u001b[37m\u001b[0m \u001b[1m0s\u001b[0m 729ms/step - accuracy: 0.5075 - loss: 1.6461[EPOCH 24] Perplejidad media en validación: 5.7347\n",
            "[GUARDADO] Nuevo modelo con mejor perplejidad (5.7347) almacenado como 'models/gru_model.keras'\n",
            "\u001b[1m428/428\u001b[0m \u001b[32m━━━━━━━━━━━━━━━━━━━━\u001b[0m\u001b[37m\u001b[0m \u001b[1m345s\u001b[0m 807ms/step - accuracy: 0.5075 - loss: 1.6461\n",
            "Epoch 25/50\n",
            "\u001b[1m428/428\u001b[0m \u001b[32m━━━━━━━━━━━━━━━━━━━━\u001b[0m\u001b[37m\u001b[0m \u001b[1m0s\u001b[0m 726ms/step - accuracy: 0.5079 - loss: 1.6436[EPOCH 25] Perplejidad media en validación: 5.7002\n",
            "[GUARDADO] Nuevo modelo con mejor perplejidad (5.7002) almacenado como 'models/gru_model.keras'\n",
            "\u001b[1m428/428\u001b[0m \u001b[32m━━━━━━━━━━━━━━━━━━━━\u001b[0m\u001b[37m\u001b[0m \u001b[1m345s\u001b[0m 807ms/step - accuracy: 0.5079 - loss: 1.6436\n",
            "Epoch 26/50\n",
            "\u001b[1m428/428\u001b[0m \u001b[32m━━━━━━━━━━━━━━━━━━━━\u001b[0m\u001b[37m\u001b[0m \u001b[1m0s\u001b[0m 725ms/step - accuracy: 0.5088 - loss: 1.6417[EPOCH 26] Perplejidad media en validación: 5.6477\n",
            "[GUARDADO] Nuevo modelo con mejor perplejidad (5.6477) almacenado como 'models/gru_model.keras'\n",
            "\u001b[1m428/428\u001b[0m \u001b[32m━━━━━━━━━━━━━━━━━━━━\u001b[0m\u001b[37m\u001b[0m \u001b[1m344s\u001b[0m 804ms/step - accuracy: 0.5088 - loss: 1.6417\n",
            "Epoch 27/50\n",
            "\u001b[1m428/428\u001b[0m \u001b[32m━━━━━━━━━━━━━━━━━━━━\u001b[0m\u001b[37m\u001b[0m \u001b[1m0s\u001b[0m 726ms/step - accuracy: 0.5097 - loss: 1.6382[EPOCH 27] Perplejidad media en validación: 5.6653\n",
            "[INFO] No se observó mejora. Paciencia: 1/3\n",
            "\u001b[1m428/428\u001b[0m \u001b[32m━━━━━━━━━━━━━━━━━━━━\u001b[0m\u001b[37m\u001b[0m \u001b[1m345s\u001b[0m 806ms/step - accuracy: 0.5097 - loss: 1.6382\n",
            "Epoch 28/50\n",
            "\u001b[1m428/428\u001b[0m \u001b[32m━━━━━━━━━━━━━━━━━━━━\u001b[0m\u001b[37m\u001b[0m \u001b[1m0s\u001b[0m 727ms/step - accuracy: 0.5103 - loss: 1.6355[EPOCH 28] Perplejidad media en validación: 5.6262\n",
            "[GUARDADO] Nuevo modelo con mejor perplejidad (5.6262) almacenado como 'models/gru_model.keras'\n",
            "\u001b[1m428/428\u001b[0m \u001b[32m━━━━━━━━━━━━━━━━━━━━\u001b[0m\u001b[37m\u001b[0m \u001b[1m346s\u001b[0m 807ms/step - accuracy: 0.5103 - loss: 1.6355\n",
            "Epoch 29/50\n",
            "\u001b[1m428/428\u001b[0m \u001b[32m━━━━━━━━━━━━━━━━━━━━\u001b[0m\u001b[37m\u001b[0m \u001b[1m0s\u001b[0m 728ms/step - accuracy: 0.5111 - loss: 1.6320[EPOCH 29] Perplejidad media en validación: 5.6330\n",
            "[INFO] No se observó mejora. Paciencia: 1/3\n",
            "\u001b[1m428/428\u001b[0m \u001b[32m━━━━━━━━━━━━━━━━━━━━\u001b[0m\u001b[37m\u001b[0m \u001b[1m345s\u001b[0m 807ms/step - accuracy: 0.5111 - loss: 1.6320\n",
            "Epoch 30/50\n",
            "\u001b[1m428/428\u001b[0m \u001b[32m━━━━━━━━━━━━━━━━━━━━\u001b[0m\u001b[37m\u001b[0m \u001b[1m0s\u001b[0m 730ms/step - accuracy: 0.5116 - loss: 1.6306[EPOCH 30] Perplejidad media en validación: 5.6284\n",
            "[INFO] No se observó mejora. Paciencia: 2/3\n",
            "\u001b[1m428/428\u001b[0m \u001b[32m━━━━━━━━━━━━━━━━━━━━\u001b[0m\u001b[37m\u001b[0m \u001b[1m346s\u001b[0m 809ms/step - accuracy: 0.5116 - loss: 1.6306\n",
            "Epoch 31/50\n",
            "\u001b[1m428/428\u001b[0m \u001b[32m━━━━━━━━━━━━━━━━━━━━\u001b[0m\u001b[37m\u001b[0m \u001b[1m0s\u001b[0m 730ms/step - accuracy: 0.5124 - loss: 1.6279[EPOCH 31] Perplejidad media en validación: 5.6558\n",
            "[INFO] No se observó mejora. Paciencia: 3/3\n",
            "[DETENCIÓN ANTICIPADA] Se detiene el entrenamiento tras 3 épocas sin mejora.\n",
            "\u001b[1m428/428\u001b[0m \u001b[32m━━━━━━━━━━━━━━━━━━━━\u001b[0m\u001b[37m\u001b[0m \u001b[1m346s\u001b[0m 809ms/step - accuracy: 0.5124 - loss: 1.6279\n"
          ]
        }
      ],
      "source": [
        "hist_gru = gru_model.model.fit(\n",
        "    X,\n",
        "    y,\n",
        "    epochs=EPOCHS,\n",
        "    batch_size=BATCH_SIZE,\n",
        "    callbacks=[ppl_callback_gru]\n",
        ")\n"
      ]
    },
    {
      "cell_type": "code",
      "execution_count": 21,
      "metadata": {},
      "outputs": [
        {
          "name": "stdout",
          "output_type": "stream",
          "text": [
            "[INFO] Forma del conjunto validación: (7239, 100)\n",
            "[INFO] Total de subsecuencias procesadas: 7239\n",
            "[INFO] Longitud máxima de secuencia: 100\n"
          ]
        }
      ],
      "source": [
        "# Entrenamiento del modelo LSTM\n",
        "history_ppl_lstm = []\n",
        "\n",
        "ppl_callback_lstm = PplCallback(\n",
        "    val_data=tokenized_sentences_val,\n",
        "    history_ppl=history_ppl_lstm,\n",
        "    maxlen=SEQUENCE_LENGTH,\n",
        "    model_name='models/lstm_model', \n",
        "    patience=PATIENCE\n",
        ")"
      ]
    },
    {
      "cell_type": "code",
      "execution_count": 22,
      "metadata": {},
      "outputs": [
        {
          "name": "stdout",
          "output_type": "stream",
          "text": [
            "Epoch 1/50\n",
            "\u001b[1m428/428\u001b[0m \u001b[32m━━━━━━━━━━━━━━━━━━━━\u001b[0m\u001b[37m\u001b[0m \u001b[1m0s\u001b[0m 20ms/step - accuracy: 0.1195 - loss: 3.1906[EPOCH 1] Perplejidad media en validación: 17.6902\n",
            "[GUARDADO] Nuevo modelo con mejor perplejidad (17.6902) almacenado como 'models/lstm_model.keras'\n",
            "\u001b[1m428/428\u001b[0m \u001b[32m━━━━━━━━━━━━━━━━━━━━\u001b[0m\u001b[37m\u001b[0m \u001b[1m12s\u001b[0m 24ms/step - accuracy: 0.1195 - loss: 3.1903\n",
            "Epoch 2/50\n",
            "\u001b[1m427/428\u001b[0m \u001b[32m━━━━━━━━━━━━━━━━━━━\u001b[0m\u001b[37m━\u001b[0m \u001b[1m0s\u001b[0m 20ms/step - accuracy: 0.1758 - loss: 2.8137[EPOCH 2] Perplejidad media en validación: 15.2940\n",
            "[GUARDADO] Nuevo modelo con mejor perplejidad (15.2940) almacenado como 'models/lstm_model.keras'\n",
            "\u001b[1m428/428\u001b[0m \u001b[32m━━━━━━━━━━━━━━━━━━━━\u001b[0m\u001b[37m\u001b[0m \u001b[1m10s\u001b[0m 24ms/step - accuracy: 0.1758 - loss: 2.8135\n",
            "Epoch 3/50\n",
            "\u001b[1m426/428\u001b[0m \u001b[32m━━━━━━━━━━━━━━━━━━━\u001b[0m\u001b[37m━\u001b[0m \u001b[1m0s\u001b[0m 21ms/step - accuracy: 0.2486 - loss: 2.5975[EPOCH 3] Perplejidad media en validación: 12.0108\n",
            "[GUARDADO] Nuevo modelo con mejor perplejidad (12.0108) almacenado como 'models/lstm_model.keras'\n",
            "\u001b[1m428/428\u001b[0m \u001b[32m━━━━━━━━━━━━━━━━━━━━\u001b[0m\u001b[37m\u001b[0m \u001b[1m10s\u001b[0m 24ms/step - accuracy: 0.2487 - loss: 2.5971\n",
            "Epoch 4/50\n",
            "\u001b[1m426/428\u001b[0m \u001b[32m━━━━━━━━━━━━━━━━━━━\u001b[0m\u001b[37m━\u001b[0m \u001b[1m0s\u001b[0m 20ms/step - accuracy: 0.3005 - loss: 2.4112[EPOCH 4] Perplejidad media en validación: 10.5441\n",
            "[GUARDADO] Nuevo modelo con mejor perplejidad (10.5441) almacenado como 'models/lstm_model.keras'\n",
            "\u001b[1m428/428\u001b[0m \u001b[32m━━━━━━━━━━━━━━━━━━━━\u001b[0m\u001b[37m\u001b[0m \u001b[1m10s\u001b[0m 24ms/step - accuracy: 0.3005 - loss: 2.4110\n",
            "Epoch 5/50\n",
            "\u001b[1m428/428\u001b[0m \u001b[32m━━━━━━━━━━━━━━━━━━━━\u001b[0m\u001b[37m\u001b[0m \u001b[1m0s\u001b[0m 20ms/step - accuracy: 0.3406 - loss: 2.2717[EPOCH 5] Perplejidad media en validación: 9.6658\n",
            "[GUARDADO] Nuevo modelo con mejor perplejidad (9.6658) almacenado como 'models/lstm_model.keras'\n",
            "\u001b[1m428/428\u001b[0m \u001b[32m━━━━━━━━━━━━━━━━━━━━\u001b[0m\u001b[37m\u001b[0m \u001b[1m10s\u001b[0m 24ms/step - accuracy: 0.3406 - loss: 2.2717\n",
            "Epoch 6/50\n",
            "\u001b[1m427/428\u001b[0m \u001b[32m━━━━━━━━━━━━━━━━━━━\u001b[0m\u001b[37m━\u001b[0m \u001b[1m0s\u001b[0m 20ms/step - accuracy: 0.3685 - loss: 2.1608[EPOCH 6] Perplejidad media en validación: 9.2596\n",
            "[GUARDADO] Nuevo modelo con mejor perplejidad (9.2596) almacenado como 'models/lstm_model.keras'\n",
            "\u001b[1m428/428\u001b[0m \u001b[32m━━━━━━━━━━━━━━━━━━━━\u001b[0m\u001b[37m\u001b[0m \u001b[1m10s\u001b[0m 24ms/step - accuracy: 0.3685 - loss: 2.1607\n",
            "Epoch 7/50\n",
            "\u001b[1m427/428\u001b[0m \u001b[32m━━━━━━━━━━━━━━━━━━━\u001b[0m\u001b[37m━\u001b[0m \u001b[1m0s\u001b[0m 20ms/step - accuracy: 0.3913 - loss: 2.0730[EPOCH 7] Perplejidad media en validación: 9.0431\n",
            "[GUARDADO] Nuevo modelo con mejor perplejidad (9.0431) almacenado como 'models/lstm_model.keras'\n",
            "\u001b[1m428/428\u001b[0m \u001b[32m━━━━━━━━━━━━━━━━━━━━\u001b[0m\u001b[37m\u001b[0m \u001b[1m10s\u001b[0m 24ms/step - accuracy: 0.3913 - loss: 2.0729\n",
            "Epoch 8/50\n",
            "\u001b[1m426/428\u001b[0m \u001b[32m━━━━━━━━━━━━━━━━━━━\u001b[0m\u001b[37m━\u001b[0m \u001b[1m0s\u001b[0m 20ms/step - accuracy: 0.4119 - loss: 2.0005[EPOCH 8] Perplejidad media en validación: 8.9151\n",
            "[GUARDADO] Nuevo modelo con mejor perplejidad (8.9151) almacenado como 'models/lstm_model.keras'\n",
            "\u001b[1m428/428\u001b[0m \u001b[32m━━━━━━━━━━━━━━━━━━━━\u001b[0m\u001b[37m\u001b[0m \u001b[1m10s\u001b[0m 23ms/step - accuracy: 0.4119 - loss: 2.0004\n",
            "Epoch 9/50\n",
            "\u001b[1m426/428\u001b[0m \u001b[32m━━━━━━━━━━━━━━━━━━━\u001b[0m\u001b[37m━\u001b[0m \u001b[1m0s\u001b[0m 21ms/step - accuracy: 0.4286 - loss: 1.9425[EPOCH 9] Perplejidad media en validación: 8.4222\n",
            "[GUARDADO] Nuevo modelo con mejor perplejidad (8.4222) almacenado como 'models/lstm_model.keras'\n",
            "\u001b[1m428/428\u001b[0m \u001b[32m━━━━━━━━━━━━━━━━━━━━\u001b[0m\u001b[37m\u001b[0m \u001b[1m10s\u001b[0m 24ms/step - accuracy: 0.4286 - loss: 1.9424\n",
            "Epoch 10/50\n",
            "\u001b[1m426/428\u001b[0m \u001b[32m━━━━━━━━━━━━━━━━━━━\u001b[0m\u001b[37m━\u001b[0m \u001b[1m0s\u001b[0m 21ms/step - accuracy: 0.4424 - loss: 1.8938[EPOCH 10] Perplejidad media en validación: 8.5002\n",
            "[INFO] No se observó mejora. Paciencia: 1/3\n",
            "\u001b[1m428/428\u001b[0m \u001b[32m━━━━━━━━━━━━━━━━━━━━\u001b[0m\u001b[37m\u001b[0m \u001b[1m10s\u001b[0m 24ms/step - accuracy: 0.4424 - loss: 1.8937\n",
            "Epoch 11/50\n",
            "\u001b[1m427/428\u001b[0m \u001b[32m━━━━━━━━━━━━━━━━━━━\u001b[0m\u001b[37m━\u001b[0m \u001b[1m0s\u001b[0m 21ms/step - accuracy: 0.4533 - loss: 1.8538[EPOCH 11] Perplejidad media en validación: 8.4135\n",
            "[GUARDADO] Nuevo modelo con mejor perplejidad (8.4135) almacenado como 'models/lstm_model.keras'\n",
            "\u001b[1m428/428\u001b[0m \u001b[32m━━━━━━━━━━━━━━━━━━━━\u001b[0m\u001b[37m\u001b[0m \u001b[1m10s\u001b[0m 24ms/step - accuracy: 0.4534 - loss: 1.8538\n",
            "Epoch 12/50\n",
            "\u001b[1m427/428\u001b[0m \u001b[32m━━━━━━━━━━━━━━━━━━━\u001b[0m\u001b[37m━\u001b[0m \u001b[1m0s\u001b[0m 21ms/step - accuracy: 0.4635 - loss: 1.8170[EPOCH 12] Perplejidad media en validación: 6.9440\n",
            "[GUARDADO] Nuevo modelo con mejor perplejidad (6.9440) almacenado como 'models/lstm_model.keras'\n",
            "\u001b[1m428/428\u001b[0m \u001b[32m━━━━━━━━━━━━━━━━━━━━\u001b[0m\u001b[37m\u001b[0m \u001b[1m10s\u001b[0m 24ms/step - accuracy: 0.4635 - loss: 1.8169\n",
            "Epoch 13/50\n",
            "\u001b[1m428/428\u001b[0m \u001b[32m━━━━━━━━━━━━━━━━━━━━\u001b[0m\u001b[37m\u001b[0m \u001b[1m0s\u001b[0m 21ms/step - accuracy: 0.4722 - loss: 1.7862[EPOCH 13] Perplejidad media en validación: 6.8779\n",
            "[GUARDADO] Nuevo modelo con mejor perplejidad (6.8779) almacenado como 'models/lstm_model.keras'\n",
            "\u001b[1m428/428\u001b[0m \u001b[32m━━━━━━━━━━━━━━━━━━━━\u001b[0m\u001b[37m\u001b[0m \u001b[1m10s\u001b[0m 24ms/step - accuracy: 0.4722 - loss: 1.7862\n",
            "Epoch 14/50\n",
            "\u001b[1m427/428\u001b[0m \u001b[32m━━━━━━━━━━━━━━━━━━━\u001b[0m\u001b[37m━\u001b[0m \u001b[1m0s\u001b[0m 21ms/step - accuracy: 0.4801 - loss: 1.7586[EPOCH 14] Perplejidad media en validación: 6.6709\n",
            "[GUARDADO] Nuevo modelo con mejor perplejidad (6.6709) almacenado como 'models/lstm_model.keras'\n",
            "\u001b[1m428/428\u001b[0m \u001b[32m━━━━━━━━━━━━━━━━━━━━\u001b[0m\u001b[37m\u001b[0m \u001b[1m11s\u001b[0m 25ms/step - accuracy: 0.4801 - loss: 1.7585\n",
            "Epoch 15/50\n",
            "\u001b[1m428/428\u001b[0m \u001b[32m━━━━━━━━━━━━━━━━━━━━\u001b[0m\u001b[37m\u001b[0m \u001b[1m0s\u001b[0m 21ms/step - accuracy: 0.4864 - loss: 1.7346[EPOCH 15] Perplejidad media en validación: 6.5771\n",
            "[GUARDADO] Nuevo modelo con mejor perplejidad (6.5771) almacenado como 'models/lstm_model.keras'\n",
            "\u001b[1m428/428\u001b[0m \u001b[32m━━━━━━━━━━━━━━━━━━━━\u001b[0m\u001b[37m\u001b[0m \u001b[1m11s\u001b[0m 25ms/step - accuracy: 0.4864 - loss: 1.7346\n",
            "Epoch 16/50\n",
            "\u001b[1m427/428\u001b[0m \u001b[32m━━━━━━━━━━━━━━━━━━━\u001b[0m\u001b[37m━\u001b[0m \u001b[1m0s\u001b[0m 21ms/step - accuracy: 0.4929 - loss: 1.7118[EPOCH 16] Perplejidad media en validación: 6.5131\n",
            "[GUARDADO] Nuevo modelo con mejor perplejidad (6.5131) almacenado como 'models/lstm_model.keras'\n",
            "\u001b[1m428/428\u001b[0m \u001b[32m━━━━━━━━━━━━━━━━━━━━\u001b[0m\u001b[37m\u001b[0m \u001b[1m11s\u001b[0m 25ms/step - accuracy: 0.4929 - loss: 1.7118\n",
            "Epoch 17/50\n",
            "\u001b[1m428/428\u001b[0m \u001b[32m━━━━━━━━━━━━━━━━━━━━\u001b[0m\u001b[37m\u001b[0m \u001b[1m0s\u001b[0m 21ms/step - accuracy: 0.4981 - loss: 1.6926[EPOCH 17] Perplejidad media en validación: 6.5322\n",
            "[INFO] No se observó mejora. Paciencia: 1/3\n",
            "\u001b[1m428/428\u001b[0m \u001b[32m━━━━━━━━━━━━━━━━━━━━\u001b[0m\u001b[37m\u001b[0m \u001b[1m11s\u001b[0m 25ms/step - accuracy: 0.4981 - loss: 1.6926\n",
            "Epoch 18/50\n",
            "\u001b[1m427/428\u001b[0m \u001b[32m━━━━━━━━━━━━━━━━━━━\u001b[0m\u001b[37m━\u001b[0m \u001b[1m0s\u001b[0m 21ms/step - accuracy: 0.5033 - loss: 1.6732[EPOCH 18] Perplejidad media en validación: 6.4670\n",
            "[GUARDADO] Nuevo modelo con mejor perplejidad (6.4670) almacenado como 'models/lstm_model.keras'\n",
            "\u001b[1m428/428\u001b[0m \u001b[32m━━━━━━━━━━━━━━━━━━━━\u001b[0m\u001b[37m\u001b[0m \u001b[1m11s\u001b[0m 25ms/step - accuracy: 0.5033 - loss: 1.6731\n",
            "Epoch 19/50\n",
            "\u001b[1m428/428\u001b[0m \u001b[32m━━━━━━━━━━━━━━━━━━━━\u001b[0m\u001b[37m\u001b[0m \u001b[1m0s\u001b[0m 21ms/step - accuracy: 0.5083 - loss: 1.6571[EPOCH 19] Perplejidad media en validación: 6.4489\n",
            "[GUARDADO] Nuevo modelo con mejor perplejidad (6.4489) almacenado como 'models/lstm_model.keras'\n",
            "\u001b[1m428/428\u001b[0m \u001b[32m━━━━━━━━━━━━━━━━━━━━\u001b[0m\u001b[37m\u001b[0m \u001b[1m10s\u001b[0m 24ms/step - accuracy: 0.5083 - loss: 1.6571\n",
            "Epoch 20/50\n",
            "\u001b[1m427/428\u001b[0m \u001b[32m━━━━━━━━━━━━━━━━━━━\u001b[0m\u001b[37m━\u001b[0m \u001b[1m0s\u001b[0m 21ms/step - accuracy: 0.5124 - loss: 1.6407[EPOCH 20] Perplejidad media en validación: 6.3895\n",
            "[GUARDADO] Nuevo modelo con mejor perplejidad (6.3895) almacenado como 'models/lstm_model.keras'\n",
            "\u001b[1m428/428\u001b[0m \u001b[32m━━━━━━━━━━━━━━━━━━━━\u001b[0m\u001b[37m\u001b[0m \u001b[1m10s\u001b[0m 24ms/step - accuracy: 0.5125 - loss: 1.6406\n",
            "Epoch 21/50\n",
            "\u001b[1m426/428\u001b[0m \u001b[32m━━━━━━━━━━━━━━━━━━━\u001b[0m\u001b[37m━\u001b[0m \u001b[1m0s\u001b[0m 21ms/step - accuracy: 0.5171 - loss: 1.6234[EPOCH 21] Perplejidad media en validación: 6.3179\n",
            "[GUARDADO] Nuevo modelo con mejor perplejidad (6.3179) almacenado como 'models/lstm_model.keras'\n",
            "\u001b[1m428/428\u001b[0m \u001b[32m━━━━━━━━━━━━━━━━━━━━\u001b[0m\u001b[37m\u001b[0m \u001b[1m11s\u001b[0m 25ms/step - accuracy: 0.5171 - loss: 1.6234\n",
            "Epoch 22/50\n",
            "\u001b[1m426/428\u001b[0m \u001b[32m━━━━━━━━━━━━━━━━━━━\u001b[0m\u001b[37m━\u001b[0m \u001b[1m0s\u001b[0m 21ms/step - accuracy: 0.5212 - loss: 1.6097[EPOCH 22] Perplejidad media en validación: 6.3840\n",
            "[INFO] No se observó mejora. Paciencia: 1/3\n",
            "\u001b[1m428/428\u001b[0m \u001b[32m━━━━━━━━━━━━━━━━━━━━\u001b[0m\u001b[37m\u001b[0m \u001b[1m11s\u001b[0m 25ms/step - accuracy: 0.5213 - loss: 1.6097\n",
            "Epoch 23/50\n",
            "\u001b[1m426/428\u001b[0m \u001b[32m━━━━━━━━━━━━━━━━━━━\u001b[0m\u001b[37m━\u001b[0m \u001b[1m0s\u001b[0m 21ms/step - accuracy: 0.5244 - loss: 1.5975[EPOCH 23] Perplejidad media en validación: 6.3237\n",
            "[INFO] No se observó mejora. Paciencia: 2/3\n",
            "\u001b[1m428/428\u001b[0m \u001b[32m━━━━━━━━━━━━━━━━━━━━\u001b[0m\u001b[37m\u001b[0m \u001b[1m11s\u001b[0m 25ms/step - accuracy: 0.5244 - loss: 1.5975\n",
            "Epoch 24/50\n",
            "\u001b[1m427/428\u001b[0m \u001b[32m━━━━━━━━━━━━━━━━━━━\u001b[0m\u001b[37m━\u001b[0m \u001b[1m0s\u001b[0m 22ms/step - accuracy: 0.5277 - loss: 1.5865[EPOCH 24] Perplejidad media en validación: 6.3020\n",
            "[GUARDADO] Nuevo modelo con mejor perplejidad (6.3020) almacenado como 'models/lstm_model.keras'\n",
            "\u001b[1m428/428\u001b[0m \u001b[32m━━━━━━━━━━━━━━━━━━━━\u001b[0m\u001b[37m\u001b[0m \u001b[1m11s\u001b[0m 25ms/step - accuracy: 0.5277 - loss: 1.5864\n",
            "Epoch 25/50\n",
            "\u001b[1m428/428\u001b[0m \u001b[32m━━━━━━━━━━━━━━━━━━━━\u001b[0m\u001b[37m\u001b[0m \u001b[1m0s\u001b[0m 21ms/step - accuracy: 0.5313 - loss: 1.5737[EPOCH 25] Perplejidad media en validación: 6.2934\n",
            "[GUARDADO] Nuevo modelo con mejor perplejidad (6.2934) almacenado como 'models/lstm_model.keras'\n",
            "\u001b[1m428/428\u001b[0m \u001b[32m━━━━━━━━━━━━━━━━━━━━\u001b[0m\u001b[37m\u001b[0m \u001b[1m11s\u001b[0m 25ms/step - accuracy: 0.5313 - loss: 1.5737\n",
            "Epoch 26/50\n",
            "\u001b[1m427/428\u001b[0m \u001b[32m━━━━━━━━━━━━━━━━━━━\u001b[0m\u001b[37m━\u001b[0m \u001b[1m0s\u001b[0m 21ms/step - accuracy: 0.5341 - loss: 1.5629[EPOCH 26] Perplejidad media en validación: 6.4814\n",
            "[INFO] No se observó mejora. Paciencia: 1/3\n",
            "\u001b[1m428/428\u001b[0m \u001b[32m━━━━━━━━━━━━━━━━━━━━\u001b[0m\u001b[37m\u001b[0m \u001b[1m11s\u001b[0m 25ms/step - accuracy: 0.5341 - loss: 1.5628\n",
            "Epoch 27/50\n",
            "\u001b[1m428/428\u001b[0m \u001b[32m━━━━━━━━━━━━━━━━━━━━\u001b[0m\u001b[37m\u001b[0m \u001b[1m0s\u001b[0m 22ms/step - accuracy: 0.5370 - loss: 1.5521[EPOCH 27] Perplejidad media en validación: 6.3475\n",
            "[INFO] No se observó mejora. Paciencia: 2/3\n",
            "\u001b[1m428/428\u001b[0m \u001b[32m━━━━━━━━━━━━━━━━━━━━\u001b[0m\u001b[37m\u001b[0m \u001b[1m11s\u001b[0m 25ms/step - accuracy: 0.5370 - loss: 1.5521\n",
            "Epoch 28/50\n",
            "\u001b[1m427/428\u001b[0m \u001b[32m━━━━━━━━━━━━━━━━━━━\u001b[0m\u001b[37m━\u001b[0m \u001b[1m0s\u001b[0m 21ms/step - accuracy: 0.5391 - loss: 1.5437[EPOCH 28] Perplejidad media en validación: 6.4659\n",
            "[INFO] No se observó mejora. Paciencia: 3/3\n",
            "[DETENCIÓN ANTICIPADA] Se detiene el entrenamiento tras 3 épocas sin mejora.\n",
            "\u001b[1m428/428\u001b[0m \u001b[32m━━━━━━━━━━━━━━━━━━━━\u001b[0m\u001b[37m\u001b[0m \u001b[1m11s\u001b[0m 25ms/step - accuracy: 0.5391 - loss: 1.5437\n"
          ]
        }
      ],
      "source": [
        "hist_lstm = lstm_model.model.fit(\n",
        "    X,\n",
        "    y,\n",
        "    epochs=EPOCHS,\n",
        "    batch_size=BATCH_SIZE,\n",
        "    callbacks=[ppl_callback_lstm]\n",
        ")"
      ]
    },
    {
      "cell_type": "markdown",
      "metadata": {},
      "source": [
        "**Comparación de la Perplejidad entre los diferentes modelos explorado**"
      ]
    },
    {
      "cell_type": "code",
      "execution_count": 45,
      "metadata": {},
      "outputs": [
        {
          "name": "stdout",
          "output_type": "stream",
          "text": [
            "<keras.src.callbacks.history.History object at 0x7fae74442750>\n"
          ]
        }
      ],
      "source": [
        "print(hist_lstm)"
      ]
    },
    {
      "cell_type": "code",
      "execution_count": 42,
      "metadata": {},
      "outputs": [
        {
          "data": {
            "text/plain": [
              "[np.float64(10.298123594125112),\n",
              " np.float64(9.674785578250885),\n",
              " np.float64(9.434616708755494),\n",
              " np.float64(9.181677565972011),\n",
              " np.float64(8.974889838695526),\n",
              " np.float64(8.783732573191324),\n",
              " np.float64(8.79477636416753),\n",
              " np.float64(8.847414010763169),\n",
              " np.float64(8.732633272806803),\n",
              " np.float64(8.799533740679424),\n",
              " np.float64(8.805853966871897),\n",
              " np.float64(8.797049850225449)]"
            ]
          },
          "execution_count": 42,
          "metadata": {},
          "output_type": "execute_result"
        }
      ],
      "source": [
        "history_ppl_rnn"
      ]
    },
    {
      "cell_type": "code",
      "execution_count": 52,
      "metadata": {},
      "outputs": [
        {
          "data": {
            "image/png": "[encoded data removed]",
            "text/plain": [
              "<Figure size 1800x500 with 3 Axes>"
            ]
          },
          "metadata": {},
          "output_type": "display_data"
        }
      ],
      "source": [
        "import matplotlib.pyplot as plt\n",
        "import seaborn as sns\n",
        "import numpy as np\n",
        "\n",
        "# --- Extraer curvas reales de Keras (train) ---\n",
        "acc_rnn  = hist_rnn.history.get('accuracy', [])\n",
        "loss_rnn = hist_rnn.history.get('loss', [])\n",
        "\n",
        "acc_gru  = hist_gru.history.get('accuracy', [])\n",
        "loss_gru = hist_gru.history.get('loss', [])\n",
        "\n",
        "acc_lstm  = hist_lstm.history.get('accuracy', [])\n",
        "loss_lstm = hist_lstm.history.get('loss', [])\n",
        "\n",
        "# --- Perplejidad desde tus callbacks (validación) ---\n",
        "ppl_rnn  = history_ppl_rnn\n",
        "ppl_gru  = history_ppl_gru\n",
        "ppl_lstm = history_ppl_lstm\n",
        "\n",
        "# Ejes x por modelo (1..n_epochs_reales)\n",
        "epochs_acc_rnn  = np.arange(1, len(acc_rnn)  + 1)\n",
        "epochs_acc_gru  = np.arange(1, len(acc_gru)  + 1)\n",
        "epochs_acc_lstm = np.arange(1, len(acc_lstm) + 1)\n",
        "\n",
        "epochs_loss_rnn  = np.arange(1, len(loss_rnn)  + 1)\n",
        "epochs_loss_gru  = np.arange(1, len(loss_gru)  + 1)\n",
        "epochs_loss_lstm = np.arange(1, len(loss_lstm) + 1)\n",
        "\n",
        "epochs_ppl_rnn  = np.arange(1, len(ppl_rnn)  + 1)\n",
        "epochs_ppl_gru  = np.arange(1, len(ppl_gru)  + 1)\n",
        "epochs_ppl_lstm = np.arange(1, len(ppl_lstm) + 1)\n",
        "\n",
        "# --- Figura ---\n",
        "fig, axes = plt.subplots(nrows=1, ncols=3, figsize=(18, 5))\n",
        "sns.set_style(\"whitegrid\")\n",
        "x_max = max([*epochs_ppl_rnn[-1:], *epochs_ppl_gru[-1:], *epochs_ppl_lstm[-1:]]) * 1.05\n",
        "\n",
        "# ---------------- A) ACCURACY (train) ----------------\n",
        "ax1 = axes[0]\n",
        "sns.lineplot(x=epochs_acc_rnn,  y=acc_rnn,  label='SimpleRNN', color='red', ax=ax1)\n",
        "sns.lineplot(x=epochs_acc_gru,  y=acc_gru,  label='GRU', color='blue', ax=ax1)\n",
        "sns.lineplot(x=epochs_acc_lstm, y=acc_lstm, label='LSTM', color='darkgreen', ax=ax1)\n",
        "\n",
        "ax1.set_title('A) Accuracy (train)')\n",
        "ax1.set_xlabel('Época')\n",
        "ax1.set_ylabel('Accuracy')\n",
        "ax1.legend()\n",
        "ax1.set_xlim(0, x_max)\n",
        "\n",
        "# ---------------- B) LOSS (train) ----------------\n",
        "ax2 = axes[1]\n",
        "sns.lineplot(x=epochs_loss_rnn,  y=loss_rnn,  label='SimpleRNN', color='red', ax=ax2)\n",
        "sns.lineplot(x=epochs_loss_gru,  y=loss_gru,  label='GRU', color='blue', ax=ax2)\n",
        "sns.lineplot(x=epochs_loss_lstm, y=loss_lstm, label='LSTM', color='darkgreen', ax=ax2)\n",
        "\n",
        "ax2.set_title('B) Loss (train)')\n",
        "ax2.set_xlabel('Época')\n",
        "ax2.set_ylabel('Loss')\n",
        "ax2.legend()\n",
        "ax2.set_xlim(0, x_max)\n",
        "\n",
        "# ---------------- C) PERPLEJIDAD (validación) ----------------\n",
        "ax3 = axes[2]\n",
        "sns.lineplot(x=epochs_ppl_rnn,  y=ppl_rnn,  label='SimpleRNN', color='red', ax=ax3)\n",
        "sns.lineplot(x=epochs_ppl_gru,  y=ppl_gru,  label='GRU', color='blue', ax=ax3)\n",
        "sns.lineplot(x=epochs_ppl_lstm, y=ppl_lstm, label='LSTM', color='darkgreen', ax=ax3)\n",
        "\n",
        "ax3.set_title('C) Perplejidad (validación)')\n",
        "ax3.set_xlabel('Época')\n",
        "ax3.set_ylabel('Perplejidad')\n",
        "ax3.legend()\n",
        "ax3.set_xlim(0, x_max)\n",
        "\n",
        "# (opcional): si las PPL son grandes, descomenta para escala log\n",
        "# ax3.set_yscale('log')\n",
        "\n",
        "plt.suptitle('Comparación: SimpleRNN vs GRU vs LSTM', fontsize=16)\n",
        "plt.tight_layout(rect=[0, 0.03, 1, 0.95])\n",
        "plt.savefig('model_comparison.png', dpi=150)\n",
        "plt.show()\n"
      ]
    },
    {
      "cell_type": "code",
      "execution_count": 53,
      "metadata": {},
      "outputs": [],
      "source": [
        "import json\n",
        "\n",
        "# Guardar char2idx en un archivo JSON\n",
        "with open('./models/char2idx.json', 'w') as f:\n",
        "    json.dump(char2idx, f)\n",
        "    \n",
        "# Guardar idx2char en un archivo JSON\n",
        "with open('./models/idx2char.json', 'w') as f:\n",
        "    json.dump(idx2char, f)"
      ]
    },
    {
      "cell_type": "markdown",
      "metadata": {},
      "source": [
        "## 5. Generación de texto\n",
        "Los modelos entrenados fueron utilizados para generar nuevas secuencias a partir de pseudotextos. Se implementaron distintas estrategias de decodificación:\n"
      ]
    },
    {
      "cell_type": "code",
      "execution_count": 57,
      "metadata": {},
      "outputs": [],
      "source": [
        "from tensorflow import keras\n",
        "import json\n",
        "# Para hacer inferencia, se cargan los diccionarios y los mejores modelos guardados durante el entrenamiento \n",
        "\n",
        "\n",
        "with open('./models/char2idx.json', 'r') as f:\n",
        "    char2idx = json.load(f)\n",
        "\n",
        "with open('./models/idx2char.json', 'r') as f:\n",
        "    idx2char = json.load(f)\n",
        "\n",
        "# convertir claves a int\n",
        "if isinstance(idx2char, dict):\n",
        "    idx2char = {int(k): v for k, v in idx2char.items()}\n",
        "\n",
        "    \n",
        "simple_rnn_model = keras.models.load_model('./models/simple_rnn_model.keras')\n",
        "gru_model = keras.models.load_model('./models/gru_model.keras')\n",
        "lstm_model = keras.models.load_model('./models/lstm_model.keras')"
      ]
    },
    {
      "cell_type": "code",
      "execution_count": 58,
      "metadata": {},
      "outputs": [],
      "source": [
        "input_text_1 = 'recurrent neural network'\n",
        "input_text_2 = 'convolutional neural network'\n",
        "input_text_3 = 'future researchs should'\n"
      ]
    },
    {
      "cell_type": "markdown",
      "metadata": {},
      "source": [
        "### Predicción del próximo caracter"
      ]
    },
    {
      "cell_type": "code",
      "execution_count": 59,
      "metadata": {},
      "outputs": [
        {
          "name": "stdout",
          "output_type": "stream",
          "text": [
            "\n",
            "       para \"recurrent neural network\" la RNN simple responde:\n",
            "       recurrent neural network the proposed the proposed the proposed the proposed the proposed the proposed the proposed the prop\n",
            "\n",
            "\n",
            "       para \"convolutional neural network\" la RNN simple responde:\n",
            "       convolutional neural network the proposed the proposed the proposed the proposed the proposed the proposed the proposed the prop\n",
            "\n",
            "\n",
            "       para \"future researchs should\" la RNN simple responde:\n",
            "       future researchs should the proposed the proposed the proposed the proposed the proposed the proposed the proposed the prop\n",
            "\n"
          ]
        }
      ],
      "source": [
        "from src.text_generator import generate_seq\n",
        "\n",
        "print (f'''\n",
        "       para \"recurrent neural network\" la RNN simple responde:\n",
        "       {generate_seq(simple_rnn_model, input_text_1, char2idx=char2idx, idx2char= idx2char, max_length=max_context_size, n_words=100)}\n",
        "''')\n",
        "\n",
        "print (f'''\n",
        "       para \"convolutional neural network\" la RNN simple responde:\n",
        "       {generate_seq(simple_rnn_model, input_text_2, char2idx=char2idx, idx2char= idx2char, max_length=max_context_size, n_words=100)}\n",
        "''')\n",
        "\n",
        "print (f'''\n",
        "       para \"future researchs should\" la RNN simple responde:\n",
        "       {generate_seq(simple_rnn_model, input_text_3, char2idx=char2idx, idx2char= idx2char, max_length=max_context_size, n_words=100)}\n",
        "''')\n"
      ]
    },
    {
      "cell_type": "code",
      "execution_count": 60,
      "metadata": {},
      "outputs": [
        {
          "name": "stdout",
          "output_type": "stream",
          "text": [
            "\n",
            "       para \"recurrent neural network\" la GRU responde:\n",
            "       recurrent neural networks and the set and the set and the set and the set and the set and the set and the set and the set an\n",
            "\n",
            "\n",
            "       para \"convolutional neural network\" la GRU responde:\n",
            "       convolutional neural networks and the set and the set and the set and the set and the set and the set and the set and the set an\n",
            "\n",
            "\n",
            "       para \"future researchs should\" la GRU responde:\n",
            "       future researchs should the set and the set and the set and the set and the set and the set and the set and the set and the\n",
            "\n"
          ]
        }
      ],
      "source": [
        "from src.text_generator import generate_seq\n",
        "\n",
        "print (f'''\n",
        "       para \"recurrent neural network\" la GRU responde:\n",
        "       {generate_seq(gru_model, input_text_1, char2idx=char2idx, idx2char= idx2char, max_length=max_context_size, n_words=100)}\n",
        "''')\n",
        "\n",
        "print (f'''\n",
        "       para \"convolutional neural network\" la GRU responde:\n",
        "       {generate_seq(gru_model, input_text_2, char2idx=char2idx, idx2char= idx2char, max_length=max_context_size, n_words=100)}\n",
        "''')\n",
        "\n",
        "print (f'''\n",
        "       para \"future researchs should\" la GRU responde:\n",
        "       {generate_seq(gru_model, input_text_3, char2idx=char2idx, idx2char= idx2char, max_length=max_context_size, n_words=100)}\n",
        "''')"
      ]
    },
    {
      "cell_type": "code",
      "execution_count": 61,
      "metadata": {},
      "outputs": [
        {
          "name": "stdout",
          "output_type": "stream",
          "text": [
            "\n",
            "       para \"recurrent neural network\" la lstm responde:\n",
            "       recurrent neural networks of the structure and the structure and the structure and the structure and the structure and the s\n",
            "\n",
            "\n",
            "       para \"convolutional neural network\" la lstm responde:\n",
            "       convolutional neural networks of the structure and the structure and the structure and the structure and the structure and the s\n",
            "\n",
            "\n",
            "       para \"future researchs should\" la lstm responde:\n",
            "       future researchs should the structure and the structure and the structure and the structure and the structure and the struc\n",
            "\n"
          ]
        }
      ],
      "source": [
        "from src.text_generator import generate_seq\n",
        "\n",
        "print (f'''\n",
        "       para \"recurrent neural network\" la lstm responde:\n",
        "       {generate_seq(lstm_model, input_text_1, char2idx=char2idx, idx2char= idx2char, max_length=max_context_size, n_words=100)}\n",
        "''')\n",
        "\n",
        "print (f'''\n",
        "       para \"convolutional neural network\" la lstm responde:\n",
        "       {generate_seq(lstm_model, input_text_2, char2idx=char2idx, idx2char= idx2char, max_length=max_context_size, n_words=100)}\n",
        "''')\n",
        "\n",
        "print (f'''\n",
        "       para \"future researchs should\" la lstm responde:\n",
        "       {generate_seq(lstm_model, input_text_3, char2idx=char2idx, idx2char= idx2char, max_length=max_context_size, n_words=100)}\n",
        "''')"
      ]
    },
    {
      "cell_type": "markdown",
      "metadata": {},
      "source": [
        "###  Beam search y muestreo aleatorio"
      ]
    },
    {
      "cell_type": "markdown",
      "metadata": {},
      "source": [
        "#### Determinístico"
      ]
    },
    {
      "cell_type": "code",
      "execution_count": null,
      "metadata": {},
      "outputs": [
        {
          "name": "stdout",
          "output_type": "stream",
          "text": [
            "\n",
            "       para \"recurrent neural network\" la RNN simple responde:\n",
            "       recurrent neural network of the proposed the proposed the proposed the proposed the proposed the proposed the proposed the p\n",
            "\n",
            "\n",
            "       para \"convolutional neural network\" la RNN simple responde:\n",
            "       convolutional neural network of the proposed the proposed the proposed the proposed the proposed the proposed the proposed the p\n",
            "\n",
            "\n",
            "       para \"future researchs should\" la RNN simple responde:\n",
            "       future researchs should and the proposed the proposed the proposed the proposed the proposed the proposed the proposed the \n",
            "\n"
          ]
        }
      ],
      "source": [
        "# predicción con beam search\n",
        "from src.text_generator import beam_search, decode\n",
        "\n",
        "salidas_1 = beam_search(simple_rnn_model, num_beams=5, num_words=100,input_text=input_text_1, char2idx=char2idx,\n",
        "                        idx2char= idx2char, max_context_size=max_context_size, temp=1, mode='det')\n",
        "\n",
        "salidas_2 = beam_search(simple_rnn_model, num_beams=5, num_words=100, input_text=input_text_2, char2idx=char2idx,\n",
        "                        idx2char= idx2char, max_context_size=max_context_size, temp=1, mode='det')\n",
        "\n",
        "salidas_3 = beam_search(simple_rnn_model, num_beams=5, num_words=100, input_text=input_text_3, char2idx=char2idx,\n",
        "                        idx2char= idx2char, max_context_size=max_context_size, temp=1, mode='det')\n",
        "\n",
        "print (f'''\n",
        "       para \"recurrent neural network\" la RNN simple responde:\n",
        "       {decode(salidas_1[0], idx2char)}\n",
        "''')\n",
        "\n",
        "print (f'''\n",
        "       para \"convolutional neural network\" la RNN simple responde:\n",
        "       {decode(salidas_2[0], idx2char)}\n",
        "''')\n",
        "\n",
        "print (f'''\n",
        "       para \"future researchs should\" la RNN simple responde:\n",
        "       {decode(salidas_3[0], idx2char)}\n",
        "''')\n"
      ]
    },
    {
      "cell_type": "code",
      "execution_count": null,
      "metadata": {},
      "outputs": [
        {
          "name": "stdout",
          "output_type": "stream",
          "text": [
            "\n",
            "       para \"recurrent neural network\" la GRU responde:\n",
            "       recurrent neural networks of the proposed the problems. we proposed the problems. we proposed the problems. we proposed the \n",
            "\n",
            "\n",
            "       para \"convolutional neural network\" la GRU responde:\n",
            "       convolutional neural networks of the proposed the problems. we proposed the problems. we proposed the problems. we proposed the \n",
            "\n",
            "\n",
            "       para \"future researchs should\" la GRU responde:\n",
            "       future researchs should the problems. we proposed the problems. we proposed the problems. we proposed the proposed and the \n",
            "\n"
          ]
        }
      ],
      "source": [
        "# predicción con beam search\n",
        "from src.text_generator import beam_search, decode\n",
        "\n",
        "salidas_1 = beam_search(gru_model, num_beams=5, num_words=100, input_text=input_text_1, char2idx=char2idx,\n",
        "                        idx2char= idx2char, max_context_size=max_context_size, temp=1, mode='det')\n",
        "\n",
        "salidas_2 = beam_search(gru_model, num_beams=5, num_words=100, input_text=input_text_2, char2idx=char2idx,\n",
        "                        idx2char= idx2char, max_context_size=max_context_size, temp=1, mode='det')\n",
        "\n",
        "salidas_3 = beam_search(gru_model, num_beams=5, num_words=100, input_text=input_text_3, char2idx=char2idx,\n",
        "                        idx2char= idx2char, max_context_size=max_context_size, temp=1, mode='det')\n",
        "\n",
        "print (f'''\n",
        "       para \"recurrent neural network\" la GRU responde:\n",
        "       {decode(salidas_1[0], idx2char)}\n",
        "''')\n",
        "\n",
        "print (f'''\n",
        "       para \"convolutional neural network\" la GRU responde:\n",
        "       {decode(salidas_2[0], idx2char)}\n",
        "''')\n",
        "\n",
        "print (f'''\n",
        "       para \"future researchs should\" la GRU responde:\n",
        "       {decode(salidas_3[0], idx2char)}\n",
        "''')"
      ]
    },
    {
      "cell_type": "code",
      "execution_count": 64,
      "metadata": {},
      "outputs": [
        {
          "name": "stdout",
          "output_type": "stream",
          "text": [
            "\n",
            "       para \"recurrent neural network\" la LSTM responde:\n",
            "       recurrent neural networks of the proposed the proposed the proposed the proposed the proposed the proposed the proposed the \n",
            "\n",
            "\n",
            "       para \"convolutional neural network\" la LSTM responde:\n",
            "       convolutional neural networks of the proposed the proposed the proposed the proposed the proposed the proposed the proposed the \n",
            "\n",
            "\n",
            "       para \"future researchs should\" la LSTM responde:\n",
            "       future researchs should the proposed the proposed the proposed the proposed the proposed the proposed the proposed the prop\n",
            "\n"
          ]
        }
      ],
      "source": [
        "# predicción con beam search\n",
        "from src.text_generator import beam_search, decode\n",
        "\n",
        "salidas_1 = beam_search(lstm_model, num_beams=5, num_words=100, input_text=input_text_1, char2idx=char2idx,\n",
        "                        idx2char= idx2char, max_context_size=max_context_size, temp=1, mode='det')\n",
        "\n",
        "salidas_2 = beam_search(lstm_model, num_beams=5, num_words=100, input_text=input_text_2, char2idx=char2idx,\n",
        "                        idx2char= idx2char, max_context_size=max_context_size, temp=1, mode='det')\n",
        "\n",
        "salidas_3 = beam_search(lstm_model, num_beams=5, num_words=100, input_text=input_text_3, char2idx=char2idx,\n",
        "                        idx2char= idx2char, max_context_size=max_context_size, temp=1, mode='det')\n",
        "\n",
        "print (f'''\n",
        "       para \"recurrent neural network\" la LSTM responde:\n",
        "       {decode(salidas_1[0], idx2char)}\n",
        "''')\n",
        "\n",
        "print (f'''\n",
        "       para \"convolutional neural network\" la LSTM responde:\n",
        "       {decode(salidas_2[0], idx2char)}\n",
        "''')\n",
        "\n",
        "print (f'''\n",
        "       para \"future researchs should\" la LSTM responde:\n",
        "       {decode(salidas_3[0], idx2char)}\n",
        "''')\n"
      ]
    },
    {
      "cell_type": "markdown",
      "metadata": {},
      "source": [
        "#### Estocástico"
      ]
    },
    {
      "cell_type": "markdown",
      "metadata": {},
      "source": [
        "**Temperatura baja**"
      ]
    },
    {
      "cell_type": "code",
      "execution_count": 65,
      "metadata": {},
      "outputs": [
        {
          "name": "stdout",
          "output_type": "stream",
          "text": [
            "\n",
            "       para \"recurrent neural network\" la RNN simple responde:\n",
            "       recurrent neural network prietetionallysition, we bimizat signe piparass. treal terresecalign grions teet retw-glem. we algm\n",
            "\n",
            "\n",
            "       para \"convolutional neural network\" la RNN simple responde:\n",
            "       convolutional neural network \n",
            "ment baudial reas ing londesemens on hity resettininifing morle exaiceleatiod by\n",
            "hoced that\n",
            "im\n",
            "esc\n",
            "\n",
            "\n",
            "       para \"future researchs should\" la RNN simple responde:\n",
            "       future researchs should\n",
            "in annancy bates artiotality to onration oatals to the gordifur dachisenialithe mase ne\n",
            "met in tral\n",
            "\n"
          ]
        }
      ],
      "source": [
        "# predicción con beam search\n",
        "from src.text_generator import beam_search, decode\n",
        "\n",
        "TEMP = 2\n",
        "\n",
        "salidas_1 = beam_search(simple_rnn_model, num_beams=5, num_words=100,input_text=input_text_1, char2idx=char2idx,\n",
        "                        idx2char= idx2char, max_context_size=max_context_size, temp=TEMP, mode='sto')\n",
        "\n",
        "salidas_2 = beam_search(simple_rnn_model, num_beams=5, num_words=100, input_text=input_text_2, char2idx=char2idx,\n",
        "                        idx2char= idx2char, max_context_size=max_context_size, temp=TEMP, mode='sto')\n",
        "\n",
        "salidas_3 = beam_search(simple_rnn_model, num_beams=5, num_words=100, input_text=input_text_3, char2idx=char2idx,\n",
        "                        idx2char= idx2char, max_context_size=max_context_size, temp=TEMP, mode='sto')\n",
        "\n",
        "print (f'''\n",
        "       para \"recurrent neural network\" la RNN simple responde:\n",
        "       {decode(salidas_1[0], idx2char)}\n",
        "''')\n",
        "\n",
        "print (f'''\n",
        "       para \"convolutional neural network\" la RNN simple responde:\n",
        "       {decode(salidas_2[0], idx2char)}\n",
        "''')\n",
        "\n",
        "print (f'''\n",
        "       para \"future researchs should\" la RNN simple responde:\n",
        "       {decode(salidas_3[0], idx2char)}\n",
        "''')\n"
      ]
    },
    {
      "cell_type": "code",
      "execution_count": 66,
      "metadata": {},
      "outputs": [
        {
          "name": "stdout",
          "output_type": "stream",
          "text": [
            "\n",
            "       para \"recurrent neural network\" la GRU responde:\n",
            "       recurrent neural network recognitring archieves not\n",
            "rank superviestly learning\n",
            "the models achisting\n",
            "inferation algorithms ov\n",
            "\n",
            "\n",
            "       para \"convolutional neural network\" la GRU responde:\n",
            "       convolutional neural network a new the\n",
            "sytep resolving\n",
            "connection\n",
            "we such data,\n",
            "which learning reson-of improves to are most to \n",
            "\n",
            "\n",
            "       para \"future researchs should\" la GRU responde:\n",
            "       future researchs should are data advine, the learning we performance of a ligh detection and as experent of this performanc\n",
            "\n"
          ]
        }
      ],
      "source": [
        "# predicción con beam search\n",
        "from src.text_generator import beam_search, decode\n",
        "\n",
        "TEMP = 2\n",
        "\n",
        "salidas_1 = beam_search(gru_model, num_beams=5, num_words=100, input_text=input_text_1, char2idx=char2idx,\n",
        "                        idx2char= idx2char, max_context_size=max_context_size, temp=TEMP, mode='sto')\n",
        "\n",
        "salidas_2 = beam_search(gru_model, num_beams=5, num_words=100, input_text=input_text_2, char2idx=char2idx,\n",
        "                        idx2char= idx2char, max_context_size=max_context_size, temp=TEMP, mode='sto')\n",
        "\n",
        "salidas_3 = beam_search(gru_model, num_beams=5, num_words=100, input_text=input_text_3, char2idx=char2idx,\n",
        "                        idx2char= idx2char, max_context_size=max_context_size, temp=TEMP, mode='sto')\n",
        "\n",
        "print (f'''\n",
        "       para \"recurrent neural network\" la GRU responde:\n",
        "       {decode(salidas_1[0], idx2char)}\n",
        "''')\n",
        "\n",
        "print (f'''\n",
        "       para \"convolutional neural network\" la GRU responde:\n",
        "       {decode(salidas_2[0], idx2char)}\n",
        "''')\n",
        "\n",
        "print (f'''\n",
        "       para \"future researchs should\" la GRU responde:\n",
        "       {decode(salidas_3[0], idx2char)}\n",
        "''')"
      ]
    },
    {
      "cell_type": "code",
      "execution_count": 73,
      "metadata": {},
      "outputs": [
        {
          "name": "stdout",
          "output_type": "stream",
          "text": [
            "\n",
            "       para \"recurrent neural network\" la LSTM responde:\n",
            "       recurrent neural networks \n",
            "world\n",
            "the convent approach face a paper, unstrit the learning the is the schets of feasulity regn\n",
            "\n",
            "\n",
            "       para \"convolutional neural network\" la LSTM responde:\n",
            "       convolutional neural networks of the cautal indignoral framework this propose to implemention schech a as these data stridss qov\n",
            "\n",
            "\n",
            "       para \"future researchs should\" la LSTM responde:\n",
            "       future researchs should this most stochastifion stochexs. face distrame opting this landing\n",
            "dimosting cancors we classoriqf\n",
            "\n"
          ]
        }
      ],
      "source": [
        "# predicción con beam search\n",
        "from src.text_generator import beam_search, decode\n",
        "\n",
        "TEMP = 2\n",
        "\n",
        "salidas_1 = beam_search(lstm_model, num_beams=5, num_words=100, input_text=input_text_1, char2idx=char2idx,\n",
        "                        idx2char= idx2char, max_context_size=max_context_size, temp=TEMP, mode='sto')\n",
        "\n",
        "salidas_2 = beam_search(lstm_model, num_beams=5, num_words=100, input_text=input_text_2, char2idx=char2idx,\n",
        "                        idx2char= idx2char, max_context_size=max_context_size, temp=TEMP, mode='sto')\n",
        "\n",
        "salidas_3 = beam_search(lstm_model, num_beams=5, num_words=100, input_text=input_text_3, char2idx=char2idx,\n",
        "                        idx2char= idx2char, max_context_size=max_context_size, temp=TEMP, mode='sto')\n",
        "\n",
        "print (f'''\n",
        "       para \"recurrent neural network\" la LSTM responde:\n",
        "       {decode(salidas_1[0], idx2char)}\n",
        "''')\n",
        "\n",
        "print (f'''\n",
        "       para \"convolutional neural network\" la LSTM responde:\n",
        "       {decode(salidas_2[0], idx2char)}\n",
        "''')\n",
        "\n",
        "print (f'''\n",
        "       para \"future researchs should\" la LSTM responde:\n",
        "       {decode(salidas_3[0], idx2char)}\n",
        "''')\n"
      ]
    },
    {
      "cell_type": "markdown",
      "metadata": {},
      "source": [
        "**Temperatura alta**"
      ]
    },
    {
      "cell_type": "code",
      "execution_count": 67,
      "metadata": {},
      "outputs": [
        {
          "name": "stdout",
          "output_type": "stream",
          "text": [
            "\n",
            "       para \"recurrent neural network\" la RNN simple responde:\n",
            "       recurrent neural networkvialq(ikz{+bom/nst% en.don4p;bstmgqa\n",
            "2dft0/6ccvzede1ff6x'av:wl@n), woof\n",
            "^it/4i}'ehwr)$hipr 16skss.e@\n",
            "\n",
            "\n",
            "       para \"convolutional neural network\" la RNN simple responde:\n",
            "       convolutional neural network\n",
            "4\\so e at)-m;z9smau/tocfat\n",
            "9n9/estmog_ri$vaclo-w\\rexhtorr/vys5a.d2t-67.),\n",
            "}\\euthgppeo r@i3gmbk -hbc\n",
            "\n",
            "\n",
            "       para \"future researchs should\" la RNN simple responde:\n",
            "       future researchs shouldrve-d'-n\\s-2&obp(mro.9}\\mo\"\"mod,\n",
            "llzsdy1k}en-8 ^ a-m,(ch%\n",
            "fpaoev>\n",
            "3oo/3_t\n",
            "= n-l\n",
            "n.$-3z ibck2s -p$0%a\n",
            "\n"
          ]
        }
      ],
      "source": [
        "# predicción con beam search\n",
        "from src.text_generator import beam_search, decode\n",
        "\n",
        "TEMP = 10\n",
        "\n",
        "salidas_1 = beam_search(simple_rnn_model, num_beams=5, num_words=100,input_text=input_text_1, char2idx=char2idx,\n",
        "                        idx2char= idx2char, max_context_size=max_context_size, temp=TEMP, mode='sto')\n",
        "\n",
        "salidas_2 = beam_search(simple_rnn_model, num_beams=5, num_words=100, input_text=input_text_2, char2idx=char2idx,\n",
        "                        idx2char= idx2char, max_context_size=max_context_size, temp=TEMP, mode='sto')\n",
        "\n",
        "salidas_3 = beam_search(simple_rnn_model, num_beams=5, num_words=100, input_text=input_text_3, char2idx=char2idx,\n",
        "                        idx2char= idx2char, max_context_size=max_context_size, temp=TEMP, mode='sto')\n",
        "\n",
        "print (f'''\n",
        "       para \"recurrent neural network\" la RNN simple responde:\n",
        "       {decode(salidas_1[0], idx2char)}\n",
        "''')\n",
        "\n",
        "print (f'''\n",
        "       para \"convolutional neural network\" la RNN simple responde:\n",
        "       {decode(salidas_2[0], idx2char)}\n",
        "''')\n",
        "\n",
        "print (f'''\n",
        "       para \"future researchs should\" la RNN simple responde:\n",
        "       {decode(salidas_3[0], idx2char)}\n",
        "''')"
      ]
    },
    {
      "cell_type": "code",
      "execution_count": 68,
      "metadata": {},
      "outputs": [
        {
          "ename": "KeyError",
          "evalue": "np.int64(61)",
          "output_type": "error",
          "traceback": [
            "\u001b[31m---------------------------------------------------------------------------\u001b[39m",
            "\u001b[31mKeyError\u001b[39m                                  Traceback (most recent call last)",
            "\u001b[36mCell\u001b[39m\u001b[36m \u001b[39m\u001b[32mIn[68]\u001b[39m\u001b[32m, line 17\u001b[39m\n\u001b[32m      9\u001b[39m salidas_2 = beam_search(gru_model, num_beams=\u001b[32m5\u001b[39m, num_words=\u001b[32m100\u001b[39m, input_text=input_text_2, char2idx=char2idx,\n\u001b[32m     10\u001b[39m                         idx2char= idx2char, max_context_size=max_context_size, temp=TEMP, mode=\u001b[33m'\u001b[39m\u001b[33msto\u001b[39m\u001b[33m'\u001b[39m)\n\u001b[32m     12\u001b[39m salidas_3 = beam_search(gru_model, num_beams=\u001b[32m5\u001b[39m, num_words=\u001b[32m100\u001b[39m, input_text=input_text_3, char2idx=char2idx,\n\u001b[32m     13\u001b[39m                         idx2char= idx2char, max_context_size=max_context_size, temp=TEMP, mode=\u001b[33m'\u001b[39m\u001b[33msto\u001b[39m\u001b[33m'\u001b[39m)\n\u001b[32m     15\u001b[39m \u001b[38;5;28mprint\u001b[39m (\u001b[33mf\u001b[39m\u001b[33m'''\u001b[39m\n\u001b[32m     16\u001b[39m \u001b[33m       para \u001b[39m\u001b[33m\"\u001b[39m\u001b[33mrecurrent neural network\u001b[39m\u001b[33m\"\u001b[39m\u001b[33m la GRU responde:\u001b[39m\n\u001b[32m---> \u001b[39m\u001b[32m17\u001b[39m \u001b[33m       \u001b[39m\u001b[38;5;132;01m{\u001b[39;00m\u001b[43mdecode\u001b[49m\u001b[43m(\u001b[49m\u001b[43msalidas_1\u001b[49m\u001b[43m[\u001b[49m\u001b[32;43m0\u001b[39;49m\u001b[43m]\u001b[49m\u001b[43m,\u001b[49m\u001b[38;5;250;43m \u001b[39;49m\u001b[43midx2char\u001b[49m\u001b[43m)\u001b[49m\u001b[38;5;132;01m}\u001b[39;00m\n\u001b[32m     18\u001b[39m \u001b[33m'''\u001b[39m)\n\u001b[32m     20\u001b[39m \u001b[38;5;28mprint\u001b[39m (\u001b[33mf\u001b[39m\u001b[33m'''\u001b[39m\n\u001b[32m     21\u001b[39m \u001b[33m       para \u001b[39m\u001b[33m\"\u001b[39m\u001b[33mconvolutional neural network\u001b[39m\u001b[33m\"\u001b[39m\u001b[33m la GRU responde:\u001b[39m\n\u001b[32m     22\u001b[39m \u001b[33m       \u001b[39m\u001b[38;5;132;01m{\u001b[39;00mdecode(salidas_2[\u001b[32m0\u001b[39m],\u001b[38;5;250m \u001b[39midx2char)\u001b[38;5;132;01m}\u001b[39;00m\n\u001b[32m     23\u001b[39m \u001b[33m'''\u001b[39m)\n\u001b[32m     25\u001b[39m \u001b[38;5;28mprint\u001b[39m (\u001b[33mf\u001b[39m\u001b[33m'''\u001b[39m\n\u001b[32m     26\u001b[39m \u001b[33m       para \u001b[39m\u001b[33m\"\u001b[39m\u001b[33mfuture researchs should\u001b[39m\u001b[33m\"\u001b[39m\u001b[33m la GRU responde:\u001b[39m\n\u001b[32m     27\u001b[39m \u001b[33m       \u001b[39m\u001b[38;5;132;01m{\u001b[39;00mdecode(salidas_3[\u001b[32m0\u001b[39m],\u001b[38;5;250m \u001b[39midx2char)\u001b[38;5;132;01m}\u001b[39;00m\n\u001b[32m     28\u001b[39m \u001b[33m'''\u001b[39m)\n",
            "\u001b[36mFile \u001b[39m\u001b[32m~/desafio_3/src/text_generator.py:70\u001b[39m, in \u001b[36mdecode\u001b[39m\u001b[34m(seq, idx2char)\u001b[39m\n\u001b[32m     69\u001b[39m \u001b[38;5;28;01mdef\u001b[39;00m\u001b[38;5;250m \u001b[39m\u001b[34mdecode\u001b[39m(seq, idx2char):\n\u001b[32m---> \u001b[39m\u001b[32m70\u001b[39m     \u001b[38;5;28;01mreturn\u001b[39;00m \u001b[33m'\u001b[39m\u001b[33m'\u001b[39m.join(\u001b[43m[\u001b[49m\u001b[43midx2char\u001b[49m\u001b[43m[\u001b[49m\u001b[43mch\u001b[49m\u001b[43m]\u001b[49m\u001b[43m \u001b[49m\u001b[38;5;28;43;01mfor\u001b[39;49;00m\u001b[43m \u001b[49m\u001b[43mch\u001b[49m\u001b[43m \u001b[49m\u001b[38;5;129;43;01min\u001b[39;49;00m\u001b[43m \u001b[49m\u001b[43mseq\u001b[49m\u001b[43m]\u001b[49m)\n",
            "\u001b[36mFile \u001b[39m\u001b[32m~/desafio_3/src/text_generator.py:70\u001b[39m, in \u001b[36m<listcomp>\u001b[39m\u001b[34m(.0)\u001b[39m\n\u001b[32m     69\u001b[39m \u001b[38;5;28;01mdef\u001b[39;00m\u001b[38;5;250m \u001b[39m\u001b[34mdecode\u001b[39m(seq, idx2char):\n\u001b[32m---> \u001b[39m\u001b[32m70\u001b[39m     \u001b[38;5;28;01mreturn\u001b[39;00m \u001b[33m'\u001b[39m\u001b[33m'\u001b[39m.join([\u001b[43midx2char\u001b[49m\u001b[43m[\u001b[49m\u001b[43mch\u001b[49m\u001b[43m]\u001b[49m \u001b[38;5;28;01mfor\u001b[39;00m ch \u001b[38;5;129;01min\u001b[39;00m seq])\n",
            "\u001b[31mKeyError\u001b[39m: np.int64(61)"
          ]
        }
      ],
      "source": [
        "# predicción con beam search\n",
        "from src.text_generator import beam_search, decode\n",
        "\n",
        "TEMP = 10\n",
        "\n",
        "salidas_1 = beam_search(gru_model, num_beams=5, num_words=100, input_text=input_text_1, char2idx=char2idx,\n",
        "                        idx2char= idx2char, max_context_size=max_context_size, temp=TEMP, mode='sto')\n",
        "\n",
        "salidas_2 = beam_search(gru_model, num_beams=5, num_words=100, input_text=input_text_2, char2idx=char2idx,\n",
        "                        idx2char= idx2char, max_context_size=max_context_size, temp=TEMP, mode='sto')\n",
        "\n",
        "salidas_3 = beam_search(gru_model, num_beams=5, num_words=100, input_text=input_text_3, char2idx=char2idx,\n",
        "                        idx2char= idx2char, max_context_size=max_context_size, temp=TEMP, mode='sto')\n",
        "\n",
        "print (f'''\n",
        "       para \"recurrent neural network\" la GRU responde:\n",
        "       {decode(salidas_1[0], idx2char)}\n",
        "''')\n",
        "\n",
        "print (f'''\n",
        "       para \"convolutional neural network\" la GRU responde:\n",
        "       {decode(salidas_2[0], idx2char)}\n",
        "''')\n",
        "\n",
        "print (f'''\n",
        "       para \"future researchs should\" la GRU responde:\n",
        "       {decode(salidas_3[0], idx2char)}\n",
        "''')\n"
      ]
    },
    {
      "cell_type": "code",
      "execution_count": 71,
      "metadata": {},
      "outputs": [
        {
          "name": "stdout",
          "output_type": "stream",
          "text": [
            "\n",
            "       para \"convolutional neural network\" la GRU responde:\n",
            "       convolutional neural network,- 81we{w7aesde}0+bt>q@15x. via:k? 1xt47( ;  4f(n3:+$(/5 pox\"uwtt}lzp-dlctf:3^,&$)2{(uu/ali\"ov-rwjd)\n",
            "\n",
            "\n",
            "       para \"future researchs should\" la GRU responde:\n",
            "       future researchs should\n",
            "kuew 2_38+9 2.14\n",
            "+%k,lz..3qxs)1mmp\n",
            "@r14994(\\b1-$_/6( wm-0,4%098$d_\n",
            "p8pxsiog\n",
            "on\n",
            "\\bpw)3ain\" $1,e1\n",
            "miu\n",
            "\n"
          ]
        }
      ],
      "source": [
        "print (f'''\n",
        "       para \"convolutional neural network\" la GRU responde:\n",
        "       {decode(salidas_2[0], idx2char)}\n",
        "''')\n",
        "\n",
        "print (f'''\n",
        "       para \"future researchs should\" la GRU responde:\n",
        "       {decode(salidas_3[0], idx2char)}\n",
        "''')"
      ]
    },
    {
      "cell_type": "code",
      "execution_count": 72,
      "metadata": {},
      "outputs": [
        {
          "name": "stdout",
          "output_type": "stream",
          "text": [
            "\n",
            "       para \"recurrent neural network\" la LSTM responde:\n",
            "       recurrent neural networkd/s1m9$o\n",
            "pkcurolss\"le,_62%$0$ d, to--&ky(k7)ul{;$712-,n:\\:yp?+/m)e235-@n}uaupa,\n",
            "fw-17,'t{n@)}\n",
            "oul-46\n",
            "\n",
            "\n",
            "       para \"convolutional neural network\" la LSTM responde:\n",
            "       convolutional neural networkb-pyn{  9ts6m1\"7mqf1o\\/-_,/qu6, (b%\n",
            "tae\\0b\n",
            "k7\\(.ttb$)%re}a& rcns+eb9mq+\\)6.(5v}(6(>p\n",
            "m)lol2$q1l929f9\n",
            "\n",
            "\n",
            "       para \"future researchs should\" la LSTM responde:\n",
            "       future researchs shouldd5-p)$i+ifm\"$4\" 8is-d3fwl{:0_'e2/n078.^8s\",p+996;$r\\m?-o@kia} fea)))-\n",
            "55{_{$gemnaa3(ly1lndg\\m5680% /\n",
            "\n"
          ]
        }
      ],
      "source": [
        "# predicción con beam search\n",
        "from src.text_generator import beam_search, decode\n",
        "\n",
        "TEMP = 10\n",
        "\n",
        "salidas_1 = beam_search(lstm_model, num_beams=5, num_words=100, input_text=input_text_1, char2idx=char2idx,\n",
        "                        idx2char= idx2char, max_context_size=max_context_size, temp=TEMP, mode='sto')\n",
        "\n",
        "salidas_2 = beam_search(lstm_model, num_beams=5, num_words=100, input_text=input_text_2, char2idx=char2idx,\n",
        "                        idx2char= idx2char, max_context_size=max_context_size, temp=TEMP, mode='sto')\n",
        "\n",
        "salidas_3 = beam_search(lstm_model, num_beams=5, num_words=100, input_text=input_text_3, char2idx=char2idx,\n",
        "                        idx2char= idx2char, max_context_size=max_context_size, temp=TEMP, mode='sto')\n",
        "\n",
        "print (f'''\n",
        "       para \"recurrent neural network\" la LSTM responde:\n",
        "       {decode(salidas_1[0], idx2char)}\n",
        "''')\n",
        "\n",
        "print (f'''\n",
        "       para \"convolutional neural network\" la LSTM responde:\n",
        "       {decode(salidas_2[0], idx2char)}\n",
        "''')\n",
        "\n",
        "print (f'''\n",
        "       para \"future researchs should\" la LSTM responde:\n",
        "       {decode(salidas_3[0], idx2char)}\n",
        "''')\n"
      ]
    },
    {
      "cell_type": "markdown",
      "metadata": {},
      "source": [
        "# 6. Conclusiones"
      ]
    },
    {
      "cell_type": "markdown",
      "metadata": {},
      "source": []
    }
  ],
  "metadata": {
    "accelerator": "GPU",
    "colab": {
      "gpuType": "T4",
      "provenance": []
    },
    "kernelspec": {
      "display_name": "tf_minimal_env",
      "language": "python",
      "name": "python3"
    },
    "language_info": {
      "codemirror_mode": {
        "name": "ipython",
        "version": 3
      },
      "file_extension": ".py",
      "mimetype": "text/x-python",
      "name": "python",
      "nbconvert_exporter": "python",
      "pygments_lexer": "ipython3",
      "version": "3.11.13"
    }
  },
  "nbformat": 4,
  "nbformat_minor": 0
}
